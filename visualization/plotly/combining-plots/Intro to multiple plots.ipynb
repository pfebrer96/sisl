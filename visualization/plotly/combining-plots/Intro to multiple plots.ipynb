{
 "cells": [
  {
   "cell_type": "markdown",
   "metadata": {},
   "source": [
    "Intro to multiple plots\n",
    "=====================\n",
    "\n",
    "In this notebook you will learn what multiple plots can do for you and what is the best way to create them."
   ]
  },
  {
   "cell_type": "markdown",
   "metadata": {},
   "source": [
    "## Multiple better than individual\n",
    "\n",
    "The power of multiple plots is threefold:\n",
    "\n",
    "- Multiple plot is just a coordinator. It doesn't hold any data related to it's childplots, which are full instances of `Plot` themselves. This allows you to **grab the separate child plots whenever you want**, as well as modifying only some of its child plots very easily.\n",
    "- It will **create the layout for you** without requiring any effort on your side.\n",
    "- If all your plots inside a multiple plot need to read from the same data, the plot will coordinate all plots so that they can share the data. Therefore, **data will be read only once, saving both time and memory**."
   ]
  },
  {
   "cell_type": "markdown",
   "metadata": {},
   "source": [
    "## Types of multiple plots\n",
    "\n",
    "There are three ways of combining your plots in the visualization framework, each with its associated class:\n",
    "\n",
    "- In the same plot (`MultiplePlot`): it's the most basic one. It just takes the traces from all plots and displays them in the same plot.\n",
    "- As subplots (`SubPlots`): Creates a grid of subplots, where each item of the grid contains a plot. Uses [plotly's subplots capabilities](https://plotly.com/python/subplots/).\n",
    "- As frames of an animation (`Animation`): Creates an animation where each child plot is represented in a frame. [plotly's animation capabilities](https://plotly.com/python/animations/)."
   ]
  },
  {
   "cell_type": "code",
   "execution_count": 1,
   "metadata": {
    "execution": {
     "iopub.execute_input": "2021-02-06T12:14:19.954485Z",
     "iopub.status.busy": "2021-02-06T12:14:19.953448Z",
     "iopub.status.idle": "2021-02-06T12:14:21.762894Z",
     "shell.execute_reply": "2021-02-06T12:14:21.762046Z"
    }
   },
   "outputs": [],
   "source": [
    "from sisl.viz import MultiplePlot, Animation, SubPlots"
   ]
  },
  {
   "cell_type": "markdown",
   "metadata": {},
   "source": [
    "Let's create a simple tight-binding model for the plots in this notebook."
   ]
  },
  {
   "cell_type": "code",
   "execution_count": 2,
   "metadata": {
    "execution": {
     "iopub.execute_input": "2021-02-06T12:14:21.772572Z",
     "iopub.status.busy": "2021-02-06T12:14:21.771837Z",
     "iopub.status.idle": "2021-02-06T12:14:21.782793Z",
     "shell.execute_reply": "2021-02-06T12:14:21.781661Z"
    }
   },
   "outputs": [],
   "source": [
    "import sisl\n",
    "import numpy as np\n",
    "\n",
    "r = np.linspace(0, 3.5, 50)\n",
    "f = np.exp(-r)\n",
    "\n",
    "orb = sisl.AtomicOrbital('2pzZ', (r, f))\n",
    "geom = sisl.geom.graphene(orthogonal=True, atoms=sisl.Atom(6, orb))\n",
    "geom = geom.move([0, 0, 5])\n",
    "H = sisl.Hamiltonian(geom)\n",
    "H.construct([(0.1, 1.44), (0, -2.7)], )"
   ]
  },
  {
   "cell_type": "markdown",
   "metadata": {},
   "source": [
    "## Merging existing plots\n",
    "\n",
    "This is the most simple way of creating a multiple plot: you just build your plots, and then pass them to the multiple plot constructor.\n",
    "\n",
    "However, this will miss one key feature of multiple plots. Since you've created each plot separately, **each plot has its own data**, even if they would be able to share it.\n",
    "\n",
    "Therefore, this is only recommended **when the plots are independent from each other**.\n",
    "\n",
    "As an example, from the hamiltonian that we constructed, let's build a wavefunction plot and a pdos plot:"
   ]
  },
  {
   "cell_type": "code",
   "execution_count": 3,
   "metadata": {
    "execution": {
     "iopub.execute_input": "2021-02-06T12:14:21.796109Z",
     "iopub.status.busy": "2021-02-06T12:14:21.795444Z",
     "iopub.status.idle": "2021-02-06T12:14:22.191848Z",
     "shell.execute_reply": "2021-02-06T12:14:22.191295Z"
    }
   },
   "outputs": [
    {
     "data": {
      "application/vnd.jupyter.widget-view+json": {
       "model_id": "f9f304d2dbb54900895806853993a761",
       "version_major": 2,
       "version_minor": 0
      },
      "text/plain": [
       "MonkhorstPack.average:   0%|          | 0/5 [00:00<?, ?k/s]"
      ]
     },
     "metadata": {},
     "output_type": "display_data"
    }
   ],
   "source": [
    "wf_plot = H.plot.wavefunction(i=1, axes=[0,1], transforms=[\"square\"], zsmooth=\"best\")\n",
    "pdos_plot = H.plot.pdos(Erange=[-10,10])\n",
    "\n",
    "plots = [wf_plot, pdos_plot]"
   ]
  },
  {
   "cell_type": "markdown",
   "metadata": {},
   "source": [
    "And now, we will merge them. There are two main ways to do the merge:\n",
    "\n",
    "- Calling the multiple plot class that we want to use (`MultiplePlot`, `Animation` or `Subplots`):"
   ]
  },
  {
   "cell_type": "code",
   "execution_count": 4,
   "metadata": {
    "execution": {
     "iopub.execute_input": "2021-02-06T12:14:22.211786Z",
     "iopub.status.busy": "2021-02-06T12:14:22.196326Z",
     "iopub.status.idle": "2021-02-06T12:14:22.777855Z",
     "shell.execute_reply": "2021-02-06T12:14:22.777000Z"
    },
    "scrolled": false
   },
   "outputs": [
    {
     "data": {
      "application/vnd.jupyter.widget-view+json": {
       "model_id": "3fe66c4c56754294b2d08f1eab593f1b",
       "version_major": 2,
       "version_minor": 0
      },
      "text/plain": [
       "FigureWidget({\n",
       "    'data': [{'showlegend': False,\n",
       "              'type': 'heatmap',\n",
       "              'uid': '9c5ff…"
      ]
     },
     "metadata": {},
     "output_type": "display_data"
    }
   ],
   "source": [
    "# You just pass the plots and then any extra arguments for the plot class (see help(SubPlots))\n",
    "SubPlots(plots=plots, cols=2)"
   ]
  },
  {
   "cell_type": "markdown",
   "metadata": {},
   "source": [
    "- Using the `merge` method that all plots have."
   ]
  },
  {
   "cell_type": "code",
   "execution_count": 5,
   "metadata": {
    "execution": {
     "iopub.execute_input": "2021-02-06T12:14:22.808890Z",
     "iopub.status.busy": "2021-02-06T12:14:22.798347Z",
     "iopub.status.idle": "2021-02-06T12:14:23.387457Z",
     "shell.execute_reply": "2021-02-06T12:14:23.388354Z"
    }
   },
   "outputs": [
    {
     "data": {
      "application/vnd.jupyter.widget-view+json": {
       "model_id": "e67586909de44d699882e1c408b943e3",
       "version_major": 2,
       "version_minor": 0
      },
      "text/plain": [
       "FigureWidget({\n",
       "    'data': [{'showlegend': False,\n",
       "              'type': 'heatmap',\n",
       "              'uid': '6e301…"
      ]
     },
     "metadata": {},
     "output_type": "display_data"
    }
   ],
   "source": [
    "plots[0].merge(plots[1:], to=\"subplots\", cols=2)"
   ]
  },
  {
   "cell_type": "markdown",
   "metadata": {},
   "source": [
    "Both are exactly equivalent, but this second one is probably better since you don't need to import the class.\n",
    "\n",
    "You do need to specify somehow how to merge the plots though! As you may have noticed, there's a `to` argument that lets you specify how you want the plots to be merged.\n",
    "\n",
    "Here are the docs for `Plot.merge`:"
   ]
  },
  {
   "cell_type": "code",
   "execution_count": 6,
   "metadata": {
    "execution": {
     "iopub.execute_input": "2021-02-06T12:14:23.394504Z",
     "iopub.status.busy": "2021-02-06T12:14:23.393702Z",
     "iopub.status.idle": "2021-02-06T12:14:23.405151Z",
     "shell.execute_reply": "2021-02-06T12:14:23.404405Z"
    }
   },
   "outputs": [
    {
     "name": "stdout",
     "output_type": "stream",
     "text": [
      "Help on method merge in module sisl.viz.plotly.plot:\n",
      "\n",
      "merge(others, to='multiple', extend_multiples=True, **kwargs) method of sisl.viz.plotly.plots.grid.WavefunctionPlot instance\n",
      "    Merges this plot's instance with the list of plots provided\n",
      "    \n",
      "    Parameters\n",
      "    -------\n",
      "    others: array-like of Plot() or Plot()\n",
      "        the plots that we want to merge with this plot instance.\n",
      "    to: {\"multiple\", \"subplots\", \"animation\"}, optional\n",
      "        the merge method. Each option results in a different way of putting all the plots\n",
      "        together:\n",
      "        - \"multiple\": All plots are shown in the same canvas at the same time. Useful for direct\n",
      "        comparison.\n",
      "        - \"subplots\": The layout is divided in different subplots.\n",
      "        - \"animation\": Each plot is converted into the frame of an animation.\n",
      "    extend_multiples: boolean, optional\n",
      "        if True, if `MultiplePlot`s are passed, they are splitted into their child_plots, so that the result\n",
      "        is the merge of its child_plots with the rest.\n",
      "        If False, a `MultiplePlot` is treated as a solid unit.\n",
      "    kwargs:\n",
      "        extra arguments that are directly passed to `MultiplePlot`, `Subplots`\n",
      "        or `Animation` initialization.\n",
      "    \n",
      "    Returns\n",
      "    -------\n",
      "    MultiplePlot, Subplots or Animation\n",
      "        depending on the value of the `to` parameter.\n",
      "\n"
     ]
    }
   ],
   "source": [
    "help(plots[0].merge)"
   ]
  },
  {
   "cell_type": "markdown",
   "metadata": {},
   "source": [
    "## Let `MultiplePlot` handle plot creation\n",
    "\n",
    "As already mentioned, creating your plots beforehand is only a good strategy if plots are independent from each other, in the sense that they can not share data.\n",
    "\n",
    "In cases where plots can share data, just let `MultiplePlot` create your plots. It is so easy that you will end up doing it in this way all the time, even in cases where it doesn't have efficiency benefits :)\n",
    "\n",
    "Everytime you create a plot, there are three special keyword arguments that you can pass: `varying`, `animate` and `subplots`. These keywords let you easily initialize `MultiplePlot`, `Animation` and `Subplots` instances, respectively. \n",
    "\n",
    "They can be used in two ways:\n",
    "\n",
    "- You can pass a dictionary with the keys of the settings that you want to vary and the value for each \"step\"."
   ]
  },
  {
   "cell_type": "code",
   "execution_count": 7,
   "metadata": {
    "execution": {
     "iopub.execute_input": "2021-02-06T12:14:23.422450Z",
     "iopub.status.busy": "2021-02-06T12:14:23.421787Z",
     "iopub.status.idle": "2021-02-06T12:14:24.023083Z",
     "shell.execute_reply": "2021-02-06T12:14:24.022460Z"
    }
   },
   "outputs": [
    {
     "ename": "ValueError",
     "evalue": "\nFrames are not supported by the plotly.graph_objs.FigureWidget class.\nNote: Frames are supported by the plotly.graph_objs.Figure class",
     "output_type": "error",
     "traceback": [
      "\u001b[0;31m---------------------------------------------------------------------------\u001b[0m",
      "\u001b[0;31mValueError\u001b[0m                                Traceback (most recent call last)",
      "\u001b[0;32m/opt/hostedtoolcache/Python/3.6.12/x64/lib/python3.6/site-packages/IPython/core/formatters.py\u001b[0m in \u001b[0;36m__call__\u001b[0;34m(self, obj)\u001b[0m\n\u001b[1;32m    916\u001b[0m             \u001b[0mmethod\u001b[0m \u001b[0;34m=\u001b[0m \u001b[0mget_real_method\u001b[0m\u001b[0;34m(\u001b[0m\u001b[0mobj\u001b[0m\u001b[0;34m,\u001b[0m \u001b[0mself\u001b[0m\u001b[0;34m.\u001b[0m\u001b[0mprint_method\u001b[0m\u001b[0;34m)\u001b[0m\u001b[0;34m\u001b[0m\u001b[0;34m\u001b[0m\u001b[0m\n\u001b[1;32m    917\u001b[0m             \u001b[0;32mif\u001b[0m \u001b[0mmethod\u001b[0m \u001b[0;32mis\u001b[0m \u001b[0;32mnot\u001b[0m \u001b[0;32mNone\u001b[0m\u001b[0;34m:\u001b[0m\u001b[0;34m\u001b[0m\u001b[0;34m\u001b[0m\u001b[0m\n\u001b[0;32m--> 918\u001b[0;31m                 \u001b[0mmethod\u001b[0m\u001b[0;34m(\u001b[0m\u001b[0;34m)\u001b[0m\u001b[0;34m\u001b[0m\u001b[0;34m\u001b[0m\u001b[0m\n\u001b[0m\u001b[1;32m    919\u001b[0m                 \u001b[0;32mreturn\u001b[0m \u001b[0;32mTrue\u001b[0m\u001b[0;34m\u001b[0m\u001b[0;34m\u001b[0m\u001b[0m\n\u001b[1;32m    920\u001b[0m \u001b[0;34m\u001b[0m\u001b[0m\n",
      "\u001b[0;32m/opt/hostedtoolcache/Python/3.6.12/x64/lib/python3.6/site-packages/sisl/viz/plotly/plot.py\u001b[0m in \u001b[0;36m_ipython_display_\u001b[0;34m(self, return_figWidget, **kwargs)\u001b[0m\n\u001b[1;32m   1200\u001b[0m             \u001b[0;32mimport\u001b[0m \u001b[0mipywidgets\u001b[0m \u001b[0;32mas\u001b[0m \u001b[0mwidgets\u001b[0m\u001b[0;34m\u001b[0m\u001b[0;34m\u001b[0m\u001b[0m\n\u001b[1;32m   1201\u001b[0m \u001b[0;34m\u001b[0m\u001b[0m\n\u001b[0;32m-> 1202\u001b[0;31m             \u001b[0mf\u001b[0m \u001b[0;34m=\u001b[0m \u001b[0mgo\u001b[0m\u001b[0;34m.\u001b[0m\u001b[0mFigureWidget\u001b[0m\u001b[0;34m(\u001b[0m\u001b[0mself\u001b[0m\u001b[0;34m.\u001b[0m\u001b[0mfigure\u001b[0m\u001b[0;34m,\u001b[0m \u001b[0;34m)\u001b[0m\u001b[0;34m\u001b[0m\u001b[0;34m\u001b[0m\u001b[0m\n\u001b[0m\u001b[1;32m   1203\u001b[0m \u001b[0;34m\u001b[0m\u001b[0m\n\u001b[1;32m   1204\u001b[0m             \u001b[0;32mif\u001b[0m \u001b[0mself\u001b[0m\u001b[0;34m.\u001b[0m\u001b[0m_widgets\u001b[0m\u001b[0;34m[\u001b[0m\u001b[0;34m\"events\"\u001b[0m\u001b[0;34m]\u001b[0m\u001b[0;34m:\u001b[0m\u001b[0;34m\u001b[0m\u001b[0;34m\u001b[0m\u001b[0m\n",
      "\u001b[0;32m/opt/hostedtoolcache/Python/3.6.12/x64/lib/python3.6/site-packages/plotly/graph_objs/_figurewidget.py\u001b[0m in \u001b[0;36m__init__\u001b[0;34m(self, data, layout, frames, skip_invalid, **kwargs)\u001b[0m\n\u001b[1;32m    594\u001b[0m             \u001b[0;32mis\u001b[0m \u001b[0minvalid\u001b[0m \u001b[0mAND\u001b[0m \u001b[0mskip_invalid\u001b[0m \u001b[0;32mis\u001b[0m \u001b[0;32mFalse\u001b[0m\u001b[0;34m\u001b[0m\u001b[0;34m\u001b[0m\u001b[0m\n\u001b[1;32m    595\u001b[0m         \"\"\"\n\u001b[0;32m--> 596\u001b[0;31m         \u001b[0msuper\u001b[0m\u001b[0;34m(\u001b[0m\u001b[0mFigureWidget\u001b[0m\u001b[0;34m,\u001b[0m \u001b[0mself\u001b[0m\u001b[0;34m)\u001b[0m\u001b[0;34m.\u001b[0m\u001b[0m__init__\u001b[0m\u001b[0;34m(\u001b[0m\u001b[0mdata\u001b[0m\u001b[0;34m,\u001b[0m \u001b[0mlayout\u001b[0m\u001b[0;34m,\u001b[0m \u001b[0mframes\u001b[0m\u001b[0;34m,\u001b[0m \u001b[0mskip_invalid\u001b[0m\u001b[0;34m,\u001b[0m \u001b[0;34m**\u001b[0m\u001b[0mkwargs\u001b[0m\u001b[0;34m)\u001b[0m\u001b[0;34m\u001b[0m\u001b[0;34m\u001b[0m\u001b[0m\n\u001b[0m\u001b[1;32m    597\u001b[0m \u001b[0;34m\u001b[0m\u001b[0m\n\u001b[1;32m    598\u001b[0m     def add_area(\n",
      "\u001b[0;32m/opt/hostedtoolcache/Python/3.6.12/x64/lib/python3.6/site-packages/plotly/basewidget.py\u001b[0m in \u001b[0;36m__init__\u001b[0;34m(self, data, layout, frames, skip_invalid, **kwargs)\u001b[0m\n\u001b[1;32m    127\u001b[0m         \u001b[0;31m# Frames are not supported by figure widget\u001b[0m\u001b[0;34m\u001b[0m\u001b[0;34m\u001b[0m\u001b[0;34m\u001b[0m\u001b[0m\n\u001b[1;32m    128\u001b[0m         \u001b[0;32mif\u001b[0m \u001b[0mself\u001b[0m\u001b[0;34m.\u001b[0m\u001b[0m_frame_objs\u001b[0m\u001b[0;34m:\u001b[0m\u001b[0;34m\u001b[0m\u001b[0;34m\u001b[0m\u001b[0m\n\u001b[0;32m--> 129\u001b[0;31m             \u001b[0mBaseFigureWidget\u001b[0m\u001b[0;34m.\u001b[0m\u001b[0m_display_frames_error\u001b[0m\u001b[0;34m(\u001b[0m\u001b[0;34m)\u001b[0m\u001b[0;34m\u001b[0m\u001b[0;34m\u001b[0m\u001b[0m\n\u001b[0m\u001b[1;32m    130\u001b[0m \u001b[0;34m\u001b[0m\u001b[0m\n\u001b[1;32m    131\u001b[0m         \u001b[0;31m# Message States\u001b[0m\u001b[0;34m\u001b[0m\u001b[0;34m\u001b[0m\u001b[0;34m\u001b[0m\u001b[0m\n",
      "\u001b[0;32m/opt/hostedtoolcache/Python/3.6.12/x64/lib/python3.6/site-packages/plotly/basewidget.py\u001b[0m in \u001b[0;36m_display_frames_error\u001b[0;34m()\u001b[0m\n\u001b[1;32m    790\u001b[0m \u001b[0mFrames\u001b[0m \u001b[0mare\u001b[0m \u001b[0;32mnot\u001b[0m \u001b[0msupported\u001b[0m \u001b[0mby\u001b[0m \u001b[0mthe\u001b[0m \u001b[0mplotly\u001b[0m\u001b[0;34m.\u001b[0m\u001b[0mgraph_objs\u001b[0m\u001b[0;34m.\u001b[0m\u001b[0mFigureWidget\u001b[0m \u001b[0;32mclass\u001b[0m\u001b[0;34m.\u001b[0m\u001b[0;34m\u001b[0m\u001b[0;34m\u001b[0m\u001b[0m\n\u001b[1;32m    791\u001b[0m Note: Frames are supported by the plotly.graph_objs.Figure class\"\"\"\n\u001b[0;32m--> 792\u001b[0;31m         \u001b[0;32mraise\u001b[0m \u001b[0mValueError\u001b[0m\u001b[0;34m(\u001b[0m\u001b[0mmsg\u001b[0m\u001b[0;34m)\u001b[0m\u001b[0;34m\u001b[0m\u001b[0;34m\u001b[0m\u001b[0m\n\u001b[0m\u001b[1;32m    793\u001b[0m \u001b[0;34m\u001b[0m\u001b[0m\n\u001b[1;32m    794\u001b[0m     \u001b[0;31m# Static Helpers\u001b[0m\u001b[0;34m\u001b[0m\u001b[0;34m\u001b[0m\u001b[0;34m\u001b[0m\u001b[0m\n",
      "\u001b[0;31mValueError\u001b[0m: \nFrames are not supported by the plotly.graph_objs.FigureWidget class.\nNote: Frames are supported by the plotly.graph_objs.Figure class"
     ]
    },
    {
     "data": {
      "application/vnd.plotly.v1+json": {
       "config": {
        "plotlyServerURL": "https://plot.ly"
       },
       "data": [
        {
         "showlegend": false,
         "type": "heatmap",
         "x": [
          0.0,
          0.20285714285714285,
          0.4057142857142857,
          0.6085714285714285,
          0.8114285714285714,
          1.0142857142857142,
          1.217142857142857,
          1.42,
          1.6228571428571428,
          1.8257142857142856,
          2.0285714285714285,
          2.2314285714285713,
          2.434285714285714,
          2.637142857142857,
          2.84,
          3.0428571428571427,
          3.2457142857142856,
          3.4485714285714284,
          3.6514285714285712,
          3.854285714285714,
          4.057142857142857
         ],
         "y": [
          0.0,
          0.20495934556231712,
          0.40991869112463425,
          0.6148780366869514,
          0.8198373822492685,
          1.0247967278115857,
          1.2297560733739028,
          1.43471541893622,
          1.639674764498537,
          1.844634110060854,
          2.0495934556231714,
          2.2545528011854885
         ],
         "z": [
          [
           0.003460447941093967,
           0.0028776317200728736,
           0.002083843517357594,
           0.0014193299178990578,
           0.0008654071153352384,
           0.00045618114085763106,
           0.0001319837671564747,
           8.301477529076724e-33,
           0.00013198376715647855,
           0.00045618114085763925,
           0.0008654071153352513,
           0.0014193299178990777,
           0.002083843517357622,
           0.0028776317200729148,
           0.0034604479410940197,
           0.0019067933689183472,
           0.0006574771770301375,
           7.92034081454178e-05,
           7.920340814541119e-05,
           0.0006574771770301176,
           0.0019067933689183095
          ],
          [
           0.002511438415316981,
           0.0024693554044619126,
           0.0019556522767254342,
           0.0013912286909309398,
           0.0008729476531650988,
           0.00045985358092757463,
           0.00012628998728708815,
           7.715709819927331e-33,
           0.00012628998728709206,
           0.0004598535809275827,
           0.0008729476531651115,
           0.0013912286909309587,
           0.0019556522767254607,
           0.002469355404461949,
           0.0025114384153170207,
           0.0015404884355321052,
           0.0005608582350151383,
           6.860409521844815e-05,
           6.860409521844233e-05,
           0.0005608582350151203,
           0.0015404884355320729
          ],
          [
           0.0017124881431047003,
           0.0019459492307856,
           0.001814472142065464,
           0.0014442499309882642,
           0.0009805174575017556,
           0.0004951108159860394,
           0.0001371193907522019,
           7.276527249700985e-33,
           0.00013711939075220574,
           0.0004951108159860472,
           0.0009805174575017682,
           0.0014442499309882822,
           0.0018144721420654873,
           0.0019459492307856278,
           0.0017124881431047287,
           0.001080180145484215,
           0.0004261803633436125,
           4.8171481946632996e-05,
           4.817148194662828e-05,
           0.00042618036334359785,
           0.0010801801454841911
          ],
          [
           0.0013604951893622507,
           0.001713268155940814,
           0.001808806181265583,
           0.0015792499816373693,
           0.0011189125091046995,
           0.0005669250620086842,
           0.00015462168723071217,
           6.520029913225239e-33,
           0.00015462168723071588,
           0.000566925062008692,
           0.0011189125091047116,
           0.0015792499816373862,
           0.0018088061812656035,
           0.0017132681559408366,
           0.0013604951893622726,
           0.000843176639444708,
           0.0003512565745600411,
           4.1335304575486674e-05,
           4.133530457548256e-05,
           0.0003512565745600289,
           0.0008431766394446884
          ],
          [
           0.001215109168266014,
           0.0016508738858123971,
           0.0019127579505907545,
           0.001922561263473333,
           0.001432694468631878,
           0.0007310904436439281,
           0.00019029385790716216,
           6.247460587783768e-33,
           0.00019029385790716587,
           0.0007310904436439356,
           0.0014326944686318898,
           0.001922561263473349,
           0.0019127579505907732,
           0.0016508738858124169,
           0.0012151091682660324,
           0.0007327652419030771,
           0.0002915326795550192,
           4.16406844420874e-05,
           4.164068444208356e-05,
           0.00029153267955500884,
           0.0007327652419030609
          ],
          [
           0.0011285785151409274,
           0.001681364127928824,
           0.002188618135858146,
           0.002589835200582249,
           0.0020864635302380256,
           0.000995845597295173,
           0.0002536614400173603,
           5.908300500743721e-33,
           0.0002536614400173642,
           0.0009958455972951807,
           0.0020864635302380373,
           0.0025898352005822643,
           0.0021886181358581644,
           0.0016813641279288423,
           0.001128578515140944,
           0.0006643451798876225,
           0.00026124105464818675,
           3.398269013448112e-05,
           3.398269013447779e-05,
           0.0002612410546481774,
           0.0006643451798876078
          ],
          [
           0.0011217500587753263,
           0.0017309828844840414,
           0.002466731372055689,
           0.0033732258763124845,
           0.002821103460337494,
           0.0011810578028510366,
           0.0002964234241497651,
           5.922931597472013e-33,
           0.0002964234241497692,
           0.0011810578028510442,
           0.0028211034603375057,
           0.0033732258763124997,
           0.0024667313720557068,
           0.0017309828844840598,
           0.0011217500587753421,
           0.0006440805437975649,
           0.0002830823813883253,
           4.447822448219558e-05,
           4.447822448219224e-05,
           0.0002830823813883158,
           0.0006440805437975506
          ],
          [
           0.001128578515140927,
           0.001681364127928823,
           0.0021886181358581444,
           0.002589835200582247,
           0.002086463530238024,
           0.0009958455972951718,
           0.00025366144001736,
           5.8093455651030705e-33,
           0.00025366144001736393,
           0.0009958455972951797,
           0.0020864635302380355,
           0.002589835200582262,
           0.0021886181358581626,
           0.0016813641279288416,
           0.0011285785151409434,
           0.000664345179887622,
           0.0002612410546481866,
           3.398269013448107e-05,
           3.398269013447777e-05,
           0.0002612410546481773,
           0.0006643451798876072
          ],
          [
           0.0012151091682660127,
           0.0016508738858123952,
           0.001912757950590753,
           0.001922561263473331,
           0.0014326944686318768,
           0.0007310904436439271,
           0.00019029385790716186,
           6.052139618638214e-33,
           0.00019029385790716557,
           0.0007310904436439348,
           0.0014326944686318887,
           0.0019225612634733475,
           0.0019127579505907712,
           0.0016508738858124151,
           0.001215109168266031,
           0.0007327652419030767,
           0.000291532679555019,
           4.164068444208731e-05,
           4.16406844420835e-05,
           0.00029153267955500856,
           0.0007327652419030602
          ],
          [
           0.0013604951893622487,
           0.0017132681559408113,
           0.0018088061812655816,
           0.0015792499816373682,
           0.0011189125091046982,
           0.0005669250620086837,
           0.00015462168723071203,
           6.541515880425963e-33,
           0.00015462168723071572,
           0.0005669250620086913,
           0.0011189125091047105,
           0.0015792499816373845,
           0.0018088061812656028,
           0.0017132681559408342,
           0.0013604951893622706,
           0.0008431766394447068,
           0.0003512565745600408,
           4.1335304575486674e-05,
           4.133530457548253e-05,
           0.00035125657456002845,
           0.0008431766394446875
          ],
          [
           0.0017124881431046985,
           0.001945949230785598,
           0.0018144721420654624,
           0.0014442499309882636,
           0.000980517457501755,
           0.0004951108159860388,
           0.00013711939075220178,
           7.320819876839969e-33,
           0.00013711939075220558,
           0.0004951108159860468,
           0.0009805174575017676,
           0.001444249930988281,
           0.0018144721420654858,
           0.0019459492307856258,
           0.001712488143104727,
           0.0010801801454842137,
           0.0004261803633436121,
           4.8171481946632935e-05,
           4.817148194662829e-05,
           0.00042618036334359736,
           0.0010801801454841898
          ],
          [
           0.002511438415316978,
           0.002469355404461911,
           0.0019556522767254325,
           0.0013912286909309388,
           0.000872947653165098,
           0.0004598535809275743,
           0.00012628998728708804,
           7.62528218520768e-33,
           0.00012628998728709195,
           0.00045985358092758254,
           0.0008729476531651107,
           0.0013912286909309578,
           0.00195565227672546,
           0.002469355404461946,
           0.0025114384153170177,
           0.0015404884355321032,
           0.0005608582350151378,
           6.860409521844815e-05,
           6.860409521844233e-05,
           0.0005608582350151199,
           0.0015404884355320714
          ]
         ],
         "zsmooth": "best"
        },
        {
         "hoverinfo": "text",
         "marker": {
          "color": "#ccc",
          "coloraxis": "coloraxis",
          "size": 3
         },
         "mode": "markers+lines",
         "name": "bonds",
         "showlegend": true,
         "type": "scatter",
         "x": [
          0.0,
          0.71,
          null,
          0.0,
          0.71,
          null,
          0.0,
          -1.42,
          null,
          0.71,
          2.13,
          null,
          0.71,
          0.0,
          null,
          2.13,
          2.84,
          null,
          2.13,
          2.84,
          null,
          2.84,
          2.13,
          null,
          2.84,
          4.26,
          null
         ],
         "y": [
          0.0,
          1.2297560733739028,
          null,
          0.0,
          -1.2297560733739028,
          null,
          0.0,
          0.0,
          null,
          1.2297560733739028,
          1.2297560733739028,
          null,
          1.2297560733739028,
          2.4595121467478056,
          null,
          1.2297560733739028,
          0.0,
          null,
          1.2297560733739028,
          2.4595121467478056,
          null,
          0.0,
          -1.2297560733739028,
          null,
          0.0,
          0.0,
          null
         ]
        },
        {
         "marker": {
          "color": [
           "grey",
           "grey",
           "grey",
           "grey"
          ],
          "size": [
           10.72,
           10.72,
           10.72,
           10.72
          ]
         },
         "mode": "markers",
         "name": "Atoms",
         "showlegend": true,
         "text": [
          "[0. 0. 5.]<br>0 (C)",
          "[0.71       1.22975607 5.        ]<br>1 (C)",
          "[2.13       1.22975607 5.        ]<br>2 (C)",
          "[2.84 0.   5.  ]<br>3 (C)"
         ],
         "type": "scatter",
         "x": [
          0.0,
          0.71,
          2.13,
          2.84
         ],
         "y": [
          0.0,
          1.2297560733739028,
          1.2297560733739028,
          0.0
         ]
        },
        {
         "mode": "lines",
         "name": "Unit cell",
         "type": "scatter",
         "x": [
          0.0,
          0.0,
          4.26,
          4.26,
          0.0,
          0.0,
          0.0,
          0.0,
          0.0,
          4.26,
          4.26,
          4.26,
          4.26,
          4.26,
          4.26,
          0.0
         ],
         "y": [
          0.0,
          2.4595121467478056,
          2.4595121467478056,
          0.0,
          0.0,
          0.0,
          2.4595121467478056,
          2.4595121467478056,
          2.4595121467478056,
          2.4595121467478056,
          2.4595121467478056,
          0.0,
          0.0,
          2.4595121467478056,
          0.0,
          0.0
         ]
        }
       ],
       "frames": [
        {
         "data": [
          {
           "showlegend": false,
           "type": "heatmap",
           "x": [
            0.0,
            0.20285714285714285,
            0.4057142857142857,
            0.6085714285714285,
            0.8114285714285714,
            1.0142857142857142,
            1.217142857142857,
            1.42,
            1.6228571428571428,
            1.8257142857142856,
            2.0285714285714285,
            2.2314285714285713,
            2.434285714285714,
            2.637142857142857,
            2.84,
            3.0428571428571427,
            3.2457142857142856,
            3.4485714285714284,
            3.6514285714285712,
            3.854285714285714,
            4.057142857142857
           ],
           "y": [
            0.0,
            0.20495934556231712,
            0.40991869112463425,
            0.6148780366869514,
            0.8198373822492685,
            1.0247967278115857,
            1.2297560733739028,
            1.43471541893622,
            1.639674764498537,
            1.844634110060854,
            2.0495934556231714,
            2.2545528011854885
           ],
           "z": [
            [
             0.003460447941093967,
             0.0028776317200728736,
             0.002083843517357594,
             0.0014193299178990578,
             0.0008654071153352384,
             0.00045618114085763106,
             0.0001319837671564747,
             8.301477529076724e-33,
             0.00013198376715647855,
             0.00045618114085763925,
             0.0008654071153352513,
             0.0014193299178990777,
             0.002083843517357622,
             0.0028776317200729148,
             0.0034604479410940197,
             0.0019067933689183472,
             0.0006574771770301375,
             7.92034081454178e-05,
             7.920340814541119e-05,
             0.0006574771770301176,
             0.0019067933689183095
            ],
            [
             0.002511438415316981,
             0.0024693554044619126,
             0.0019556522767254342,
             0.0013912286909309398,
             0.0008729476531650988,
             0.00045985358092757463,
             0.00012628998728708815,
             7.715709819927331e-33,
             0.00012628998728709206,
             0.0004598535809275827,
             0.0008729476531651115,
             0.0013912286909309587,
             0.0019556522767254607,
             0.002469355404461949,
             0.0025114384153170207,
             0.0015404884355321052,
             0.0005608582350151383,
             6.860409521844815e-05,
             6.860409521844233e-05,
             0.0005608582350151203,
             0.0015404884355320729
            ],
            [
             0.0017124881431047003,
             0.0019459492307856,
             0.001814472142065464,
             0.0014442499309882642,
             0.0009805174575017556,
             0.0004951108159860394,
             0.0001371193907522019,
             7.276527249700985e-33,
             0.00013711939075220574,
             0.0004951108159860472,
             0.0009805174575017682,
             0.0014442499309882822,
             0.0018144721420654873,
             0.0019459492307856278,
             0.0017124881431047287,
             0.001080180145484215,
             0.0004261803633436125,
             4.8171481946632996e-05,
             4.817148194662828e-05,
             0.00042618036334359785,
             0.0010801801454841911
            ],
            [
             0.0013604951893622507,
             0.001713268155940814,
             0.001808806181265583,
             0.0015792499816373693,
             0.0011189125091046995,
             0.0005669250620086842,
             0.00015462168723071217,
             6.520029913225239e-33,
             0.00015462168723071588,
             0.000566925062008692,
             0.0011189125091047116,
             0.0015792499816373862,
             0.0018088061812656035,
             0.0017132681559408366,
             0.0013604951893622726,
             0.000843176639444708,
             0.0003512565745600411,
             4.1335304575486674e-05,
             4.133530457548256e-05,
             0.0003512565745600289,
             0.0008431766394446884
            ],
            [
             0.001215109168266014,
             0.0016508738858123971,
             0.0019127579505907545,
             0.001922561263473333,
             0.001432694468631878,
             0.0007310904436439281,
             0.00019029385790716216,
             6.247460587783768e-33,
             0.00019029385790716587,
             0.0007310904436439356,
             0.0014326944686318898,
             0.001922561263473349,
             0.0019127579505907732,
             0.0016508738858124169,
             0.0012151091682660324,
             0.0007327652419030771,
             0.0002915326795550192,
             4.16406844420874e-05,
             4.164068444208356e-05,
             0.00029153267955500884,
             0.0007327652419030609
            ],
            [
             0.0011285785151409274,
             0.001681364127928824,
             0.002188618135858146,
             0.002589835200582249,
             0.0020864635302380256,
             0.000995845597295173,
             0.0002536614400173603,
             5.908300500743721e-33,
             0.0002536614400173642,
             0.0009958455972951807,
             0.0020864635302380373,
             0.0025898352005822643,
             0.0021886181358581644,
             0.0016813641279288423,
             0.001128578515140944,
             0.0006643451798876225,
             0.00026124105464818675,
             3.398269013448112e-05,
             3.398269013447779e-05,
             0.0002612410546481774,
             0.0006643451798876078
            ],
            [
             0.0011217500587753263,
             0.0017309828844840414,
             0.002466731372055689,
             0.0033732258763124845,
             0.002821103460337494,
             0.0011810578028510366,
             0.0002964234241497651,
             5.922931597472013e-33,
             0.0002964234241497692,
             0.0011810578028510442,
             0.0028211034603375057,
             0.0033732258763124997,
             0.0024667313720557068,
             0.0017309828844840598,
             0.0011217500587753421,
             0.0006440805437975649,
             0.0002830823813883253,
             4.447822448219558e-05,
             4.447822448219224e-05,
             0.0002830823813883158,
             0.0006440805437975506
            ],
            [
             0.001128578515140927,
             0.001681364127928823,
             0.0021886181358581444,
             0.002589835200582247,
             0.002086463530238024,
             0.0009958455972951718,
             0.00025366144001736,
             5.8093455651030705e-33,
             0.00025366144001736393,
             0.0009958455972951797,
             0.0020864635302380355,
             0.002589835200582262,
             0.0021886181358581626,
             0.0016813641279288416,
             0.0011285785151409434,
             0.000664345179887622,
             0.0002612410546481866,
             3.398269013448107e-05,
             3.398269013447777e-05,
             0.0002612410546481773,
             0.0006643451798876072
            ],
            [
             0.0012151091682660127,
             0.0016508738858123952,
             0.001912757950590753,
             0.001922561263473331,
             0.0014326944686318768,
             0.0007310904436439271,
             0.00019029385790716186,
             6.052139618638214e-33,
             0.00019029385790716557,
             0.0007310904436439348,
             0.0014326944686318887,
             0.0019225612634733475,
             0.0019127579505907712,
             0.0016508738858124151,
             0.001215109168266031,
             0.0007327652419030767,
             0.000291532679555019,
             4.164068444208731e-05,
             4.16406844420835e-05,
             0.00029153267955500856,
             0.0007327652419030602
            ],
            [
             0.0013604951893622487,
             0.0017132681559408113,
             0.0018088061812655816,
             0.0015792499816373682,
             0.0011189125091046982,
             0.0005669250620086837,
             0.00015462168723071203,
             6.541515880425963e-33,
             0.00015462168723071572,
             0.0005669250620086913,
             0.0011189125091047105,
             0.0015792499816373845,
             0.0018088061812656028,
             0.0017132681559408342,
             0.0013604951893622706,
             0.0008431766394447068,
             0.0003512565745600408,
             4.1335304575486674e-05,
             4.133530457548253e-05,
             0.00035125657456002845,
             0.0008431766394446875
            ],
            [
             0.0017124881431046985,
             0.001945949230785598,
             0.0018144721420654624,
             0.0014442499309882636,
             0.000980517457501755,
             0.0004951108159860388,
             0.00013711939075220178,
             7.320819876839969e-33,
             0.00013711939075220558,
             0.0004951108159860468,
             0.0009805174575017676,
             0.001444249930988281,
             0.0018144721420654858,
             0.0019459492307856258,
             0.001712488143104727,
             0.0010801801454842137,
             0.0004261803633436121,
             4.8171481946632935e-05,
             4.817148194662829e-05,
             0.00042618036334359736,
             0.0010801801454841898
            ],
            [
             0.002511438415316978,
             0.002469355404461911,
             0.0019556522767254325,
             0.0013912286909309388,
             0.000872947653165098,
             0.0004598535809275743,
             0.00012628998728708804,
             7.62528218520768e-33,
             0.00012628998728709195,
             0.00045985358092758254,
             0.0008729476531651107,
             0.0013912286909309578,
             0.00195565227672546,
             0.002469355404461946,
             0.0025114384153170177,
             0.0015404884355321032,
             0.0005608582350151378,
             6.860409521844815e-05,
             6.860409521844233e-05,
             0.0005608582350151199,
             0.0015404884355320714
            ]
           ],
           "zsmooth": "best"
          },
          {
           "hoverinfo": "text",
           "marker": {
            "color": "#ccc",
            "coloraxis": "coloraxis",
            "size": 3
           },
           "mode": "markers+lines",
           "name": "bonds",
           "showlegend": true,
           "type": "scatter",
           "x": [
            0.0,
            0.71,
            null,
            0.0,
            0.71,
            null,
            0.0,
            -1.42,
            null,
            0.71,
            2.13,
            null,
            0.71,
            0.0,
            null,
            2.13,
            2.84,
            null,
            2.13,
            2.84,
            null,
            2.84,
            2.13,
            null,
            2.84,
            4.26,
            null
           ],
           "y": [
            0.0,
            1.2297560733739028,
            null,
            0.0,
            -1.2297560733739028,
            null,
            0.0,
            0.0,
            null,
            1.2297560733739028,
            1.2297560733739028,
            null,
            1.2297560733739028,
            2.4595121467478056,
            null,
            1.2297560733739028,
            0.0,
            null,
            1.2297560733739028,
            2.4595121467478056,
            null,
            0.0,
            -1.2297560733739028,
            null,
            0.0,
            0.0,
            null
           ]
          },
          {
           "marker": {
            "color": [
             "grey",
             "grey",
             "grey",
             "grey"
            ],
            "size": [
             10.72,
             10.72,
             10.72,
             10.72
            ]
           },
           "mode": "markers",
           "name": "Atoms",
           "showlegend": true,
           "text": [
            "[0. 0. 5.]<br>0 (C)",
            "[0.71       1.22975607 5.        ]<br>1 (C)",
            "[2.13       1.22975607 5.        ]<br>2 (C)",
            "[2.84 0.   5.  ]<br>3 (C)"
           ],
           "type": "scatter",
           "x": [
            0.0,
            0.71,
            2.13,
            2.84
           ],
           "y": [
            0.0,
            1.2297560733739028,
            1.2297560733739028,
            0.0
           ]
          },
          {
           "mode": "lines",
           "name": "Unit cell",
           "type": "scatter",
           "x": [
            0.0,
            0.0,
            4.26,
            4.26,
            0.0,
            0.0,
            0.0,
            0.0,
            0.0,
            4.26,
            4.26,
            4.26,
            4.26,
            4.26,
            4.26,
            0.0
           ],
           "y": [
            0.0,
            2.4595121467478056,
            2.4595121467478056,
            0.0,
            0.0,
            0.0,
            2.4595121467478056,
            2.4595121467478056,
            2.4595121467478056,
            2.4595121467478056,
            2.4595121467478056,
            0.0,
            0.0,
            2.4595121467478056,
            0.0,
            0.0
           ]
          }
         ],
         "name": "Frame 1"
        },
        {
         "data": [
          {
           "showlegend": false,
           "type": "heatmap",
           "x": [
            0.0,
            0.20285714285714285,
            0.4057142857142857,
            0.6085714285714285,
            0.8114285714285714,
            1.0142857142857142,
            1.217142857142857,
            1.42,
            1.6228571428571428,
            1.8257142857142856,
            2.0285714285714285,
            2.2314285714285713,
            2.434285714285714,
            2.637142857142857,
            2.84,
            3.0428571428571427,
            3.2457142857142856,
            3.4485714285714284,
            3.6514285714285712,
            3.854285714285714,
            4.057142857142857
           ],
           "y": [
            0.0,
            0.20495934556231712,
            0.40991869112463425,
            0.6148780366869514,
            0.8198373822492685,
            1.0247967278115857,
            1.2297560733739028,
            1.43471541893622,
            1.639674764498537,
            1.844634110060854,
            2.0495934556231714,
            2.2545528011854885
           ],
           "z": [
            [
             0.002479969957057722,
             0.001229125969591206,
             0.0003758107892278481,
             8.006781217340003e-05,
             4.361274941043654e-05,
             0.00010616965609127986,
             0.00016139393568350812,
             0.0001798046448371593,
             0.00016139393568350867,
             0.00010616965609128061,
             4.361274941043694e-05,
             8.006781217339916e-05,
             0.00037581078922784434,
             0.0012291259695911972,
             0.0024799699570577072,
             0.0019535268998528013,
             0.0014324087229494811,
             0.0012170044941773746,
             0.0012170044941773764,
             0.0014324087229494868,
             0.0019535268998528113
            ],
            [
             0.0014999577960825403,
             0.0008333063690892708,
             0.00026377632003137316,
             4.640646622303333e-05,
             4.7517134448774995e-05,
             0.00011310222835669853,
             0.00018371338415488526,
             0.00020871823643844883,
             0.0001837133841548858,
             0.00011310222835669933,
             4.75171344487756e-05,
             4.640646622303286e-05,
             0.00026377632003137035,
             0.000833306369089264,
             0.001499957796082531,
             0.001486429883174141,
             0.0012478565493115516,
             0.0010745801559746268,
             0.0010745801559746283,
             0.0012478565493115562,
             0.0014864298831741489
            ],
            [
             0.0006357571305582939,
             0.0003132128935442638,
             6.628259679791392e-05,
             2.1420363695342287e-05,
             0.0001029139972020748,
             0.00019985962479723135,
             0.00028009532892562237,
             0.00030511742024310457,
             0.00028009532892562313,
             0.00019985962479723252,
             0.00010291399720207601,
             2.142036369534275e-05,
             6.628259679791271e-05,
             0.0003132128935442606,
             0.0006357571305582893,
             0.0008011378015956182,
             0.0008396160825980923,
             0.0008028073143305211,
             0.0008028073143305223,
             0.0008396160825980955,
             0.0008011378015956229
            ],
            [
             0.00021145298466214568,
             4.754498353299239e-05,
             5.2966970087836924e-06,
             0.0001238323811174707,
             0.0002990536581106458,
             0.00043725160985978994,
             0.0005017165163283342,
             0.0005190483947432911,
             0.000501716516328335,
             0.0004372516098597914,
             0.00029905365811064776,
             0.00012383238111747226,
             5.29669700878404e-06,
             4.754498353299131e-05,
             0.00021145298466214354,
             0.0003654651505929442,
             0.000468310345559268,
             0.0005178739040549567,
             0.0005178739040549574,
             0.00046831034555927,
             0.000365465150592947
            ],
            [
             5.692370529745698e-05,
             1.7894433268676835e-05,
             0.00016749077153382412,
             0.0004793308380042788,
             0.0007561672467495513,
             0.000833349503520177,
             0.0008226450308248537,
             0.0007941119956986867,
             0.0008226450308248549,
             0.0008333495035201795,
             0.0007561672467495546,
             0.00047933083800428183,
             0.0001674907715338258,
             1.789443326867705e-05,
             5.692370529745609e-05,
             0.00015772600872792706,
             0.00023838231180277076,
             0.0003015444917511438,
             0.00030154449175114436,
             0.0002383823118027721,
             0.00015772600872792866
            ],
            [
             3.934466053475432e-05,
             0.00011276379878531897,
             0.0005044343616381451,
             0.001211976883053298,
             0.0015688969077143902,
             0.0013471304840421802,
             0.001157462084087513,
             0.0010583218331625417,
             0.0011574620840875142,
             0.0013471304840421837,
             0.001568896907714395,
             0.001211976883053303,
             0.0005044343616381481,
             0.00011276379878532004,
             3.934466053475412e-05,
             7.453047571590134e-05,
             0.0001445558330576691,
             0.0001980294413377912,
             0.00019802944133779157,
             0.00014455583305767003,
             7.453047571590217e-05
            ],
            [
             5.316093431365399e-05,
             0.00018555653158497623,
             0.0007049608912625482,
             0.0019374939900214136,
             0.0023455444502692006,
             0.0016569863621143362,
             0.0012860197348051664,
             0.0011748115007147602,
             0.001286019734805168,
             0.0016569863621143392,
             0.002345544450269207,
             0.0019374939900214207,
             0.0007049608912625519,
             0.00018555653158497756,
             5.316093431365396e-05,
             7.583440922576321e-05,
             0.00012811566743519212,
             0.00018480008408089266,
             0.000184800084080893,
             0.000128115667435193,
             7.583440922576392e-05
            ],
            [
             3.934466053475433e-05,
             0.0001127637987853189,
             0.0005044343616381446,
             0.001211976883053297,
             0.0015688969077143884,
             0.0013471304840421787,
             0.001157462084087512,
             0.001058321833162541,
             0.0011574620840875136,
             0.0013471304840421822,
             0.001568896907714393,
             0.0012119768830533017,
             0.0005044343616381475,
             0.00011276379878531994,
             3.934466053475412e-05,
             7.453047571590134e-05,
             0.0001445558330576691,
             0.0001980294413377912,
             0.00019802944133779152,
             0.00014455583305767003,
             7.45304757159022e-05
            ],
            [
             5.6923705297457004e-05,
             1.7894433268676828e-05,
             0.00016749077153382385,
             0.00047933083800427836,
             0.0007561672467495505,
             0.0008333495035201763,
             0.0008226450308248526,
             0.0007941119956986858,
             0.0008226450308248538,
             0.0008333495035201786,
             0.0007561672467495536,
             0.0004793308380042814,
             0.0001674907715338256,
             1.7894433268677045e-05,
             5.6923705297456096e-05,
             0.00015772600872792703,
             0.00023838231180277062,
             0.00030154449175114376,
             0.00030154449175114425,
             0.000238382311802772,
             0.0001577260087279286
            ],
            [
             0.00021145298466214533,
             4.7544983532992324e-05,
             5.296697008783677e-06,
             0.00012383238111747036,
             0.00029905365811064527,
             0.00043725160985978923,
             0.0005017165163283332,
             0.0005190483947432903,
             0.0005017165163283342,
             0.00043725160985979086,
             0.0002990536581106473,
             0.000123832381117472,
             5.296697008784015e-06,
             4.7544983532991226e-05,
             0.0002114529846621432,
             0.00036546515059294386,
             0.00046831034555926777,
             0.0005178739040549566,
             0.0005178739040549574,
             0.00046831034555926994,
             0.0003654651505929464
            ],
            [
             0.0006357571305582933,
             0.0003132128935442638,
             6.6282596797914e-05,
             2.1420363695342192e-05,
             0.00010291399720207446,
             0.00019985962479723084,
             0.0002800953289256218,
             0.0003051174202431041,
             0.00028009532892562253,
             0.00019985962479723192,
             0.00010291399720207568,
             2.1420363695342663e-05,
             6.628259679791278e-05,
             0.00031321289354426055,
             0.0006357571305582886,
             0.000801137801595618,
             0.000839616082598092,
             0.0008028073143305214,
             0.0008028073143305224,
             0.0008396160825980954,
             0.0008011378015956223
            ],
            [
             0.0014999577960825392,
             0.0008333063690892705,
             0.0002637763200313734,
             4.640646622303345e-05,
             4.751713444877481e-05,
             0.00011310222835669814,
             0.0001837133841548848,
             0.00020871823643844835,
             0.00018371338415488537,
             0.00011310222835669899,
             4.751713444877541e-05,
             4.640646622303295e-05,
             0.0002637763200313705,
             0.0008333063690892638,
             0.0014999577960825299,
             0.0014864298831741404,
             0.0012478565493115519,
             0.0010745801559746274,
             0.0010745801559746287,
             0.0012478565493115562,
             0.0014864298831741487
            ]
           ],
           "zsmooth": false
          },
          {
           "hoverinfo": "text",
           "marker": {
            "color": "#ccc",
            "coloraxis": "coloraxis",
            "size": 3
           },
           "mode": "markers+lines",
           "name": "bonds",
           "showlegend": true,
           "type": "scatter",
           "x": [
            0.0,
            0.71,
            null,
            0.0,
            0.71,
            null,
            0.0,
            -1.42,
            null,
            0.71,
            2.13,
            null,
            0.71,
            0.0,
            null,
            2.13,
            2.84,
            null,
            2.13,
            2.84,
            null,
            2.84,
            2.13,
            null,
            2.84,
            4.26,
            null
           ],
           "y": [
            0.0,
            1.2297560733739028,
            null,
            0.0,
            -1.2297560733739028,
            null,
            0.0,
            0.0,
            null,
            1.2297560733739028,
            1.2297560733739028,
            null,
            1.2297560733739028,
            2.4595121467478056,
            null,
            1.2297560733739028,
            0.0,
            null,
            1.2297560733739028,
            2.4595121467478056,
            null,
            0.0,
            -1.2297560733739028,
            null,
            0.0,
            0.0,
            null
           ]
          },
          {
           "marker": {
            "color": [
             "grey",
             "grey",
             "grey",
             "grey"
            ],
            "size": [
             10.72,
             10.72,
             10.72,
             10.72
            ]
           },
           "mode": "markers",
           "name": "Atoms",
           "showlegend": true,
           "text": [
            "[0. 0. 5.]<br>0 (C)",
            "[0.71       1.22975607 5.        ]<br>1 (C)",
            "[2.13       1.22975607 5.        ]<br>2 (C)",
            "[2.84 0.   5.  ]<br>3 (C)"
           ],
           "type": "scatter",
           "x": [
            0.0,
            0.71,
            2.13,
            2.84
           ],
           "y": [
            0.0,
            1.2297560733739028,
            1.2297560733739028,
            0.0
           ]
          },
          {
           "mode": "lines",
           "name": "Unit cell",
           "type": "scatter",
           "x": [
            0.0,
            0.0,
            4.26,
            4.26,
            0.0,
            0.0,
            0.0,
            0.0,
            0.0,
            4.26,
            4.26,
            4.26,
            4.26,
            4.26,
            4.26,
            0.0
           ],
           "y": [
            0.0,
            2.4595121467478056,
            2.4595121467478056,
            0.0,
            0.0,
            0.0,
            2.4595121467478056,
            2.4595121467478056,
            2.4595121467478056,
            2.4595121467478056,
            2.4595121467478056,
            0.0,
            0.0,
            2.4595121467478056,
            0.0,
            0.0
           ]
          }
         ],
         "name": "Frame 2"
        }
       ],
       "layout": {
        "sliders": [
         {
          "active": 0,
          "currentvalue": {
           "font": {
            "size": 20
           },
           "visible": true,
           "xanchor": "right"
          },
          "len": 0.9,
          "pad": {
           "b": 10,
           "t": 50
          },
          "steps": [
           {
            "args": [
             [
              "Frame 1"
             ],
             {
              "frame": {
               "duration": 500,
               "redraw": true
              },
              "mode": "immediate",
              "transition": {
               "duration": 300
              }
             }
            ],
            "label": "Frame 1",
            "method": "animate"
           },
           {
            "args": [
             [
              "Frame 2"
             ],
             {
              "frame": {
               "duration": 500,
               "redraw": true
              },
              "mode": "immediate",
              "transition": {
               "duration": 300
              }
             }
            ],
            "label": "Frame 2",
            "method": "animate"
           }
          ],
          "x": 0.1,
          "xanchor": "left",
          "y": 0,
          "yanchor": "top"
         }
        ],
        "template": {
         "layout": {
          "hovermode": "closest",
          "paper_bgcolor": "white",
          "plot_bgcolor": "white",
          "scene": {
           "xaxis": {
            "color": "black",
            "gridcolor": "#ccc",
            "gridwidth": 1,
            "linewidth": 1,
            "mirror": true,
            "showgrid": false,
            "showline": true,
            "ticklen": 5,
            "ticks": "outside",
            "ticksuffix": " ",
            "visible": true,
            "zeroline": false,
            "zerolinecolor": "#ccc",
            "zerolinewidth": 1
           },
           "yaxis": {
            "color": "black",
            "gridcolor": "#ccc",
            "gridwidth": 1,
            "linewidth": 1,
            "mirror": true,
            "showgrid": false,
            "showline": true,
            "ticklen": 5,
            "ticks": "outside",
            "ticksuffix": " ",
            "visible": true,
            "zeroline": false,
            "zerolinecolor": "#ccc",
            "zerolinewidth": 1
           },
           "zaxis": {
            "color": "black",
            "gridcolor": "#ccc",
            "gridwidth": 1,
            "linewidth": 1,
            "mirror": true,
            "showgrid": false,
            "showline": true,
            "ticklen": 5,
            "ticks": "outside",
            "ticksuffix": " ",
            "visible": true,
            "zeroline": false,
            "zerolinecolor": "#ccc",
            "zerolinewidth": 1
           }
          },
          "xaxis": {
           "color": "black",
           "gridcolor": "#ccc",
           "gridwidth": 1,
           "linewidth": 1,
           "mirror": true,
           "showgrid": false,
           "showline": true,
           "ticklen": 5,
           "ticks": "outside",
           "ticksuffix": " ",
           "visible": true,
           "zeroline": false,
           "zerolinecolor": "#ccc",
           "zerolinewidth": 1
          },
          "yaxis": {
           "color": "black",
           "gridcolor": "#ccc",
           "gridwidth": 1,
           "linewidth": 1,
           "mirror": true,
           "showgrid": false,
           "showline": true,
           "ticklen": 5,
           "ticks": "outside",
           "ticksuffix": " ",
           "visible": true,
           "zeroline": false,
           "zerolinecolor": "#ccc",
           "zerolinewidth": 1
          }
         }
        },
        "updatemenus": [
         {
          "buttons": [
           {
            "args": [
             null,
             {
              "frame": {
               "duration": 500,
               "redraw": true
              },
              "fromcurrent": true,
              "transition": {
               "duration": 100,
               "easing": "quadratic-in-out"
              }
             }
            ],
            "label": "▶",
            "method": "animate"
           },
           {
            "args": [
             [
              null
             ],
             {
              "frame": {
               "duration": 0
              },
              "mode": "immediate",
              "redraw": true,
              "transition": {
               "duration": 0
              }
             }
            ],
            "label": "⏸",
            "method": "animate"
           }
          ],
          "type": "buttons"
         }
        ]
       }
      },
      "text/html": [
       "<div>                            <div id=\"3d903f3d-cc68-407d-9488-2d6ece4fc0b8\" class=\"plotly-graph-div\" style=\"height:525px; width:100%;\"></div>            <script type=\"text/javascript\">                require([\"plotly\"], function(Plotly) {                    window.PLOTLYENV=window.PLOTLYENV || {};                                    if (document.getElementById(\"3d903f3d-cc68-407d-9488-2d6ece4fc0b8\")) {                    Plotly.newPlot(                        \"3d903f3d-cc68-407d-9488-2d6ece4fc0b8\",                        [{\"showlegend\": false, \"type\": \"heatmap\", \"x\": [0.0, 0.20285714285714285, 0.4057142857142857, 0.6085714285714285, 0.8114285714285714, 1.0142857142857142, 1.217142857142857, 1.42, 1.6228571428571428, 1.8257142857142856, 2.0285714285714285, 2.2314285714285713, 2.434285714285714, 2.637142857142857, 2.84, 3.0428571428571427, 3.2457142857142856, 3.4485714285714284, 3.6514285714285712, 3.854285714285714, 4.057142857142857], \"y\": [0.0, 0.20495934556231712, 0.40991869112463425, 0.6148780366869514, 0.8198373822492685, 1.0247967278115857, 1.2297560733739028, 1.43471541893622, 1.639674764498537, 1.844634110060854, 2.0495934556231714, 2.2545528011854885], \"z\": [[0.003460447941093967, 0.0028776317200728736, 0.002083843517357594, 0.0014193299178990578, 0.0008654071153352384, 0.00045618114085763106, 0.0001319837671564747, 8.301477529076724e-33, 0.00013198376715647855, 0.00045618114085763925, 0.0008654071153352513, 0.0014193299178990777, 0.002083843517357622, 0.0028776317200729148, 0.0034604479410940197, 0.0019067933689183472, 0.0006574771770301375, 7.92034081454178e-05, 7.920340814541119e-05, 0.0006574771770301176, 0.0019067933689183095], [0.002511438415316981, 0.0024693554044619126, 0.0019556522767254342, 0.0013912286909309398, 0.0008729476531650988, 0.00045985358092757463, 0.00012628998728708815, 7.715709819927331e-33, 0.00012628998728709206, 0.0004598535809275827, 0.0008729476531651115, 0.0013912286909309587, 0.0019556522767254607, 0.002469355404461949, 0.0025114384153170207, 0.0015404884355321052, 0.0005608582350151383, 6.860409521844815e-05, 6.860409521844233e-05, 0.0005608582350151203, 0.0015404884355320729], [0.0017124881431047003, 0.0019459492307856, 0.001814472142065464, 0.0014442499309882642, 0.0009805174575017556, 0.0004951108159860394, 0.0001371193907522019, 7.276527249700985e-33, 0.00013711939075220574, 0.0004951108159860472, 0.0009805174575017682, 0.0014442499309882822, 0.0018144721420654873, 0.0019459492307856278, 0.0017124881431047287, 0.001080180145484215, 0.0004261803633436125, 4.8171481946632996e-05, 4.817148194662828e-05, 0.00042618036334359785, 0.0010801801454841911], [0.0013604951893622507, 0.001713268155940814, 0.001808806181265583, 0.0015792499816373693, 0.0011189125091046995, 0.0005669250620086842, 0.00015462168723071217, 6.520029913225239e-33, 0.00015462168723071588, 0.000566925062008692, 0.0011189125091047116, 0.0015792499816373862, 0.0018088061812656035, 0.0017132681559408366, 0.0013604951893622726, 0.000843176639444708, 0.0003512565745600411, 4.1335304575486674e-05, 4.133530457548256e-05, 0.0003512565745600289, 0.0008431766394446884], [0.001215109168266014, 0.0016508738858123971, 0.0019127579505907545, 0.001922561263473333, 0.001432694468631878, 0.0007310904436439281, 0.00019029385790716216, 6.247460587783768e-33, 0.00019029385790716587, 0.0007310904436439356, 0.0014326944686318898, 0.001922561263473349, 0.0019127579505907732, 0.0016508738858124169, 0.0012151091682660324, 0.0007327652419030771, 0.0002915326795550192, 4.16406844420874e-05, 4.164068444208356e-05, 0.00029153267955500884, 0.0007327652419030609], [0.0011285785151409274, 0.001681364127928824, 0.002188618135858146, 0.002589835200582249, 0.0020864635302380256, 0.000995845597295173, 0.0002536614400173603, 5.908300500743721e-33, 0.0002536614400173642, 0.0009958455972951807, 0.0020864635302380373, 0.0025898352005822643, 0.0021886181358581644, 0.0016813641279288423, 0.001128578515140944, 0.0006643451798876225, 0.00026124105464818675, 3.398269013448112e-05, 3.398269013447779e-05, 0.0002612410546481774, 0.0006643451798876078], [0.0011217500587753263, 0.0017309828844840414, 0.002466731372055689, 0.0033732258763124845, 0.002821103460337494, 0.0011810578028510366, 0.0002964234241497651, 5.922931597472013e-33, 0.0002964234241497692, 0.0011810578028510442, 0.0028211034603375057, 0.0033732258763124997, 0.0024667313720557068, 0.0017309828844840598, 0.0011217500587753421, 0.0006440805437975649, 0.0002830823813883253, 4.447822448219558e-05, 4.447822448219224e-05, 0.0002830823813883158, 0.0006440805437975506], [0.001128578515140927, 0.001681364127928823, 0.0021886181358581444, 0.002589835200582247, 0.002086463530238024, 0.0009958455972951718, 0.00025366144001736, 5.8093455651030705e-33, 0.00025366144001736393, 0.0009958455972951797, 0.0020864635302380355, 0.002589835200582262, 0.0021886181358581626, 0.0016813641279288416, 0.0011285785151409434, 0.000664345179887622, 0.0002612410546481866, 3.398269013448107e-05, 3.398269013447777e-05, 0.0002612410546481773, 0.0006643451798876072], [0.0012151091682660127, 0.0016508738858123952, 0.001912757950590753, 0.001922561263473331, 0.0014326944686318768, 0.0007310904436439271, 0.00019029385790716186, 6.052139618638214e-33, 0.00019029385790716557, 0.0007310904436439348, 0.0014326944686318887, 0.0019225612634733475, 0.0019127579505907712, 0.0016508738858124151, 0.001215109168266031, 0.0007327652419030767, 0.000291532679555019, 4.164068444208731e-05, 4.16406844420835e-05, 0.00029153267955500856, 0.0007327652419030602], [0.0013604951893622487, 0.0017132681559408113, 0.0018088061812655816, 0.0015792499816373682, 0.0011189125091046982, 0.0005669250620086837, 0.00015462168723071203, 6.541515880425963e-33, 0.00015462168723071572, 0.0005669250620086913, 0.0011189125091047105, 0.0015792499816373845, 0.0018088061812656028, 0.0017132681559408342, 0.0013604951893622706, 0.0008431766394447068, 0.0003512565745600408, 4.1335304575486674e-05, 4.133530457548253e-05, 0.00035125657456002845, 0.0008431766394446875], [0.0017124881431046985, 0.001945949230785598, 0.0018144721420654624, 0.0014442499309882636, 0.000980517457501755, 0.0004951108159860388, 0.00013711939075220178, 7.320819876839969e-33, 0.00013711939075220558, 0.0004951108159860468, 0.0009805174575017676, 0.001444249930988281, 0.0018144721420654858, 0.0019459492307856258, 0.001712488143104727, 0.0010801801454842137, 0.0004261803633436121, 4.8171481946632935e-05, 4.817148194662829e-05, 0.00042618036334359736, 0.0010801801454841898], [0.002511438415316978, 0.002469355404461911, 0.0019556522767254325, 0.0013912286909309388, 0.000872947653165098, 0.0004598535809275743, 0.00012628998728708804, 7.62528218520768e-33, 0.00012628998728709195, 0.00045985358092758254, 0.0008729476531651107, 0.0013912286909309578, 0.00195565227672546, 0.002469355404461946, 0.0025114384153170177, 0.0015404884355321032, 0.0005608582350151378, 6.860409521844815e-05, 6.860409521844233e-05, 0.0005608582350151199, 0.0015404884355320714]], \"zsmooth\": \"best\"}, {\"hoverinfo\": \"text\", \"marker\": {\"color\": \"#ccc\", \"coloraxis\": \"coloraxis\", \"size\": 3}, \"mode\": \"markers+lines\", \"name\": \"bonds\", \"showlegend\": true, \"type\": \"scatter\", \"x\": [0.0, 0.71, null, 0.0, 0.71, null, 0.0, -1.42, null, 0.71, 2.13, null, 0.71, 0.0, null, 2.13, 2.84, null, 2.13, 2.84, null, 2.84, 2.13, null, 2.84, 4.26, null], \"y\": [0.0, 1.2297560733739028, null, 0.0, -1.2297560733739028, null, 0.0, 0.0, null, 1.2297560733739028, 1.2297560733739028, null, 1.2297560733739028, 2.4595121467478056, null, 1.2297560733739028, 0.0, null, 1.2297560733739028, 2.4595121467478056, null, 0.0, -1.2297560733739028, null, 0.0, 0.0, null]}, {\"marker\": {\"color\": [\"grey\", \"grey\", \"grey\", \"grey\"], \"size\": [10.72, 10.72, 10.72, 10.72]}, \"mode\": \"markers\", \"name\": \"Atoms\", \"showlegend\": true, \"text\": [\"[0. 0. 5.]<br>0 (C)\", \"[0.71       1.22975607 5.        ]<br>1 (C)\", \"[2.13       1.22975607 5.        ]<br>2 (C)\", \"[2.84 0.   5.  ]<br>3 (C)\"], \"type\": \"scatter\", \"x\": [0.0, 0.71, 2.13, 2.84], \"y\": [0.0, 1.2297560733739028, 1.2297560733739028, 0.0]}, {\"mode\": \"lines\", \"name\": \"Unit cell\", \"type\": \"scatter\", \"x\": [0.0, 0.0, 4.26, 4.26, 0.0, 0.0, 0.0, 0.0, 0.0, 4.26, 4.26, 4.26, 4.26, 4.26, 4.26, 0.0], \"y\": [0.0, 2.4595121467478056, 2.4595121467478056, 0.0, 0.0, 0.0, 2.4595121467478056, 2.4595121467478056, 2.4595121467478056, 2.4595121467478056, 2.4595121467478056, 0.0, 0.0, 2.4595121467478056, 0.0, 0.0]}],                        {\"sliders\": [{\"active\": 0, \"currentvalue\": {\"font\": {\"size\": 20}, \"visible\": true, \"xanchor\": \"right\"}, \"len\": 0.9, \"pad\": {\"b\": 10, \"t\": 50}, \"steps\": [{\"args\": [[\"Frame 1\"], {\"frame\": {\"duration\": 500, \"redraw\": true}, \"mode\": \"immediate\", \"transition\": {\"duration\": 300}}], \"label\": \"Frame 1\", \"method\": \"animate\"}, {\"args\": [[\"Frame 2\"], {\"frame\": {\"duration\": 500, \"redraw\": true}, \"mode\": \"immediate\", \"transition\": {\"duration\": 300}}], \"label\": \"Frame 2\", \"method\": \"animate\"}], \"x\": 0.1, \"xanchor\": \"left\", \"y\": 0, \"yanchor\": \"top\"}], \"template\": {\"layout\": {\"hovermode\": \"closest\", \"paper_bgcolor\": \"white\", \"plot_bgcolor\": \"white\", \"scene\": {\"xaxis\": {\"color\": \"black\", \"gridcolor\": \"#ccc\", \"gridwidth\": 1, \"linewidth\": 1, \"mirror\": true, \"showgrid\": false, \"showline\": true, \"ticklen\": 5, \"ticks\": \"outside\", \"ticksuffix\": \" \", \"visible\": true, \"zeroline\": false, \"zerolinecolor\": \"#ccc\", \"zerolinewidth\": 1}, \"yaxis\": {\"color\": \"black\", \"gridcolor\": \"#ccc\", \"gridwidth\": 1, \"linewidth\": 1, \"mirror\": true, \"showgrid\": false, \"showline\": true, \"ticklen\": 5, \"ticks\": \"outside\", \"ticksuffix\": \" \", \"visible\": true, \"zeroline\": false, \"zerolinecolor\": \"#ccc\", \"zerolinewidth\": 1}, \"zaxis\": {\"color\": \"black\", \"gridcolor\": \"#ccc\", \"gridwidth\": 1, \"linewidth\": 1, \"mirror\": true, \"showgrid\": false, \"showline\": true, \"ticklen\": 5, \"ticks\": \"outside\", \"ticksuffix\": \" \", \"visible\": true, \"zeroline\": false, \"zerolinecolor\": \"#ccc\", \"zerolinewidth\": 1}}, \"xaxis\": {\"color\": \"black\", \"gridcolor\": \"#ccc\", \"gridwidth\": 1, \"linewidth\": 1, \"mirror\": true, \"showgrid\": false, \"showline\": true, \"ticklen\": 5, \"ticks\": \"outside\", \"ticksuffix\": \" \", \"visible\": true, \"zeroline\": false, \"zerolinecolor\": \"#ccc\", \"zerolinewidth\": 1}, \"yaxis\": {\"color\": \"black\", \"gridcolor\": \"#ccc\", \"gridwidth\": 1, \"linewidth\": 1, \"mirror\": true, \"showgrid\": false, \"showline\": true, \"ticklen\": 5, \"ticks\": \"outside\", \"ticksuffix\": \" \", \"visible\": true, \"zeroline\": false, \"zerolinecolor\": \"#ccc\", \"zerolinewidth\": 1}}}, \"updatemenus\": [{\"buttons\": [{\"args\": [null, {\"frame\": {\"duration\": 500, \"redraw\": true}, \"fromcurrent\": true, \"transition\": {\"duration\": 100, \"easing\": \"quadratic-in-out\"}}], \"label\": \"\\u25b6\", \"method\": \"animate\"}, {\"args\": [[null], {\"frame\": {\"duration\": 0}, \"mode\": \"immediate\", \"redraw\": true, \"transition\": {\"duration\": 0}}], \"label\": \"\\u23f8\", \"method\": \"animate\"}], \"type\": \"buttons\"}]},                        {\"responsive\": true}                    ).then(function(){\n",
       "                            Plotly.addFrames('3d903f3d-cc68-407d-9488-2d6ece4fc0b8', [{\"data\": [{\"showlegend\": false, \"x\": [0.0, 0.20285714285714285, 0.4057142857142857, 0.6085714285714285, 0.8114285714285714, 1.0142857142857142, 1.217142857142857, 1.42, 1.6228571428571428, 1.8257142857142856, 2.0285714285714285, 2.2314285714285713, 2.434285714285714, 2.637142857142857, 2.84, 3.0428571428571427, 3.2457142857142856, 3.4485714285714284, 3.6514285714285712, 3.854285714285714, 4.057142857142857], \"y\": [0.0, 0.20495934556231712, 0.40991869112463425, 0.6148780366869514, 0.8198373822492685, 1.0247967278115857, 1.2297560733739028, 1.43471541893622, 1.639674764498537, 1.844634110060854, 2.0495934556231714, 2.2545528011854885], \"z\": [[0.003460447941093967, 0.0028776317200728736, 0.002083843517357594, 0.0014193299178990578, 0.0008654071153352384, 0.00045618114085763106, 0.0001319837671564747, 8.301477529076724e-33, 0.00013198376715647855, 0.00045618114085763925, 0.0008654071153352513, 0.0014193299178990777, 0.002083843517357622, 0.0028776317200729148, 0.0034604479410940197, 0.0019067933689183472, 0.0006574771770301375, 7.92034081454178e-05, 7.920340814541119e-05, 0.0006574771770301176, 0.0019067933689183095], [0.002511438415316981, 0.0024693554044619126, 0.0019556522767254342, 0.0013912286909309398, 0.0008729476531650988, 0.00045985358092757463, 0.00012628998728708815, 7.715709819927331e-33, 0.00012628998728709206, 0.0004598535809275827, 0.0008729476531651115, 0.0013912286909309587, 0.0019556522767254607, 0.002469355404461949, 0.0025114384153170207, 0.0015404884355321052, 0.0005608582350151383, 6.860409521844815e-05, 6.860409521844233e-05, 0.0005608582350151203, 0.0015404884355320729], [0.0017124881431047003, 0.0019459492307856, 0.001814472142065464, 0.0014442499309882642, 0.0009805174575017556, 0.0004951108159860394, 0.0001371193907522019, 7.276527249700985e-33, 0.00013711939075220574, 0.0004951108159860472, 0.0009805174575017682, 0.0014442499309882822, 0.0018144721420654873, 0.0019459492307856278, 0.0017124881431047287, 0.001080180145484215, 0.0004261803633436125, 4.8171481946632996e-05, 4.817148194662828e-05, 0.00042618036334359785, 0.0010801801454841911], [0.0013604951893622507, 0.001713268155940814, 0.001808806181265583, 0.0015792499816373693, 0.0011189125091046995, 0.0005669250620086842, 0.00015462168723071217, 6.520029913225239e-33, 0.00015462168723071588, 0.000566925062008692, 0.0011189125091047116, 0.0015792499816373862, 0.0018088061812656035, 0.0017132681559408366, 0.0013604951893622726, 0.000843176639444708, 0.0003512565745600411, 4.1335304575486674e-05, 4.133530457548256e-05, 0.0003512565745600289, 0.0008431766394446884], [0.001215109168266014, 0.0016508738858123971, 0.0019127579505907545, 0.001922561263473333, 0.001432694468631878, 0.0007310904436439281, 0.00019029385790716216, 6.247460587783768e-33, 0.00019029385790716587, 0.0007310904436439356, 0.0014326944686318898, 0.001922561263473349, 0.0019127579505907732, 0.0016508738858124169, 0.0012151091682660324, 0.0007327652419030771, 0.0002915326795550192, 4.16406844420874e-05, 4.164068444208356e-05, 0.00029153267955500884, 0.0007327652419030609], [0.0011285785151409274, 0.001681364127928824, 0.002188618135858146, 0.002589835200582249, 0.0020864635302380256, 0.000995845597295173, 0.0002536614400173603, 5.908300500743721e-33, 0.0002536614400173642, 0.0009958455972951807, 0.0020864635302380373, 0.0025898352005822643, 0.0021886181358581644, 0.0016813641279288423, 0.001128578515140944, 0.0006643451798876225, 0.00026124105464818675, 3.398269013448112e-05, 3.398269013447779e-05, 0.0002612410546481774, 0.0006643451798876078], [0.0011217500587753263, 0.0017309828844840414, 0.002466731372055689, 0.0033732258763124845, 0.002821103460337494, 0.0011810578028510366, 0.0002964234241497651, 5.922931597472013e-33, 0.0002964234241497692, 0.0011810578028510442, 0.0028211034603375057, 0.0033732258763124997, 0.0024667313720557068, 0.0017309828844840598, 0.0011217500587753421, 0.0006440805437975649, 0.0002830823813883253, 4.447822448219558e-05, 4.447822448219224e-05, 0.0002830823813883158, 0.0006440805437975506], [0.001128578515140927, 0.001681364127928823, 0.0021886181358581444, 0.002589835200582247, 0.002086463530238024, 0.0009958455972951718, 0.00025366144001736, 5.8093455651030705e-33, 0.00025366144001736393, 0.0009958455972951797, 0.0020864635302380355, 0.002589835200582262, 0.0021886181358581626, 0.0016813641279288416, 0.0011285785151409434, 0.000664345179887622, 0.0002612410546481866, 3.398269013448107e-05, 3.398269013447777e-05, 0.0002612410546481773, 0.0006643451798876072], [0.0012151091682660127, 0.0016508738858123952, 0.001912757950590753, 0.001922561263473331, 0.0014326944686318768, 0.0007310904436439271, 0.00019029385790716186, 6.052139618638214e-33, 0.00019029385790716557, 0.0007310904436439348, 0.0014326944686318887, 0.0019225612634733475, 0.0019127579505907712, 0.0016508738858124151, 0.001215109168266031, 0.0007327652419030767, 0.000291532679555019, 4.164068444208731e-05, 4.16406844420835e-05, 0.00029153267955500856, 0.0007327652419030602], [0.0013604951893622487, 0.0017132681559408113, 0.0018088061812655816, 0.0015792499816373682, 0.0011189125091046982, 0.0005669250620086837, 0.00015462168723071203, 6.541515880425963e-33, 0.00015462168723071572, 0.0005669250620086913, 0.0011189125091047105, 0.0015792499816373845, 0.0018088061812656028, 0.0017132681559408342, 0.0013604951893622706, 0.0008431766394447068, 0.0003512565745600408, 4.1335304575486674e-05, 4.133530457548253e-05, 0.00035125657456002845, 0.0008431766394446875], [0.0017124881431046985, 0.001945949230785598, 0.0018144721420654624, 0.0014442499309882636, 0.000980517457501755, 0.0004951108159860388, 0.00013711939075220178, 7.320819876839969e-33, 0.00013711939075220558, 0.0004951108159860468, 0.0009805174575017676, 0.001444249930988281, 0.0018144721420654858, 0.0019459492307856258, 0.001712488143104727, 0.0010801801454842137, 0.0004261803633436121, 4.8171481946632935e-05, 4.817148194662829e-05, 0.00042618036334359736, 0.0010801801454841898], [0.002511438415316978, 0.002469355404461911, 0.0019556522767254325, 0.0013912286909309388, 0.000872947653165098, 0.0004598535809275743, 0.00012628998728708804, 7.62528218520768e-33, 0.00012628998728709195, 0.00045985358092758254, 0.0008729476531651107, 0.0013912286909309578, 0.00195565227672546, 0.002469355404461946, 0.0025114384153170177, 0.0015404884355321032, 0.0005608582350151378, 6.860409521844815e-05, 6.860409521844233e-05, 0.0005608582350151199, 0.0015404884355320714]], \"zsmooth\": \"best\", \"type\": \"heatmap\"}, {\"hoverinfo\": \"text\", \"marker\": {\"color\": \"#ccc\", \"coloraxis\": \"coloraxis\", \"size\": 3}, \"mode\": \"markers+lines\", \"name\": \"bonds\", \"showlegend\": true, \"x\": [0.0, 0.71, null, 0.0, 0.71, null, 0.0, -1.42, null, 0.71, 2.13, null, 0.71, 0.0, null, 2.13, 2.84, null, 2.13, 2.84, null, 2.84, 2.13, null, 2.84, 4.26, null], \"y\": [0.0, 1.2297560733739028, null, 0.0, -1.2297560733739028, null, 0.0, 0.0, null, 1.2297560733739028, 1.2297560733739028, null, 1.2297560733739028, 2.4595121467478056, null, 1.2297560733739028, 0.0, null, 1.2297560733739028, 2.4595121467478056, null, 0.0, -1.2297560733739028, null, 0.0, 0.0, null], \"type\": \"scatter\"}, {\"marker\": {\"color\": [\"grey\", \"grey\", \"grey\", \"grey\"], \"size\": [10.72, 10.72, 10.72, 10.72]}, \"mode\": \"markers\", \"name\": \"Atoms\", \"showlegend\": true, \"text\": [\"[0. 0. 5.]<br>0 (C)\", \"[0.71       1.22975607 5.        ]<br>1 (C)\", \"[2.13       1.22975607 5.        ]<br>2 (C)\", \"[2.84 0.   5.  ]<br>3 (C)\"], \"x\": [0.0, 0.71, 2.13, 2.84], \"y\": [0.0, 1.2297560733739028, 1.2297560733739028, 0.0], \"type\": \"scatter\"}, {\"mode\": \"lines\", \"name\": \"Unit cell\", \"x\": [0.0, 0.0, 4.26, 4.26, 0.0, 0.0, 0.0, 0.0, 0.0, 4.26, 4.26, 4.26, 4.26, 4.26, 4.26, 0.0], \"y\": [0.0, 2.4595121467478056, 2.4595121467478056, 0.0, 0.0, 0.0, 2.4595121467478056, 2.4595121467478056, 2.4595121467478056, 2.4595121467478056, 2.4595121467478056, 0.0, 0.0, 2.4595121467478056, 0.0, 0.0], \"type\": \"scatter\"}], \"name\": \"Frame 1\"}, {\"data\": [{\"showlegend\": false, \"x\": [0.0, 0.20285714285714285, 0.4057142857142857, 0.6085714285714285, 0.8114285714285714, 1.0142857142857142, 1.217142857142857, 1.42, 1.6228571428571428, 1.8257142857142856, 2.0285714285714285, 2.2314285714285713, 2.434285714285714, 2.637142857142857, 2.84, 3.0428571428571427, 3.2457142857142856, 3.4485714285714284, 3.6514285714285712, 3.854285714285714, 4.057142857142857], \"y\": [0.0, 0.20495934556231712, 0.40991869112463425, 0.6148780366869514, 0.8198373822492685, 1.0247967278115857, 1.2297560733739028, 1.43471541893622, 1.639674764498537, 1.844634110060854, 2.0495934556231714, 2.2545528011854885], \"z\": [[0.002479969957057722, 0.001229125969591206, 0.0003758107892278481, 8.006781217340003e-05, 4.361274941043654e-05, 0.00010616965609127986, 0.00016139393568350812, 0.0001798046448371593, 0.00016139393568350867, 0.00010616965609128061, 4.361274941043694e-05, 8.006781217339916e-05, 0.00037581078922784434, 0.0012291259695911972, 0.0024799699570577072, 0.0019535268998528013, 0.0014324087229494811, 0.0012170044941773746, 0.0012170044941773764, 0.0014324087229494868, 0.0019535268998528113], [0.0014999577960825403, 0.0008333063690892708, 0.00026377632003137316, 4.640646622303333e-05, 4.7517134448774995e-05, 0.00011310222835669853, 0.00018371338415488526, 0.00020871823643844883, 0.0001837133841548858, 0.00011310222835669933, 4.75171344487756e-05, 4.640646622303286e-05, 0.00026377632003137035, 0.000833306369089264, 0.001499957796082531, 0.001486429883174141, 0.0012478565493115516, 0.0010745801559746268, 0.0010745801559746283, 0.0012478565493115562, 0.0014864298831741489], [0.0006357571305582939, 0.0003132128935442638, 6.628259679791392e-05, 2.1420363695342287e-05, 0.0001029139972020748, 0.00019985962479723135, 0.00028009532892562237, 0.00030511742024310457, 0.00028009532892562313, 0.00019985962479723252, 0.00010291399720207601, 2.142036369534275e-05, 6.628259679791271e-05, 0.0003132128935442606, 0.0006357571305582893, 0.0008011378015956182, 0.0008396160825980923, 0.0008028073143305211, 0.0008028073143305223, 0.0008396160825980955, 0.0008011378015956229], [0.00021145298466214568, 4.754498353299239e-05, 5.2966970087836924e-06, 0.0001238323811174707, 0.0002990536581106458, 0.00043725160985978994, 0.0005017165163283342, 0.0005190483947432911, 0.000501716516328335, 0.0004372516098597914, 0.00029905365811064776, 0.00012383238111747226, 5.29669700878404e-06, 4.754498353299131e-05, 0.00021145298466214354, 0.0003654651505929442, 0.000468310345559268, 0.0005178739040549567, 0.0005178739040549574, 0.00046831034555927, 0.000365465150592947], [5.692370529745698e-05, 1.7894433268676835e-05, 0.00016749077153382412, 0.0004793308380042788, 0.0007561672467495513, 0.000833349503520177, 0.0008226450308248537, 0.0007941119956986867, 0.0008226450308248549, 0.0008333495035201795, 0.0007561672467495546, 0.00047933083800428183, 0.0001674907715338258, 1.789443326867705e-05, 5.692370529745609e-05, 0.00015772600872792706, 0.00023838231180277076, 0.0003015444917511438, 0.00030154449175114436, 0.0002383823118027721, 0.00015772600872792866], [3.934466053475432e-05, 0.00011276379878531897, 0.0005044343616381451, 0.001211976883053298, 0.0015688969077143902, 0.0013471304840421802, 0.001157462084087513, 0.0010583218331625417, 0.0011574620840875142, 0.0013471304840421837, 0.001568896907714395, 0.001211976883053303, 0.0005044343616381481, 0.00011276379878532004, 3.934466053475412e-05, 7.453047571590134e-05, 0.0001445558330576691, 0.0001980294413377912, 0.00019802944133779157, 0.00014455583305767003, 7.453047571590217e-05], [5.316093431365399e-05, 0.00018555653158497623, 0.0007049608912625482, 0.0019374939900214136, 0.0023455444502692006, 0.0016569863621143362, 0.0012860197348051664, 0.0011748115007147602, 0.001286019734805168, 0.0016569863621143392, 0.002345544450269207, 0.0019374939900214207, 0.0007049608912625519, 0.00018555653158497756, 5.316093431365396e-05, 7.583440922576321e-05, 0.00012811566743519212, 0.00018480008408089266, 0.000184800084080893, 0.000128115667435193, 7.583440922576392e-05], [3.934466053475433e-05, 0.0001127637987853189, 0.0005044343616381446, 0.001211976883053297, 0.0015688969077143884, 0.0013471304840421787, 0.001157462084087512, 0.001058321833162541, 0.0011574620840875136, 0.0013471304840421822, 0.001568896907714393, 0.0012119768830533017, 0.0005044343616381475, 0.00011276379878531994, 3.934466053475412e-05, 7.453047571590134e-05, 0.0001445558330576691, 0.0001980294413377912, 0.00019802944133779152, 0.00014455583305767003, 7.45304757159022e-05], [5.6923705297457004e-05, 1.7894433268676828e-05, 0.00016749077153382385, 0.00047933083800427836, 0.0007561672467495505, 0.0008333495035201763, 0.0008226450308248526, 0.0007941119956986858, 0.0008226450308248538, 0.0008333495035201786, 0.0007561672467495536, 0.0004793308380042814, 0.0001674907715338256, 1.7894433268677045e-05, 5.6923705297456096e-05, 0.00015772600872792703, 0.00023838231180277062, 0.00030154449175114376, 0.00030154449175114425, 0.000238382311802772, 0.0001577260087279286], [0.00021145298466214533, 4.7544983532992324e-05, 5.296697008783677e-06, 0.00012383238111747036, 0.00029905365811064527, 0.00043725160985978923, 0.0005017165163283332, 0.0005190483947432903, 0.0005017165163283342, 0.00043725160985979086, 0.0002990536581106473, 0.000123832381117472, 5.296697008784015e-06, 4.7544983532991226e-05, 0.0002114529846621432, 0.00036546515059294386, 0.00046831034555926777, 0.0005178739040549566, 0.0005178739040549574, 0.00046831034555926994, 0.0003654651505929464], [0.0006357571305582933, 0.0003132128935442638, 6.6282596797914e-05, 2.1420363695342192e-05, 0.00010291399720207446, 0.00019985962479723084, 0.0002800953289256218, 0.0003051174202431041, 0.00028009532892562253, 0.00019985962479723192, 0.00010291399720207568, 2.1420363695342663e-05, 6.628259679791278e-05, 0.00031321289354426055, 0.0006357571305582886, 0.000801137801595618, 0.000839616082598092, 0.0008028073143305214, 0.0008028073143305224, 0.0008396160825980954, 0.0008011378015956223], [0.0014999577960825392, 0.0008333063690892705, 0.0002637763200313734, 4.640646622303345e-05, 4.751713444877481e-05, 0.00011310222835669814, 0.0001837133841548848, 0.00020871823643844835, 0.00018371338415488537, 0.00011310222835669899, 4.751713444877541e-05, 4.640646622303295e-05, 0.0002637763200313705, 0.0008333063690892638, 0.0014999577960825299, 0.0014864298831741404, 0.0012478565493115519, 0.0010745801559746274, 0.0010745801559746287, 0.0012478565493115562, 0.0014864298831741487]], \"zsmooth\": false, \"type\": \"heatmap\"}, {\"hoverinfo\": \"text\", \"marker\": {\"color\": \"#ccc\", \"coloraxis\": \"coloraxis\", \"size\": 3}, \"mode\": \"markers+lines\", \"name\": \"bonds\", \"showlegend\": true, \"x\": [0.0, 0.71, null, 0.0, 0.71, null, 0.0, -1.42, null, 0.71, 2.13, null, 0.71, 0.0, null, 2.13, 2.84, null, 2.13, 2.84, null, 2.84, 2.13, null, 2.84, 4.26, null], \"y\": [0.0, 1.2297560733739028, null, 0.0, -1.2297560733739028, null, 0.0, 0.0, null, 1.2297560733739028, 1.2297560733739028, null, 1.2297560733739028, 2.4595121467478056, null, 1.2297560733739028, 0.0, null, 1.2297560733739028, 2.4595121467478056, null, 0.0, -1.2297560733739028, null, 0.0, 0.0, null], \"type\": \"scatter\"}, {\"marker\": {\"color\": [\"grey\", \"grey\", \"grey\", \"grey\"], \"size\": [10.72, 10.72, 10.72, 10.72]}, \"mode\": \"markers\", \"name\": \"Atoms\", \"showlegend\": true, \"text\": [\"[0. 0. 5.]<br>0 (C)\", \"[0.71       1.22975607 5.        ]<br>1 (C)\", \"[2.13       1.22975607 5.        ]<br>2 (C)\", \"[2.84 0.   5.  ]<br>3 (C)\"], \"x\": [0.0, 0.71, 2.13, 2.84], \"y\": [0.0, 1.2297560733739028, 1.2297560733739028, 0.0], \"type\": \"scatter\"}, {\"mode\": \"lines\", \"name\": \"Unit cell\", \"x\": [0.0, 0.0, 4.26, 4.26, 0.0, 0.0, 0.0, 0.0, 0.0, 4.26, 4.26, 4.26, 4.26, 4.26, 4.26, 0.0], \"y\": [0.0, 2.4595121467478056, 2.4595121467478056, 0.0, 0.0, 0.0, 2.4595121467478056, 2.4595121467478056, 2.4595121467478056, 2.4595121467478056, 2.4595121467478056, 0.0, 0.0, 2.4595121467478056, 0.0, 0.0], \"type\": \"scatter\"}], \"name\": \"Frame 2\"}]);\n",
       "                        }).then(function(){\n",
       "                            \n",
       "var gd = document.getElementById('3d903f3d-cc68-407d-9488-2d6ece4fc0b8');\n",
       "var x = new MutationObserver(function (mutations, observer) {{\n",
       "        var display = window.getComputedStyle(gd).display;\n",
       "        if (!display || display === 'none') {{\n",
       "            console.log([gd, 'removed!']);\n",
       "            Plotly.purge(gd);\n",
       "            observer.disconnect();\n",
       "        }}\n",
       "}});\n",
       "\n",
       "// Listen for the removal of the full notebook cells\n",
       "var notebookContainer = gd.closest('#notebook-container');\n",
       "if (notebookContainer) {{\n",
       "    x.observe(notebookContainer, {childList: true});\n",
       "}}\n",
       "\n",
       "// Listen for the clearing of the current output cell\n",
       "var outputEl = gd.closest('.output');\n",
       "if (outputEl) {{\n",
       "    x.observe(outputEl, {childList: true});\n",
       "}}\n",
       "\n",
       "                        })                };                });            </script>        </div>"
      ],
      "text/plain": [
       "<sisl.viz.plotly.plot.Animation at 0x7f5d06d3e898>"
      ]
     },
     "execution_count": 1,
     "metadata": {},
     "output_type": "execute_result"
    }
   ],
   "source": [
    "H.plot.wavefunction(axes=[0,1], transforms=[\"square\"], animate={\"i\":[1,2], \"zsmooth\": [\"best\", False]})"
   ]
  },
  {
   "cell_type": "markdown",
   "metadata": {},
   "source": [
    "In this case we animated the wavefunction plot to see the squares of wavefunctions 1 and 2. The second one, for some reason, we wanted it to display \"a bit\" pixelated.\n",
    "\n",
    "- You can also pass the list of values as regular settings and then inform the multiple plot keyword (in this case `subplots`) which settings to vary."
   ]
  },
  {
   "cell_type": "code",
   "execution_count": 8,
   "metadata": {
    "execution": {
     "iopub.execute_input": "2021-02-06T12:14:24.046003Z",
     "iopub.status.busy": "2021-02-06T12:14:24.045302Z",
     "iopub.status.idle": "2021-02-06T12:14:25.171886Z",
     "shell.execute_reply": "2021-02-06T12:14:25.171328Z"
    }
   },
   "outputs": [
    {
     "data": {
      "application/vnd.jupyter.widget-view+json": {
       "model_id": "4dd2198fe9514abaa36126d402447b02",
       "version_major": 2,
       "version_minor": 0
      },
      "text/plain": [
       "FigureWidget({\n",
       "    'data': [{'colorscale': [[0.0, 'rgb(0, 147, 146)'], [0.16666666666666666,\n",
       "                 …"
      ]
     },
     "metadata": {},
     "output_type": "display_data"
    }
   ],
   "source": [
    "H.plot.wavefunction(\n",
    "    colorscale=[\"temps\", \"portland\", \"peach\", \"viridis\"], i=[0,1,2,3], axes=[0,1], transforms=[\"square\"], zsmooth=\"best\", \n",
    "    subplots=[\"colorscale\", \"i\"], rows=2\n",
    ") "
   ]
  },
  {
   "cell_type": "markdown",
   "metadata": {},
   "source": [
    "There you go, four wavefunctions, each one displayed in a different colorscale :)\n",
    "\n",
    "Remember that these subplots are all sharing the same data, so the eigenstates of the hamiltonian have only been stored once!"
   ]
  },
  {
   "cell_type": "markdown",
   "metadata": {},
   "source": [
    "------------------------------------------\n",
    "This next cell is just to create a thumbnail"
   ]
  },
  {
   "cell_type": "code",
   "execution_count": 9,
   "metadata": {
    "execution": {
     "iopub.execute_input": "2021-02-06T12:14:25.177715Z",
     "iopub.status.busy": "2021-02-06T12:14:25.176517Z",
     "iopub.status.idle": "2021-02-06T12:14:26.293528Z",
     "shell.execute_reply": "2021-02-06T12:14:26.292959Z"
    },
    "tags": [
     "nbsphinx-thumbnail"
    ]
   },
   "outputs": [
    {
     "data": {
      "image/png": "[encoded data removed]"
     },
     "metadata": {},
     "output_type": "display_data"
    }
   ],
   "source": [
    "_.show(\"png\")"
   ]
  }
 ],
 "metadata": {
  "kernelspec": {
   "display_name": "Python 3",
   "language": "python",
   "name": "python3"
  },
  "language_info": {
   "codemirror_mode": {
    "name": "ipython",
    "version": 3
   },
   "file_extension": ".py",
   "mimetype": "text/x-python",
   "name": "python",
   "nbconvert_exporter": "python",
   "pygments_lexer": "ipython3",
   "version": "3.6.12"
  },
  "widgets": {
   "application/vnd.jupyter.widget-state+json": {
    "state": {
     "0718698e99994ebb89cc5e05213c3cac": {
      "model_module": "@jupyter-widgets/controls",
      "model_module_version": "1.5.0",
      "model_name": "DescriptionStyleModel",
      "state": {
       "_model_module": "@jupyter-widgets/controls",
       "_model_module_version": "1.5.0",
       "_model_name": "DescriptionStyleModel",
       "_view_count": null,
       "_view_module": "@jupyter-widgets/base",
       "_view_module_version": "1.2.0",
       "_view_name": "StyleView",
       "description_width": ""
      }
     },
     "2145f3e45ebf409297f2220492d17ea1": {
      "model_module": "@jupyter-widgets/base",
      "model_module_version": "1.2.0",
      "model_name": "LayoutModel",
      "state": {
       "_model_module": "@jupyter-widgets/base",
       "_model_module_version": "1.2.0",
       "_model_name": "LayoutModel",
       "_view_count": null,
       "_view_module": "@jupyter-widgets/base",
       "_view_module_version": "1.2.0",
       "_view_name": "LayoutView",
       "align_content": null,
       "align_items": null,
       "align_self": null,
       "border": null,
       "bottom": null,
       "display": null,
       "flex": null,
       "flex_flow": null,
       "grid_area": null,
       "grid_auto_columns": null,
       "grid_auto_flow": null,
       "grid_auto_rows": null,
       "grid_column": null,
       "grid_gap": null,
       "grid_row": null,
       "grid_template_areas": null,
       "grid_template_columns": null,
       "grid_template_rows": null,
       "height": null,
       "justify_content": null,
       "justify_items": null,
       "left": null,
       "margin": null,
       "max_height": null,
       "max_width": null,
       "min_height": null,
       "min_width": null,
       "object_fit": null,
       "object_position": null,
       "order": null,
       "overflow": null,
       "overflow_x": null,
       "overflow_y": null,
       "padding": null,
       "right": null,
       "top": null,
       "visibility": null,
       "width": null
      }
     },
     "246cfc8c60e74444ab40ad336496d5e3": {
      "model_module": "@jupyter-widgets/base",
      "model_module_version": "1.2.0",
      "model_name": "LayoutModel",
      "state": {
       "_model_module": "@jupyter-widgets/base",
       "_model_module_version": "1.2.0",
       "_model_name": "LayoutModel",
       "_view_count": null,
       "_view_module": "@jupyter-widgets/base",
       "_view_module_version": "1.2.0",
       "_view_name": "LayoutView",
       "align_content": null,
       "align_items": null,
       "align_self": null,
       "border": null,
       "bottom": null,
       "display": null,
       "flex": null,
       "flex_flow": null,
       "grid_area": null,
       "grid_auto_columns": null,
       "grid_auto_flow": null,
       "grid_auto_rows": null,
       "grid_column": null,
       "grid_gap": null,
       "grid_row": null,
       "grid_template_areas": null,
       "grid_template_columns": null,
       "grid_template_rows": null,
       "height": null,
       "justify_content": null,
       "justify_items": null,
       "left": null,
       "margin": null,
       "max_height": null,
       "max_width": null,
       "min_height": null,
       "min_width": null,
       "object_fit": null,
       "object_position": null,
       "order": null,
       "overflow": null,
       "overflow_x": null,
       "overflow_y": null,
       "padding": null,
       "right": null,
       "top": null,
       "visibility": null,
       "width": null
      }
     },
     "291b54f0e63340fdb01111c333d93b1b": {
      "model_module": "@jupyter-widgets/controls",
      "model_module_version": "1.5.0",
      "model_name": "HTMLModel",
      "state": {
       "_dom_classes": [],
       "_model_module": "@jupyter-widgets/controls",
       "_model_module_version": "1.5.0",
       "_model_name": "HTMLModel",
       "_view_count": null,
       "_view_module": "@jupyter-widgets/controls",
       "_view_module_version": "1.5.0",
       "_view_name": "HTMLView",
       "description": "",
       "description_tooltip": null,
       "layout": "IPY_MODEL_246cfc8c60e74444ab40ad336496d5e3",
       "placeholder": "​",
       "style": "IPY_MODEL_716353b258ad4c36b5414dcffb3777e6",
       "value": "MonkhorstPack.average: 100%"
      }
     },
     "3fe66c4c56754294b2d08f1eab593f1b": {
      "buffers": [
       {
        "data": "AAAAAAAAAABAbCoNOffJP0BsKg0599k/MNHfyWp54z9AbCoNOffpP6iDOqiDOvA/MNHfyWp58z+4HoXrUbj2P0BsKg059/k/yLnPLiA2/T+ogzqogzoAQGwqDTn32QFAMNHfyWp5A0D0d7Ja3hgFQLgehetRuAZAfMVXfMVXCEBAbCoNOfcJQAQT/Z2slgtAyLnPLiA2DUCMYKK/k9UOQKiDOqiDOhBA",
        "encoding": "base64",
        "path": [
         "_data",
         0,
         "x",
         "buffer"
        ]
       },
       {
        "data": "AAAAAAAAAABBkBmbGzzKP0GQGZsbPNo/MSxTtBSt4z9BkBmbGzzqPyn670CRZfA/MSxTtBSt8z85XrYnmPT2P0GQGZsbPPo/ScJ8Dp+D/T8p+u9AkWUAQC2TofpSCQJA",
        "encoding": "base64",
        "path": [
         "_data",
         0,
         "y",
         "buffer"
        ]
       },
       {
        "data": "AAAAAAAAAAC4HoXrUbjmPwrXo3A9CgFAuB6F61G4BkA=",
        "encoding": "base64",
        "path": [
         "_data",
         2,
         "x",
         "buffer"
        ]
       },
       {
        "data": "AAAAAAAAAAAxLFO0FK3zPzEsU7QUrfM/AAAAAAAAAAA=",
        "encoding": "base64",
        "path": [
         "_data",
         2,
         "y",
         "buffer"
        ]
       },
       {
        "data": "AAAAAAAAAAAAAAAAAAAAAArXo3A9ChFACtejcD0KEUAAAAAAAAAAAAAAAAAAAAAAAAAAAAAAAAAAAAAAAAAAAAAAAAAAAAAACtejcD0KEUAK16NwPQoRQArXo3A9ChFACtejcD0KEUAK16NwPQoRQArXo3A9ChFAAAAAAAAAAAA=",
        "encoding": "base64",
        "path": [
         "_data",
         3,
         "x",
         "buffer"
        ]
       },
       {
        "data": "AAAAAAAAAAAxLFO0FK0DQDEsU7QUrQNAAAAAAAAAAAAAAAAAAAAAAAAAAAAAAAAAMSxTtBStA0AxLFO0FK0DQDEsU7QUrQNAMSxTtBStA0AxLFO0FK0DQAAAAAAAAAAAAAAAAAAAAAAxLFO0FK0DQAAAAAAAAAAAAAAAAAAAAAA=",
        "encoding": "base64",
        "path": [
         "_data",
         3,
         "y",
         "buffer"
        ]
       },
       {
        "data": "gI7Z50bh3DLS6Xu8qA7FNWqY91rtl1A4roXjDpFDfDqmKg/c6ANKPIrgBlch4bk9kgqXBc3Syz5N1514KSqAP52uznWpTNQ/UGqEGfeMyz/ceRBEujRkPxsUCP9FhBQ/zGO+tKUJsD+0sza9o0PrPzojTIveC8k/2WeB9f/dSD8O6ss+6q5qPqJpdKjB8S49cG5+FLKkTz0jTF+lutyCPjs5vWCfTVg/HQFzHN3r0D8z0EfrYHfpP+g/OaBguqQ/5BPa/PNrsD9uqXKIO4sAQLKEKNvVBfI/TbR56zc4hT+OngYbTQC7PiAIy5gBkZI9HGvelb6YCzybwClTShTcPJXzS7dijzI+IA39q4WEKj+PIk9+MnnEP/x3RVFeFQFAUYuY1ujP3j9Srgz/5wdeP7YxkEUgon8+Qt/FTJQBQj1XsF5agSemO6QBXVyjda05LegKP7jBNTjV867Ap01rOiVtgXFIhEI8EPFKKNokuz2pqrf2jYDVPuzKVmScaJI/t4zmInMI8T/kjeYicwjxP7zOVmScaJI/F7K39o2A1T42/koo2iS7Ped7gXFIhEI8hwivwKdNazqN+wo/uME1OLjjXFyjda05UpleWoEnpjsb08VMlAFCPRIikEUgon8+nKQM/+cHXj8shpjW6M/eP294RVFeFQFAmCZPfjJ5xD/wFv2rhYQqP3j8S7dijzI+HtcpU0oU3Dw0S96VvpgLPIL4ypgBkZI9II4GG00Auz6Sq3nrNziFP8aBKNvVBfI/xqpyiDuLAED8GNr882uwP2I7OaBguqQ/KM9H62B36T8rA3Mc3evQPwBAvWCfTVg/YlVfpbrcgj6+fn4UsqRPPQpEdKjB8S49EM/LPuquaj5IWYH1/91IPwEcTIveC8k/wrQ2vaND6z+Qab60pQmwP3wjCP9FhBQ/gmwQRLo0ZD82Y4QZ94zLP4OyznWpTNQ/KOGdeCkqgD80KpcFzdLLPjgDB1ch4bk9QFwP3OgDSjwczuMOkUN8OtLG91rtl1A4my18vKgOxTUT79nnRuHcMg==",
        "encoding": "base64",
        "path": [
         "_data",
         4,
         "x",
         "buffer"
        ]
       },
       {
        "data": "Q2LezpCYI8CGxLydITEjwMomm2yyySLADYl5O0NiIsBQ61cK1PohwJNNNtlkkyHA168UqPUrIcAaEvN2hsQgwF100UUXXSDAQK1fKVDrH8DHcRzHcRwfwE422WSTTR7A1PqVArV+HcBav1Kg1q8cwOGDDz744BvAaEjM2xkSG8DuDIl5O0MawHTRRRdddBnA+5UCtX6lGMCBWr9SoNYXwAgffPDBBxfAjuM4juM4FsAVqPUrBWoVwJtssskmmxTAIjFvZ0jME8Co9SsFav0SwC+66KKLLhLAtX6lQK1fEcA8Q2LezpAQwIQPPvjggw/Akpi3MyTmDcCeITFvZ0gMwKqqqqqqqgrAuDMk5u0MCcDEvJ0hMW8HwNJFF1100QXA3s6QmLczBMDsVwrU+pUCwPjggw8++ADACNT6lQK1/r8o5u0MiXn7v0D44IMPPvi/WArU+pUC9b9wHMdxHMfxvyBddNFFF+2/UIFav1Kg5r+ApUCtXyngv2CTTTbZZNO/AG9nSMzbub8Ab2dIzNu5P2CTTTbZZNM/gKVArV8p4D9QgVq/UqDmPxBddNFFF+0/cBzHcRzH8T9YCtT6lQL1P0D44IMPPvg/IObtDIl5+z8I1PqVArX+P/jggw8++ABA7FcK1PqVAkDczpCYtzMEQNBFF1100QVAxLydITFvB0C4MyTm7QwJQKyqqqqqqgpAnCExb2dIDECQmLczJOYNQIQPPvjggw9APENi3s6QEEC0fqVArV8RQC666KKLLhJAqPUrBWr9EkAiMW9nSMwTQJpssskmmxRAFKj1KwVqFUCO4ziO4zgWQAgffPDBBxdAgFq/UqDWF0D8lQK1fqUYQHTRRRdddBlA7AyJeTtDGkBoSMzbGRIbQOCDDz744BtAXL9SoNavHEDU+pUCtX4dQEw22WSTTR5AyHEcx3EcH0BArV8pUOsfQFx00UUXXSBAGhLzdobEIEDWrxSo9SshQJRNNtlkkyFAUOtXCtT6IUAMiXk7Q2IiQMomm2yyySJAhsS8nSExI0BEYt7OkJgjQA==",
        "encoding": "base64",
        "path": [
         "_data",
         4,
         "y",
         "buffer"
        ]
       }
      ],
      "model_module": "plotlywidget",
      "model_module_version": "^4.14.3",
      "model_name": "FigureModel",
      "state": {
       "_config": {
        "plotlyServerURL": "https://plot.ly"
       },
       "_data": [
        {
         "showlegend": false,
         "type": "heatmap",
         "uid": "9c5ff258-0329-44d2-9d2a-efc6e3e6788f",
         "x": {
          "dtype": "float64",
          "shape": [
           21
          ]
         },
         "xaxis": "x",
         "y": {
          "dtype": "float64",
          "shape": [
           12
          ]
         },
         "yaxis": "y",
         "z": [
          [
           0.003460447941093967,
           0.0028776317200728736,
           0.002083843517357594,
           0.0014193299178990578,
           0.0008654071153352384,
           0.00045618114085763106,
           0.0001319837671564747,
           8.301477529076724e-33,
           0.00013198376715647855,
           0.00045618114085763925,
           0.0008654071153352513,
           0.0014193299178990777,
           0.002083843517357622,
           0.0028776317200729148,
           0.0034604479410940197,
           0.0019067933689183472,
           0.0006574771770301375,
           7.92034081454178e-05,
           7.920340814541119e-05,
           0.0006574771770301176,
           0.0019067933689183095
          ],
          [
           0.002511438415316981,
           0.0024693554044619126,
           0.0019556522767254342,
           0.0013912286909309398,
           0.0008729476531650988,
           0.00045985358092757463,
           0.00012628998728708815,
           7.715709819927331e-33,
           0.00012628998728709206,
           0.0004598535809275827,
           0.0008729476531651115,
           0.0013912286909309587,
           0.0019556522767254607,
           0.002469355404461949,
           0.0025114384153170207,
           0.0015404884355321052,
           0.0005608582350151383,
           6.860409521844815e-05,
           6.860409521844233e-05,
           0.0005608582350151203,
           0.0015404884355320729
          ],
          [
           0.0017124881431047003,
           0.0019459492307856,
           0.001814472142065464,
           0.0014442499309882642,
           0.0009805174575017556,
           0.0004951108159860394,
           0.0001371193907522019,
           7.276527249700985e-33,
           0.00013711939075220574,
           0.0004951108159860472,
           0.0009805174575017682,
           0.0014442499309882822,
           0.0018144721420654873,
           0.0019459492307856278,
           0.0017124881431047287,
           0.001080180145484215,
           0.0004261803633436125,
           4.8171481946632996e-05,
           4.817148194662828e-05,
           0.00042618036334359785,
           0.0010801801454841911
          ],
          [
           0.0013604951893622507,
           0.001713268155940814,
           0.001808806181265583,
           0.0015792499816373693,
           0.0011189125091046995,
           0.0005669250620086842,
           0.00015462168723071217,
           6.520029913225239e-33,
           0.00015462168723071588,
           0.000566925062008692,
           0.0011189125091047116,
           0.0015792499816373862,
           0.0018088061812656035,
           0.0017132681559408366,
           0.0013604951893622726,
           0.000843176639444708,
           0.0003512565745600411,
           4.1335304575486674e-05,
           4.133530457548256e-05,
           0.0003512565745600289,
           0.0008431766394446884
          ],
          [
           0.001215109168266014,
           0.0016508738858123971,
           0.0019127579505907545,
           0.001922561263473333,
           0.001432694468631878,
           0.0007310904436439281,
           0.00019029385790716216,
           6.247460587783768e-33,
           0.00019029385790716587,
           0.0007310904436439356,
           0.0014326944686318898,
           0.001922561263473349,
           0.0019127579505907732,
           0.0016508738858124169,
           0.0012151091682660324,
           0.0007327652419030771,
           0.0002915326795550192,
           4.16406844420874e-05,
           4.164068444208356e-05,
           0.00029153267955500884,
           0.0007327652419030609
          ],
          [
           0.0011285785151409274,
           0.001681364127928824,
           0.002188618135858146,
           0.002589835200582249,
           0.0020864635302380256,
           0.000995845597295173,
           0.0002536614400173603,
           5.908300500743721e-33,
           0.0002536614400173642,
           0.0009958455972951807,
           0.0020864635302380373,
           0.0025898352005822643,
           0.0021886181358581644,
           0.0016813641279288423,
           0.001128578515140944,
           0.0006643451798876225,
           0.00026124105464818675,
           3.398269013448112e-05,
           3.398269013447779e-05,
           0.0002612410546481774,
           0.0006643451798876078
          ],
          [
           0.0011217500587753263,
           0.0017309828844840414,
           0.002466731372055689,
           0.0033732258763124845,
           0.002821103460337494,
           0.0011810578028510366,
           0.0002964234241497651,
           5.922931597472013e-33,
           0.0002964234241497692,
           0.0011810578028510442,
           0.0028211034603375057,
           0.0033732258763124997,
           0.0024667313720557068,
           0.0017309828844840598,
           0.0011217500587753421,
           0.0006440805437975649,
           0.0002830823813883253,
           4.447822448219558e-05,
           4.447822448219224e-05,
           0.0002830823813883158,
           0.0006440805437975506
          ],
          [
           0.001128578515140927,
           0.001681364127928823,
           0.0021886181358581444,
           0.002589835200582247,
           0.002086463530238024,
           0.0009958455972951718,
           0.00025366144001736,
           5.8093455651030705e-33,
           0.00025366144001736393,
           0.0009958455972951797,
           0.0020864635302380355,
           0.002589835200582262,
           0.0021886181358581626,
           0.0016813641279288416,
           0.0011285785151409434,
           0.000664345179887622,
           0.0002612410546481866,
           3.398269013448107e-05,
           3.398269013447777e-05,
           0.0002612410546481773,
           0.0006643451798876072
          ],
          [
           0.0012151091682660127,
           0.0016508738858123952,
           0.001912757950590753,
           0.001922561263473331,
           0.0014326944686318768,
           0.0007310904436439271,
           0.00019029385790716186,
           6.052139618638214e-33,
           0.00019029385790716557,
           0.0007310904436439348,
           0.0014326944686318887,
           0.0019225612634733475,
           0.0019127579505907712,
           0.0016508738858124151,
           0.001215109168266031,
           0.0007327652419030767,
           0.000291532679555019,
           4.164068444208731e-05,
           4.16406844420835e-05,
           0.00029153267955500856,
           0.0007327652419030602
          ],
          [
           0.0013604951893622487,
           0.0017132681559408113,
           0.0018088061812655816,
           0.0015792499816373682,
           0.0011189125091046982,
           0.0005669250620086837,
           0.00015462168723071203,
           6.541515880425963e-33,
           0.00015462168723071572,
           0.0005669250620086913,
           0.0011189125091047105,
           0.0015792499816373845,
           0.0018088061812656028,
           0.0017132681559408342,
           0.0013604951893622706,
           0.0008431766394447068,
           0.0003512565745600408,
           4.1335304575486674e-05,
           4.133530457548253e-05,
           0.00035125657456002845,
           0.0008431766394446875
          ],
          [
           0.0017124881431046985,
           0.001945949230785598,
           0.0018144721420654624,
           0.0014442499309882636,
           0.000980517457501755,
           0.0004951108159860388,
           0.00013711939075220178,
           7.320819876839969e-33,
           0.00013711939075220558,
           0.0004951108159860468,
           0.0009805174575017676,
           0.001444249930988281,
           0.0018144721420654858,
           0.0019459492307856258,
           0.001712488143104727,
           0.0010801801454842137,
           0.0004261803633436121,
           4.8171481946632935e-05,
           4.817148194662829e-05,
           0.00042618036334359736,
           0.0010801801454841898
          ],
          [
           0.002511438415316978,
           0.002469355404461911,
           0.0019556522767254325,
           0.0013912286909309388,
           0.000872947653165098,
           0.0004598535809275743,
           0.00012628998728708804,
           7.62528218520768e-33,
           0.00012628998728709195,
           0.00045985358092758254,
           0.0008729476531651107,
           0.0013912286909309578,
           0.00195565227672546,
           0.002469355404461946,
           0.0025114384153170177,
           0.0015404884355321032,
           0.0005608582350151378,
           6.860409521844815e-05,
           6.860409521844233e-05,
           0.0005608582350151199,
           0.0015404884355320714
          ]
         ],
         "zsmooth": "best"
        },
        {
         "hoverinfo": "text",
         "marker": {
          "color": "#ccc",
          "coloraxis": "coloraxis",
          "size": 3
         },
         "mode": "markers+lines",
         "name": "bonds",
         "showlegend": true,
         "type": "scatter",
         "uid": "bfdd4e43-a41b-4a5d-b281-02fdb54e0af3",
         "x": [
          0.0,
          0.71,
          null,
          0.0,
          0.71,
          null,
          0.0,
          -1.42,
          null,
          0.71,
          2.13,
          null,
          0.71,
          0.0,
          null,
          2.13,
          2.84,
          null,
          2.13,
          2.84,
          null,
          2.84,
          2.13,
          null,
          2.84,
          4.26,
          null
         ],
         "xaxis": "x",
         "y": [
          0.0,
          1.2297560733739028,
          null,
          0.0,
          -1.2297560733739028,
          null,
          0.0,
          0.0,
          null,
          1.2297560733739028,
          1.2297560733739028,
          null,
          1.2297560733739028,
          2.4595121467478056,
          null,
          1.2297560733739028,
          0.0,
          null,
          1.2297560733739028,
          2.4595121467478056,
          null,
          0.0,
          -1.2297560733739028,
          null,
          0.0,
          0.0,
          null
         ],
         "yaxis": "y"
        },
        {
         "marker": {
          "color": [
           "grey",
           "grey",
           "grey",
           "grey"
          ],
          "size": [
           10.72,
           10.72,
           10.72,
           10.72
          ]
         },
         "mode": "markers",
         "name": "Atoms",
         "showlegend": true,
         "text": [
          "[0. 0. 5.]<br>0 (C)",
          "[0.71       1.22975607 5.        ]<br>1 (C)",
          "[2.13       1.22975607 5.        ]<br>2 (C)",
          "[2.84 0.   5.  ]<br>3 (C)"
         ],
         "type": "scatter",
         "uid": "dc4cb68f-0a61-4fc9-99dd-f5fb767d8efa",
         "x": {
          "dtype": "float64",
          "shape": [
           4
          ]
         },
         "xaxis": "x",
         "y": {
          "dtype": "float64",
          "shape": [
           4
          ]
         },
         "yaxis": "y"
        },
        {
         "mode": "lines",
         "name": "Unit cell",
         "type": "scatter",
         "uid": "aaa68f6d-1bd9-4034-a0a6-8733d1bf150e",
         "x": {
          "dtype": "float64",
          "shape": [
           16
          ]
         },
         "xaxis": "x",
         "y": {
          "dtype": "float64",
          "shape": [
           16
          ]
         },
         "yaxis": "y"
        },
        {
         "hoverinfo": "name",
         "line": {
          "color": "black",
          "dash": "solid",
          "width": 1
         },
         "mode": "lines",
         "name": "DOS",
         "type": "scatter",
         "uid": "b130838a-7670-4e6c-86c7-ee7b16358de2",
         "x": {
          "dtype": "float64",
          "shape": [
           98
          ]
         },
         "xaxis": "x2",
         "y": {
          "dtype": "float64",
          "shape": [
           98
          ]
         },
         "yaxis": "y2"
        }
       ],
       "_dom_classes": [],
       "_js2py_layoutDelta": {},
       "_js2py_pointsCallback": {},
       "_js2py_relayout": {},
       "_js2py_restyle": {},
       "_js2py_traceDeltas": {},
       "_js2py_update": {},
       "_last_layout_edit_id": 0,
       "_last_trace_edit_id": 0,
       "_layout": {
        "template": {
         "layout": {
          "hovermode": "closest",
          "paper_bgcolor": "white",
          "plot_bgcolor": "white",
          "scene": {
           "xaxis": {
            "color": "black",
            "gridcolor": "#ccc",
            "gridwidth": 1,
            "linewidth": 1,
            "mirror": true,
            "showgrid": false,
            "showline": true,
            "ticklen": 5,
            "ticks": "outside",
            "ticksuffix": " ",
            "visible": true,
            "zeroline": false,
            "zerolinecolor": "#ccc",
            "zerolinewidth": 1
           },
           "yaxis": {
            "color": "black",
            "gridcolor": "#ccc",
            "gridwidth": 1,
            "linewidth": 1,
            "mirror": true,
            "showgrid": false,
            "showline": true,
            "ticklen": 5,
            "ticks": "outside",
            "ticksuffix": " ",
            "visible": true,
            "zeroline": false,
            "zerolinecolor": "#ccc",
            "zerolinewidth": 1
           },
           "zaxis": {
            "color": "black",
            "gridcolor": "#ccc",
            "gridwidth": 1,
            "linewidth": 1,
            "mirror": true,
            "showgrid": false,
            "showline": true,
            "ticklen": 5,
            "ticks": "outside",
            "ticksuffix": " ",
            "visible": true,
            "zeroline": false,
            "zerolinecolor": "#ccc",
            "zerolinewidth": 1
           }
          },
          "xaxis": {
           "color": "black",
           "gridcolor": "#ccc",
           "gridwidth": 1,
           "linewidth": 1,
           "mirror": true,
           "showgrid": false,
           "showline": true,
           "ticklen": 5,
           "ticks": "outside",
           "ticksuffix": " ",
           "visible": true,
           "zeroline": false,
           "zerolinecolor": "#ccc",
           "zerolinewidth": 1
          },
          "yaxis": {
           "color": "black",
           "gridcolor": "#ccc",
           "gridwidth": 1,
           "linewidth": 1,
           "mirror": true,
           "showgrid": false,
           "showline": true,
           "ticklen": 5,
           "ticks": "outside",
           "ticksuffix": " ",
           "visible": true,
           "zeroline": false,
           "zerolinecolor": "#ccc",
           "zerolinewidth": 1
          }
         }
        },
        "xaxis": {
         "anchor": "y",
         "domain": [
          0.0,
          0.45
         ],
         "title": {
          "text": "X axis [Ang]"
         }
        },
        "xaxis2": {
         "anchor": "y2",
         "domain": [
          0.55,
          1.0
         ],
         "mirror": true,
         "title": {
          "text": "Density of states [1/eV]"
         }
        },
        "yaxis": {
         "anchor": "x",
         "domain": [
          0.0,
          1.0
         ],
         "scaleanchor": "x",
         "scaleratio": 1,
         "title": {
          "text": "Y axis [Ang]"
         }
        },
        "yaxis2": {
         "anchor": "x2",
         "domain": [
          0.0,
          1.0
         ],
         "mirror": true,
         "range": [
          -10.0,
          10.0
         ],
         "title": {
          "text": "Energy [eV]"
         }
        }
       },
       "_model_module": "plotlywidget",
       "_model_module_version": "^4.14.3",
       "_model_name": "FigureModel",
       "_py2js_addTraces": {},
       "_py2js_animate": {},
       "_py2js_deleteTraces": {},
       "_py2js_moveTraces": {},
       "_py2js_relayout": {},
       "_py2js_removeLayoutProps": {},
       "_py2js_removeTraceProps": {},
       "_py2js_restyle": {},
       "_py2js_update": {},
       "_view_count": 0,
       "_view_module": "plotlywidget",
       "_view_module_version": "^4.14.3",
       "_view_name": "FigureView"
      }
     },
     "417b440214d64225ae4863115ae11e45": {
      "buffers": [
       {
        "data": "AAAAAAAAAABAbCoNOffJP0BsKg0599k/MNHfyWp54z9AbCoNOffpP6iDOqiDOvA/MNHfyWp58z+4HoXrUbj2P0BsKg059/k/yLnPLiA2/T+ogzqogzoAQGwqDTn32QFAMNHfyWp5A0D0d7Ja3hgFQLgehetRuAZAfMVXfMVXCEBAbCoNOfcJQAQT/Z2slgtAyLnPLiA2DUCMYKK/k9UOQKiDOqiDOhBA",
        "encoding": "base64",
        "path": [
         "_data",
         0,
         "x",
         "buffer"
        ]
       },
       {
        "data": "AAAAAAAAAABBkBmbGzzKP0GQGZsbPNo/MSxTtBSt4z9BkBmbGzzqPyn670CRZfA/MSxTtBSt8z85XrYnmPT2P0GQGZsbPPo/ScJ8Dp+D/T8p+u9AkWUAQC2TofpSCQJA",
        "encoding": "base64",
        "path": [
         "_data",
         0,
         "y",
         "buffer"
        ]
       },
       {
        "data": "AAAAAAAAAAC4HoXrUbjmPwrXo3A9CgFAuB6F61G4BkA=",
        "encoding": "base64",
        "path": [
         "_data",
         2,
         "x",
         "buffer"
        ]
       },
       {
        "data": "AAAAAAAAAAAxLFO0FK3zPzEsU7QUrfM/AAAAAAAAAAA=",
        "encoding": "base64",
        "path": [
         "_data",
         2,
         "y",
         "buffer"
        ]
       },
       {
        "data": "AAAAAAAAAAAAAAAAAAAAAArXo3A9ChFACtejcD0KEUAAAAAAAAAAAAAAAAAAAAAAAAAAAAAAAAAAAAAAAAAAAAAAAAAAAAAACtejcD0KEUAK16NwPQoRQArXo3A9ChFACtejcD0KEUAK16NwPQoRQArXo3A9ChFAAAAAAAAAAAA=",
        "encoding": "base64",
        "path": [
         "_data",
         3,
         "x",
         "buffer"
        ]
       },
       {
        "data": "AAAAAAAAAAAxLFO0FK0DQDEsU7QUrQNAAAAAAAAAAAAAAAAAAAAAAAAAAAAAAAAAMSxTtBStA0AxLFO0FK0DQDEsU7QUrQNAMSxTtBStA0AxLFO0FK0DQAAAAAAAAAAAAAAAAAAAAAAxLFO0FK0DQAAAAAAAAAAAAAAAAAAAAAA=",
        "encoding": "base64",
        "path": [
         "_data",
         3,
         "y",
         "buffer"
        ]
       }
      ],
      "model_module": "plotlywidget",
      "model_module_version": "^4.14.3",
      "model_name": "FigureModel",
      "state": {
       "_config": {
        "plotlyServerURL": "https://plot.ly"
       },
       "_data": [
        {
         "showlegend": false,
         "type": "heatmap",
         "uid": "cd879f9d-96de-4730-8771-f26d81a4465d",
         "x": {
          "dtype": "float64",
          "shape": [
           21
          ]
         },
         "y": {
          "dtype": "float64",
          "shape": [
           12
          ]
         },
         "z": [
          [
           0.003460447941093967,
           0.0028776317200728736,
           0.002083843517357594,
           0.0014193299178990578,
           0.0008654071153352384,
           0.00045618114085763106,
           0.0001319837671564747,
           8.301477529076724e-33,
           0.00013198376715647855,
           0.00045618114085763925,
           0.0008654071153352513,
           0.0014193299178990777,
           0.002083843517357622,
           0.0028776317200729148,
           0.0034604479410940197,
           0.0019067933689183472,
           0.0006574771770301375,
           7.92034081454178e-05,
           7.920340814541119e-05,
           0.0006574771770301176,
           0.0019067933689183095
          ],
          [
           0.002511438415316981,
           0.0024693554044619126,
           0.0019556522767254342,
           0.0013912286909309398,
           0.0008729476531650988,
           0.00045985358092757463,
           0.00012628998728708815,
           7.715709819927331e-33,
           0.00012628998728709206,
           0.0004598535809275827,
           0.0008729476531651115,
           0.0013912286909309587,
           0.0019556522767254607,
           0.002469355404461949,
           0.0025114384153170207,
           0.0015404884355321052,
           0.0005608582350151383,
           6.860409521844815e-05,
           6.860409521844233e-05,
           0.0005608582350151203,
           0.0015404884355320729
          ],
          [
           0.0017124881431047003,
           0.0019459492307856,
           0.001814472142065464,
           0.0014442499309882642,
           0.0009805174575017556,
           0.0004951108159860394,
           0.0001371193907522019,
           7.276527249700985e-33,
           0.00013711939075220574,
           0.0004951108159860472,
           0.0009805174575017682,
           0.0014442499309882822,
           0.0018144721420654873,
           0.0019459492307856278,
           0.0017124881431047287,
           0.001080180145484215,
           0.0004261803633436125,
           4.8171481946632996e-05,
           4.817148194662828e-05,
           0.00042618036334359785,
           0.0010801801454841911
          ],
          [
           0.0013604951893622507,
           0.001713268155940814,
           0.001808806181265583,
           0.0015792499816373693,
           0.0011189125091046995,
           0.0005669250620086842,
           0.00015462168723071217,
           6.520029913225239e-33,
           0.00015462168723071588,
           0.000566925062008692,
           0.0011189125091047116,
           0.0015792499816373862,
           0.0018088061812656035,
           0.0017132681559408366,
           0.0013604951893622726,
           0.000843176639444708,
           0.0003512565745600411,
           4.1335304575486674e-05,
           4.133530457548256e-05,
           0.0003512565745600289,
           0.0008431766394446884
          ],
          [
           0.001215109168266014,
           0.0016508738858123971,
           0.0019127579505907545,
           0.001922561263473333,
           0.001432694468631878,
           0.0007310904436439281,
           0.00019029385790716216,
           6.247460587783768e-33,
           0.00019029385790716587,
           0.0007310904436439356,
           0.0014326944686318898,
           0.001922561263473349,
           0.0019127579505907732,
           0.0016508738858124169,
           0.0012151091682660324,
           0.0007327652419030771,
           0.0002915326795550192,
           4.16406844420874e-05,
           4.164068444208356e-05,
           0.00029153267955500884,
           0.0007327652419030609
          ],
          [
           0.0011285785151409274,
           0.001681364127928824,
           0.002188618135858146,
           0.002589835200582249,
           0.0020864635302380256,
           0.000995845597295173,
           0.0002536614400173603,
           5.908300500743721e-33,
           0.0002536614400173642,
           0.0009958455972951807,
           0.0020864635302380373,
           0.0025898352005822643,
           0.0021886181358581644,
           0.0016813641279288423,
           0.001128578515140944,
           0.0006643451798876225,
           0.00026124105464818675,
           3.398269013448112e-05,
           3.398269013447779e-05,
           0.0002612410546481774,
           0.0006643451798876078
          ],
          [
           0.0011217500587753263,
           0.0017309828844840414,
           0.002466731372055689,
           0.0033732258763124845,
           0.002821103460337494,
           0.0011810578028510366,
           0.0002964234241497651,
           5.922931597472013e-33,
           0.0002964234241497692,
           0.0011810578028510442,
           0.0028211034603375057,
           0.0033732258763124997,
           0.0024667313720557068,
           0.0017309828844840598,
           0.0011217500587753421,
           0.0006440805437975649,
           0.0002830823813883253,
           4.447822448219558e-05,
           4.447822448219224e-05,
           0.0002830823813883158,
           0.0006440805437975506
          ],
          [
           0.001128578515140927,
           0.001681364127928823,
           0.0021886181358581444,
           0.002589835200582247,
           0.002086463530238024,
           0.0009958455972951718,
           0.00025366144001736,
           5.8093455651030705e-33,
           0.00025366144001736393,
           0.0009958455972951797,
           0.0020864635302380355,
           0.002589835200582262,
           0.0021886181358581626,
           0.0016813641279288416,
           0.0011285785151409434,
           0.000664345179887622,
           0.0002612410546481866,
           3.398269013448107e-05,
           3.398269013447777e-05,
           0.0002612410546481773,
           0.0006643451798876072
          ],
          [
           0.0012151091682660127,
           0.0016508738858123952,
           0.001912757950590753,
           0.001922561263473331,
           0.0014326944686318768,
           0.0007310904436439271,
           0.00019029385790716186,
           6.052139618638214e-33,
           0.00019029385790716557,
           0.0007310904436439348,
           0.0014326944686318887,
           0.0019225612634733475,
           0.0019127579505907712,
           0.0016508738858124151,
           0.001215109168266031,
           0.0007327652419030767,
           0.000291532679555019,
           4.164068444208731e-05,
           4.16406844420835e-05,
           0.00029153267955500856,
           0.0007327652419030602
          ],
          [
           0.0013604951893622487,
           0.0017132681559408113,
           0.0018088061812655816,
           0.0015792499816373682,
           0.0011189125091046982,
           0.0005669250620086837,
           0.00015462168723071203,
           6.541515880425963e-33,
           0.00015462168723071572,
           0.0005669250620086913,
           0.0011189125091047105,
           0.0015792499816373845,
           0.0018088061812656028,
           0.0017132681559408342,
           0.0013604951893622706,
           0.0008431766394447068,
           0.0003512565745600408,
           4.1335304575486674e-05,
           4.133530457548253e-05,
           0.00035125657456002845,
           0.0008431766394446875
          ],
          [
           0.0017124881431046985,
           0.001945949230785598,
           0.0018144721420654624,
           0.0014442499309882636,
           0.000980517457501755,
           0.0004951108159860388,
           0.00013711939075220178,
           7.320819876839969e-33,
           0.00013711939075220558,
           0.0004951108159860468,
           0.0009805174575017676,
           0.001444249930988281,
           0.0018144721420654858,
           0.0019459492307856258,
           0.001712488143104727,
           0.0010801801454842137,
           0.0004261803633436121,
           4.8171481946632935e-05,
           4.817148194662829e-05,
           0.00042618036334359736,
           0.0010801801454841898
          ],
          [
           0.002511438415316978,
           0.002469355404461911,
           0.0019556522767254325,
           0.0013912286909309388,
           0.000872947653165098,
           0.0004598535809275743,
           0.00012628998728708804,
           7.62528218520768e-33,
           0.00012628998728709195,
           0.00045985358092758254,
           0.0008729476531651107,
           0.0013912286909309578,
           0.00195565227672546,
           0.002469355404461946,
           0.0025114384153170177,
           0.0015404884355321032,
           0.0005608582350151378,
           6.860409521844815e-05,
           6.860409521844233e-05,
           0.0005608582350151199,
           0.0015404884355320714
          ]
         ],
         "zsmooth": "best"
        },
        {
         "hoverinfo": "text",
         "marker": {
          "color": "#ccc",
          "coloraxis": "coloraxis",
          "size": 3
         },
         "mode": "markers+lines",
         "name": "bonds",
         "showlegend": true,
         "type": "scatter",
         "uid": "33fad1cd-4ae5-4039-a35f-2f59285ad78d",
         "x": [
          0.0,
          0.71,
          null,
          0.0,
          0.71,
          null,
          0.0,
          -1.42,
          null,
          0.71,
          2.13,
          null,
          0.71,
          0.0,
          null,
          2.13,
          2.84,
          null,
          2.13,
          2.84,
          null,
          2.84,
          2.13,
          null,
          2.84,
          4.26,
          null
         ],
         "y": [
          0.0,
          1.2297560733739028,
          null,
          0.0,
          -1.2297560733739028,
          null,
          0.0,
          0.0,
          null,
          1.2297560733739028,
          1.2297560733739028,
          null,
          1.2297560733739028,
          2.4595121467478056,
          null,
          1.2297560733739028,
          0.0,
          null,
          1.2297560733739028,
          2.4595121467478056,
          null,
          0.0,
          -1.2297560733739028,
          null,
          0.0,
          0.0,
          null
         ]
        },
        {
         "marker": {
          "color": [
           "grey",
           "grey",
           "grey",
           "grey"
          ],
          "size": [
           10.72,
           10.72,
           10.72,
           10.72
          ]
         },
         "mode": "markers",
         "name": "Atoms",
         "showlegend": true,
         "text": [
          "[0. 0. 5.]<br>0 (C)",
          "[0.71       1.22975607 5.        ]<br>1 (C)",
          "[2.13       1.22975607 5.        ]<br>2 (C)",
          "[2.84 0.   5.  ]<br>3 (C)"
         ],
         "type": "scatter",
         "uid": "ad2e657a-0c9d-4a3e-ab08-c533beb1469e",
         "x": {
          "dtype": "float64",
          "shape": [
           4
          ]
         },
         "y": {
          "dtype": "float64",
          "shape": [
           4
          ]
         }
        },
        {
         "mode": "lines",
         "name": "Unit cell",
         "type": "scatter",
         "uid": "6436168a-d44e-4e83-bc0c-a451e35d2eba",
         "x": {
          "dtype": "float64",
          "shape": [
           16
          ]
         },
         "y": {
          "dtype": "float64",
          "shape": [
           16
          ]
         }
        }
       ],
       "_dom_classes": [],
       "_js2py_layoutDelta": {},
       "_js2py_pointsCallback": {},
       "_js2py_relayout": {},
       "_js2py_restyle": {},
       "_js2py_traceDeltas": {},
       "_js2py_update": {},
       "_last_layout_edit_id": 0,
       "_last_trace_edit_id": 0,
       "_layout": {
        "sliders": [
         {
          "active": 0,
          "currentvalue": {
           "font": {
            "size": 20
           },
           "visible": true,
           "xanchor": "right"
          },
          "len": 0.9,
          "pad": {
           "b": 10,
           "t": 50
          },
          "steps": [
           {
            "args": [
             [
              "Frame 1"
             ],
             {
              "frame": {
               "duration": 500,
               "redraw": true
              },
              "mode": "immediate",
              "transition": {
               "duration": 300
              }
             }
            ],
            "label": "Frame 1",
            "method": "animate"
           },
           {
            "args": [
             [
              "Frame 2"
             ],
             {
              "frame": {
               "duration": 500,
               "redraw": true
              },
              "mode": "immediate",
              "transition": {
               "duration": 300
              }
             }
            ],
            "label": "Frame 2",
            "method": "animate"
           }
          ],
          "x": 0.1,
          "xanchor": "left",
          "y": 0,
          "yanchor": "top"
         }
        ],
        "template": {
         "layout": {
          "hovermode": "closest",
          "paper_bgcolor": "white",
          "plot_bgcolor": "white",
          "scene": {
           "xaxis": {
            "color": "black",
            "gridcolor": "#ccc",
            "gridwidth": 1,
            "linewidth": 1,
            "mirror": true,
            "showgrid": false,
            "showline": true,
            "ticklen": 5,
            "ticks": "outside",
            "ticksuffix": " ",
            "visible": true,
            "zeroline": false,
            "zerolinecolor": "#ccc",
            "zerolinewidth": 1
           },
           "yaxis": {
            "color": "black",
            "gridcolor": "#ccc",
            "gridwidth": 1,
            "linewidth": 1,
            "mirror": true,
            "showgrid": false,
            "showline": true,
            "ticklen": 5,
            "ticks": "outside",
            "ticksuffix": " ",
            "visible": true,
            "zeroline": false,
            "zerolinecolor": "#ccc",
            "zerolinewidth": 1
           },
           "zaxis": {
            "color": "black",
            "gridcolor": "#ccc",
            "gridwidth": 1,
            "linewidth": 1,
            "mirror": true,
            "showgrid": false,
            "showline": true,
            "ticklen": 5,
            "ticks": "outside",
            "ticksuffix": " ",
            "visible": true,
            "zeroline": false,
            "zerolinecolor": "#ccc",
            "zerolinewidth": 1
           }
          },
          "xaxis": {
           "color": "black",
           "gridcolor": "#ccc",
           "gridwidth": 1,
           "linewidth": 1,
           "mirror": true,
           "showgrid": false,
           "showline": true,
           "ticklen": 5,
           "ticks": "outside",
           "ticksuffix": " ",
           "visible": true,
           "zeroline": false,
           "zerolinecolor": "#ccc",
           "zerolinewidth": 1
          },
          "yaxis": {
           "color": "black",
           "gridcolor": "#ccc",
           "gridwidth": 1,
           "linewidth": 1,
           "mirror": true,
           "showgrid": false,
           "showline": true,
           "ticklen": 5,
           "ticks": "outside",
           "ticksuffix": " ",
           "visible": true,
           "zeroline": false,
           "zerolinecolor": "#ccc",
           "zerolinewidth": 1
          }
         }
        },
        "updatemenus": [
         {
          "buttons": [
           {
            "args": [
             null,
             {
              "frame": {
               "duration": 500,
               "redraw": true
              },
              "fromcurrent": true,
              "transition": {
               "duration": 100,
               "easing": "quadratic-in-out"
              }
             }
            ],
            "label": "▶",
            "method": "animate"
           },
           {
            "args": [
             [
              null
             ],
             {
              "frame": {
               "duration": 0
              },
              "mode": "immediate",
              "redraw": true,
              "transition": {
               "duration": 0
              }
             }
            ],
            "label": "⏸",
            "method": "animate"
           }
          ],
          "type": "buttons"
         }
        ]
       },
       "_model_module": "plotlywidget",
       "_model_module_version": "^4.14.3",
       "_model_name": "FigureModel",
       "_py2js_addTraces": {},
       "_py2js_animate": {},
       "_py2js_deleteTraces": {},
       "_py2js_moveTraces": {},
       "_py2js_relayout": {},
       "_py2js_removeLayoutProps": {},
       "_py2js_removeTraceProps": {},
       "_py2js_restyle": {},
       "_py2js_update": {},
       "_view_count": null,
       "_view_module": "plotlywidget",
       "_view_module_version": "^4.14.3",
       "_view_name": "FigureView"
      }
     },
     "4dd2198fe9514abaa36126d402447b02": {
      "buffers": [
       {
        "data": "AAAAAAAAAABAbCoNOffJP0BsKg0599k/MNHfyWp54z9AbCoNOffpP6iDOqiDOvA/MNHfyWp58z+4HoXrUbj2P0BsKg059/k/yLnPLiA2/T+ogzqogzoAQGwqDTn32QFAMNHfyWp5A0D0d7Ja3hgFQLgehetRuAZAfMVXfMVXCEBAbCoNOfcJQAQT/Z2slgtAyLnPLiA2DUCMYKK/k9UOQKiDOqiDOhBA",
        "encoding": "base64",
        "path": [
         "_data",
         0,
         "x",
         "buffer"
        ]
       },
       {
        "data": "AAAAAAAAAABBkBmbGzzKP0GQGZsbPNo/MSxTtBSt4z9BkBmbGzzqPyn670CRZfA/MSxTtBSt8z85XrYnmPT2P0GQGZsbPPo/ScJ8Dp+D/T8p+u9AkWUAQC2TofpSCQJA",
        "encoding": "base64",
        "path": [
         "_data",
         0,
         "y",
         "buffer"
        ]
       },
       {
        "data": "AAAAAAAAAAC4HoXrUbjmPwrXo3A9CgFAuB6F61G4BkA=",
        "encoding": "base64",
        "path": [
         "_data",
         2,
         "x",
         "buffer"
        ]
       },
       {
        "data": "AAAAAAAAAAAxLFO0FK3zPzEsU7QUrfM/AAAAAAAAAAA=",
        "encoding": "base64",
        "path": [
         "_data",
         2,
         "y",
         "buffer"
        ]
       },
       {
        "data": "AAAAAAAAAAAAAAAAAAAAAArXo3A9ChFACtejcD0KEUAAAAAAAAAAAAAAAAAAAAAAAAAAAAAAAAAAAAAAAAAAAAAAAAAAAAAACtejcD0KEUAK16NwPQoRQArXo3A9ChFACtejcD0KEUAK16NwPQoRQArXo3A9ChFAAAAAAAAAAAA=",
        "encoding": "base64",
        "path": [
         "_data",
         3,
         "x",
         "buffer"
        ]
       },
       {
        "data": "AAAAAAAAAAAxLFO0FK0DQDEsU7QUrQNAAAAAAAAAAAAAAAAAAAAAAAAAAAAAAAAAMSxTtBStA0AxLFO0FK0DQDEsU7QUrQNAMSxTtBStA0AxLFO0FK0DQAAAAAAAAAAAAAAAAAAAAAAxLFO0FK0DQAAAAAAAAAAAAAAAAAAAAAA=",
        "encoding": "base64",
        "path": [
         "_data",
         3,
         "y",
         "buffer"
        ]
       },
       {
        "data": "AAAAAAAAAABAbCoNOffJP0BsKg0599k/MNHfyWp54z9AbCoNOffpP6iDOqiDOvA/MNHfyWp58z+4HoXrUbj2P0BsKg059/k/yLnPLiA2/T+ogzqogzoAQGwqDTn32QFAMNHfyWp5A0D0d7Ja3hgFQLgehetRuAZAfMVXfMVXCEBAbCoNOfcJQAQT/Z2slgtAyLnPLiA2DUCMYKK/k9UOQKiDOqiDOhBA",
        "encoding": "base64",
        "path": [
         "_data",
         4,
         "x",
         "buffer"
        ]
       },
       {
        "data": "AAAAAAAAAABBkBmbGzzKP0GQGZsbPNo/MSxTtBSt4z9BkBmbGzzqPyn670CRZfA/MSxTtBSt8z85XrYnmPT2P0GQGZsbPPo/ScJ8Dp+D/T8p+u9AkWUAQC2TofpSCQJA",
        "encoding": "base64",
        "path": [
         "_data",
         4,
         "y",
         "buffer"
        ]
       },
       {
        "data": "AAAAAAAAAAC4HoXrUbjmPwrXo3A9CgFAuB6F61G4BkA=",
        "encoding": "base64",
        "path": [
         "_data",
         6,
         "x",
         "buffer"
        ]
       },
       {
        "data": "AAAAAAAAAAAxLFO0FK3zPzEsU7QUrfM/AAAAAAAAAAA=",
        "encoding": "base64",
        "path": [
         "_data",
         6,
         "y",
         "buffer"
        ]
       },
       {
        "data": "AAAAAAAAAAAAAAAAAAAAAArXo3A9ChFACtejcD0KEUAAAAAAAAAAAAAAAAAAAAAAAAAAAAAAAAAAAAAAAAAAAAAAAAAAAAAACtejcD0KEUAK16NwPQoRQArXo3A9ChFACtejcD0KEUAK16NwPQoRQArXo3A9ChFAAAAAAAAAAAA=",
        "encoding": "base64",
        "path": [
         "_data",
         7,
         "x",
         "buffer"
        ]
       },
       {
        "data": "AAAAAAAAAAAxLFO0FK0DQDEsU7QUrQNAAAAAAAAAAAAAAAAAAAAAAAAAAAAAAAAAMSxTtBStA0AxLFO0FK0DQDEsU7QUrQNAMSxTtBStA0AxLFO0FK0DQAAAAAAAAAAAAAAAAAAAAAAxLFO0FK0DQAAAAAAAAAAAAAAAAAAAAAA=",
        "encoding": "base64",
        "path": [
         "_data",
         7,
         "y",
         "buffer"
        ]
       },
       {
        "data": "AAAAAAAAAABAbCoNOffJP0BsKg0599k/MNHfyWp54z9AbCoNOffpP6iDOqiDOvA/MNHfyWp58z+4HoXrUbj2P0BsKg059/k/yLnPLiA2/T+ogzqogzoAQGwqDTn32QFAMNHfyWp5A0D0d7Ja3hgFQLgehetRuAZAfMVXfMVXCEBAbCoNOfcJQAQT/Z2slgtAyLnPLiA2DUCMYKK/k9UOQKiDOqiDOhBA",
        "encoding": "base64",
        "path": [
         "_data",
         8,
         "x",
         "buffer"
        ]
       },
       {
        "data": "AAAAAAAAAABBkBmbGzzKP0GQGZsbPNo/MSxTtBSt4z9BkBmbGzzqPyn670CRZfA/MSxTtBSt8z85XrYnmPT2P0GQGZsbPPo/ScJ8Dp+D/T8p+u9AkWUAQC2TofpSCQJA",
        "encoding": "base64",
        "path": [
         "_data",
         8,
         "y",
         "buffer"
        ]
       },
       {
        "data": "AAAAAAAAAAC4HoXrUbjmPwrXo3A9CgFAuB6F61G4BkA=",
        "encoding": "base64",
        "path": [
         "_data",
         10,
         "x",
         "buffer"
        ]
       },
       {
        "data": "AAAAAAAAAAAxLFO0FK3zPzEsU7QUrfM/AAAAAAAAAAA=",
        "encoding": "base64",
        "path": [
         "_data",
         10,
         "y",
         "buffer"
        ]
       },
       {
        "data": "AAAAAAAAAAAAAAAAAAAAAArXo3A9ChFACtejcD0KEUAAAAAAAAAAAAAAAAAAAAAAAAAAAAAAAAAAAAAAAAAAAAAAAAAAAAAACtejcD0KEUAK16NwPQoRQArXo3A9ChFACtejcD0KEUAK16NwPQoRQArXo3A9ChFAAAAAAAAAAAA=",
        "encoding": "base64",
        "path": [
         "_data",
         11,
         "x",
         "buffer"
        ]
       },
       {
        "data": "AAAAAAAAAAAxLFO0FK0DQDEsU7QUrQNAAAAAAAAAAAAAAAAAAAAAAAAAAAAAAAAAMSxTtBStA0AxLFO0FK0DQDEsU7QUrQNAMSxTtBStA0AxLFO0FK0DQAAAAAAAAAAAAAAAAAAAAAAxLFO0FK0DQAAAAAAAAAAAAAAAAAAAAAA=",
        "encoding": "base64",
        "path": [
         "_data",
         11,
         "y",
         "buffer"
        ]
       },
       {
        "data": "AAAAAAAAAABAbCoNOffJP0BsKg0599k/MNHfyWp54z9AbCoNOffpP6iDOqiDOvA/MNHfyWp58z+4HoXrUbj2P0BsKg059/k/yLnPLiA2/T+ogzqogzoAQGwqDTn32QFAMNHfyWp5A0D0d7Ja3hgFQLgehetRuAZAfMVXfMVXCEBAbCoNOfcJQAQT/Z2slgtAyLnPLiA2DUCMYKK/k9UOQKiDOqiDOhBA",
        "encoding": "base64",
        "path": [
         "_data",
         12,
         "x",
         "buffer"
        ]
       },
       {
        "data": "AAAAAAAAAABBkBmbGzzKP0GQGZsbPNo/MSxTtBSt4z9BkBmbGzzqPyn670CRZfA/MSxTtBSt8z85XrYnmPT2P0GQGZsbPPo/ScJ8Dp+D/T8p+u9AkWUAQC2TofpSCQJA",
        "encoding": "base64",
        "path": [
         "_data",
         12,
         "y",
         "buffer"
        ]
       },
       {
        "data": "AAAAAAAAAAC4HoXrUbjmPwrXo3A9CgFAuB6F61G4BkA=",
        "encoding": "base64",
        "path": [
         "_data",
         14,
         "x",
         "buffer"
        ]
       },
       {
        "data": "AAAAAAAAAAAxLFO0FK3zPzEsU7QUrfM/AAAAAAAAAAA=",
        "encoding": "base64",
        "path": [
         "_data",
         14,
         "y",
         "buffer"
        ]
       },
       {
        "data": "AAAAAAAAAAAAAAAAAAAAAArXo3A9ChFACtejcD0KEUAAAAAAAAAAAAAAAAAAAAAAAAAAAAAAAAAAAAAAAAAAAAAAAAAAAAAACtejcD0KEUAK16NwPQoRQArXo3A9ChFACtejcD0KEUAK16NwPQoRQArXo3A9ChFAAAAAAAAAAAA=",
        "encoding": "base64",
        "path": [
         "_data",
         15,
         "x",
         "buffer"
        ]
       },
       {
        "data": "AAAAAAAAAAAxLFO0FK0DQDEsU7QUrQNAAAAAAAAAAAAAAAAAAAAAAAAAAAAAAAAAMSxTtBStA0AxLFO0FK0DQDEsU7QUrQNAMSxTtBStA0AxLFO0FK0DQAAAAAAAAAAAAAAAAAAAAAAxLFO0FK0DQAAAAAAAAAAAAAAAAAAAAAA=",
        "encoding": "base64",
        "path": [
         "_data",
         15,
         "y",
         "buffer"
        ]
       }
      ],
      "model_module": "plotlywidget",
      "model_module_version": "^4.14.3",
      "model_name": "FigureModel",
      "state": {
       "_config": {
        "plotlyServerURL": "https://plot.ly"
       },
       "_data": [
        {
         "colorscale": [
          [
           0.0,
           "rgb(0, 147, 146)"
          ],
          [
           0.16666666666666666,
           "rgb(57, 177, 133)"
          ],
          [
           0.3333333333333333,
           "rgb(156, 203, 134)"
          ],
          [
           0.5,
           "rgb(233, 226, 156)"
          ],
          [
           0.6666666666666666,
           "rgb(238, 180, 121)"
          ],
          [
           0.8333333333333334,
           "rgb(232, 132, 113)"
          ],
          [
           1.0,
           "rgb(207, 89, 126)"
          ]
         ],
         "showlegend": false,
         "type": "heatmap",
         "uid": "757fa528-3b81-4988-b2ae-c1cb69ee8738",
         "x": {
          "dtype": "float64",
          "shape": [
           21
          ]
         },
         "xaxis": "x",
         "y": {
          "dtype": "float64",
          "shape": [
           12
          ]
         },
         "yaxis": "y",
         "z": [
          [
           0.012244571680229023,
           0.010857156101189558,
           0.009299129638235289,
           0.008242215105346094,
           0.0074138593838978485,
           0.006827853102614148,
           0.006554096624794127,
           0.0065533166084344174,
           0.006554096624794121,
           0.006827853102614138,
           0.007413859383897833,
           0.008242215105346071,
           0.009299129638235261,
           0.010857156101189525,
           0.012244571680228985,
           0.010846877631243092,
           0.00958116263716395,
           0.008938275769930091,
           0.008938275769930096,
           0.009581162637163965,
           0.010846877631243118
          ],
          [
           0.010801378047559327,
           0.010159202868811319,
           0.009119189149492954,
           0.008213127046494621,
           0.007433201085397047,
           0.006899231073914481,
           0.006609641621449189,
           0.006572528692766959,
           0.0066096416214491815,
           0.0068992310739144705,
           0.007433201085397031,
           0.008213127046494599,
           0.009119189149492928,
           0.01015920286881129,
           0.010801378047559294,
           0.01009991524843919,
           0.009206130064275793,
           0.008685640941988359,
           0.008685640941988364,
           0.009206130064275805,
           0.010099915248439211
          ],
          [
           0.009472239767599087,
           0.009381107619940448,
           0.008889069152750393,
           0.00834724736613802,
           0.007714480069015204,
           0.007268709543714183,
           0.006951165072997686,
           0.0068797205463143035,
           0.0069511650729976796,
           0.007268709543714171,
           0.007714480069015187,
           0.008347247366137997,
           0.008889069152750369,
           0.00938110761994042,
           0.009472239767599061,
           0.009017567601835799,
           0.008430454175807341,
           0.008073869452276958,
           0.00807386945227696,
           0.008430454175807352,
           0.009017567601835816
          ],
          [
           0.008537468400270778,
           0.008822389733526566,
           0.00888266029769192,
           0.008658704889553101,
           0.008290983617600138,
           0.007894050845713074,
           0.007528180639306409,
           0.007356327135716928,
           0.007528180639306401,
           0.007894050845713062,
           0.008290983617600117,
           0.008658704889553075,
           0.008882660297691894,
           0.008822389733526542,
           0.008537468400270755,
           0.00815138847082427,
           0.007683145247632441,
           0.007360712924958094,
           0.0073607129249580955,
           0.007683145247632451,
           0.008151388470824285
          ],
          [
           0.008051886545803183,
           0.008636822788033446,
           0.009166054369342432,
           0.00943340279008752,
           0.009250500375131785,
           0.008734240065307094,
           0.008174677974121558,
           0.008051886545803166,
           0.008174677974121549,
           0.008734240065307075,
           0.009250500375131763,
           0.00943340279008749,
           0.009166054369342402,
           0.00863682278803342,
           0.008051886545803163,
           0.0074607419456061055,
           0.007134294093479738,
           0.006853748140530347,
           0.00685374814053035,
           0.007134294093479746,
           0.007460741945606119
          ],
          [
           0.007772298820833803,
           0.00865088600326128,
           0.009731357981520698,
           0.01067114687180719,
           0.01064185802429784,
           0.009668661713580644,
           0.008890991638513892,
           0.008609804522283564,
           0.008890991638513883,
           0.009668661713580624,
           0.010641858024297806,
           0.010671146871807155,
           0.009731357981520668,
           0.008650886003261256,
           0.007772298820833782,
           0.007149487117354433,
           0.006782651738433901,
           0.00660115295833561,
           0.006601152958335612,
           0.006782651738433907,
           0.007149487117354443
          ],
          [
           0.0077740120960273695,
           0.00873014518874302,
           0.009960792971349552,
           0.011662648016555328,
           0.011690486101847176,
           0.010101341906798655,
           0.009240689431719145,
           0.008873866908551393,
           0.00924068943171913,
           0.010101341906798633,
           0.01169048610184714,
           0.011662648016555286,
           0.009960792971349518,
           0.008730145188742992,
           0.007774012096027351,
           0.007119451549479814,
           0.006654450948437864,
           0.006498603181878466,
           0.006498603181878468,
           0.006654450948437872,
           0.007119451549479827
          ],
          [
           0.0077722988208338,
           0.008650886003261278,
           0.009731357981520696,
           0.010671146871807187,
           0.010641858024297837,
           0.009668661713580641,
           0.00889099163851389,
           0.00860980452228356,
           0.008890991638513883,
           0.009668661713580618,
           0.010641858024297806,
           0.010671146871807152,
           0.009731357981520665,
           0.008650886003261252,
           0.00777229882083378,
           0.007149487117354431,
           0.006782651738433899,
           0.006601152958335609,
           0.006601152958335612,
           0.006782651738433905,
           0.007149487117354443
          ],
          [
           0.00805188654580318,
           0.008636822788033443,
           0.009166054369342425,
           0.009433402790087515,
           0.009250500375131782,
           0.008734240065307089,
           0.008174677974121554,
           0.008051886545803164,
           0.008174677974121546,
           0.008734240065307073,
           0.009250500375131757,
           0.009433402790087487,
           0.009166054369342399,
           0.008636822788033419,
           0.008051886545803159,
           0.007460741945606102,
           0.007134294093479737,
           0.006853748140530346,
           0.0068537481405303476,
           0.007134294093479743,
           0.007460741945606114
          ],
          [
           0.008537468400270774,
           0.008822389733526559,
           0.008882660297691917,
           0.008658704889553098,
           0.008290983617600133,
           0.007894050845713072,
           0.0075281806393064045,
           0.007356327135716923,
           0.007528180639306397,
           0.007894050845713057,
           0.008290983617600113,
           0.008658704889553075,
           0.008882660297691889,
           0.008822389733526535,
           0.00853746840027075,
           0.008151388470824266,
           0.007683145247632438,
           0.00736071292495809,
           0.007360712924958094,
           0.007683145247632447,
           0.008151388470824281
          ],
          [
           0.009472239767599082,
           0.009381107619940446,
           0.008889069152750388,
           0.008347247366138014,
           0.0077144800690152,
           0.00726870954371418,
           0.006951165072997683,
           0.006879720546314301,
           0.006951165072997676,
           0.007268709543714167,
           0.007714480069015184,
           0.00834724736613799,
           0.008889069152750364,
           0.009381107619940416,
           0.009472239767599058,
           0.009017567601835795,
           0.008430454175807338,
           0.008073869452276955,
           0.008073869452276958,
           0.00843045417580735,
           0.009017567601835814
          ],
          [
           0.010801378047559321,
           0.010159202868811315,
           0.00911918914949295,
           0.008213127046494618,
           0.007433201085397045,
           0.00689923107391448,
           0.006609641621449187,
           0.006572528692766957,
           0.006609641621449181,
           0.006899231073914469,
           0.0074332010853970275,
           0.008213127046494597,
           0.009119189149492925,
           0.010159202868811284,
           0.01080137804755929,
           0.010099915248439189,
           0.00920613006427579,
           0.008685640941988357,
           0.00868564094198836,
           0.009206130064275802,
           0.010099915248439208
          ]
         ],
         "zsmooth": "best"
        },
        {
         "hoverinfo": "text",
         "marker": {
          "color": "#ccc",
          "coloraxis": "coloraxis",
          "size": 3
         },
         "mode": "markers+lines",
         "name": "bonds",
         "showlegend": true,
         "type": "scatter",
         "uid": "5df6aeaf-5a1f-4dfd-9001-43c5a5fbea80",
         "x": [
          0.0,
          0.71,
          null,
          0.0,
          0.71,
          null,
          0.0,
          -1.42,
          null,
          0.71,
          2.13,
          null,
          0.71,
          0.0,
          null,
          2.13,
          2.84,
          null,
          2.13,
          2.84,
          null,
          2.84,
          2.13,
          null,
          2.84,
          4.26,
          null
         ],
         "xaxis": "x",
         "y": [
          0.0,
          1.2297560733739028,
          null,
          0.0,
          -1.2297560733739028,
          null,
          0.0,
          0.0,
          null,
          1.2297560733739028,
          1.2297560733739028,
          null,
          1.2297560733739028,
          2.4595121467478056,
          null,
          1.2297560733739028,
          0.0,
          null,
          1.2297560733739028,
          2.4595121467478056,
          null,
          0.0,
          -1.2297560733739028,
          null,
          0.0,
          0.0,
          null
         ],
         "yaxis": "y"
        },
        {
         "marker": {
          "color": [
           "grey",
           "grey",
           "grey",
           "grey"
          ],
          "size": [
           10.72,
           10.72,
           10.72,
           10.72
          ]
         },
         "mode": "markers",
         "name": "Atoms",
         "showlegend": true,
         "text": [
          "[0. 0. 5.]<br>0 (C)",
          "[0.71       1.22975607 5.        ]<br>1 (C)",
          "[2.13       1.22975607 5.        ]<br>2 (C)",
          "[2.84 0.   5.  ]<br>3 (C)"
         ],
         "type": "scatter",
         "uid": "29a131ab-d250-4c7f-be1b-26db508cce22",
         "x": {
          "dtype": "float64",
          "shape": [
           4
          ]
         },
         "xaxis": "x",
         "y": {
          "dtype": "float64",
          "shape": [
           4
          ]
         },
         "yaxis": "y"
        },
        {
         "mode": "lines",
         "name": "Unit cell",
         "type": "scatter",
         "uid": "d38a43f5-4fc4-42e1-8ad8-f78b02fe60b9",
         "x": {
          "dtype": "float64",
          "shape": [
           16
          ]
         },
         "xaxis": "x",
         "y": {
          "dtype": "float64",
          "shape": [
           16
          ]
         },
         "yaxis": "y"
        },
        {
         "colorscale": [
          [
           0.0,
           "rgb(12,51,131)"
          ],
          [
           0.25,
           "rgb(10,136,186)"
          ],
          [
           0.5,
           "rgb(242,211,56)"
          ],
          [
           0.75,
           "rgb(242,143,56)"
          ],
          [
           1.0,
           "rgb(217,30,30)"
          ]
         ],
         "showlegend": false,
         "type": "heatmap",
         "uid": "66388d49-511a-484d-b56a-eda9565dc316",
         "x": {
          "dtype": "float64",
          "shape": [
           21
          ]
         },
         "xaxis": "x2",
         "y": {
          "dtype": "float64",
          "shape": [
           12
          ]
         },
         "yaxis": "y2",
         "z": [
          [
           0.003460447941093967,
           0.0028776317200728736,
           0.002083843517357594,
           0.0014193299178990578,
           0.0008654071153352384,
           0.00045618114085763106,
           0.0001319837671564747,
           8.301477529076724e-33,
           0.00013198376715647855,
           0.00045618114085763925,
           0.0008654071153352513,
           0.0014193299178990777,
           0.002083843517357622,
           0.0028776317200729148,
           0.0034604479410940197,
           0.0019067933689183472,
           0.0006574771770301375,
           7.92034081454178e-05,
           7.920340814541119e-05,
           0.0006574771770301176,
           0.0019067933689183095
          ],
          [
           0.002511438415316981,
           0.0024693554044619126,
           0.0019556522767254342,
           0.0013912286909309398,
           0.0008729476531650988,
           0.00045985358092757463,
           0.00012628998728708815,
           7.715709819927331e-33,
           0.00012628998728709206,
           0.0004598535809275827,
           0.0008729476531651115,
           0.0013912286909309587,
           0.0019556522767254607,
           0.002469355404461949,
           0.0025114384153170207,
           0.0015404884355321052,
           0.0005608582350151383,
           6.860409521844815e-05,
           6.860409521844233e-05,
           0.0005608582350151203,
           0.0015404884355320729
          ],
          [
           0.0017124881431047003,
           0.0019459492307856,
           0.001814472142065464,
           0.0014442499309882642,
           0.0009805174575017556,
           0.0004951108159860394,
           0.0001371193907522019,
           7.276527249700985e-33,
           0.00013711939075220574,
           0.0004951108159860472,
           0.0009805174575017682,
           0.0014442499309882822,
           0.0018144721420654873,
           0.0019459492307856278,
           0.0017124881431047287,
           0.001080180145484215,
           0.0004261803633436125,
           4.8171481946632996e-05,
           4.817148194662828e-05,
           0.00042618036334359785,
           0.0010801801454841911
          ],
          [
           0.0013604951893622507,
           0.001713268155940814,
           0.001808806181265583,
           0.0015792499816373693,
           0.0011189125091046995,
           0.0005669250620086842,
           0.00015462168723071217,
           6.520029913225239e-33,
           0.00015462168723071588,
           0.000566925062008692,
           0.0011189125091047116,
           0.0015792499816373862,
           0.0018088061812656035,
           0.0017132681559408366,
           0.0013604951893622726,
           0.000843176639444708,
           0.0003512565745600411,
           4.1335304575486674e-05,
           4.133530457548256e-05,
           0.0003512565745600289,
           0.0008431766394446884
          ],
          [
           0.001215109168266014,
           0.0016508738858123971,
           0.0019127579505907545,
           0.001922561263473333,
           0.001432694468631878,
           0.0007310904436439281,
           0.00019029385790716216,
           6.247460587783768e-33,
           0.00019029385790716587,
           0.0007310904436439356,
           0.0014326944686318898,
           0.001922561263473349,
           0.0019127579505907732,
           0.0016508738858124169,
           0.0012151091682660324,
           0.0007327652419030771,
           0.0002915326795550192,
           4.16406844420874e-05,
           4.164068444208356e-05,
           0.00029153267955500884,
           0.0007327652419030609
          ],
          [
           0.0011285785151409274,
           0.001681364127928824,
           0.002188618135858146,
           0.002589835200582249,
           0.0020864635302380256,
           0.000995845597295173,
           0.0002536614400173603,
           5.908300500743721e-33,
           0.0002536614400173642,
           0.0009958455972951807,
           0.0020864635302380373,
           0.0025898352005822643,
           0.0021886181358581644,
           0.0016813641279288423,
           0.001128578515140944,
           0.0006643451798876225,
           0.00026124105464818675,
           3.398269013448112e-05,
           3.398269013447779e-05,
           0.0002612410546481774,
           0.0006643451798876078
          ],
          [
           0.0011217500587753263,
           0.0017309828844840414,
           0.002466731372055689,
           0.0033732258763124845,
           0.002821103460337494,
           0.0011810578028510366,
           0.0002964234241497651,
           5.922931597472013e-33,
           0.0002964234241497692,
           0.0011810578028510442,
           0.0028211034603375057,
           0.0033732258763124997,
           0.0024667313720557068,
           0.0017309828844840598,
           0.0011217500587753421,
           0.0006440805437975649,
           0.0002830823813883253,
           4.447822448219558e-05,
           4.447822448219224e-05,
           0.0002830823813883158,
           0.0006440805437975506
          ],
          [
           0.001128578515140927,
           0.001681364127928823,
           0.0021886181358581444,
           0.002589835200582247,
           0.002086463530238024,
           0.0009958455972951718,
           0.00025366144001736,
           5.8093455651030705e-33,
           0.00025366144001736393,
           0.0009958455972951797,
           0.0020864635302380355,
           0.002589835200582262,
           0.0021886181358581626,
           0.0016813641279288416,
           0.0011285785151409434,
           0.000664345179887622,
           0.0002612410546481866,
           3.398269013448107e-05,
           3.398269013447777e-05,
           0.0002612410546481773,
           0.0006643451798876072
          ],
          [
           0.0012151091682660127,
           0.0016508738858123952,
           0.001912757950590753,
           0.001922561263473331,
           0.0014326944686318768,
           0.0007310904436439271,
           0.00019029385790716186,
           6.052139618638214e-33,
           0.00019029385790716557,
           0.0007310904436439348,
           0.0014326944686318887,
           0.0019225612634733475,
           0.0019127579505907712,
           0.0016508738858124151,
           0.001215109168266031,
           0.0007327652419030767,
           0.000291532679555019,
           4.164068444208731e-05,
           4.16406844420835e-05,
           0.00029153267955500856,
           0.0007327652419030602
          ],
          [
           0.0013604951893622487,
           0.0017132681559408113,
           0.0018088061812655816,
           0.0015792499816373682,
           0.0011189125091046982,
           0.0005669250620086837,
           0.00015462168723071203,
           6.541515880425963e-33,
           0.00015462168723071572,
           0.0005669250620086913,
           0.0011189125091047105,
           0.0015792499816373845,
           0.0018088061812656028,
           0.0017132681559408342,
           0.0013604951893622706,
           0.0008431766394447068,
           0.0003512565745600408,
           4.1335304575486674e-05,
           4.133530457548253e-05,
           0.00035125657456002845,
           0.0008431766394446875
          ],
          [
           0.0017124881431046985,
           0.001945949230785598,
           0.0018144721420654624,
           0.0014442499309882636,
           0.000980517457501755,
           0.0004951108159860388,
           0.00013711939075220178,
           7.320819876839969e-33,
           0.00013711939075220558,
           0.0004951108159860468,
           0.0009805174575017676,
           0.001444249930988281,
           0.0018144721420654858,
           0.0019459492307856258,
           0.001712488143104727,
           0.0010801801454842137,
           0.0004261803633436121,
           4.8171481946632935e-05,
           4.817148194662829e-05,
           0.00042618036334359736,
           0.0010801801454841898
          ],
          [
           0.002511438415316978,
           0.002469355404461911,
           0.0019556522767254325,
           0.0013912286909309388,
           0.000872947653165098,
           0.0004598535809275743,
           0.00012628998728708804,
           7.62528218520768e-33,
           0.00012628998728709195,
           0.00045985358092758254,
           0.0008729476531651107,
           0.0013912286909309578,
           0.00195565227672546,
           0.002469355404461946,
           0.0025114384153170177,
           0.0015404884355321032,
           0.0005608582350151378,
           6.860409521844815e-05,
           6.860409521844233e-05,
           0.0005608582350151199,
           0.0015404884355320714
          ]
         ],
         "zsmooth": "best"
        },
        {
         "hoverinfo": "text",
         "marker": {
          "color": "#ccc",
          "coloraxis": "coloraxis",
          "size": 3
         },
         "mode": "markers+lines",
         "name": "bonds",
         "showlegend": true,
         "type": "scatter",
         "uid": "0735b4e1-7b7a-4c17-9339-20bfb0d5995e",
         "x": [
          0.0,
          0.71,
          null,
          0.0,
          0.71,
          null,
          0.0,
          -1.42,
          null,
          0.71,
          2.13,
          null,
          0.71,
          0.0,
          null,
          2.13,
          2.84,
          null,
          2.13,
          2.84,
          null,
          2.84,
          2.13,
          null,
          2.84,
          4.26,
          null
         ],
         "xaxis": "x2",
         "y": [
          0.0,
          1.2297560733739028,
          null,
          0.0,
          -1.2297560733739028,
          null,
          0.0,
          0.0,
          null,
          1.2297560733739028,
          1.2297560733739028,
          null,
          1.2297560733739028,
          2.4595121467478056,
          null,
          1.2297560733739028,
          0.0,
          null,
          1.2297560733739028,
          2.4595121467478056,
          null,
          0.0,
          -1.2297560733739028,
          null,
          0.0,
          0.0,
          null
         ],
         "yaxis": "y2"
        },
        {
         "marker": {
          "color": [
           "grey",
           "grey",
           "grey",
           "grey"
          ],
          "size": [
           10.72,
           10.72,
           10.72,
           10.72
          ]
         },
         "mode": "markers",
         "name": "Atoms",
         "showlegend": true,
         "text": [
          "[0. 0. 5.]<br>0 (C)",
          "[0.71       1.22975607 5.        ]<br>1 (C)",
          "[2.13       1.22975607 5.        ]<br>2 (C)",
          "[2.84 0.   5.  ]<br>3 (C)"
         ],
         "type": "scatter",
         "uid": "5257f3b9-cf32-4e15-9dd0-bc5e5e23353e",
         "x": {
          "dtype": "float64",
          "shape": [
           4
          ]
         },
         "xaxis": "x2",
         "y": {
          "dtype": "float64",
          "shape": [
           4
          ]
         },
         "yaxis": "y2"
        },
        {
         "mode": "lines",
         "name": "Unit cell",
         "type": "scatter",
         "uid": "7136ebde-5fc4-4322-b27f-cdb79d2078cb",
         "x": {
          "dtype": "float64",
          "shape": [
           16
          ]
         },
         "xaxis": "x2",
         "y": {
          "dtype": "float64",
          "shape": [
           16
          ]
         },
         "yaxis": "y2"
        },
        {
         "colorscale": [
          [
           0.0,
           "rgb(253, 224, 197)"
          ],
          [
           0.16666666666666666,
           "rgb(250, 203, 166)"
          ],
          [
           0.3333333333333333,
           "rgb(248, 181, 139)"
          ],
          [
           0.5,
           "rgb(245, 158, 114)"
          ],
          [
           0.6666666666666666,
           "rgb(242, 133, 93)"
          ],
          [
           0.8333333333333334,
           "rgb(239, 106, 76)"
          ],
          [
           1.0,
           "rgb(235, 74, 64)"
          ]
         ],
         "showlegend": false,
         "type": "heatmap",
         "uid": "f94509a1-aa62-44ee-b1ce-a2d3221b6664",
         "x": {
          "dtype": "float64",
          "shape": [
           21
          ]
         },
         "xaxis": "x3",
         "y": {
          "dtype": "float64",
          "shape": [
           12
          ]
         },
         "yaxis": "y3",
         "z": [
          [
           0.002479969957057722,
           0.001229125969591206,
           0.0003758107892278481,
           8.006781217340003e-05,
           4.361274941043654e-05,
           0.00010616965609127986,
           0.00016139393568350812,
           0.0001798046448371593,
           0.00016139393568350867,
           0.00010616965609128061,
           4.361274941043694e-05,
           8.006781217339916e-05,
           0.00037581078922784434,
           0.0012291259695911972,
           0.0024799699570577072,
           0.0019535268998528013,
           0.0014324087229494811,
           0.0012170044941773746,
           0.0012170044941773764,
           0.0014324087229494868,
           0.0019535268998528113
          ],
          [
           0.0014999577960825403,
           0.0008333063690892708,
           0.00026377632003137316,
           4.640646622303333e-05,
           4.7517134448774995e-05,
           0.00011310222835669853,
           0.00018371338415488526,
           0.00020871823643844883,
           0.0001837133841548858,
           0.00011310222835669933,
           4.75171344487756e-05,
           4.640646622303286e-05,
           0.00026377632003137035,
           0.000833306369089264,
           0.001499957796082531,
           0.001486429883174141,
           0.0012478565493115516,
           0.0010745801559746268,
           0.0010745801559746283,
           0.0012478565493115562,
           0.0014864298831741489
          ],
          [
           0.0006357571305582939,
           0.0003132128935442638,
           6.628259679791392e-05,
           2.1420363695342287e-05,
           0.0001029139972020748,
           0.00019985962479723135,
           0.00028009532892562237,
           0.00030511742024310457,
           0.00028009532892562313,
           0.00019985962479723252,
           0.00010291399720207601,
           2.142036369534275e-05,
           6.628259679791271e-05,
           0.0003132128935442606,
           0.0006357571305582893,
           0.0008011378015956182,
           0.0008396160825980923,
           0.0008028073143305211,
           0.0008028073143305223,
           0.0008396160825980955,
           0.0008011378015956229
          ],
          [
           0.00021145298466214568,
           4.754498353299239e-05,
           5.2966970087836924e-06,
           0.0001238323811174707,
           0.0002990536581106458,
           0.00043725160985978994,
           0.0005017165163283342,
           0.0005190483947432911,
           0.000501716516328335,
           0.0004372516098597914,
           0.00029905365811064776,
           0.00012383238111747226,
           5.29669700878404e-06,
           4.754498353299131e-05,
           0.00021145298466214354,
           0.0003654651505929442,
           0.000468310345559268,
           0.0005178739040549567,
           0.0005178739040549574,
           0.00046831034555927,
           0.000365465150592947
          ],
          [
           5.692370529745698e-05,
           1.7894433268676835e-05,
           0.00016749077153382412,
           0.0004793308380042788,
           0.0007561672467495513,
           0.000833349503520177,
           0.0008226450308248537,
           0.0007941119956986867,
           0.0008226450308248549,
           0.0008333495035201795,
           0.0007561672467495546,
           0.00047933083800428183,
           0.0001674907715338258,
           1.789443326867705e-05,
           5.692370529745609e-05,
           0.00015772600872792706,
           0.00023838231180277076,
           0.0003015444917511438,
           0.00030154449175114436,
           0.0002383823118027721,
           0.00015772600872792866
          ],
          [
           3.934466053475432e-05,
           0.00011276379878531897,
           0.0005044343616381451,
           0.001211976883053298,
           0.0015688969077143902,
           0.0013471304840421802,
           0.001157462084087513,
           0.0010583218331625417,
           0.0011574620840875142,
           0.0013471304840421837,
           0.001568896907714395,
           0.001211976883053303,
           0.0005044343616381481,
           0.00011276379878532004,
           3.934466053475412e-05,
           7.453047571590134e-05,
           0.0001445558330576691,
           0.0001980294413377912,
           0.00019802944133779157,
           0.00014455583305767003,
           7.453047571590217e-05
          ],
          [
           5.316093431365399e-05,
           0.00018555653158497623,
           0.0007049608912625482,
           0.0019374939900214136,
           0.0023455444502692006,
           0.0016569863621143362,
           0.0012860197348051664,
           0.0011748115007147602,
           0.001286019734805168,
           0.0016569863621143392,
           0.002345544450269207,
           0.0019374939900214207,
           0.0007049608912625519,
           0.00018555653158497756,
           5.316093431365396e-05,
           7.583440922576321e-05,
           0.00012811566743519212,
           0.00018480008408089266,
           0.000184800084080893,
           0.000128115667435193,
           7.583440922576392e-05
          ],
          [
           3.934466053475433e-05,
           0.0001127637987853189,
           0.0005044343616381446,
           0.001211976883053297,
           0.0015688969077143884,
           0.0013471304840421787,
           0.001157462084087512,
           0.001058321833162541,
           0.0011574620840875136,
           0.0013471304840421822,
           0.001568896907714393,
           0.0012119768830533017,
           0.0005044343616381475,
           0.00011276379878531994,
           3.934466053475412e-05,
           7.453047571590134e-05,
           0.0001445558330576691,
           0.0001980294413377912,
           0.00019802944133779152,
           0.00014455583305767003,
           7.45304757159022e-05
          ],
          [
           5.6923705297457004e-05,
           1.7894433268676828e-05,
           0.00016749077153382385,
           0.00047933083800427836,
           0.0007561672467495505,
           0.0008333495035201763,
           0.0008226450308248526,
           0.0007941119956986858,
           0.0008226450308248538,
           0.0008333495035201786,
           0.0007561672467495536,
           0.0004793308380042814,
           0.0001674907715338256,
           1.7894433268677045e-05,
           5.6923705297456096e-05,
           0.00015772600872792703,
           0.00023838231180277062,
           0.00030154449175114376,
           0.00030154449175114425,
           0.000238382311802772,
           0.0001577260087279286
          ],
          [
           0.00021145298466214533,
           4.7544983532992324e-05,
           5.296697008783677e-06,
           0.00012383238111747036,
           0.00029905365811064527,
           0.00043725160985978923,
           0.0005017165163283332,
           0.0005190483947432903,
           0.0005017165163283342,
           0.00043725160985979086,
           0.0002990536581106473,
           0.000123832381117472,
           5.296697008784015e-06,
           4.7544983532991226e-05,
           0.0002114529846621432,
           0.00036546515059294386,
           0.00046831034555926777,
           0.0005178739040549566,
           0.0005178739040549574,
           0.00046831034555926994,
           0.0003654651505929464
          ],
          [
           0.0006357571305582933,
           0.0003132128935442638,
           6.6282596797914e-05,
           2.1420363695342192e-05,
           0.00010291399720207446,
           0.00019985962479723084,
           0.0002800953289256218,
           0.0003051174202431041,
           0.00028009532892562253,
           0.00019985962479723192,
           0.00010291399720207568,
           2.1420363695342663e-05,
           6.628259679791278e-05,
           0.00031321289354426055,
           0.0006357571305582886,
           0.000801137801595618,
           0.000839616082598092,
           0.0008028073143305214,
           0.0008028073143305224,
           0.0008396160825980954,
           0.0008011378015956223
          ],
          [
           0.0014999577960825392,
           0.0008333063690892705,
           0.0002637763200313734,
           4.640646622303345e-05,
           4.751713444877481e-05,
           0.00011310222835669814,
           0.0001837133841548848,
           0.00020871823643844835,
           0.00018371338415488537,
           0.00011310222835669899,
           4.751713444877541e-05,
           4.640646622303295e-05,
           0.0002637763200313705,
           0.0008333063690892638,
           0.0014999577960825299,
           0.0014864298831741404,
           0.0012478565493115519,
           0.0010745801559746274,
           0.0010745801559746287,
           0.0012478565493115562,
           0.0014864298831741487
          ]
         ],
         "zsmooth": "best"
        },
        {
         "hoverinfo": "text",
         "marker": {
          "color": "#ccc",
          "coloraxis": "coloraxis",
          "size": 3
         },
         "mode": "markers+lines",
         "name": "bonds",
         "showlegend": true,
         "type": "scatter",
         "uid": "70a0533a-d384-471e-93dc-6a39862c3bb9",
         "x": [
          0.0,
          0.71,
          null,
          0.0,
          0.71,
          null,
          0.0,
          -1.42,
          null,
          0.71,
          2.13,
          null,
          0.71,
          0.0,
          null,
          2.13,
          2.84,
          null,
          2.13,
          2.84,
          null,
          2.84,
          2.13,
          null,
          2.84,
          4.26,
          null
         ],
         "xaxis": "x3",
         "y": [
          0.0,
          1.2297560733739028,
          null,
          0.0,
          -1.2297560733739028,
          null,
          0.0,
          0.0,
          null,
          1.2297560733739028,
          1.2297560733739028,
          null,
          1.2297560733739028,
          2.4595121467478056,
          null,
          1.2297560733739028,
          0.0,
          null,
          1.2297560733739028,
          2.4595121467478056,
          null,
          0.0,
          -1.2297560733739028,
          null,
          0.0,
          0.0,
          null
         ],
         "yaxis": "y3"
        },
        {
         "marker": {
          "color": [
           "grey",
           "grey",
           "grey",
           "grey"
          ],
          "size": [
           10.72,
           10.72,
           10.72,
           10.72
          ]
         },
         "mode": "markers",
         "name": "Atoms",
         "showlegend": true,
         "text": [
          "[0. 0. 5.]<br>0 (C)",
          "[0.71       1.22975607 5.        ]<br>1 (C)",
          "[2.13       1.22975607 5.        ]<br>2 (C)",
          "[2.84 0.   5.  ]<br>3 (C)"
         ],
         "type": "scatter",
         "uid": "1218a72e-7e7f-4861-8afc-90d4b6ba2463",
         "x": {
          "dtype": "float64",
          "shape": [
           4
          ]
         },
         "xaxis": "x3",
         "y": {
          "dtype": "float64",
          "shape": [
           4
          ]
         },
         "yaxis": "y3"
        },
        {
         "mode": "lines",
         "name": "Unit cell",
         "type": "scatter",
         "uid": "32fd7e3e-efa9-47c4-aa9c-f6f98b3b979b",
         "x": {
          "dtype": "float64",
          "shape": [
           16
          ]
         },
         "xaxis": "x3",
         "y": {
          "dtype": "float64",
          "shape": [
           16
          ]
         },
         "yaxis": "y3"
        },
        {
         "colorscale": [
          [
           0.0,
           "#440154"
          ],
          [
           0.1111111111111111,
           "#482878"
          ],
          [
           0.2222222222222222,
           "#3e4989"
          ],
          [
           0.3333333333333333,
           "#31688e"
          ],
          [
           0.4444444444444444,
           "#26828e"
          ],
          [
           0.5555555555555556,
           "#1f9e89"
          ],
          [
           0.6666666666666666,
           "#35b779"
          ],
          [
           0.7777777777777778,
           "#6ece58"
          ],
          [
           0.8888888888888888,
           "#b5de2b"
          ],
          [
           1.0,
           "#fde725"
          ]
         ],
         "showlegend": false,
         "type": "heatmap",
         "uid": "d6299340-eee0-4d04-9068-56051fad3e52",
         "x": {
          "dtype": "float64",
          "shape": [
           21
          ]
         },
         "xaxis": "x4",
         "y": {
          "dtype": "float64",
          "shape": [
           12
          ]
         },
         "yaxis": "y4",
         "z": [
          [
           0.0019135395403810681,
           0.0010487189854649765,
           0.00038681947314959746,
           0.0001071087994835051,
           2.624886193665104e-05,
           8.175491441065101e-06,
           2.863799716185289e-06,
           6.808317584888221e-34,
           2.8637997161852984e-06,
           8.175491441064969e-06,
           2.624886193665073e-05,
           0.0001071087994835045,
           0.0003868194731495964,
           0.0010487189854649756,
           0.001913539540381068,
           0.001042838332754861,
           0.00032833949313938276,
           3.5636734173413343e-05,
           3.563673417341372e-05,
           0.0003283394931393837,
           0.0010428383327548624
          ],
          [
           0.0010341513535874235,
           0.0006803980741004011,
           0.0002645320438529319,
           7.178527429349255e-05,
           1.073346007917509e-05,
           6.691681037100382e-07,
           2.216464317841788e-06,
           6.906112092373251e-34,
           2.2164643178418092e-06,
           6.691681037099964e-07,
           1.0733460079174845e-05,
           7.178527429349195e-05,
           0.0002645320438529311,
           0.0006803980741004002,
           0.001034151353587423,
           0.000703128162994042,
           0.00025007989658795167,
           3.156800546784601e-05,
           3.156800546784637e-05,
           0.00025007989658795265,
           0.0007031281629940434
          ],
          [
           0.00034819790062906624,
           0.00021930342496828304,
           6.872270502297609e-05,
           7.260083972495707e-06,
           5.432804733128019e-06,
           1.1764271490316307e-05,
           9.59968328547378e-06,
           7.712223071895174e-34,
           9.599683285473975e-06,
           1.1764271490316562e-05,
           5.432804733128189e-06,
           7.260083972495503e-06,
           6.87227050229755e-05,
           0.00021930342496828228,
           0.00034819790062906515,
           0.00027885351629403305,
           0.00012695252622976547,
           1.8016907372121732e-05,
           1.8016907372122075e-05,
           0.00012695252622976633,
           0.00027885351629403446
          ],
          [
           6.855725895062295e-05,
           1.986527300876625e-05,
           2.4161460608383558e-06,
           4.5986579442422236e-05,
           8.175669832021229e-05,
           6.475061809060138e-05,
           2.220952541555142e-05,
           8.809123208171143e-34,
           2.2209525415551863e-05,
           6.475061809060221e-05,
           8.175669832021317e-05,
           4.598657944242285e-05,
           2.4161460608384803e-06,
           1.9865273008765944e-05,
           6.855725895062245e-05,
           7.728978721444364e-05,
           4.423989815920294e-05,
           7.295676577493328e-06,
           7.29567657749353e-06,
           4.4239898159203486e-05,
           7.728978721444452e-05
          ],
          [
           2.3570085572214622e-34,
           2.980275246896952e-05,
           0.00013636735797924852,
           0.00029753279332096945,
           0.00033852735743657375,
           0.00020174513032503955,
           6.53482256135181e-05,
           1.0997158591526518e-33,
           6.534822561351905e-05,
           0.00020174513032504126,
           0.00033852735743657603,
           0.0002975327933209715,
           0.0001363673579792497,
           2.9802752468969953e-05,
           9.666232430634445e-34,
           9.583002711590971e-06,
           1.2497256827937104e-05,
           5.450520953858424e-06,
           5.45052095385853e-06,
           1.2497256827937365e-05,
           9.583002711591335e-06
          ],
          [
           3.2608093944946796e-05,
           0.00014656013958480574,
           0.00044162544869801897,
           0.0009207784087898639,
           0.0009338759095639214,
           0.0004522684328680708,
           0.00011119156444671616,
           1.3158500319363148e-33,
           0.00011119156444671757,
           0.00045226843286807355,
           0.0009338759095639258,
           0.0009207784087898682,
           0.0004416254486980215,
           0.000146560139584807,
           3.260809394494727e-05,
           3.882058632173464e-06,
           5.471924569408913e-07,
           2.151089101566374e-06,
           2.151089101566392e-06,
           5.471924569409293e-07,
           3.8820586321732745e-06
          ],
          [
           5.811977758073393e-05,
           0.00021052044926382575,
           0.0006563015892082952,
           0.0015843759769150606,
           0.0015795566048696062,
           0.0006166735263955586,
           0.00013882960881873602,
           1.350343340816641e-33,
           0.0001388296088187376,
           0.000616673526395562,
           0.001579556604869613,
           0.0015843759769150674,
           0.0006563015892082982,
           0.00021052044926382724,
           5.811977758073453e-05,
           1.4594071277620716e-05,
           4.273270800305545e-06,
           1.8027692027707174e-06,
           1.8027692027706988e-06,
           4.273270800305446e-06,
           1.4594071277620316e-05
          ],
          [
           3.260809394494681e-05,
           0.00014656013958480566,
           0.00044162544869801837,
           0.0009207784087898627,
           0.0009338759095639204,
           0.00045226843286807025,
           0.00011119156444671601,
           1.3359405548925448e-33,
           0.00011119156444671735,
           0.0004522684328680732,
           0.0009338759095639246,
           0.000920778408789867,
           0.0004416254486980208,
           0.00014656013958480688,
           3.260809394494728e-05,
           3.882058632173477e-06,
           5.471924569408933e-07,
           2.1510891015663794e-06,
           2.1510891015663955e-06,
           5.471924569409306e-07,
           3.882058632173282e-06
          ],
          [
           2.2895980952664195e-34,
           2.980275246896955e-05,
           0.00013636735797924846,
           0.0002975327933209693,
           0.0003385273574365733,
           0.00020174513032503928,
           6.5348225613518e-05,
           1.1096060712702675e-33,
           6.534822561351893e-05,
           0.00020174513032504104,
           0.00033852735743657565,
           0.00029753279332097134,
           0.0001363673579792496,
           2.9802752468969983e-05,
           1.2097096801230318e-33,
           9.58300271159092e-06,
           1.249725682793707e-05,
           5.450520953858411e-06,
           5.4505209538585135e-06,
           1.2497256827937348e-05,
           9.583002711591293e-06
          ],
          [
           6.855725895062273e-05,
           1.986527300876618e-05,
           2.4161460608383558e-06,
           4.598657944242209e-05,
           8.175669832021209e-05,
           6.47506180906013e-05,
           2.2209525415551382e-05,
           8.840191854988546e-34,
           2.2209525415551826e-05,
           6.475061809060213e-05,
           8.175669832021298e-05,
           4.5986579442422697e-05,
           2.416146060838483e-06,
           1.9865273008765846e-05,
           6.855725895062224e-05,
           7.728978721444341e-05,
           4.423989815920289e-05,
           7.29567657749332e-06,
           7.295676577493529e-06,
           4.423989815920346e-05,
           7.728978721444425e-05
          ],
          [
           0.00034819790062906553,
           0.00021930342496828296,
           6.872270502297606e-05,
           7.26008397249572e-06,
           5.432804733127993e-06,
           1.1764271490316266e-05,
           9.599683285473768e-06,
           7.595892177435769e-34,
           9.599683285473965e-06,
           1.176427149031652e-05,
           5.432804733128157e-06,
           7.260083972495517e-06,
           6.872270502297548e-05,
           0.00021930342496828212,
           0.0003481979006290646,
           0.00027885351629403294,
           0.00012695252622976533,
           1.8016907372121722e-05,
           1.8016907372122024e-05,
           0.00012695252622976612,
           0.0002788535162940342
          ],
          [
           0.0010341513535874222,
           0.0006803980741004006,
           0.000264532043852932,
           7.178527429349271e-05,
           1.0733460079175157e-05,
           6.691681037100465e-07,
           2.2164643178417876e-06,
           7.0842309434139055e-34,
           2.2164643178418084e-06,
           6.691681037100049e-07,
           1.0733460079174916e-05,
           7.178527429349214e-05,
           0.00026453204385293115,
           0.0006803980741003997,
           0.0010341513535874214,
           0.0007031281629940412,
           0.00025007989658795145,
           3.156800546784603e-05,
           3.156800546784639e-05,
           0.0002500798965879524,
           0.0007031281629940428
          ]
         ],
         "zsmooth": "best"
        },
        {
         "hoverinfo": "text",
         "marker": {
          "color": "#ccc",
          "coloraxis": "coloraxis",
          "size": 3
         },
         "mode": "markers+lines",
         "name": "bonds",
         "showlegend": true,
         "type": "scatter",
         "uid": "faae8c43-a58d-4deb-8462-5c1090a1622d",
         "x": [
          0.0,
          0.71,
          null,
          0.0,
          0.71,
          null,
          0.0,
          -1.42,
          null,
          0.71,
          2.13,
          null,
          0.71,
          0.0,
          null,
          2.13,
          2.84,
          null,
          2.13,
          2.84,
          null,
          2.84,
          2.13,
          null,
          2.84,
          4.26,
          null
         ],
         "xaxis": "x4",
         "y": [
          0.0,
          1.2297560733739028,
          null,
          0.0,
          -1.2297560733739028,
          null,
          0.0,
          0.0,
          null,
          1.2297560733739028,
          1.2297560733739028,
          null,
          1.2297560733739028,
          2.4595121467478056,
          null,
          1.2297560733739028,
          0.0,
          null,
          1.2297560733739028,
          2.4595121467478056,
          null,
          0.0,
          -1.2297560733739028,
          null,
          0.0,
          0.0,
          null
         ],
         "yaxis": "y4"
        },
        {
         "marker": {
          "color": [
           "grey",
           "grey",
           "grey",
           "grey"
          ],
          "size": [
           10.72,
           10.72,
           10.72,
           10.72
          ]
         },
         "mode": "markers",
         "name": "Atoms",
         "showlegend": true,
         "text": [
          "[0. 0. 5.]<br>0 (C)",
          "[0.71       1.22975607 5.        ]<br>1 (C)",
          "[2.13       1.22975607 5.        ]<br>2 (C)",
          "[2.84 0.   5.  ]<br>3 (C)"
         ],
         "type": "scatter",
         "uid": "67850475-afa7-435b-8805-3079ad187adb",
         "x": {
          "dtype": "float64",
          "shape": [
           4
          ]
         },
         "xaxis": "x4",
         "y": {
          "dtype": "float64",
          "shape": [
           4
          ]
         },
         "yaxis": "y4"
        },
        {
         "mode": "lines",
         "name": "Unit cell",
         "type": "scatter",
         "uid": "e03dd6e6-387e-490a-a3d6-13426bf3a11b",
         "x": {
          "dtype": "float64",
          "shape": [
           16
          ]
         },
         "xaxis": "x4",
         "y": {
          "dtype": "float64",
          "shape": [
           16
          ]
         },
         "yaxis": "y4"
        }
       ],
       "_dom_classes": [],
       "_js2py_layoutDelta": {},
       "_js2py_pointsCallback": {},
       "_js2py_relayout": {},
       "_js2py_restyle": {},
       "_js2py_traceDeltas": {},
       "_js2py_update": {},
       "_last_layout_edit_id": 0,
       "_last_trace_edit_id": 0,
       "_layout": {
        "annotations": [
         {
          "font": {
           "size": 16
          },
          "showarrow": false,
          "text": "X axis [Ang]",
          "x": 0.5,
          "xanchor": "center",
          "xref": "paper",
          "y": 0,
          "yanchor": "top",
          "yref": "paper",
          "yshift": -30
         },
         {
          "font": {
           "size": 16
          },
          "showarrow": false,
          "text": "Y axis [Ang]",
          "textangle": -90,
          "x": 0,
          "xanchor": "right",
          "xref": "paper",
          "xshift": -40,
          "y": 0.5,
          "yanchor": "middle",
          "yref": "paper"
         }
        ],
        "template": {
         "layout": {
          "hovermode": "closest",
          "paper_bgcolor": "white",
          "plot_bgcolor": "white",
          "scene": {
           "xaxis": {
            "color": "black",
            "gridcolor": "#ccc",
            "gridwidth": 1,
            "linewidth": 1,
            "mirror": true,
            "showgrid": false,
            "showline": true,
            "ticklen": 5,
            "ticks": "outside",
            "ticksuffix": " ",
            "visible": true,
            "zeroline": false,
            "zerolinecolor": "#ccc",
            "zerolinewidth": 1
           },
           "yaxis": {
            "color": "black",
            "gridcolor": "#ccc",
            "gridwidth": 1,
            "linewidth": 1,
            "mirror": true,
            "showgrid": false,
            "showline": true,
            "ticklen": 5,
            "ticks": "outside",
            "ticksuffix": " ",
            "visible": true,
            "zeroline": false,
            "zerolinecolor": "#ccc",
            "zerolinewidth": 1
           },
           "zaxis": {
            "color": "black",
            "gridcolor": "#ccc",
            "gridwidth": 1,
            "linewidth": 1,
            "mirror": true,
            "showgrid": false,
            "showline": true,
            "ticklen": 5,
            "ticks": "outside",
            "ticksuffix": " ",
            "visible": true,
            "zeroline": false,
            "zerolinecolor": "#ccc",
            "zerolinewidth": 1
           }
          },
          "xaxis": {
           "color": "black",
           "gridcolor": "#ccc",
           "gridwidth": 1,
           "linewidth": 1,
           "mirror": true,
           "showgrid": false,
           "showline": true,
           "ticklen": 5,
           "ticks": "outside",
           "ticksuffix": " ",
           "visible": true,
           "zeroline": false,
           "zerolinecolor": "#ccc",
           "zerolinewidth": 1
          },
          "yaxis": {
           "color": "black",
           "gridcolor": "#ccc",
           "gridwidth": 1,
           "linewidth": 1,
           "mirror": true,
           "showgrid": false,
           "showline": true,
           "ticklen": 5,
           "ticks": "outside",
           "ticksuffix": " ",
           "visible": true,
           "zeroline": false,
           "zerolinecolor": "#ccc",
           "zerolinewidth": 1
          }
         }
        },
        "xaxis": {
         "anchor": "y",
         "domain": [
          0.0,
          0.45
         ]
        },
        "xaxis2": {
         "anchor": "y2",
         "domain": [
          0.55,
          1.0
         ]
        },
        "xaxis3": {
         "anchor": "y3",
         "domain": [
          0.0,
          0.45
         ]
        },
        "xaxis4": {
         "anchor": "y4",
         "domain": [
          0.55,
          1.0
         ]
        },
        "yaxis": {
         "anchor": "x",
         "domain": [
          0.575,
          1.0
         ],
         "scaleanchor": "x",
         "scaleratio": 1
        },
        "yaxis2": {
         "anchor": "x2",
         "domain": [
          0.575,
          1.0
         ],
         "scaleanchor": "x2",
         "scaleratio": 1
        },
        "yaxis3": {
         "anchor": "x3",
         "domain": [
          0.0,
          0.425
         ],
         "scaleanchor": "x3",
         "scaleratio": 1
        },
        "yaxis4": {
         "anchor": "x4",
         "domain": [
          0.0,
          0.425
         ],
         "scaleanchor": "x4",
         "scaleratio": 1
        }
       },
       "_model_module": "plotlywidget",
       "_model_module_version": "^4.14.3",
       "_model_name": "FigureModel",
       "_py2js_addTraces": {},
       "_py2js_animate": {},
       "_py2js_deleteTraces": {},
       "_py2js_moveTraces": {},
       "_py2js_relayout": {},
       "_py2js_removeLayoutProps": {},
       "_py2js_removeTraceProps": {},
       "_py2js_restyle": {},
       "_py2js_update": {},
       "_view_count": 0,
       "_view_module": "plotlywidget",
       "_view_module_version": "^4.14.3",
       "_view_name": "FigureView"
      }
     },
     "5107b35e437d4b5bb026f01e425f1bba": {
      "model_module": "@jupyter-widgets/controls",
      "model_module_version": "1.5.0",
      "model_name": "ProgressStyleModel",
      "state": {
       "_model_module": "@jupyter-widgets/controls",
       "_model_module_version": "1.5.0",
       "_model_name": "ProgressStyleModel",
       "_view_count": null,
       "_view_module": "@jupyter-widgets/base",
       "_view_module_version": "1.2.0",
       "_view_name": "StyleView",
       "bar_color": null,
       "description_width": ""
      }
     },
     "60537c0098c84fe2898d3149f018dadd": {
      "model_module": "@jupyter-widgets/controls",
      "model_module_version": "1.5.0",
      "model_name": "HTMLModel",
      "state": {
       "_dom_classes": [],
       "_model_module": "@jupyter-widgets/controls",
       "_model_module_version": "1.5.0",
       "_model_name": "HTMLModel",
       "_view_count": null,
       "_view_module": "@jupyter-widgets/controls",
       "_view_module_version": "1.5.0",
       "_view_name": "HTMLView",
       "description": "",
       "description_tooltip": null,
       "layout": "IPY_MODEL_2145f3e45ebf409297f2220492d17ea1",
       "placeholder": "​",
       "style": "IPY_MODEL_0718698e99994ebb89cc5e05213c3cac",
       "value": " 5/5 [00:00&lt;00:00, 164.46k/s]"
      }
     },
     "716353b258ad4c36b5414dcffb3777e6": {
      "model_module": "@jupyter-widgets/controls",
      "model_module_version": "1.5.0",
      "model_name": "DescriptionStyleModel",
      "state": {
       "_model_module": "@jupyter-widgets/controls",
       "_model_module_version": "1.5.0",
       "_model_name": "DescriptionStyleModel",
       "_view_count": null,
       "_view_module": "@jupyter-widgets/base",
       "_view_module_version": "1.2.0",
       "_view_name": "StyleView",
       "description_width": ""
      }
     },
     "c79c0d6c54c74413897fc45a9318ddcf": {
      "model_module": "@jupyter-widgets/controls",
      "model_module_version": "1.5.0",
      "model_name": "FloatProgressModel",
      "state": {
       "_dom_classes": [],
       "_model_module": "@jupyter-widgets/controls",
       "_model_module_version": "1.5.0",
       "_model_name": "FloatProgressModel",
       "_view_count": null,
       "_view_module": "@jupyter-widgets/controls",
       "_view_module_version": "1.5.0",
       "_view_name": "ProgressView",
       "bar_style": "success",
       "description": "",
       "description_tooltip": null,
       "layout": "IPY_MODEL_ce40bbd64efd4b75a7b7cf01caa45dc3",
       "max": 5.0,
       "min": 0.0,
       "orientation": "horizontal",
       "style": "IPY_MODEL_5107b35e437d4b5bb026f01e425f1bba",
       "value": 5.0
      }
     },
     "ce40bbd64efd4b75a7b7cf01caa45dc3": {
      "model_module": "@jupyter-widgets/base",
      "model_module_version": "1.2.0",
      "model_name": "LayoutModel",
      "state": {
       "_model_module": "@jupyter-widgets/base",
       "_model_module_version": "1.2.0",
       "_model_name": "LayoutModel",
       "_view_count": null,
       "_view_module": "@jupyter-widgets/base",
       "_view_module_version": "1.2.0",
       "_view_name": "LayoutView",
       "align_content": null,
       "align_items": null,
       "align_self": null,
       "border": null,
       "bottom": null,
       "display": null,
       "flex": null,
       "flex_flow": null,
       "grid_area": null,
       "grid_auto_columns": null,
       "grid_auto_flow": null,
       "grid_auto_rows": null,
       "grid_column": null,
       "grid_gap": null,
       "grid_row": null,
       "grid_template_areas": null,
       "grid_template_columns": null,
       "grid_template_rows": null,
       "height": null,
       "justify_content": null,
       "justify_items": null,
       "left": null,
       "margin": null,
       "max_height": null,
       "max_width": null,
       "min_height": null,
       "min_width": null,
       "object_fit": null,
       "object_position": null,
       "order": null,
       "overflow": null,
       "overflow_x": null,
       "overflow_y": null,
       "padding": null,
       "right": null,
       "top": null,
       "visibility": null,
       "width": null
      }
     },
     "dc211aa6ac9b480cae88aa827987ff83": {
      "model_module": "@jupyter-widgets/base",
      "model_module_version": "1.2.0",
      "model_name": "LayoutModel",
      "state": {
       "_model_module": "@jupyter-widgets/base",
       "_model_module_version": "1.2.0",
       "_model_name": "LayoutModel",
       "_view_count": null,
       "_view_module": "@jupyter-widgets/base",
       "_view_module_version": "1.2.0",
       "_view_name": "LayoutView",
       "align_content": null,
       "align_items": null,
       "align_self": null,
       "border": null,
       "bottom": null,
       "display": null,
       "flex": null,
       "flex_flow": null,
       "grid_area": null,
       "grid_auto_columns": null,
       "grid_auto_flow": null,
       "grid_auto_rows": null,
       "grid_column": null,
       "grid_gap": null,
       "grid_row": null,
       "grid_template_areas": null,
       "grid_template_columns": null,
       "grid_template_rows": null,
       "height": null,
       "justify_content": null,
       "justify_items": null,
       "left": null,
       "margin": null,
       "max_height": null,
       "max_width": null,
       "min_height": null,
       "min_width": null,
       "object_fit": null,
       "object_position": null,
       "order": null,
       "overflow": null,
       "overflow_x": null,
       "overflow_y": null,
       "padding": null,
       "right": null,
       "top": null,
       "visibility": null,
       "width": null
      }
     },
     "e67586909de44d699882e1c408b943e3": {
      "buffers": [
       {
        "data": "AAAAAAAAAABAbCoNOffJP0BsKg0599k/MNHfyWp54z9AbCoNOffpP6iDOqiDOvA/MNHfyWp58z+4HoXrUbj2P0BsKg059/k/yLnPLiA2/T+ogzqogzoAQGwqDTn32QFAMNHfyWp5A0D0d7Ja3hgFQLgehetRuAZAfMVXfMVXCEBAbCoNOfcJQAQT/Z2slgtAyLnPLiA2DUCMYKK/k9UOQKiDOqiDOhBA",
        "encoding": "base64",
        "path": [
         "_data",
         0,
         "x",
         "buffer"
        ]
       },
       {
        "data": "AAAAAAAAAABBkBmbGzzKP0GQGZsbPNo/MSxTtBSt4z9BkBmbGzzqPyn670CRZfA/MSxTtBSt8z85XrYnmPT2P0GQGZsbPPo/ScJ8Dp+D/T8p+u9AkWUAQC2TofpSCQJA",
        "encoding": "base64",
        "path": [
         "_data",
         0,
         "y",
         "buffer"
        ]
       },
       {
        "data": "AAAAAAAAAAC4HoXrUbjmPwrXo3A9CgFAuB6F61G4BkA=",
        "encoding": "base64",
        "path": [
         "_data",
         2,
         "x",
         "buffer"
        ]
       },
       {
        "data": "AAAAAAAAAAAxLFO0FK3zPzEsU7QUrfM/AAAAAAAAAAA=",
        "encoding": "base64",
        "path": [
         "_data",
         2,
         "y",
         "buffer"
        ]
       },
       {
        "data": "AAAAAAAAAAAAAAAAAAAAAArXo3A9ChFACtejcD0KEUAAAAAAAAAAAAAAAAAAAAAAAAAAAAAAAAAAAAAAAAAAAAAAAAAAAAAACtejcD0KEUAK16NwPQoRQArXo3A9ChFACtejcD0KEUAK16NwPQoRQArXo3A9ChFAAAAAAAAAAAA=",
        "encoding": "base64",
        "path": [
         "_data",
         3,
         "x",
         "buffer"
        ]
       },
       {
        "data": "AAAAAAAAAAAxLFO0FK0DQDEsU7QUrQNAAAAAAAAAAAAAAAAAAAAAAAAAAAAAAAAAMSxTtBStA0AxLFO0FK0DQDEsU7QUrQNAMSxTtBStA0AxLFO0FK0DQAAAAAAAAAAAAAAAAAAAAAAxLFO0FK0DQAAAAAAAAAAAAAAAAAAAAAA=",
        "encoding": "base64",
        "path": [
         "_data",
         3,
         "y",
         "buffer"
        ]
       },
       {
        "data": "gI7Z50bh3DLS6Xu8qA7FNWqY91rtl1A4roXjDpFDfDqmKg/c6ANKPIrgBlch4bk9kgqXBc3Syz5N1514KSqAP52uznWpTNQ/UGqEGfeMyz/ceRBEujRkPxsUCP9FhBQ/zGO+tKUJsD+0sza9o0PrPzojTIveC8k/2WeB9f/dSD8O6ss+6q5qPqJpdKjB8S49cG5+FLKkTz0jTF+lutyCPjs5vWCfTVg/HQFzHN3r0D8z0EfrYHfpP+g/OaBguqQ/5BPa/PNrsD9uqXKIO4sAQLKEKNvVBfI/TbR56zc4hT+OngYbTQC7PiAIy5gBkZI9HGvelb6YCzybwClTShTcPJXzS7dijzI+IA39q4WEKj+PIk9+MnnEP/x3RVFeFQFAUYuY1ujP3j9Srgz/5wdeP7YxkEUgon8+Qt/FTJQBQj1XsF5agSemO6QBXVyjda05LegKP7jBNTjV867Ap01rOiVtgXFIhEI8EPFKKNokuz2pqrf2jYDVPuzKVmScaJI/t4zmInMI8T/kjeYicwjxP7zOVmScaJI/F7K39o2A1T42/koo2iS7Ped7gXFIhEI8hwivwKdNazqN+wo/uME1OLjjXFyjda05UpleWoEnpjsb08VMlAFCPRIikEUgon8+nKQM/+cHXj8shpjW6M/eP294RVFeFQFAmCZPfjJ5xD/wFv2rhYQqP3j8S7dijzI+HtcpU0oU3Dw0S96VvpgLPIL4ypgBkZI9II4GG00Auz6Sq3nrNziFP8aBKNvVBfI/xqpyiDuLAED8GNr882uwP2I7OaBguqQ/KM9H62B36T8rA3Mc3evQPwBAvWCfTVg/YlVfpbrcgj6+fn4UsqRPPQpEdKjB8S49EM/LPuquaj5IWYH1/91IPwEcTIveC8k/wrQ2vaND6z+Qab60pQmwP3wjCP9FhBQ/gmwQRLo0ZD82Y4QZ94zLP4OyznWpTNQ/KOGdeCkqgD80KpcFzdLLPjgDB1ch4bk9QFwP3OgDSjwczuMOkUN8OtLG91rtl1A4my18vKgOxTUT79nnRuHcMg==",
        "encoding": "base64",
        "path": [
         "_data",
         4,
         "x",
         "buffer"
        ]
       },
       {
        "data": "Q2LezpCYI8CGxLydITEjwMomm2yyySLADYl5O0NiIsBQ61cK1PohwJNNNtlkkyHA168UqPUrIcAaEvN2hsQgwF100UUXXSDAQK1fKVDrH8DHcRzHcRwfwE422WSTTR7A1PqVArV+HcBav1Kg1q8cwOGDDz744BvAaEjM2xkSG8DuDIl5O0MawHTRRRdddBnA+5UCtX6lGMCBWr9SoNYXwAgffPDBBxfAjuM4juM4FsAVqPUrBWoVwJtssskmmxTAIjFvZ0jME8Co9SsFav0SwC+66KKLLhLAtX6lQK1fEcA8Q2LezpAQwIQPPvjggw/Akpi3MyTmDcCeITFvZ0gMwKqqqqqqqgrAuDMk5u0MCcDEvJ0hMW8HwNJFF1100QXA3s6QmLczBMDsVwrU+pUCwPjggw8++ADACNT6lQK1/r8o5u0MiXn7v0D44IMPPvi/WArU+pUC9b9wHMdxHMfxvyBddNFFF+2/UIFav1Kg5r+ApUCtXyngv2CTTTbZZNO/AG9nSMzbub8Ab2dIzNu5P2CTTTbZZNM/gKVArV8p4D9QgVq/UqDmPxBddNFFF+0/cBzHcRzH8T9YCtT6lQL1P0D44IMPPvg/IObtDIl5+z8I1PqVArX+P/jggw8++ABA7FcK1PqVAkDczpCYtzMEQNBFF1100QVAxLydITFvB0C4MyTm7QwJQKyqqqqqqgpAnCExb2dIDECQmLczJOYNQIQPPvjggw9APENi3s6QEEC0fqVArV8RQC666KKLLhJAqPUrBWr9EkAiMW9nSMwTQJpssskmmxRAFKj1KwVqFUCO4ziO4zgWQAgffPDBBxdAgFq/UqDWF0D8lQK1fqUYQHTRRRdddBlA7AyJeTtDGkBoSMzbGRIbQOCDDz744BtAXL9SoNavHEDU+pUCtX4dQEw22WSTTR5AyHEcx3EcH0BArV8pUOsfQFx00UUXXSBAGhLzdobEIEDWrxSo9SshQJRNNtlkkyFAUOtXCtT6IUAMiXk7Q2IiQMomm2yyySJAhsS8nSExI0BEYt7OkJgjQA==",
        "encoding": "base64",
        "path": [
         "_data",
         4,
         "y",
         "buffer"
        ]
       }
      ],
      "model_module": "plotlywidget",
      "model_module_version": "^4.14.3",
      "model_name": "FigureModel",
      "state": {
       "_config": {
        "plotlyServerURL": "https://plot.ly"
       },
       "_data": [
        {
         "showlegend": false,
         "type": "heatmap",
         "uid": "6e301d0d-10db-4348-a944-02df38e63562",
         "x": {
          "dtype": "float64",
          "shape": [
           21
          ]
         },
         "xaxis": "x",
         "y": {
          "dtype": "float64",
          "shape": [
           12
          ]
         },
         "yaxis": "y",
         "z": [
          [
           0.003460447941093967,
           0.0028776317200728736,
           0.002083843517357594,
           0.0014193299178990578,
           0.0008654071153352384,
           0.00045618114085763106,
           0.0001319837671564747,
           8.301477529076724e-33,
           0.00013198376715647855,
           0.00045618114085763925,
           0.0008654071153352513,
           0.0014193299178990777,
           0.002083843517357622,
           0.0028776317200729148,
           0.0034604479410940197,
           0.0019067933689183472,
           0.0006574771770301375,
           7.92034081454178e-05,
           7.920340814541119e-05,
           0.0006574771770301176,
           0.0019067933689183095
          ],
          [
           0.002511438415316981,
           0.0024693554044619126,
           0.0019556522767254342,
           0.0013912286909309398,
           0.0008729476531650988,
           0.00045985358092757463,
           0.00012628998728708815,
           7.715709819927331e-33,
           0.00012628998728709206,
           0.0004598535809275827,
           0.0008729476531651115,
           0.0013912286909309587,
           0.0019556522767254607,
           0.002469355404461949,
           0.0025114384153170207,
           0.0015404884355321052,
           0.0005608582350151383,
           6.860409521844815e-05,
           6.860409521844233e-05,
           0.0005608582350151203,
           0.0015404884355320729
          ],
          [
           0.0017124881431047003,
           0.0019459492307856,
           0.001814472142065464,
           0.0014442499309882642,
           0.0009805174575017556,
           0.0004951108159860394,
           0.0001371193907522019,
           7.276527249700985e-33,
           0.00013711939075220574,
           0.0004951108159860472,
           0.0009805174575017682,
           0.0014442499309882822,
           0.0018144721420654873,
           0.0019459492307856278,
           0.0017124881431047287,
           0.001080180145484215,
           0.0004261803633436125,
           4.8171481946632996e-05,
           4.817148194662828e-05,
           0.00042618036334359785,
           0.0010801801454841911
          ],
          [
           0.0013604951893622507,
           0.001713268155940814,
           0.001808806181265583,
           0.0015792499816373693,
           0.0011189125091046995,
           0.0005669250620086842,
           0.00015462168723071217,
           6.520029913225239e-33,
           0.00015462168723071588,
           0.000566925062008692,
           0.0011189125091047116,
           0.0015792499816373862,
           0.0018088061812656035,
           0.0017132681559408366,
           0.0013604951893622726,
           0.000843176639444708,
           0.0003512565745600411,
           4.1335304575486674e-05,
           4.133530457548256e-05,
           0.0003512565745600289,
           0.0008431766394446884
          ],
          [
           0.001215109168266014,
           0.0016508738858123971,
           0.0019127579505907545,
           0.001922561263473333,
           0.001432694468631878,
           0.0007310904436439281,
           0.00019029385790716216,
           6.247460587783768e-33,
           0.00019029385790716587,
           0.0007310904436439356,
           0.0014326944686318898,
           0.001922561263473349,
           0.0019127579505907732,
           0.0016508738858124169,
           0.0012151091682660324,
           0.0007327652419030771,
           0.0002915326795550192,
           4.16406844420874e-05,
           4.164068444208356e-05,
           0.00029153267955500884,
           0.0007327652419030609
          ],
          [
           0.0011285785151409274,
           0.001681364127928824,
           0.002188618135858146,
           0.002589835200582249,
           0.0020864635302380256,
           0.000995845597295173,
           0.0002536614400173603,
           5.908300500743721e-33,
           0.0002536614400173642,
           0.0009958455972951807,
           0.0020864635302380373,
           0.0025898352005822643,
           0.0021886181358581644,
           0.0016813641279288423,
           0.001128578515140944,
           0.0006643451798876225,
           0.00026124105464818675,
           3.398269013448112e-05,
           3.398269013447779e-05,
           0.0002612410546481774,
           0.0006643451798876078
          ],
          [
           0.0011217500587753263,
           0.0017309828844840414,
           0.002466731372055689,
           0.0033732258763124845,
           0.002821103460337494,
           0.0011810578028510366,
           0.0002964234241497651,
           5.922931597472013e-33,
           0.0002964234241497692,
           0.0011810578028510442,
           0.0028211034603375057,
           0.0033732258763124997,
           0.0024667313720557068,
           0.0017309828844840598,
           0.0011217500587753421,
           0.0006440805437975649,
           0.0002830823813883253,
           4.447822448219558e-05,
           4.447822448219224e-05,
           0.0002830823813883158,
           0.0006440805437975506
          ],
          [
           0.001128578515140927,
           0.001681364127928823,
           0.0021886181358581444,
           0.002589835200582247,
           0.002086463530238024,
           0.0009958455972951718,
           0.00025366144001736,
           5.8093455651030705e-33,
           0.00025366144001736393,
           0.0009958455972951797,
           0.0020864635302380355,
           0.002589835200582262,
           0.0021886181358581626,
           0.0016813641279288416,
           0.0011285785151409434,
           0.000664345179887622,
           0.0002612410546481866,
           3.398269013448107e-05,
           3.398269013447777e-05,
           0.0002612410546481773,
           0.0006643451798876072
          ],
          [
           0.0012151091682660127,
           0.0016508738858123952,
           0.001912757950590753,
           0.001922561263473331,
           0.0014326944686318768,
           0.0007310904436439271,
           0.00019029385790716186,
           6.052139618638214e-33,
           0.00019029385790716557,
           0.0007310904436439348,
           0.0014326944686318887,
           0.0019225612634733475,
           0.0019127579505907712,
           0.0016508738858124151,
           0.001215109168266031,
           0.0007327652419030767,
           0.000291532679555019,
           4.164068444208731e-05,
           4.16406844420835e-05,
           0.00029153267955500856,
           0.0007327652419030602
          ],
          [
           0.0013604951893622487,
           0.0017132681559408113,
           0.0018088061812655816,
           0.0015792499816373682,
           0.0011189125091046982,
           0.0005669250620086837,
           0.00015462168723071203,
           6.541515880425963e-33,
           0.00015462168723071572,
           0.0005669250620086913,
           0.0011189125091047105,
           0.0015792499816373845,
           0.0018088061812656028,
           0.0017132681559408342,
           0.0013604951893622706,
           0.0008431766394447068,
           0.0003512565745600408,
           4.1335304575486674e-05,
           4.133530457548253e-05,
           0.00035125657456002845,
           0.0008431766394446875
          ],
          [
           0.0017124881431046985,
           0.001945949230785598,
           0.0018144721420654624,
           0.0014442499309882636,
           0.000980517457501755,
           0.0004951108159860388,
           0.00013711939075220178,
           7.320819876839969e-33,
           0.00013711939075220558,
           0.0004951108159860468,
           0.0009805174575017676,
           0.001444249930988281,
           0.0018144721420654858,
           0.0019459492307856258,
           0.001712488143104727,
           0.0010801801454842137,
           0.0004261803633436121,
           4.8171481946632935e-05,
           4.817148194662829e-05,
           0.00042618036334359736,
           0.0010801801454841898
          ],
          [
           0.002511438415316978,
           0.002469355404461911,
           0.0019556522767254325,
           0.0013912286909309388,
           0.000872947653165098,
           0.0004598535809275743,
           0.00012628998728708804,
           7.62528218520768e-33,
           0.00012628998728709195,
           0.00045985358092758254,
           0.0008729476531651107,
           0.0013912286909309578,
           0.00195565227672546,
           0.002469355404461946,
           0.0025114384153170177,
           0.0015404884355321032,
           0.0005608582350151378,
           6.860409521844815e-05,
           6.860409521844233e-05,
           0.0005608582350151199,
           0.0015404884355320714
          ]
         ],
         "zsmooth": "best"
        },
        {
         "hoverinfo": "text",
         "marker": {
          "color": "#ccc",
          "coloraxis": "coloraxis",
          "size": 3
         },
         "mode": "markers+lines",
         "name": "bonds",
         "showlegend": true,
         "type": "scatter",
         "uid": "0cdd8ca2-cd00-4746-b3a2-7c9e47de3b0f",
         "x": [
          0.0,
          0.71,
          null,
          0.0,
          0.71,
          null,
          0.0,
          -1.42,
          null,
          0.71,
          2.13,
          null,
          0.71,
          0.0,
          null,
          2.13,
          2.84,
          null,
          2.13,
          2.84,
          null,
          2.84,
          2.13,
          null,
          2.84,
          4.26,
          null
         ],
         "xaxis": "x",
         "y": [
          0.0,
          1.2297560733739028,
          null,
          0.0,
          -1.2297560733739028,
          null,
          0.0,
          0.0,
          null,
          1.2297560733739028,
          1.2297560733739028,
          null,
          1.2297560733739028,
          2.4595121467478056,
          null,
          1.2297560733739028,
          0.0,
          null,
          1.2297560733739028,
          2.4595121467478056,
          null,
          0.0,
          -1.2297560733739028,
          null,
          0.0,
          0.0,
          null
         ],
         "yaxis": "y"
        },
        {
         "marker": {
          "color": [
           "grey",
           "grey",
           "grey",
           "grey"
          ],
          "size": [
           10.72,
           10.72,
           10.72,
           10.72
          ]
         },
         "mode": "markers",
         "name": "Atoms",
         "showlegend": true,
         "text": [
          "[0. 0. 5.]<br>0 (C)",
          "[0.71       1.22975607 5.        ]<br>1 (C)",
          "[2.13       1.22975607 5.        ]<br>2 (C)",
          "[2.84 0.   5.  ]<br>3 (C)"
         ],
         "type": "scatter",
         "uid": "ac8df723-bc07-4c9c-a191-cb73f2ab687e",
         "x": {
          "dtype": "float64",
          "shape": [
           4
          ]
         },
         "xaxis": "x",
         "y": {
          "dtype": "float64",
          "shape": [
           4
          ]
         },
         "yaxis": "y"
        },
        {
         "mode": "lines",
         "name": "Unit cell",
         "type": "scatter",
         "uid": "dad3b184-23ba-45d9-8c03-16b00219f9eb",
         "x": {
          "dtype": "float64",
          "shape": [
           16
          ]
         },
         "xaxis": "x",
         "y": {
          "dtype": "float64",
          "shape": [
           16
          ]
         },
         "yaxis": "y"
        },
        {
         "hoverinfo": "name",
         "line": {
          "color": "black",
          "dash": "solid",
          "width": 1
         },
         "mode": "lines",
         "name": "DOS",
         "type": "scatter",
         "uid": "6ec640f4-d6a8-4c39-8003-1d22a581383f",
         "x": {
          "dtype": "float64",
          "shape": [
           98
          ]
         },
         "xaxis": "x2",
         "y": {
          "dtype": "float64",
          "shape": [
           98
          ]
         },
         "yaxis": "y2"
        }
       ],
       "_dom_classes": [],
       "_js2py_layoutDelta": {},
       "_js2py_pointsCallback": {},
       "_js2py_relayout": {},
       "_js2py_restyle": {},
       "_js2py_traceDeltas": {},
       "_js2py_update": {},
       "_last_layout_edit_id": 0,
       "_last_trace_edit_id": 0,
       "_layout": {
        "template": {
         "layout": {
          "hovermode": "closest",
          "paper_bgcolor": "white",
          "plot_bgcolor": "white",
          "scene": {
           "xaxis": {
            "color": "black",
            "gridcolor": "#ccc",
            "gridwidth": 1,
            "linewidth": 1,
            "mirror": true,
            "showgrid": false,
            "showline": true,
            "ticklen": 5,
            "ticks": "outside",
            "ticksuffix": " ",
            "visible": true,
            "zeroline": false,
            "zerolinecolor": "#ccc",
            "zerolinewidth": 1
           },
           "yaxis": {
            "color": "black",
            "gridcolor": "#ccc",
            "gridwidth": 1,
            "linewidth": 1,
            "mirror": true,
            "showgrid": false,
            "showline": true,
            "ticklen": 5,
            "ticks": "outside",
            "ticksuffix": " ",
            "visible": true,
            "zeroline": false,
            "zerolinecolor": "#ccc",
            "zerolinewidth": 1
           },
           "zaxis": {
            "color": "black",
            "gridcolor": "#ccc",
            "gridwidth": 1,
            "linewidth": 1,
            "mirror": true,
            "showgrid": false,
            "showline": true,
            "ticklen": 5,
            "ticks": "outside",
            "ticksuffix": " ",
            "visible": true,
            "zeroline": false,
            "zerolinecolor": "#ccc",
            "zerolinewidth": 1
           }
          },
          "xaxis": {
           "color": "black",
           "gridcolor": "#ccc",
           "gridwidth": 1,
           "linewidth": 1,
           "mirror": true,
           "showgrid": false,
           "showline": true,
           "ticklen": 5,
           "ticks": "outside",
           "ticksuffix": " ",
           "visible": true,
           "zeroline": false,
           "zerolinecolor": "#ccc",
           "zerolinewidth": 1
          },
          "yaxis": {
           "color": "black",
           "gridcolor": "#ccc",
           "gridwidth": 1,
           "linewidth": 1,
           "mirror": true,
           "showgrid": false,
           "showline": true,
           "ticklen": 5,
           "ticks": "outside",
           "ticksuffix": " ",
           "visible": true,
           "zeroline": false,
           "zerolinecolor": "#ccc",
           "zerolinewidth": 1
          }
         }
        },
        "xaxis": {
         "anchor": "y",
         "domain": [
          0.0,
          0.45
         ],
         "title": {
          "text": "X axis [Ang]"
         }
        },
        "xaxis2": {
         "anchor": "y2",
         "domain": [
          0.55,
          1.0
         ],
         "mirror": true,
         "title": {
          "text": "Density of states [1/eV]"
         }
        },
        "yaxis": {
         "anchor": "x",
         "domain": [
          0.0,
          1.0
         ],
         "scaleanchor": "x",
         "scaleratio": 1,
         "title": {
          "text": "Y axis [Ang]"
         }
        },
        "yaxis2": {
         "anchor": "x2",
         "domain": [
          0.0,
          1.0
         ],
         "mirror": true,
         "range": [
          -10.0,
          10.0
         ],
         "title": {
          "text": "Energy [eV]"
         }
        }
       },
       "_model_module": "plotlywidget",
       "_model_module_version": "^4.14.3",
       "_model_name": "FigureModel",
       "_py2js_addTraces": {},
       "_py2js_animate": {},
       "_py2js_deleteTraces": {},
       "_py2js_moveTraces": {},
       "_py2js_relayout": {},
       "_py2js_removeLayoutProps": {},
       "_py2js_removeTraceProps": {},
       "_py2js_restyle": {},
       "_py2js_update": {},
       "_view_count": 0,
       "_view_module": "plotlywidget",
       "_view_module_version": "^4.14.3",
       "_view_name": "FigureView"
      }
     },
     "f9f304d2dbb54900895806853993a761": {
      "model_module": "@jupyter-widgets/controls",
      "model_module_version": "1.5.0",
      "model_name": "HBoxModel",
      "state": {
       "_dom_classes": [],
       "_model_module": "@jupyter-widgets/controls",
       "_model_module_version": "1.5.0",
       "_model_name": "HBoxModel",
       "_view_count": null,
       "_view_module": "@jupyter-widgets/controls",
       "_view_module_version": "1.5.0",
       "_view_name": "HBoxView",
       "box_style": "",
       "children": [
        "IPY_MODEL_291b54f0e63340fdb01111c333d93b1b",
        "IPY_MODEL_c79c0d6c54c74413897fc45a9318ddcf",
        "IPY_MODEL_60537c0098c84fe2898d3149f018dadd"
       ],
       "layout": "IPY_MODEL_dc211aa6ac9b480cae88aa827987ff83"
      }
     }
    },
    "version_major": 2,
    "version_minor": 0
   }
  }
 },
 "nbformat": 4,
 "nbformat_minor": 2
}
