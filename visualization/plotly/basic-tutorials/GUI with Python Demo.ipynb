{
 "cells": [
  {
   "cell_type": "markdown",
   "metadata": {},
   "source": [
    "Using python to interact with sisl's GUI\n",
    "=====\n",
    "\n",
    "This notebook will show you how you can benefit from knowing how to interact with the [graphical interface](https://github.com/pfebrer/sisl-gui). Some things just make no sense to do with just clicks, but having a dashboard to visualize and layout your automatically-generated plots is great. However there are some things that the GUI can already help you do automatically. **You will be a true master in the moment you know how to use sisl plots in pyton, how to use the GUI and how to make the two worlds interact**.\n",
    "    \n",
    "But don't worry, it is not that difficult really to become a true master :)\n",
    "    \n",
    "You will also understand that you can build your own custom sessions to adapt to your needs, **boost your productivity and save you hours of work**."
   ]
  },
  {
   "cell_type": "markdown",
   "metadata": {},
   "source": [
    "**Disclaimer**: *This notebook will be very simple and straightforward.*"
   ]
  },
  {
   "cell_type": "code",
   "execution_count": 1,
   "metadata": {
    "execution": {
     "iopub.execute_input": "2021-02-05T21:20:15.040253Z",
     "iopub.status.busy": "2021-02-05T21:20:15.039715Z",
     "iopub.status.idle": "2021-02-05T21:20:15.055402Z",
     "shell.execute_reply": "2021-02-05T21:20:15.055892Z"
    }
   },
   "outputs": [
    {
     "data": {
      "text/html": [
       "<! RUN ME PLEASEEEEEE>\n",
       "<style>\n",
       ".user {\n",
       "    background:aliceblue;\n",
       "    padding:5px 10px;\n",
       "    margin 0px 10px;\n",
       "    border-radius: 3px;\n",
       "    color: darkblue;\n",
       "    font-style:italic\n",
       "}\n",
       "</style>\n"
      ],
      "text/plain": [
       "<IPython.core.display.HTML object>"
      ]
     },
     "metadata": {},
     "output_type": "display_data"
    }
   ],
   "source": [
    "%%html\n",
    "<! RUN ME PLEASEEEEEE>\n",
    "<style>\n",
    ".user {\n",
    "    background:aliceblue;\n",
    "    padding:5px 10px;\n",
    "    margin 0px 10px;\n",
    "    border-radius: 3px;\n",
    "    color: darkblue;\n",
    "    font-style:italic\n",
    "}\n",
    "</style>"
   ]
  },
  {
   "cell_type": "code",
   "execution_count": 2,
   "metadata": {
    "execution": {
     "iopub.execute_input": "2021-02-05T21:20:15.060083Z",
     "iopub.status.busy": "2021-02-05T21:20:15.059492Z",
     "iopub.status.idle": "2021-02-05T21:20:15.908292Z",
     "shell.execute_reply": "2021-02-05T21:20:15.909149Z"
    }
   },
   "outputs": [],
   "source": [
    "# This is just for convenience to retreive files\n",
    "import sisl._environ\n",
    "siesta_files = sisl._environ.get_environ_variable(\"SISL_FILES_TESTS\") / \"sisl\" / \"io\" / \"siesta\""
   ]
  },
  {
   "cell_type": "markdown",
   "metadata": {},
   "source": [
    "### 1. LAUNCHING THE GUI"
   ]
  },
  {
   "cell_type": "code",
   "execution_count": 3,
   "metadata": {
    "execution": {
     "iopub.execute_input": "2021-02-05T21:20:15.914403Z",
     "iopub.status.busy": "2021-02-05T21:20:15.912431Z",
     "iopub.status.idle": "2021-02-05T21:20:16.040881Z",
     "shell.execute_reply": "2021-02-05T21:20:16.040254Z"
    },
    "scrolled": true
   },
   "outputs": [
    {
     "ename": "ModuleNotFoundError",
     "evalue": "No module named 'sisl_gui'",
     "output_type": "error",
     "traceback": [
      "\u001b[0;31m---------------------------------------------------------------------------\u001b[0m",
      "\u001b[0;31mModuleNotFoundError\u001b[0m                       Traceback (most recent call last)",
      "\u001b[0;32m<ipython-input-1-df4c463be604>\u001b[0m in \u001b[0;36m<module>\u001b[0;34m\u001b[0m\n\u001b[0;32m----> 1\u001b[0;31m \u001b[0;32mimport\u001b[0m \u001b[0msisl_gui\u001b[0m\u001b[0;34m\u001b[0m\u001b[0;34m\u001b[0m\u001b[0m\n\u001b[0m\u001b[1;32m      2\u001b[0m \u001b[0;34m\u001b[0m\u001b[0m\n\u001b[1;32m      3\u001b[0m \u001b[0msisl_gui\u001b[0m\u001b[0;34m.\u001b[0m\u001b[0mlaunch\u001b[0m\u001b[0;34m(\u001b[0m\u001b[0;34m)\u001b[0m\u001b[0;34m\u001b[0m\u001b[0;34m\u001b[0m\u001b[0m\n",
      "\u001b[0;31mModuleNotFoundError\u001b[0m: No module named 'sisl_gui'"
     ]
    }
   ],
   "source": [
    "import sisl_gui\n",
    "\n",
    "sisl_gui.launch()"
   ]
  },
  {
   "cell_type": "markdown",
   "metadata": {},
   "source": [
    "A browser tab should have opened. Do you see it?\n",
    "\n",
    "<span class=\"user\">Yeees!</span>"
   ]
  },
  {
   "cell_type": "markdown",
   "metadata": {},
   "source": [
    "### 2. UNDERSTANDING HOW THE GUI WORKS"
   ]
  },
  {
   "cell_type": "markdown",
   "metadata": {},
   "source": [
    "Well, it's not magic. It uses a structure that you will probably be familiar with already.\n",
    "\n",
    "There is a session. This session contains tabs. Tabs contain plots."
   ]
  },
  {
   "cell_type": "markdown",
   "metadata": {},
   "source": [
    "<span class=\"user\">How can I see that session?</span>"
   ]
  },
  {
   "cell_type": "code",
   "execution_count": 4,
   "metadata": {
    "execution": {
     "iopub.execute_input": "2021-02-05T21:20:16.049124Z",
     "iopub.status.busy": "2021-02-05T21:20:16.044609Z",
     "iopub.status.idle": "2021-02-05T21:20:16.053922Z",
     "shell.execute_reply": "2021-02-05T21:20:16.053414Z"
    }
   },
   "outputs": [
    {
     "ename": "NameError",
     "evalue": "name 'sisl_gui' is not defined",
     "output_type": "error",
     "traceback": [
      "\u001b[0;31m---------------------------------------------------------------------------\u001b[0m",
      "\u001b[0;31mNameError\u001b[0m                                 Traceback (most recent call last)",
      "\u001b[0;32m<ipython-input-1-1603cddeda25>\u001b[0m in \u001b[0;36m<module>\u001b[0;34m\u001b[0m\n\u001b[0;32m----> 1\u001b[0;31m \u001b[0msession\u001b[0m \u001b[0;34m=\u001b[0m \u001b[0msisl_gui\u001b[0m\u001b[0;34m.\u001b[0m\u001b[0mget_session\u001b[0m\u001b[0;34m(\u001b[0m\u001b[0;34m)\u001b[0m\u001b[0;34m\u001b[0m\u001b[0;34m\u001b[0m\u001b[0m\n\u001b[0m",
      "\u001b[0;31mNameError\u001b[0m: name 'sisl_gui' is not defined"
     ]
    }
   ],
   "source": [
    "session = sisl_gui.get_session()"
   ]
  },
  {
   "cell_type": "markdown",
   "metadata": {},
   "source": [
    "<span class=\"user\">What can I do with it?</span>\n",
    "\n",
    "Use half screen for the GUI and another half for this notebook and I will show you. Or, you know, use two monitors in case you are living a fancy life."
   ]
  },
  {
   "cell_type": "code",
   "execution_count": 5,
   "metadata": {
    "execution": {
     "iopub.execute_input": "2021-02-05T21:20:16.061298Z",
     "iopub.status.busy": "2021-02-05T21:20:16.057172Z",
     "iopub.status.idle": "2021-02-05T21:20:16.066663Z",
     "shell.execute_reply": "2021-02-05T21:20:16.066258Z"
    }
   },
   "outputs": [
    {
     "ename": "NameError",
     "evalue": "name 'sisl_gui' is not defined",
     "output_type": "error",
     "traceback": [
      "\u001b[0;31m---------------------------------------------------------------------------\u001b[0m",
      "\u001b[0;31mNameError\u001b[0m                                 Traceback (most recent call last)",
      "\u001b[0;32m<ipython-input-1-098a35bbfb5e>\u001b[0m in \u001b[0;36m<module>\u001b[0;34m\u001b[0m\n\u001b[1;32m      1\u001b[0m \u001b[0;31m# Let's write the session to a new variable for convenience\u001b[0m\u001b[0;34m\u001b[0m\u001b[0;34m\u001b[0m\u001b[0;34m\u001b[0m\u001b[0m\n\u001b[0;32m----> 2\u001b[0;31m \u001b[0msession\u001b[0m \u001b[0;34m=\u001b[0m \u001b[0msisl_gui\u001b[0m\u001b[0;34m.\u001b[0m\u001b[0mget_session\u001b[0m\u001b[0;34m(\u001b[0m\u001b[0;34m)\u001b[0m\u001b[0;34m\u001b[0m\u001b[0;34m\u001b[0m\u001b[0m\n\u001b[0m\u001b[1;32m      3\u001b[0m \u001b[0;34m\u001b[0m\u001b[0m\n\u001b[1;32m      4\u001b[0m \u001b[0;31m# Then add a new tab ( run help(session) to see all the available methods )\u001b[0m\u001b[0;34m\u001b[0m\u001b[0;34m\u001b[0m\u001b[0;34m\u001b[0m\u001b[0m\n\u001b[1;32m      5\u001b[0m \u001b[0msession\u001b[0m\u001b[0;34m.\u001b[0m\u001b[0madd_tab\u001b[0m\u001b[0;34m(\u001b[0m\u001b[0;34m\"Tab added from jupyter\"\u001b[0m\u001b[0;34m)\u001b[0m\u001b[0;34m\u001b[0m\u001b[0;34m\u001b[0m\u001b[0m\n",
      "\u001b[0;31mNameError\u001b[0m: name 'sisl_gui' is not defined"
     ]
    }
   ],
   "source": [
    "# Let's write the session to a new variable for convenience\n",
    "session = sisl_gui.get_session()\n",
    "\n",
    "# Then add a new tab ( run help(session) to see all the available methods )\n",
    "session.add_tab(\"Tab added from jupyter\")"
   ]
  },
  {
   "cell_type": "markdown",
   "metadata": {},
   "source": [
    "Do you see the magic?\n",
    "\n",
    "<span class=\"user\">No.</span>\n",
    "\n",
    "Yeah me neither. You have added a new tab, but the GUI still doesn't know about it. One way of solving this is to refresh the browser with F5.\n",
    "\n",
    "<span class=\"user\">Lame.</span>\n",
    "\n",
    "I know. That's why there are better ways. You can either emit the changes when you are ready:"
   ]
  },
  {
   "cell_type": "code",
   "execution_count": 6,
   "metadata": {
    "execution": {
     "iopub.execute_input": "2021-02-05T21:20:16.074156Z",
     "iopub.status.busy": "2021-02-05T21:20:16.073543Z",
     "iopub.status.idle": "2021-02-05T21:20:16.078555Z",
     "shell.execute_reply": "2021-02-05T21:20:16.078060Z"
    }
   },
   "outputs": [
    {
     "ename": "NameError",
     "evalue": "name 'session' is not defined",
     "output_type": "error",
     "traceback": [
      "\u001b[0;31m---------------------------------------------------------------------------\u001b[0m",
      "\u001b[0;31mNameError\u001b[0m                                 Traceback (most recent call last)",
      "\u001b[0;32m<ipython-input-1-407dfcaf2973>\u001b[0m in \u001b[0;36m<module>\u001b[0;34m\u001b[0m\n\u001b[0;32m----> 1\u001b[0;31m \u001b[0msession\u001b[0m\u001b[0;34m.\u001b[0m\u001b[0memit\u001b[0m\u001b[0;34m(\u001b[0m\u001b[0;34m)\u001b[0m\u001b[0;34m\u001b[0m\u001b[0;34m\u001b[0m\u001b[0m\n\u001b[0m",
      "\u001b[0;31mNameError\u001b[0m: name 'session' is not defined"
     ]
    }
   ],
   "source": [
    "session.emit()"
   ]
  },
  {
   "cell_type": "markdown",
   "metadata": {},
   "source": [
    "Or use the magic of autosync:"
   ]
  },
  {
   "cell_type": "code",
   "execution_count": 7,
   "metadata": {
    "execution": {
     "iopub.execute_input": "2021-02-05T21:20:16.086166Z",
     "iopub.status.busy": "2021-02-05T21:20:16.085565Z",
     "iopub.status.idle": "2021-02-05T21:20:16.090907Z",
     "shell.execute_reply": "2021-02-05T21:20:16.090389Z"
    }
   },
   "outputs": [
    {
     "ename": "NameError",
     "evalue": "name 'session' is not defined",
     "output_type": "error",
     "traceback": [
      "\u001b[0;31m---------------------------------------------------------------------------\u001b[0m",
      "\u001b[0;31mNameError\u001b[0m                                 Traceback (most recent call last)",
      "\u001b[0;32m<ipython-input-1-3fdc48805fd8>\u001b[0m in \u001b[0;36m<module>\u001b[0;34m\u001b[0m\n\u001b[0;32m----> 1\u001b[0;31m \u001b[0msession\u001b[0m\u001b[0;34m.\u001b[0m\u001b[0mautosync\u001b[0m\u001b[0;34m.\u001b[0m\u001b[0madd_tab\u001b[0m\u001b[0;34m(\u001b[0m\u001b[0;34m\"This is syncing!\"\u001b[0m\u001b[0;34m)\u001b[0m\u001b[0;34m\u001b[0m\u001b[0;34m\u001b[0m\u001b[0m\n\u001b[0m",
      "\u001b[0;31mNameError\u001b[0m: name 'session' is not defined"
     ]
    }
   ],
   "source": [
    "session.autosync.add_tab(\"This is syncing!\")"
   ]
  },
  {
   "cell_type": "markdown",
   "metadata": {},
   "source": [
    "<span class=\"user\">That's cool, but do I have to write autosync each time?.</span>\n",
    "\n",
    "No, the autosync property basically returns your session with autosyncing super-powers. So, you can store that and then run your methods happily:"
   ]
  },
  {
   "cell_type": "code",
   "execution_count": 8,
   "metadata": {
    "execution": {
     "iopub.execute_input": "2021-02-05T21:20:16.099501Z",
     "iopub.status.busy": "2021-02-05T21:20:16.098894Z",
     "iopub.status.idle": "2021-02-05T21:20:16.101343Z",
     "shell.execute_reply": "2021-02-05T21:20:16.101824Z"
    }
   },
   "outputs": [
    {
     "ename": "NameError",
     "evalue": "name 'session' is not defined",
     "output_type": "error",
     "traceback": [
      "\u001b[0;31m---------------------------------------------------------------------------\u001b[0m",
      "\u001b[0;31mNameError\u001b[0m                                 Traceback (most recent call last)",
      "\u001b[0;32m<ipython-input-1-abd4387ef676>\u001b[0m in \u001b[0;36m<module>\u001b[0;34m\u001b[0m\n\u001b[1;32m      2\u001b[0m \u001b[0;31m# session. We could keep the other one, but we just don't care\u001b[0m\u001b[0;34m\u001b[0m\u001b[0;34m\u001b[0m\u001b[0;34m\u001b[0m\u001b[0m\n\u001b[1;32m      3\u001b[0m \u001b[0;31m# so we will overwrite it\u001b[0m\u001b[0;34m\u001b[0m\u001b[0;34m\u001b[0m\u001b[0;34m\u001b[0m\u001b[0m\n\u001b[0;32m----> 4\u001b[0;31m \u001b[0msession\u001b[0m \u001b[0;34m=\u001b[0m \u001b[0msession\u001b[0m\u001b[0;34m.\u001b[0m\u001b[0mautosync\u001b[0m\u001b[0;34m\u001b[0m\u001b[0;34m\u001b[0m\u001b[0m\n\u001b[0m\u001b[1;32m      5\u001b[0m \u001b[0;34m\u001b[0m\u001b[0m\n\u001b[1;32m      6\u001b[0m \u001b[0;31m# Just delete our useless tabs\u001b[0m\u001b[0;34m\u001b[0m\u001b[0;34m\u001b[0m\u001b[0;34m\u001b[0m\u001b[0m\n",
      "\u001b[0;31mNameError\u001b[0m: name 'session' is not defined"
     ]
    }
   ],
   "source": [
    "# From now on we are going to just the autosynced version of the\n",
    "# session. We could keep the other one, but we just don't care\n",
    "# so we will overwrite it\n",
    "session = session.autosync\n",
    "\n",
    "# Just delete our useless tabs\n",
    "session.remove_tab('This is syncing!')\n",
    "session.remove_tab('Tab added from jupyter')"
   ]
  },
  {
   "cell_type": "markdown",
   "metadata": {},
   "source": [
    "We can now start to add plots."
   ]
  },
  {
   "cell_type": "code",
   "execution_count": 9,
   "metadata": {
    "execution": {
     "iopub.execute_input": "2021-02-05T21:20:16.106017Z",
     "iopub.status.busy": "2021-02-05T21:20:16.105403Z",
     "iopub.status.idle": "2021-02-05T21:20:16.998796Z",
     "shell.execute_reply": "2021-02-05T21:20:16.998243Z"
    }
   },
   "outputs": [
    {
     "name": "stdout",
     "output_type": "stream",
     "text": [
      "The plot has been initialized correctly, but the current settings were not enough to generate the figure.\n",
      " (Error: Could not read or generate data for PdosPlot from any of the possible sources.\n",
      "\n",
      " Here are the errors for each source:\n",
      "\n",
      " \t- TB trans: TypeError.expected str, bytes or os.PathLike object, not NoneType\n",
      "\t- hamiltonian: TypeError.expected str, bytes or os.PathLike object, not NoneType\n",
      "\t- siesta output: FileNotFoundError.[Errno 2] No such file or directory: '_THIS_DIRECTORY_DOES_NOT_EXIST_/sisl/io/siesta/SrTiO3.PDOS'  )\n"
     ]
    },
    {
     "ename": "NameError",
     "evalue": "name 'session' is not defined",
     "output_type": "error",
     "traceback": [
      "\u001b[0;31m---------------------------------------------------------------------------\u001b[0m",
      "\u001b[0;31mNameError\u001b[0m                                 Traceback (most recent call last)",
      "\u001b[0;32m<ipython-input-1-a2e8634837f7>\u001b[0m in \u001b[0;36m<module>\u001b[0;34m\u001b[0m\n\u001b[1;32m      4\u001b[0m \u001b[0mplot\u001b[0m \u001b[0;34m=\u001b[0m \u001b[0mPlot\u001b[0m\u001b[0;34m(\u001b[0m\u001b[0msiesta_files\u001b[0m \u001b[0;34m/\u001b[0m \u001b[0;34m\"SrTiO3.PDOS\"\u001b[0m\u001b[0;34m)\u001b[0m\u001b[0;34m\u001b[0m\u001b[0;34m\u001b[0m\u001b[0m\n\u001b[1;32m      5\u001b[0m \u001b[0;34m\u001b[0m\u001b[0m\n\u001b[0;32m----> 6\u001b[0;31m \u001b[0msession\u001b[0m\u001b[0;34m.\u001b[0m\u001b[0madd_plot\u001b[0m\u001b[0;34m(\u001b[0m\u001b[0mplot\u001b[0m\u001b[0;34m,\u001b[0m \u001b[0;34m\"First tab\"\u001b[0m\u001b[0;34m)\u001b[0m\u001b[0;34m\u001b[0m\u001b[0;34m\u001b[0m\u001b[0m\n\u001b[0m",
      "\u001b[0;31mNameError\u001b[0m: name 'session' is not defined"
     ]
    }
   ],
   "source": [
    "from sisl.viz import Plot\n",
    "\n",
    "# Let's start a PDOS plot\n",
    "plot = Plot(siesta_files / \"SrTiO3.PDOS\")\n",
    "\n",
    "session.add_plot(plot, \"First tab\")"
   ]
  },
  {
   "cell_type": "markdown",
   "metadata": {},
   "source": [
    "Can you see it?\n",
    "\n",
    "<span class=\"user\">No.</span>\n",
    "\n",
    "Maybe you don't have the tab open in the GUI.\n",
    "\n",
    "Now, you should be able to interact as you wish with it. Since the reference is kept, you are able to run the methods on your notebook variable directly. Like so:"
   ]
  },
  {
   "cell_type": "code",
   "execution_count": 10,
   "metadata": {
    "execution": {
     "iopub.execute_input": "2021-02-05T21:20:17.013397Z",
     "iopub.status.busy": "2021-02-05T21:20:17.012789Z",
     "iopub.status.idle": "2021-02-05T21:20:17.015663Z",
     "shell.execute_reply": "2021-02-05T21:20:17.016213Z"
    }
   },
   "outputs": [
    {
     "ename": "AttributeError",
     "evalue": "The attribute 'autosync' was not found either in the plot, its figure, or in shared attributes.",
     "output_type": "error",
     "traceback": [
      "\u001b[0;31m---------------------------------------------------------------------------\u001b[0m",
      "\u001b[0;31mAttributeError\u001b[0m                            Traceback (most recent call last)",
      "\u001b[0;32m<ipython-input-1-20ce18d0bd9a>\u001b[0m in \u001b[0;36m<module>\u001b[0;34m\u001b[0m\n\u001b[0;32m----> 1\u001b[0;31m \u001b[0mplot\u001b[0m\u001b[0;34m.\u001b[0m\u001b[0mautosync\u001b[0m\u001b[0;34m.\u001b[0m\u001b[0msplit_DOS\u001b[0m\u001b[0;34m(\u001b[0m\u001b[0mon\u001b[0m\u001b[0;34m=\u001b[0m\u001b[0;34m\"species\"\u001b[0m\u001b[0;34m)\u001b[0m\u001b[0;34m\u001b[0m\u001b[0;34m\u001b[0m\u001b[0m\n\u001b[0m\u001b[1;32m      2\u001b[0m \u001b[0;31m# Yes, plots can also autosync after they have been bound to a session\u001b[0m\u001b[0;34m\u001b[0m\u001b[0;34m\u001b[0m\u001b[0;34m\u001b[0m\u001b[0m\n",
      "\u001b[0;32m/opt/hostedtoolcache/Python/3.6.12/x64/lib/python3.6/site-packages/sisl/viz/plotly/plot.py\u001b[0m in \u001b[0;36m__getattr__\u001b[0;34m(self, key)\u001b[0m\n\u001b[1;32m    725\u001b[0m                 \u001b[0;32mpass\u001b[0m\u001b[0;34m\u001b[0m\u001b[0;34m\u001b[0m\u001b[0m\n\u001b[1;32m    726\u001b[0m \u001b[0;34m\u001b[0m\u001b[0m\n\u001b[0;32m--> 727\u001b[0;31m         \u001b[0;32mraise\u001b[0m \u001b[0mAttributeError\u001b[0m\u001b[0;34m(\u001b[0m\u001b[0;34mf\"The attribute '{key}' was not found either in the plot, its figure, or in shared attributes.\"\u001b[0m\u001b[0;34m)\u001b[0m\u001b[0;34m\u001b[0m\u001b[0;34m\u001b[0m\u001b[0m\n\u001b[0m\u001b[1;32m    728\u001b[0m \u001b[0;34m\u001b[0m\u001b[0m\n\u001b[1;32m    729\u001b[0m     \u001b[0;32mdef\u001b[0m \u001b[0m__setattr__\u001b[0m\u001b[0;34m(\u001b[0m\u001b[0mself\u001b[0m\u001b[0;34m,\u001b[0m \u001b[0mkey\u001b[0m\u001b[0;34m,\u001b[0m \u001b[0mval\u001b[0m\u001b[0;34m)\u001b[0m\u001b[0;34m:\u001b[0m\u001b[0;34m\u001b[0m\u001b[0;34m\u001b[0m\u001b[0m\n",
      "\u001b[0;31mAttributeError\u001b[0m: The attribute 'autosync' was not found either in the plot, its figure, or in shared attributes."
     ]
    }
   ],
   "source": [
    "plot.autosync.split_DOS(on=\"species\")\n",
    "# Yes, plots can also autosync after they have been bound to a session"
   ]
  },
  {
   "cell_type": "markdown",
   "metadata": {},
   "source": [
    "Let's add two more plots to this tab."
   ]
  },
  {
   "cell_type": "code",
   "execution_count": 11,
   "metadata": {
    "execution": {
     "iopub.execute_input": "2021-02-05T21:20:17.030341Z",
     "iopub.status.busy": "2021-02-05T21:20:17.027169Z",
     "iopub.status.idle": "2021-02-05T21:20:17.042361Z",
     "shell.execute_reply": "2021-02-05T21:20:17.041842Z"
    }
   },
   "outputs": [
    {
     "name": "stdout",
     "output_type": "stream",
     "text": [
      "The plot has been initialized correctly, but the current settings were not enough to generate the figure.\n",
      " (Error: Could not read or generate data for BandsPlot from any of the possible sources.\n",
      "\n",
      " Here are the errors for each source:\n",
      "\n",
      " \t- aiida bands: AttributeError.'NoneType' object has no attribute '_get_bandplot_data'\n",
      "\t- path: Exception.You need to provide at least 2 points of the path to draw the bands. Please update the 'path' setting. The current path is: []\n",
      "\t- band structure: ValueError.No band structure (k points path) was provided\n",
      "\t- bands file: FileNotFoundError.[Errno 2] No such file or directory: '_THIS_DIRECTORY_DOES_NOT_EXIST_/sisl/io/siesta/SrTiO3.bands'  )\n",
      "The plot has been initialized correctly, but the current settings were not enough to generate the figure.\n",
      " (Error: Could not read or generate data for GridPlot from any of the possible sources.\n",
      "\n",
      " Here are the errors for each source:\n",
      "\n",
      " \t- grid file: SileError.rhoSileSiesta(SrTiO3.RHO, base=/home/runner/work/sisl/sisl/docs/visualization/plotly/basic-tutorials/_THIS_DIRECTORY_DOES_NOT_EXIST_/sisl/io/siesta).read_grid_size could not read grid sizes. (ierr=2)\n",
      "\t- grid: Exception.  )\n"
     ]
    },
    {
     "ename": "NameError",
     "evalue": "name 'session' is not defined",
     "output_type": "error",
     "traceback": [
      "\u001b[0;31m---------------------------------------------------------------------------\u001b[0m",
      "\u001b[0;31mNameError\u001b[0m                                 Traceback (most recent call last)",
      "\u001b[0;32m<ipython-input-1-7b6e2dc7fa60>\u001b[0m in \u001b[0;36m<module>\u001b[0;34m\u001b[0m\n\u001b[1;32m      3\u001b[0m \u001b[0;34m\u001b[0m\u001b[0m\n\u001b[1;32m      4\u001b[0m \u001b[0;32mfor\u001b[0m \u001b[0mpt\u001b[0m \u001b[0;32min\u001b[0m \u001b[0;34m(\u001b[0m\u001b[0mrho\u001b[0m\u001b[0;34m,\u001b[0m \u001b[0mbands\u001b[0m\u001b[0;34m)\u001b[0m\u001b[0;34m:\u001b[0m\u001b[0;34m\u001b[0m\u001b[0;34m\u001b[0m\u001b[0m\n\u001b[0;32m----> 5\u001b[0;31m     \u001b[0msession\u001b[0m\u001b[0;34m.\u001b[0m\u001b[0madd_plot\u001b[0m\u001b[0;34m(\u001b[0m\u001b[0mpt\u001b[0m\u001b[0;34m,\u001b[0m \u001b[0;34m\"First tab\"\u001b[0m\u001b[0;34m)\u001b[0m\u001b[0;34m\u001b[0m\u001b[0;34m\u001b[0m\u001b[0m\n\u001b[0m",
      "\u001b[0;31mNameError\u001b[0m: name 'session' is not defined"
     ]
    }
   ],
   "source": [
    "bands = Plot(siesta_files / \"SrTiO3.bands\")\n",
    "rho = Plot(siesta_files / \"SrTiO3.RHO\")\n",
    "\n",
    "for pt in (rho, bands):\n",
    "    session.add_plot(pt, \"First tab\")"
   ]
  },
  {
   "cell_type": "markdown",
   "metadata": {},
   "source": [
    "### 3. CHANGING THE GUI'S LAYOUT"
   ]
  },
  {
   "cell_type": "markdown",
   "metadata": {},
   "source": [
    "Each tab has a `layouts` attribute:"
   ]
  },
  {
   "cell_type": "code",
   "execution_count": 12,
   "metadata": {
    "execution": {
     "iopub.execute_input": "2021-02-05T21:20:17.054249Z",
     "iopub.status.busy": "2021-02-05T21:20:17.053605Z",
     "iopub.status.idle": "2021-02-05T21:20:17.056309Z",
     "shell.execute_reply": "2021-02-05T21:20:17.056810Z"
    }
   },
   "outputs": [
    {
     "ename": "NameError",
     "evalue": "name 'session' is not defined",
     "output_type": "error",
     "traceback": [
      "\u001b[0;31m---------------------------------------------------------------------------\u001b[0m",
      "\u001b[0;31mNameError\u001b[0m                                 Traceback (most recent call last)",
      "\u001b[0;32m<ipython-input-1-d20a8bbe9584>\u001b[0m in \u001b[0;36m<module>\u001b[0;34m\u001b[0m\n\u001b[0;32m----> 1\u001b[0;31m \u001b[0msession\u001b[0m\u001b[0;34m.\u001b[0m\u001b[0mtab\u001b[0m\u001b[0;34m(\u001b[0m\u001b[0;34m\"First tab\"\u001b[0m\u001b[0;34m)\u001b[0m\u001b[0;34m\u001b[0m\u001b[0;34m\u001b[0m\u001b[0m\n\u001b[0m",
      "\u001b[0;31mNameError\u001b[0m: name 'session' is not defined"
     ]
    }
   ],
   "source": [
    "session.tab(\"First tab\")"
   ]
  },
  {
   "cell_type": "markdown",
   "metadata": {},
   "source": [
    "This `layouts` attribute is a dictionary stating how plots should be displayed in different screen sizes (e.g. `lg` is the largest and `xxs` is the smallest). You can change this very easily using the GUI by resizing and dragging your plots, but if you need the same layout every time it is definitely not ideal.\n",
    "\n",
    "The `layouts` structure seems a bit complicated. But don't worry, usually you just need to set the `lg` size, because this is how you see it in a computer. Just ignore the other sizes. \n",
    "\n",
    "As you can see, the `lg` size is a list of dicts, each dict contains:\n",
    "- `w`: The width of the plot in columns out of a total of { lg: 12, sm: 6, xs: 4, xxs: 2 } columns.\n",
    "- `h`: The height of the plot. I don't really know the scale of this honestly. Just try to see what fits best for you.\n",
    "- `x`: The position along the x axis of the left side of the plot (in columns).\n",
    "- `y`: The position along the y axis of the top part of the plot.\n",
    "- `id`: The ID of the plot to which this properties apply. It is available under `plot.id`\n",
    "- `moved`: Whether the plot has been moved.\n",
    "- `static`: Whether the GUI should prevent users from resizing/dragging this plot.\n",
    "\n",
    "I'd say the best strategy is probably to **set the layout in the GUI and then copy it to build your automatic layouts**. In my case, I like how this one looks:\n",
    "\n",
    "[{'w': 6,\n",
    "    'h': 28,\n",
    "    'x': 0,\n",
    "    'y': 0,\n",
    "    'i': '26c94e23-9f6b-4bce-b0a4-3363e69f0fd3',\n",
    "    'moved': False,\n",
    "    'static': False},\n",
    "   {'w': 12,\n",
    "    'h': 14,\n",
    "    'x': 0,\n",
    "    'y': 28,\n",
    "    'i': '0a2f9502-3fbb-4c06-a402-8d46518d3bc3',\n",
    "    'moved': False,\n",
    "    'static': False},\n",
    "   {'w': 6,\n",
    "    'h': 28,\n",
    "    'x': 6,\n",
    "    'y': 0,\n",
    "    'i': 'f6ae7c4a-38c6-4d36-81cb-04c73a794555',\n",
    "    'moved': False,\n",
    "    'static': False}]\n",
    "    \n",
    "So I'm just going to use it automating the ID stuff:"
   ]
  },
  {
   "cell_type": "code",
   "execution_count": 13,
   "metadata": {
    "execution": {
     "iopub.execute_input": "2021-02-05T21:20:17.073150Z",
     "iopub.status.busy": "2021-02-05T21:20:17.072516Z",
     "iopub.status.idle": "2021-02-05T21:20:17.075281Z",
     "shell.execute_reply": "2021-02-05T21:20:17.075796Z"
    }
   },
   "outputs": [
    {
     "ename": "NameError",
     "evalue": "name 'session' is not defined",
     "output_type": "error",
     "traceback": [
      "\u001b[0;31m---------------------------------------------------------------------------\u001b[0m",
      "\u001b[0;31mNameError\u001b[0m                                 Traceback (most recent call last)",
      "\u001b[0;32m<ipython-input-1-49b7064a35d7>\u001b[0m in \u001b[0;36m<module>\u001b[0;34m\u001b[0m\n\u001b[1;32m      2\u001b[0m \u001b[0mtab_name\u001b[0m \u001b[0;34m=\u001b[0m \u001b[0;34m\"Layout attempt\"\u001b[0m\u001b[0;34m\u001b[0m\u001b[0;34m\u001b[0m\u001b[0m\n\u001b[1;32m      3\u001b[0m \u001b[0;34m\u001b[0m\u001b[0m\n\u001b[0;32m----> 4\u001b[0;31m \u001b[0msession\u001b[0m\u001b[0;34m.\u001b[0m\u001b[0madd_tab\u001b[0m\u001b[0;34m(\u001b[0m\u001b[0mtab_name\u001b[0m\u001b[0;34m)\u001b[0m\u001b[0;34m\u001b[0m\u001b[0;34m\u001b[0m\u001b[0m\n\u001b[0m\u001b[1;32m      5\u001b[0m \u001b[0;34m\u001b[0m\u001b[0m\n\u001b[1;32m      6\u001b[0m \u001b[0;31m# Get all the plots\u001b[0m\u001b[0;34m\u001b[0m\u001b[0;34m\u001b[0m\u001b[0;34m\u001b[0m\u001b[0m\n",
      "\u001b[0;31mNameError\u001b[0m: name 'session' is not defined"
     ]
    }
   ],
   "source": [
    "struct = \"SrTiO3\"\n",
    "tab_name = \"Layout attempt\"\n",
    "\n",
    "session.add_tab(tab_name)\n",
    "\n",
    "# Get all the plots\n",
    "plots = [Plot(siesta_files / f'{struct}.{ext}') for ext in (\"PDOS\", \"RHO\", \"bands\")]\n",
    "\n",
    "for plot in plots:\n",
    "    session.add_plot(plot, tab_name)\n",
    "    \n",
    "# This is how you update tab parameters\n",
    "# (in this case, we want to update the layouts parameter)\n",
    "session.update_tab(\n",
    "    tab_name, \n",
    "    layouts = {'lg': [\n",
    "        {'w': 6, 'h': 28, 'x': 0, 'y': 0, 'i': plots[0].id, 'static': False},\n",
    "        {'w': 12, 'h': 14, 'x': 0, 'y': 28, 'i': plots[1].id, 'static': False},\n",
    "        {'w': 6, 'h': 28, 'x': 6, 'y': 0, 'i': plots[2].id, 'static': False}\n",
    "    ]}\n",
    ")\n",
    "\n",
    "# And also I'd like the PDOS to be splitted on species\n",
    "plots[0].split_DOS(on=\"species\").update_settings(Erange=[-10,10]).emit()\n",
    "# And the bands to show the gap\n",
    "plots[2].update_settings(gap=True, Erange=[-10,10]).emit()"
   ]
  },
  {
   "cell_type": "markdown",
   "metadata": {},
   "source": [
    "You can check the \"Layout attempt\" tab to see that we really achieved what we wanted."
   ]
  },
  {
   "cell_type": "markdown",
   "metadata": {},
   "source": [
    "### 4. BUILDING YOUR OWN CUSTOM SESSIONS"
   ]
  },
  {
   "cell_type": "markdown",
   "metadata": {},
   "source": [
    "Well, at this point there is not much mistery to it. Specially if you have gone through the [guide on how to build plots](./DIY.ipynb) You just need to extend the `Session` class. `Session`, as `Plot`, inherits from `Configurable`, so you have exactly the same management of settings.\n",
    "\n",
    "**If you have not read the guide for plots, don't worry**. The basics to build a session class are very simple.\n",
    "\n",
    "Let's build a session using what we wrote in the previous section. We really just need to change the `session` variable for `self` and we have a method!"
   ]
  },
  {
   "cell_type": "code",
   "execution_count": 14,
   "metadata": {
    "execution": {
     "iopub.execute_input": "2021-02-05T21:20:17.086952Z",
     "iopub.status.busy": "2021-02-05T21:20:17.085648Z",
     "iopub.status.idle": "2021-02-05T21:20:17.087602Z",
     "shell.execute_reply": "2021-02-05T21:20:17.088081Z"
    }
   },
   "outputs": [],
   "source": [
    "# Import the parent class\n",
    "from sisl.viz import Session\n",
    "\n",
    "# Start building our session\n",
    "class VeryCoolSession(Session):\n",
    "    \n",
    "    # Add the method to see PDOS, bands and RHO of a structure\n",
    "    def see_results(self, struct, wdir=siesta_files, tab_name=None):\n",
    "        \n",
    "        if tab_name is None:\n",
    "            tab_name = struct\n",
    "            \n",
    "        self.add_tab(tab_name)\n",
    "\n",
    "        plots = [Plot(wdir /  f'{struct}.{ext}') for ext in (\"PDOS\", \"RHO\", \"bands\")]\n",
    "\n",
    "        for plot in plots:\n",
    "            self.add_plot(plot, tab_name)\n",
    "\n",
    "        # This is how you update tab parameters\n",
    "        self.update_tab(\n",
    "            tab_name, \n",
    "            layouts = {'lg': [\n",
    "                {'w': 6, 'h': 28, 'x': 0, 'y': 0, 'i': plots[0].id, 'static': False},\n",
    "                {'w': 12, 'h': 14, 'x': 0, 'y': 28, 'i': plots[1].id, 'static': False},\n",
    "                {'w': 6, 'h': 28, 'x': 6, 'y': 0, 'i': plots[2].id, 'static': False}\n",
    "            ]}\n",
    "        )\n",
    "\n",
    "        # And also I'd like the PDOS to be splitted ¿on species\n",
    "        plots[0].split_DOS(on=\"species\").update_settings(Erange=[-10,10])\n",
    "        # And the bands to show the gap\n",
    "        plots[2].update_settings(gap=True, Erange=[-10,10])\n"
   ]
  },
  {
   "cell_type": "markdown",
   "metadata": {},
   "source": [
    "And that's basically it.\n",
    "\n",
    "<span class=\"user\">Yeah nice but how do I use this session now</span>\n",
    "\n",
    "You just need to set the session of the GUI:"
   ]
  },
  {
   "cell_type": "code",
   "execution_count": 15,
   "metadata": {
    "execution": {
     "iopub.execute_input": "2021-02-05T21:20:17.100778Z",
     "iopub.status.busy": "2021-02-05T21:20:17.100163Z",
     "iopub.status.idle": "2021-02-05T21:20:17.102950Z",
     "shell.execute_reply": "2021-02-05T21:20:17.103458Z"
    }
   },
   "outputs": [
    {
     "ename": "NameError",
     "evalue": "name 'sisl_gui' is not defined",
     "output_type": "error",
     "traceback": [
      "\u001b[0;31m---------------------------------------------------------------------------\u001b[0m",
      "\u001b[0;31mNameError\u001b[0m                                 Traceback (most recent call last)",
      "\u001b[0;32m<ipython-input-1-7d0eb8163fcc>\u001b[0m in \u001b[0;36m<module>\u001b[0;34m\u001b[0m\n\u001b[1;32m      5\u001b[0m \u001b[0mnew_session\u001b[0m \u001b[0;34m=\u001b[0m \u001b[0mVeryCoolSession\u001b[0m\u001b[0;34m(\u001b[0m\u001b[0;34m)\u001b[0m\u001b[0;34m\u001b[0m\u001b[0;34m\u001b[0m\u001b[0m\n\u001b[1;32m      6\u001b[0m \u001b[0;31m# And then we just tell the GUI to use it\u001b[0m\u001b[0;34m\u001b[0m\u001b[0;34m\u001b[0m\u001b[0;34m\u001b[0m\u001b[0m\n\u001b[0;32m----> 7\u001b[0;31m \u001b[0msisl_gui\u001b[0m\u001b[0;34m.\u001b[0m\u001b[0mset_session\u001b[0m\u001b[0;34m(\u001b[0m\u001b[0mnew_session\u001b[0m\u001b[0;34m)\u001b[0m\u001b[0;34m\u001b[0m\u001b[0;34m\u001b[0m\u001b[0m\n\u001b[0m",
      "\u001b[0;31mNameError\u001b[0m: name 'sisl_gui' is not defined"
     ]
    }
   ],
   "source": [
    "# Maybe you want to save the existing one?\n",
    "# session.save(\"My first try.session\")\n",
    "\n",
    "# We initialize the session\n",
    "new_session = VeryCoolSession()\n",
    "# And then we just tell the GUI to use it\n",
    "sisl_gui.set_session(new_session)"
   ]
  },
  {
   "cell_type": "markdown",
   "metadata": {},
   "source": [
    "Now, let's see if this works:"
   ]
  },
  {
   "cell_type": "code",
   "execution_count": 16,
   "metadata": {
    "execution": {
     "iopub.execute_input": "2021-02-05T21:20:17.115191Z",
     "iopub.status.busy": "2021-02-05T21:20:17.114630Z",
     "iopub.status.idle": "2021-02-05T21:20:17.117629Z",
     "shell.execute_reply": "2021-02-05T21:20:17.118223Z"
    }
   },
   "outputs": [
    {
     "ename": "AttributeError",
     "evalue": "'VeryCoolSession' object has no attribute 'autosync'",
     "output_type": "error",
     "traceback": [
      "\u001b[0;31m---------------------------------------------------------------------------\u001b[0m",
      "\u001b[0;31mAttributeError\u001b[0m                            Traceback (most recent call last)",
      "\u001b[0;32m<ipython-input-1-dd2797bce0e7>\u001b[0m in \u001b[0;36m<module>\u001b[0;34m\u001b[0m\n\u001b[0;32m----> 1\u001b[0;31m \u001b[0mnew_session\u001b[0m\u001b[0;34m.\u001b[0m\u001b[0mautosync\u001b[0m\u001b[0;34m.\u001b[0m\u001b[0msee_results\u001b[0m\u001b[0;34m(\u001b[0m\u001b[0;34m\"SrTiO3\"\u001b[0m\u001b[0;34m)\u001b[0m\u001b[0;34m\u001b[0m\u001b[0;34m\u001b[0m\u001b[0m\n\u001b[0m",
      "\u001b[0;31mAttributeError\u001b[0m: 'VeryCoolSession' object has no attribute 'autosync'"
     ]
    }
   ],
   "source": [
    "new_session.autosync.see_results(\"SrTiO3\")"
   ]
  },
  {
   "cell_type": "markdown",
   "metadata": {},
   "source": [
    "Just take a moment now to admire the simplicity of the previous line and the beauty and usefulness that it can bring to your research.\n",
    "\n",
    "With this, we end this short but intense tutorial. I hope that I have been able to convince you of the power this gives to you, but if not, thanks for the read anyway :)\n",
    "\n",
    "Just as a last thing, notice that you can add parameters to the session and they can be tweaked from the GUI. Give a glimpse at the [notebook where plot building is explained](./DIY.ipynb) if you are further interested, there's a section where parameters are introduced, close to the beggining.\n",
    "\n",
    "Oh, and by the way, you can load saved sessions just as we did with plots in the [Demo Notebook](./Demo.ipynb)\n",
    "\n",
    "If there is a request for further tutorials on sessions, we will extend more on the topic, so don't hesitate to ask.\n",
    "\n",
    "Cheers!"
   ]
  },
  {
   "cell_type": "code",
   "execution_count": null,
   "metadata": {},
   "outputs": [],
   "source": []
  }
 ],
 "metadata": {
  "kernelspec": {
   "display_name": "Python 3",
   "language": "python",
   "name": "python3"
  },
  "language_info": {
   "codemirror_mode": {
    "name": "ipython",
    "version": 3
   },
   "file_extension": ".py",
   "mimetype": "text/x-python",
   "name": "python",
   "nbconvert_exporter": "python",
   "pygments_lexer": "ipython3",
   "version": "3.6.12"
  }
 },
 "nbformat": 4,
 "nbformat_minor": 2
}
