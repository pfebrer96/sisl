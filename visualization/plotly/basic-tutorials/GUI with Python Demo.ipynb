{
 "cells": [
  {
   "cell_type": "markdown",
   "metadata": {},
   "source": [
    "Using python to interact with sisl's GUI\n",
    "=====\n",
    "\n",
    "This notebook will show you how you can benefit from knowing how to interact with the [graphical interface](https://github.com/pfebrer96/sisl/tree/GUI/sisl/viz/GUI). Some things just make no sense to do with just clicks, but having a dashboard to visualize and layout your automatically-generated plots is great. However there are some things that the GUI can already help you do automatically. **You will be a true master in the moment you know how to use sisl plots in pyton, how to use the GUI and how to make the two worlds interact**.\n",
    "    \n",
    "But don't worry, it is not that difficult really to become a true master :)\n",
    "    \n",
    "You will also understand that you can build your own custom sessions to adapt to your needs, **boost your productivity and save you hours of work**."
   ]
  },
  {
   "cell_type": "markdown",
   "metadata": {},
   "source": [
    "**Disclaimer**: *This notebook will be very simple and straightforward.*"
   ]
  },
  {
   "cell_type": "code",
   "execution_count": 1,
   "metadata": {
    "execution": {
     "iopub.execute_input": "2021-01-18T21:20:39.093410Z",
     "iopub.status.busy": "2021-01-18T21:20:39.092902Z",
     "iopub.status.idle": "2021-01-18T21:20:39.108060Z",
     "shell.execute_reply": "2021-01-18T21:20:39.108494Z"
    }
   },
   "outputs": [
    {
     "data": {
      "text/html": [
       "<! RUN ME PLEASEEEEEE>\n",
       "<style>\n",
       ".user {\n",
       "    background:aliceblue;\n",
       "    padding:5px 10px;\n",
       "    margin 0px 10px;\n",
       "    border-radius: 3px;\n",
       "    color: darkblue;\n",
       "    font-style:italic\n",
       "}\n",
       "</style>\n"
      ],
      "text/plain": [
       "<IPython.core.display.HTML object>"
      ]
     },
     "metadata": {},
     "output_type": "display_data"
    }
   ],
   "source": [
    "%%html\n",
    "<! RUN ME PLEASEEEEEE>\n",
    "<style>\n",
    ".user {\n",
    "    background:aliceblue;\n",
    "    padding:5px 10px;\n",
    "    margin 0px 10px;\n",
    "    border-radius: 3px;\n",
    "    color: darkblue;\n",
    "    font-style:italic\n",
    "}\n",
    "</style>"
   ]
  },
  {
   "cell_type": "markdown",
   "metadata": {},
   "source": [
    "### 1. LAUNCHING THE GUI"
   ]
  },
  {
   "cell_type": "code",
   "execution_count": 2,
   "metadata": {
    "execution": {
     "iopub.execute_input": "2021-01-18T21:20:39.112390Z",
     "iopub.status.busy": "2021-01-18T21:20:39.111878Z",
     "iopub.status.idle": "2021-01-18T21:20:40.732748Z",
     "shell.execute_reply": "2021-01-18T21:20:40.733195Z"
    },
    "scrolled": true
   },
   "outputs": [
    {
     "name": "stdout",
     "output_type": "stream",
     "text": [
      "\n",
      "Api running on http://localhost:4000...\n",
      "connect the GUI to this address or send it to someone for sharing.\n",
      "\n",
      "The session has started succesfully. Happy visualization!\n",
      "\n"
     ]
    }
   ],
   "source": [
    "from sisl.viz import gui\n",
    "\n",
    "gui.launch()"
   ]
  },
  {
   "cell_type": "markdown",
   "metadata": {},
   "source": [
    "A browser tab should have opened. Do you see it?\n",
    "\n",
    "<span class=\"user\">Yeees!</span>"
   ]
  },
  {
   "cell_type": "markdown",
   "metadata": {},
   "source": [
    "### 2. UNDERSTANDING HOW THE GUI WORKS"
   ]
  },
  {
   "cell_type": "markdown",
   "metadata": {},
   "source": [
    "Well, it's not magic. It uses a structure that you will probably be familiar with already.\n",
    "\n",
    "There is a session. This session contains tabs. Tabs contain plots."
   ]
  },
  {
   "cell_type": "markdown",
   "metadata": {},
   "source": [
    "<span class=\"user\">How can I see that session?</span>"
   ]
  },
  {
   "cell_type": "code",
   "execution_count": 3,
   "metadata": {
    "execution": {
     "iopub.execute_input": "2021-01-18T21:20:40.737204Z",
     "iopub.status.busy": "2021-01-18T21:20:40.736640Z",
     "iopub.status.idle": "2021-01-18T21:20:40.740059Z",
     "shell.execute_reply": "2021-01-18T21:20:40.739587Z"
    }
   },
   "outputs": [],
   "source": [
    "session = gui.get_session()"
   ]
  },
  {
   "cell_type": "markdown",
   "metadata": {},
   "source": [
    "<span class=\"user\">What can I do with it?</span>\n",
    "\n",
    "Use half screen for the GUI and another half for this notebook and I will show you. Or, you know, use two monitors in case you are living a fancy life."
   ]
  },
  {
   "cell_type": "code",
   "execution_count": 4,
   "metadata": {
    "execution": {
     "iopub.execute_input": "2021-01-18T21:20:40.745320Z",
     "iopub.status.busy": "2021-01-18T21:20:40.744794Z",
     "iopub.status.idle": "2021-01-18T21:20:40.747362Z",
     "shell.execute_reply": "2021-01-18T21:20:40.747781Z"
    }
   },
   "outputs": [
    {
     "data": {
      "text/plain": [
       "<sisl.viz.plotly.sessions.blank.BlankSession at 0x7fd054b9f908>"
      ]
     },
     "execution_count": 1,
     "metadata": {},
     "output_type": "execute_result"
    }
   ],
   "source": [
    "# Let's write the session to a new variable for convenience\n",
    "session = gui.get_session()\n",
    "\n",
    "# Then add a new tab ( run help(session) to see all the available methods )\n",
    "session.add_tab(\"Tab added from jupyter\")"
   ]
  },
  {
   "cell_type": "markdown",
   "metadata": {},
   "source": [
    "Do you see the magic?\n",
    "\n",
    "<span class=\"user\">No.</span>\n",
    "\n",
    "Yeah me neither. You have added a new tab, but the GUI still doesn't know about it. One way of solving this is to refresh the browser with F5.\n",
    "\n",
    "<span class=\"user\">Lame.</span>\n",
    "\n",
    "I know. That's why there are better ways. You can either emit the changes when you are ready:"
   ]
  },
  {
   "cell_type": "code",
   "execution_count": 5,
   "metadata": {
    "execution": {
     "iopub.execute_input": "2021-01-18T21:20:40.751269Z",
     "iopub.status.busy": "2021-01-18T21:20:40.750769Z",
     "iopub.status.idle": "2021-01-18T21:20:40.771877Z",
     "shell.execute_reply": "2021-01-18T21:20:40.771463Z"
    }
   },
   "outputs": [
    {
     "data": {
      "text/plain": [
       "<sisl.viz.plotly.sessions.blank.BlankSession at 0x7fd054b9f908>"
      ]
     },
     "execution_count": 1,
     "metadata": {},
     "output_type": "execute_result"
    }
   ],
   "source": [
    "session.emit()"
   ]
  },
  {
   "cell_type": "markdown",
   "metadata": {},
   "source": [
    "Or use the magic of autosync:"
   ]
  },
  {
   "cell_type": "code",
   "execution_count": 6,
   "metadata": {
    "execution": {
     "iopub.execute_input": "2021-01-18T21:20:40.780408Z",
     "iopub.status.busy": "2021-01-18T21:20:40.779895Z",
     "iopub.status.idle": "2021-01-18T21:20:40.793096Z",
     "shell.execute_reply": "2021-01-18T21:20:40.792549Z"
    }
   },
   "outputs": [
    {
     "data": {
      "text/plain": [
       "<sisl.viz.plotly.sessions.blank.BlankSession at 0x7fd054b9f908>"
      ]
     },
     "execution_count": 1,
     "metadata": {},
     "output_type": "execute_result"
    }
   ],
   "source": [
    "session.autosync.add_tab(\"This is syncing!\")"
   ]
  },
  {
   "cell_type": "markdown",
   "metadata": {},
   "source": [
    "<span class=\"user\">That's cool, but do I have to write autosync each time?.</span>\n",
    "\n",
    "No, the autosync property basically returns your session with autosyncing super-powers. So, you can store that and then run your methods happily:"
   ]
  },
  {
   "cell_type": "code",
   "execution_count": 7,
   "metadata": {
    "execution": {
     "iopub.execute_input": "2021-01-18T21:20:40.796719Z",
     "iopub.status.busy": "2021-01-18T21:20:40.796189Z",
     "iopub.status.idle": "2021-01-18T21:20:40.817702Z",
     "shell.execute_reply": "2021-01-18T21:20:40.817227Z"
    }
   },
   "outputs": [
    {
     "data": {
      "text/plain": [
       "<sisl.viz.plotly.sessions.blank.BlankSession at 0x7fd054b9f908>"
      ]
     },
     "execution_count": 1,
     "metadata": {},
     "output_type": "execute_result"
    }
   ],
   "source": [
    "# From now on we are going to just the autosynced version of the\n",
    "# session. We could keep the other one, but we just don't care\n",
    "# so we will overwrite it\n",
    "session = session.autosync\n",
    "\n",
    "# Just delete our useless tabs\n",
    "session.remove_tab('This is syncing!')\n",
    "session.remove_tab('Tab added from jupyter')"
   ]
  },
  {
   "cell_type": "markdown",
   "metadata": {},
   "source": [
    "We can now start to add plots."
   ]
  },
  {
   "cell_type": "code",
   "execution_count": 8,
   "metadata": {
    "execution": {
     "iopub.execute_input": "2021-01-18T21:20:40.822788Z",
     "iopub.status.busy": "2021-01-18T21:20:40.822284Z",
     "iopub.status.idle": "2021-01-18T21:20:40.844433Z",
     "shell.execute_reply": "2021-01-18T21:20:40.844902Z"
    }
   },
   "outputs": [
    {
     "name": "stdout",
     "output_type": "stream",
     "text": [
      "The plot has been initialized correctly, but the current settings were not enough to generate the figure.\n",
      " (Error: Could not read or generate data for PdosPlot from any of the possible sources.\n",
      "\n",
      " Here are the errors for each source:\n",
      "\n",
      " \t- TB trans: TypeError.expected str, bytes or os.PathLike object, not NoneType\n",
      "\t- hamiltonian: TypeError.expected str, bytes or os.PathLike object, not NoneType\n",
      "\t- siesta output: FileNotFoundError.[Errno 2] No such file or directory: '../../../../files/tests/sisl/io/siesta/SrTiO3.PDOS'  )\n"
     ]
    },
    {
     "data": {
      "text/plain": [
       "<sisl.viz.plotly.sessions.blank.BlankSession at 0x7fd054b9f908>"
      ]
     },
     "execution_count": 1,
     "metadata": {},
     "output_type": "execute_result"
    }
   ],
   "source": [
    "from sisl.viz import Plot\n",
    "\n",
    "# Let's start a PDOS plot\n",
    "plot = Plot(\"../../../../files/tests/sisl/io/siesta/SrTiO3.PDOS\")\n",
    "\n",
    "session.add_plot(plot, \"First tab\")"
   ]
  },
  {
   "cell_type": "markdown",
   "metadata": {},
   "source": [
    "Can you see it?\n",
    "\n",
    "<span class=\"user\">No.</span>\n",
    "\n",
    "Maybe you don't have the tab open in the GUI.\n",
    "\n",
    "Now, you should be able to interact as you wish with it. Since the reference is kept, you are able to run the methods on your notebook variable directly. Like so:"
   ]
  },
  {
   "cell_type": "code",
   "execution_count": 9,
   "metadata": {
    "execution": {
     "iopub.execute_input": "2021-01-18T21:20:40.848831Z",
     "iopub.status.busy": "2021-01-18T21:20:40.847863Z",
     "iopub.status.idle": "2021-01-18T21:20:41.135493Z",
     "shell.execute_reply": "2021-01-18T21:20:41.136025Z"
    }
   },
   "outputs": [
    {
     "ename": "AttributeError",
     "evalue": "'OrbitalQueries' object has no attribute 'orb_filtering_df'",
     "output_type": "error",
     "traceback": [
      "\u001b[0;31m---------------------------------------------------------------------------\u001b[0m",
      "\u001b[0;31mAttributeError\u001b[0m                            Traceback (most recent call last)",
      "\u001b[0;32m<ipython-input-1-20ce18d0bd9a>\u001b[0m in \u001b[0;36m<module>\u001b[0;34m\u001b[0m\n\u001b[0;32m----> 1\u001b[0;31m \u001b[0mplot\u001b[0m\u001b[0;34m.\u001b[0m\u001b[0mautosync\u001b[0m\u001b[0;34m.\u001b[0m\u001b[0msplit_DOS\u001b[0m\u001b[0;34m(\u001b[0m\u001b[0mon\u001b[0m\u001b[0;34m=\u001b[0m\u001b[0;34m\"species\"\u001b[0m\u001b[0;34m)\u001b[0m\u001b[0;34m\u001b[0m\u001b[0;34m\u001b[0m\u001b[0m\n\u001b[0m\u001b[1;32m      2\u001b[0m \u001b[0;31m# Yes, plots can also autosync after they have been bound to a session\u001b[0m\u001b[0;34m\u001b[0m\u001b[0;34m\u001b[0m\u001b[0;34m\u001b[0m\u001b[0m\n",
      "\u001b[0;32m/opt/hostedtoolcache/Python/3.6.12/x64/lib/python3.6/site-packages/sisl/viz/plotly/gui/server/sync.py\u001b[0m in \u001b[0;36mwith_changes_emitted\u001b[0;34m(emit, *args, **kwargs)\u001b[0m\n\u001b[1;32m     83\u001b[0m         \u001b[0;32mdef\u001b[0m \u001b[0mwith_changes_emitted\u001b[0m\u001b[0;34m(\u001b[0m\u001b[0;34m*\u001b[0m\u001b[0margs\u001b[0m\u001b[0;34m,\u001b[0m \u001b[0memit\u001b[0m\u001b[0;34m=\u001b[0m\u001b[0;32mTrue\u001b[0m\u001b[0;34m,\u001b[0m \u001b[0;34m**\u001b[0m\u001b[0mkwargs\u001b[0m\u001b[0;34m)\u001b[0m\u001b[0;34m:\u001b[0m\u001b[0;34m\u001b[0m\u001b[0;34m\u001b[0m\u001b[0m\n\u001b[1;32m     84\u001b[0m \u001b[0;34m\u001b[0m\u001b[0m\n\u001b[0;32m---> 85\u001b[0;31m             \u001b[0mret\u001b[0m \u001b[0;34m=\u001b[0m \u001b[0mmethod\u001b[0m\u001b[0;34m(\u001b[0m\u001b[0;34m*\u001b[0m\u001b[0margs\u001b[0m\u001b[0;34m,\u001b[0m \u001b[0;34m**\u001b[0m\u001b[0mkwargs\u001b[0m\u001b[0;34m)\u001b[0m\u001b[0;34m\u001b[0m\u001b[0;34m\u001b[0m\u001b[0m\n\u001b[0m\u001b[1;32m     86\u001b[0m \u001b[0;34m\u001b[0m\u001b[0m\n\u001b[1;32m     87\u001b[0m             \u001b[0;32mif\u001b[0m \u001b[0memit\u001b[0m\u001b[0;34m:\u001b[0m\u001b[0;34m\u001b[0m\u001b[0;34m\u001b[0m\u001b[0m\n",
      "\u001b[0;32m/opt/hostedtoolcache/Python/3.6.12/x64/lib/python3.6/site-packages/sisl/viz/plotly/plots/pdos.py\u001b[0m in \u001b[0;36msplit_DOS\u001b[0;34m(self, on, only, exclude, clean, **kwargs)\u001b[0m\n\u001b[1;32m    699\u001b[0m         \"\"\"\n\u001b[1;32m    700\u001b[0m         requests = self.get_param('requests')._generate_queries(\n\u001b[0;32m--> 701\u001b[0;31m             on=on, only=only, exclude=exclude, query_gen=self._new_request, **kwargs)\n\u001b[0m\u001b[1;32m    702\u001b[0m \u001b[0;34m\u001b[0m\u001b[0m\n\u001b[1;32m    703\u001b[0m         \u001b[0;31m# If the user doesn't want to clean the plot, we will just add the requests to the existing ones\u001b[0m\u001b[0;34m\u001b[0m\u001b[0;34m\u001b[0m\u001b[0;34m\u001b[0m\u001b[0m\n",
      "\u001b[0;32m/opt/hostedtoolcache/Python/3.6.12/x64/lib/python3.6/site-packages/sisl/viz/plotly/input_fields/queries.py\u001b[0m in \u001b[0;36m_generate_queries\u001b[0;34m(self, on, only, exclude, query_gen, **kwargs)\u001b[0m\n\u001b[1;32m    418\u001b[0m             \u001b[0monly\u001b[0m \u001b[0mthose\u001b[0m \u001b[0mthat\u001b[0m \u001b[0mbelong\u001b[0m \u001b[0mto\u001b[0m \u001b[0mcarbon\u001b[0m \u001b[0matoms\u001b[0m\u001b[0;34m.\u001b[0m\u001b[0;34m\u001b[0m\u001b[0;34m\u001b[0m\u001b[0m\n\u001b[1;32m    419\u001b[0m         \"\"\"\n\u001b[0;32m--> 420\u001b[0;31m         \u001b[0;32mreturn\u001b[0m \u001b[0mself\u001b[0m\u001b[0;34m.\u001b[0m\u001b[0m_split_query\u001b[0m\u001b[0;34m(\u001b[0m\u001b[0;34m{\u001b[0m\u001b[0;34m}\u001b[0m\u001b[0;34m,\u001b[0m \u001b[0mon\u001b[0m\u001b[0;34m=\u001b[0m\u001b[0mon\u001b[0m\u001b[0;34m,\u001b[0m \u001b[0monly\u001b[0m\u001b[0;34m=\u001b[0m\u001b[0monly\u001b[0m\u001b[0;34m,\u001b[0m \u001b[0mexclude\u001b[0m\u001b[0;34m=\u001b[0m\u001b[0mexclude\u001b[0m\u001b[0;34m,\u001b[0m \u001b[0mquery_gen\u001b[0m\u001b[0;34m=\u001b[0m\u001b[0mquery_gen\u001b[0m\u001b[0;34m,\u001b[0m \u001b[0;34m**\u001b[0m\u001b[0mkwargs\u001b[0m\u001b[0;34m)\u001b[0m\u001b[0;34m\u001b[0m\u001b[0;34m\u001b[0m\u001b[0m\n\u001b[0m",
      "\u001b[0;32m/opt/hostedtoolcache/Python/3.6.12/x64/lib/python3.6/site-packages/sisl/viz/plotly/input_fields/queries.py\u001b[0m in \u001b[0;36m_split_query\u001b[0;34m(self, query, on, only, exclude, query_gen, **kwargs)\u001b[0m\n\u001b[1;32m    338\u001b[0m \u001b[0;34m\u001b[0m\u001b[0m\n\u001b[1;32m    339\u001b[0m         \u001b[0;31m# Knowing what are our constraints (which may be none), get the available options\u001b[0m\u001b[0;34m\u001b[0m\u001b[0;34m\u001b[0m\u001b[0;34m\u001b[0m\u001b[0m\n\u001b[0;32m--> 340\u001b[0;31m         \u001b[0mvalues\u001b[0m \u001b[0;34m=\u001b[0m \u001b[0mself\u001b[0m\u001b[0;34m.\u001b[0m\u001b[0mget_options\u001b[0m\u001b[0;34m(\u001b[0m\u001b[0;34m\"+\"\u001b[0m\u001b[0;34m.\u001b[0m\u001b[0mjoin\u001b[0m\u001b[0;34m(\u001b[0m\u001b[0mon\u001b[0m\u001b[0;34m)\u001b[0m\u001b[0;34m,\u001b[0m \u001b[0;34m**\u001b[0m\u001b[0mconstraints\u001b[0m\u001b[0;34m)\u001b[0m\u001b[0;34m\u001b[0m\u001b[0;34m\u001b[0m\u001b[0m\n\u001b[0m\u001b[1;32m    341\u001b[0m \u001b[0;34m\u001b[0m\u001b[0m\n\u001b[1;32m    342\u001b[0m         \u001b[0;31m# We are going to make sure that, even if there was only one parameter to split on,\u001b[0m\u001b[0;34m\u001b[0m\u001b[0;34m\u001b[0m\u001b[0;34m\u001b[0m\u001b[0m\n",
      "\u001b[0;32m/opt/hostedtoolcache/Python/3.6.12/x64/lib/python3.6/site-packages/sisl/viz/plotly/input_fields/queries.py\u001b[0m in \u001b[0;36mget_options\u001b[0;34m(self, key, **kwargs)\u001b[0m\n\u001b[1;32m    255\u001b[0m         \"\"\"\n\u001b[1;32m    256\u001b[0m         \u001b[0;31m# Get the tadatframe\u001b[0m\u001b[0;34m\u001b[0m\u001b[0;34m\u001b[0m\u001b[0;34m\u001b[0m\u001b[0m\n\u001b[0;32m--> 257\u001b[0;31m         \u001b[0mdf\u001b[0m \u001b[0;34m=\u001b[0m \u001b[0mself\u001b[0m\u001b[0;34m.\u001b[0m\u001b[0morb_filtering_df\u001b[0m\u001b[0;34m\u001b[0m\u001b[0;34m\u001b[0m\u001b[0m\n\u001b[0m\u001b[1;32m    258\u001b[0m \u001b[0;34m\u001b[0m\u001b[0m\n\u001b[1;32m    259\u001b[0m         \u001b[0;31m# If there is no spin in this df, we are going to introduce it to avoid problems.\u001b[0m\u001b[0;34m\u001b[0m\u001b[0;34m\u001b[0m\u001b[0;34m\u001b[0m\u001b[0m\n",
      "\u001b[0;31mAttributeError\u001b[0m: 'OrbitalQueries' object has no attribute 'orb_filtering_df'"
     ]
    }
   ],
   "source": [
    "plot.autosync.split_DOS(on=\"species\")\n",
    "# Yes, plots can also autosync after they have been bound to a session"
   ]
  },
  {
   "cell_type": "markdown",
   "metadata": {},
   "source": [
    "Let's add two more plots to this tab."
   ]
  },
  {
   "cell_type": "code",
   "execution_count": 10,
   "metadata": {
    "execution": {
     "iopub.execute_input": "2021-01-18T21:20:41.150333Z",
     "iopub.status.busy": "2021-01-18T21:20:41.148937Z",
     "iopub.status.idle": "2021-01-18T21:20:41.172732Z",
     "shell.execute_reply": "2021-01-18T21:20:41.172228Z"
    }
   },
   "outputs": [
    {
     "name": "stdout",
     "output_type": "stream",
     "text": [
      "The plot has been initialized correctly, but the current settings were not enough to generate the figure.\n",
      " (Error: Could not read or generate data for BandsPlot from any of the possible sources.\n",
      "\n",
      " Here are the errors for each source:\n",
      "\n",
      " \t- aiida bands: AttributeError.'NoneType' object has no attribute '_get_bandplot_data'\n",
      "\t- path: Exception.You need to provide at least 2 points of the path to draw the bands. Please update the 'path' setting. The current path is: []\n",
      "\t- band structure: ValueError.No band structure (k points path) was provided\n",
      "\t- bands file: FileNotFoundError.[Errno 2] No such file or directory: '../../../../files/tests/sisl/io/siesta/SrTiO3.bands'  )\n",
      "The plot has been initialized correctly, but the current settings were not enough to generate the figure.\n",
      " (Error: Could not read or generate data for GridPlot from any of the possible sources.\n",
      "\n",
      " Here are the errors for each source:\n",
      "\n",
      " \t- grid file: SileError.rhoSileSiesta(SrTiO3.RHO, base=/home/runner/work/sisl/sisl/files/tests/sisl/io/siesta).read_grid_size could not read grid sizes. (ierr=2)\n",
      "\t- grid: Exception.  )\n"
     ]
    }
   ],
   "source": [
    "bands = Plot(\"../../../../files/tests/sisl/io/siesta/SrTiO3.bands\")\n",
    "rho = Plot(\"../../../../files/tests/sisl/io/siesta/SrTiO3.RHO\")\n",
    "\n",
    "for pt in (rho, bands):\n",
    "    session.add_plot(pt, \"First tab\")"
   ]
  },
  {
   "cell_type": "markdown",
   "metadata": {},
   "source": [
    "### 3. CHANGING THE GUI'S LAYOUT"
   ]
  },
  {
   "cell_type": "markdown",
   "metadata": {},
   "source": [
    "Each tab has a `layouts` attribute:"
   ]
  },
  {
   "cell_type": "code",
   "execution_count": 11,
   "metadata": {
    "execution": {
     "iopub.execute_input": "2021-01-18T21:20:41.176848Z",
     "iopub.status.busy": "2021-01-18T21:20:41.176056Z",
     "iopub.status.idle": "2021-01-18T21:20:41.189353Z",
     "shell.execute_reply": "2021-01-18T21:20:41.188928Z"
    }
   },
   "outputs": [
    {
     "data": {
      "text/plain": [
       "{'id': 'db025a2c-b0ee-4f23-b160-db6de6d7724c',\n",
       " 'name': 'First tab',\n",
       " 'plots': ['a0ace46c-dd64-43ee-b522-8723948d2a8a',\n",
       "  '5b9a0042-7e9a-4c97-a969-26a82b1b6f21',\n",
       "  'caa239d2-9f7d-49d7-87ba-7616eb42c674'],\n",
       " 'layouts': {'lg': []}}"
      ]
     },
     "execution_count": 1,
     "metadata": {},
     "output_type": "execute_result"
    }
   ],
   "source": [
    "session.tab(\"First tab\")"
   ]
  },
  {
   "cell_type": "markdown",
   "metadata": {},
   "source": [
    "This `layouts` attribute is a dictionary stating how plots should be displayed in different screen sizes (e.g. `lg` is the largest and `xxs` is the smallest). You can change this very easily using the GUI by resizing and dragging your plots, but if you need the same layout every time it is definitely not ideal.\n",
    "\n",
    "The `layouts` structure seems a bit complicated. But don't worry, usually you just need to set the `lg` size, because this is how you see it in a computer. Just ignore the other sizes. \n",
    "\n",
    "As you can see, the `lg` size is a list of dicts, each dict contains:\n",
    "- `w`: The width of the plot in columns out of a total of { lg: 12, sm: 6, xs: 4, xxs: 2 } columns.\n",
    "- `h`: The height of the plot. I don't really know the scale of this honestly. Just try to see what fits best for you.\n",
    "- `x`: The position along the x axis of the left side of the plot (in columns).\n",
    "- `y`: The position along the y axis of the top part of the plot.\n",
    "- `id`: The ID of the plot to which this properties apply. It is available under `plot.id`\n",
    "- `moved`: Whether the plot has been moved.\n",
    "- `static`: Whether the GUI should prevent users from resizing/dragging this plot.\n",
    "\n",
    "I'd say the best strategy is probably to **set the layout in the GUI and then copy it to build your automatic layouts**. In my case, I like how this one looks:\n",
    "\n",
    "[{'w': 6,\n",
    "    'h': 28,\n",
    "    'x': 0,\n",
    "    'y': 0,\n",
    "    'i': '26c94e23-9f6b-4bce-b0a4-3363e69f0fd3',\n",
    "    'moved': False,\n",
    "    'static': False},\n",
    "   {'w': 12,\n",
    "    'h': 14,\n",
    "    'x': 0,\n",
    "    'y': 28,\n",
    "    'i': '0a2f9502-3fbb-4c06-a402-8d46518d3bc3',\n",
    "    'moved': False,\n",
    "    'static': False},\n",
    "   {'w': 6,\n",
    "    'h': 28,\n",
    "    'x': 6,\n",
    "    'y': 0,\n",
    "    'i': 'f6ae7c4a-38c6-4d36-81cb-04c73a794555',\n",
    "    'moved': False,\n",
    "    'static': False}]\n",
    "    \n",
    "So I'm just going to use it automating the ID stuff:"
   ]
  },
  {
   "cell_type": "code",
   "execution_count": 12,
   "metadata": {
    "execution": {
     "iopub.execute_input": "2021-01-18T21:20:41.197330Z",
     "iopub.status.busy": "2021-01-18T21:20:41.196807Z",
     "iopub.status.idle": "2021-01-18T21:20:41.279450Z",
     "shell.execute_reply": "2021-01-18T21:20:41.279001Z"
    }
   },
   "outputs": [
    {
     "name": "stdout",
     "output_type": "stream",
     "text": [
      "The plot has been initialized correctly, but the current settings were not enough to generate the figure.\n",
      " (Error: Could not read or generate data for PdosPlot from any of the possible sources.\n",
      "\n",
      " Here are the errors for each source:\n",
      "\n",
      " \t- TB trans: TypeError.expected str, bytes or os.PathLike object, not NoneType\n",
      "\t- hamiltonian: TypeError.expected str, bytes or os.PathLike object, not NoneType\n",
      "\t- siesta output: FileNotFoundError.[Errno 2] No such file or directory: '\"../../../../files/tests/sisl/io/siesta/SrTiO3.PDOS'  )\n",
      "The plot has been initialized correctly, but the current settings were not enough to generate the figure.\n",
      " (Error: Could not read or generate data for GridPlot from any of the possible sources.\n",
      "\n",
      " Here are the errors for each source:\n",
      "\n",
      " \t- grid file: SileError.rhoSileSiesta(SrTiO3.RHO, base=/home/runner/work/sisl/sisl/docs/visualization/files/tests/sisl/io/siesta).read_grid_size could not read grid sizes. (ierr=2)\n",
      "\t- grid: Exception.  )\n",
      "The plot has been initialized correctly, but the current settings were not enough to generate the figure.\n",
      " (Error: Could not read or generate data for BandsPlot from any of the possible sources.\n",
      "\n",
      " Here are the errors for each source:\n",
      "\n",
      " \t- aiida bands: AttributeError.'NoneType' object has no attribute '_get_bandplot_data'\n",
      "\t- path: Exception.You need to provide at least 2 points of the path to draw the bands. Please update the 'path' setting. The current path is: []\n",
      "\t- band structure: ValueError.No band structure (k points path) was provided\n",
      "\t- bands file: FileNotFoundError.[Errno 2] No such file or directory: '\"../../../../files/tests/sisl/io/siesta/SrTiO3.bands'  )\n"
     ]
    },
    {
     "ename": "AttributeError",
     "evalue": "'OrbitalQueries' object has no attribute 'orb_filtering_df'",
     "output_type": "error",
     "traceback": [
      "\u001b[0;31m---------------------------------------------------------------------------\u001b[0m",
      "\u001b[0;31mAttributeError\u001b[0m                            Traceback (most recent call last)",
      "\u001b[0;32m<ipython-input-1-365e5a174ba9>\u001b[0m in \u001b[0;36m<module>\u001b[0;34m\u001b[0m\n\u001b[1;32m     22\u001b[0m \u001b[0;34m\u001b[0m\u001b[0m\n\u001b[1;32m     23\u001b[0m \u001b[0;31m# And also I'd like the PDOS to be splitted on species\u001b[0m\u001b[0;34m\u001b[0m\u001b[0;34m\u001b[0m\u001b[0;34m\u001b[0m\u001b[0m\n\u001b[0;32m---> 24\u001b[0;31m \u001b[0mplots\u001b[0m\u001b[0;34m[\u001b[0m\u001b[0;36m0\u001b[0m\u001b[0;34m]\u001b[0m\u001b[0;34m.\u001b[0m\u001b[0msplit_DOS\u001b[0m\u001b[0;34m(\u001b[0m\u001b[0mon\u001b[0m\u001b[0;34m=\u001b[0m\u001b[0;34m\"species\"\u001b[0m\u001b[0;34m)\u001b[0m\u001b[0;34m.\u001b[0m\u001b[0mupdate_settings\u001b[0m\u001b[0;34m(\u001b[0m\u001b[0mErange\u001b[0m\u001b[0;34m=\u001b[0m\u001b[0;34m[\u001b[0m\u001b[0;34m-\u001b[0m\u001b[0;36m10\u001b[0m\u001b[0;34m,\u001b[0m\u001b[0;36m10\u001b[0m\u001b[0;34m]\u001b[0m\u001b[0;34m)\u001b[0m\u001b[0;34m.\u001b[0m\u001b[0memit\u001b[0m\u001b[0;34m(\u001b[0m\u001b[0;34m)\u001b[0m\u001b[0;34m\u001b[0m\u001b[0;34m\u001b[0m\u001b[0m\n\u001b[0m\u001b[1;32m     25\u001b[0m \u001b[0;31m# And the bands to show the gap\u001b[0m\u001b[0;34m\u001b[0m\u001b[0;34m\u001b[0m\u001b[0;34m\u001b[0m\u001b[0m\n\u001b[1;32m     26\u001b[0m \u001b[0mplots\u001b[0m\u001b[0;34m[\u001b[0m\u001b[0;36m2\u001b[0m\u001b[0;34m]\u001b[0m\u001b[0;34m.\u001b[0m\u001b[0mupdate_settings\u001b[0m\u001b[0;34m(\u001b[0m\u001b[0mgap\u001b[0m\u001b[0;34m=\u001b[0m\u001b[0;32mTrue\u001b[0m\u001b[0;34m,\u001b[0m \u001b[0mErange\u001b[0m\u001b[0;34m=\u001b[0m\u001b[0;34m[\u001b[0m\u001b[0;34m-\u001b[0m\u001b[0;36m10\u001b[0m\u001b[0;34m,\u001b[0m\u001b[0;36m10\u001b[0m\u001b[0;34m]\u001b[0m\u001b[0;34m)\u001b[0m\u001b[0;34m.\u001b[0m\u001b[0memit\u001b[0m\u001b[0;34m(\u001b[0m\u001b[0;34m)\u001b[0m\u001b[0;34m\u001b[0m\u001b[0;34m\u001b[0m\u001b[0m\n",
      "\u001b[0;32m/opt/hostedtoolcache/Python/3.6.12/x64/lib/python3.6/site-packages/sisl/viz/plotly/plots/pdos.py\u001b[0m in \u001b[0;36msplit_DOS\u001b[0;34m(self, on, only, exclude, clean, **kwargs)\u001b[0m\n\u001b[1;32m    699\u001b[0m         \"\"\"\n\u001b[1;32m    700\u001b[0m         requests = self.get_param('requests')._generate_queries(\n\u001b[0;32m--> 701\u001b[0;31m             on=on, only=only, exclude=exclude, query_gen=self._new_request, **kwargs)\n\u001b[0m\u001b[1;32m    702\u001b[0m \u001b[0;34m\u001b[0m\u001b[0m\n\u001b[1;32m    703\u001b[0m         \u001b[0;31m# If the user doesn't want to clean the plot, we will just add the requests to the existing ones\u001b[0m\u001b[0;34m\u001b[0m\u001b[0;34m\u001b[0m\u001b[0;34m\u001b[0m\u001b[0m\n",
      "\u001b[0;32m/opt/hostedtoolcache/Python/3.6.12/x64/lib/python3.6/site-packages/sisl/viz/plotly/input_fields/queries.py\u001b[0m in \u001b[0;36m_generate_queries\u001b[0;34m(self, on, only, exclude, query_gen, **kwargs)\u001b[0m\n\u001b[1;32m    418\u001b[0m             \u001b[0monly\u001b[0m \u001b[0mthose\u001b[0m \u001b[0mthat\u001b[0m \u001b[0mbelong\u001b[0m \u001b[0mto\u001b[0m \u001b[0mcarbon\u001b[0m \u001b[0matoms\u001b[0m\u001b[0;34m.\u001b[0m\u001b[0;34m\u001b[0m\u001b[0;34m\u001b[0m\u001b[0m\n\u001b[1;32m    419\u001b[0m         \"\"\"\n\u001b[0;32m--> 420\u001b[0;31m         \u001b[0;32mreturn\u001b[0m \u001b[0mself\u001b[0m\u001b[0;34m.\u001b[0m\u001b[0m_split_query\u001b[0m\u001b[0;34m(\u001b[0m\u001b[0;34m{\u001b[0m\u001b[0;34m}\u001b[0m\u001b[0;34m,\u001b[0m \u001b[0mon\u001b[0m\u001b[0;34m=\u001b[0m\u001b[0mon\u001b[0m\u001b[0;34m,\u001b[0m \u001b[0monly\u001b[0m\u001b[0;34m=\u001b[0m\u001b[0monly\u001b[0m\u001b[0;34m,\u001b[0m \u001b[0mexclude\u001b[0m\u001b[0;34m=\u001b[0m\u001b[0mexclude\u001b[0m\u001b[0;34m,\u001b[0m \u001b[0mquery_gen\u001b[0m\u001b[0;34m=\u001b[0m\u001b[0mquery_gen\u001b[0m\u001b[0;34m,\u001b[0m \u001b[0;34m**\u001b[0m\u001b[0mkwargs\u001b[0m\u001b[0;34m)\u001b[0m\u001b[0;34m\u001b[0m\u001b[0;34m\u001b[0m\u001b[0m\n\u001b[0m",
      "\u001b[0;32m/opt/hostedtoolcache/Python/3.6.12/x64/lib/python3.6/site-packages/sisl/viz/plotly/input_fields/queries.py\u001b[0m in \u001b[0;36m_split_query\u001b[0;34m(self, query, on, only, exclude, query_gen, **kwargs)\u001b[0m\n\u001b[1;32m    338\u001b[0m \u001b[0;34m\u001b[0m\u001b[0m\n\u001b[1;32m    339\u001b[0m         \u001b[0;31m# Knowing what are our constraints (which may be none), get the available options\u001b[0m\u001b[0;34m\u001b[0m\u001b[0;34m\u001b[0m\u001b[0;34m\u001b[0m\u001b[0m\n\u001b[0;32m--> 340\u001b[0;31m         \u001b[0mvalues\u001b[0m \u001b[0;34m=\u001b[0m \u001b[0mself\u001b[0m\u001b[0;34m.\u001b[0m\u001b[0mget_options\u001b[0m\u001b[0;34m(\u001b[0m\u001b[0;34m\"+\"\u001b[0m\u001b[0;34m.\u001b[0m\u001b[0mjoin\u001b[0m\u001b[0;34m(\u001b[0m\u001b[0mon\u001b[0m\u001b[0;34m)\u001b[0m\u001b[0;34m,\u001b[0m \u001b[0;34m**\u001b[0m\u001b[0mconstraints\u001b[0m\u001b[0;34m)\u001b[0m\u001b[0;34m\u001b[0m\u001b[0;34m\u001b[0m\u001b[0m\n\u001b[0m\u001b[1;32m    341\u001b[0m \u001b[0;34m\u001b[0m\u001b[0m\n\u001b[1;32m    342\u001b[0m         \u001b[0;31m# We are going to make sure that, even if there was only one parameter to split on,\u001b[0m\u001b[0;34m\u001b[0m\u001b[0;34m\u001b[0m\u001b[0;34m\u001b[0m\u001b[0m\n",
      "\u001b[0;32m/opt/hostedtoolcache/Python/3.6.12/x64/lib/python3.6/site-packages/sisl/viz/plotly/input_fields/queries.py\u001b[0m in \u001b[0;36mget_options\u001b[0;34m(self, key, **kwargs)\u001b[0m\n\u001b[1;32m    255\u001b[0m         \"\"\"\n\u001b[1;32m    256\u001b[0m         \u001b[0;31m# Get the tadatframe\u001b[0m\u001b[0;34m\u001b[0m\u001b[0;34m\u001b[0m\u001b[0;34m\u001b[0m\u001b[0m\n\u001b[0;32m--> 257\u001b[0;31m         \u001b[0mdf\u001b[0m \u001b[0;34m=\u001b[0m \u001b[0mself\u001b[0m\u001b[0;34m.\u001b[0m\u001b[0morb_filtering_df\u001b[0m\u001b[0;34m\u001b[0m\u001b[0;34m\u001b[0m\u001b[0m\n\u001b[0m\u001b[1;32m    258\u001b[0m \u001b[0;34m\u001b[0m\u001b[0m\n\u001b[1;32m    259\u001b[0m         \u001b[0;31m# If there is no spin in this df, we are going to introduce it to avoid problems.\u001b[0m\u001b[0;34m\u001b[0m\u001b[0;34m\u001b[0m\u001b[0;34m\u001b[0m\u001b[0m\n",
      "\u001b[0;31mAttributeError\u001b[0m: 'OrbitalQueries' object has no attribute 'orb_filtering_df'"
     ]
    }
   ],
   "source": [
    "struct = \"SrTiO3\"\n",
    "tab_name = \"Layout attempt\"\n",
    "\n",
    "session.add_tab(tab_name)\n",
    "\n",
    "# Get all the plots\n",
    "plots = [Plot(f'\"../../../../files/tests/sisl/io/siesta/{struct}.{ext}') for ext in (\"PDOS\", \"RHO\", \"bands\")]\n",
    "\n",
    "for plot in plots:\n",
    "    session.add_plot(plot, tab_name)\n",
    "    \n",
    "# This is how you update tab parameters\n",
    "# (in this case, we want to update the layouts parameter)\n",
    "session.update_tab(\n",
    "    tab_name, \n",
    "    layouts = {'lg': [\n",
    "        {'w': 6, 'h': 28, 'x': 0, 'y': 0, 'i': plots[0].id, 'static': False},\n",
    "        {'w': 12, 'h': 14, 'x': 0, 'y': 28, 'i': plots[1].id, 'static': False},\n",
    "        {'w': 6, 'h': 28, 'x': 6, 'y': 0, 'i': plots[2].id, 'static': False}\n",
    "    ]}\n",
    ")\n",
    "\n",
    "# And also I'd like the PDOS to be splitted on species\n",
    "plots[0].split_DOS(on=\"species\").update_settings(Erange=[-10,10]).emit()\n",
    "# And the bands to show the gap\n",
    "plots[2].update_settings(gap=True, Erange=[-10,10]).emit()"
   ]
  },
  {
   "cell_type": "markdown",
   "metadata": {},
   "source": [
    "You can check the \"Layout attempt\" tab to see that we really achieved what we wanted."
   ]
  },
  {
   "cell_type": "markdown",
   "metadata": {},
   "source": [
    "### 4. BUILDING YOUR OWN CUSTOM SESSIONS"
   ]
  },
  {
   "cell_type": "markdown",
   "metadata": {},
   "source": [
    "Well, at this point there is not much mistery to it. Specially if you have gone through the [guide on how to build plots](./DIY.ipynb) You just need to extend the `Session` class. `Session`, as `Plot`, inherits from `Configurable`, so you have exactly the same management of settings.\n",
    "\n",
    "**If you have not read the guide for plots, don't worry**. The basics to build a session class are very simple.\n",
    "\n",
    "Let's build a session using what we wrote in the previous section. We really just need to change the `session` variable for `self` and we have a method!"
   ]
  },
  {
   "cell_type": "code",
   "execution_count": 13,
   "metadata": {
    "execution": {
     "iopub.execute_input": "2021-01-18T21:20:41.288799Z",
     "iopub.status.busy": "2021-01-18T21:20:41.288246Z",
     "iopub.status.idle": "2021-01-18T21:20:41.291847Z",
     "shell.execute_reply": "2021-01-18T21:20:41.291207Z"
    }
   },
   "outputs": [],
   "source": [
    "# Import the parent class\n",
    "from sisl.viz import Session\n",
    "import os\n",
    "\n",
    "# Start building our session\n",
    "class VeryCoolSession(Session):\n",
    "    \n",
    "    # Add the method to see PDOS, bands and RHO of a structure\n",
    "    def see_results(self, struct, wdir='../../../../files/tests/sisl/io/siesta', tab_name=None):\n",
    "        \n",
    "        if tab_name is None:\n",
    "            tab_name = struct\n",
    "            \n",
    "        self.add_tab(tab_name)\n",
    "\n",
    "        plots = [Plot(os.path.join(wdir, f'{struct}.{ext}')) for ext in (\"PDOS\", \"RHO\", \"bands\")]\n",
    "\n",
    "        for plot in plots:\n",
    "            self.add_plot(plot, tab_name)\n",
    "\n",
    "        # This is how you update tab parameters\n",
    "        self.update_tab(\n",
    "            tab_name, \n",
    "            layouts = {'lg': [\n",
    "                {'w': 6, 'h': 28, 'x': 0, 'y': 0, 'i': plots[0].id, 'static': False},\n",
    "                {'w': 12, 'h': 14, 'x': 0, 'y': 28, 'i': plots[1].id, 'static': False},\n",
    "                {'w': 6, 'h': 28, 'x': 6, 'y': 0, 'i': plots[2].id, 'static': False}\n",
    "            ]}\n",
    "        )\n",
    "\n",
    "        # And also I'd like the PDOS to be splitted ¿on species\n",
    "        plots[0].split_DOS(on=\"species\").update_settings(Erange=[-10,10])\n",
    "        # And the bands to show the gap\n",
    "        plots[2].update_settings(gap=True, Erange=[-10,10])\n"
   ]
  },
  {
   "cell_type": "markdown",
   "metadata": {},
   "source": [
    "And that's basically it.\n",
    "\n",
    "<span class=\"user\">Yeah nice but how do I use this session now</span>\n",
    "\n",
    "You just need to set the session of the GUI:"
   ]
  },
  {
   "cell_type": "code",
   "execution_count": 14,
   "metadata": {
    "execution": {
     "iopub.execute_input": "2021-01-18T21:20:41.296160Z",
     "iopub.status.busy": "2021-01-18T21:20:41.295660Z",
     "iopub.status.idle": "2021-01-18T21:20:41.300220Z",
     "shell.execute_reply": "2021-01-18T21:20:41.300609Z"
    }
   },
   "outputs": [
    {
     "data": {
      "text/plain": [
       "<__main__.VeryCoolSession at 0x7fd04f7f8048>"
      ]
     },
     "execution_count": 1,
     "metadata": {},
     "output_type": "execute_result"
    }
   ],
   "source": [
    "# Maybe you want to save the existing one?\n",
    "# session.save(\"My first try.session\")\n",
    "\n",
    "# We initialize the session\n",
    "new_session = VeryCoolSession()\n",
    "# And then we just tell the GUI to use it\n",
    "gui.set_session(new_session)"
   ]
  },
  {
   "cell_type": "markdown",
   "metadata": {},
   "source": [
    "Now, let's see if this works:"
   ]
  },
  {
   "cell_type": "code",
   "execution_count": 15,
   "metadata": {
    "execution": {
     "iopub.execute_input": "2021-01-18T21:20:41.311448Z",
     "iopub.status.busy": "2021-01-18T21:20:41.309222Z",
     "iopub.status.idle": "2021-01-18T21:20:41.345565Z",
     "shell.execute_reply": "2021-01-18T21:20:41.346146Z"
    }
   },
   "outputs": [
    {
     "name": "stdout",
     "output_type": "stream",
     "text": [
      "The plot has been initialized correctly, but the current settings were not enough to generate the figure.\n",
      " (Error: Could not read or generate data for PdosPlot from any of the possible sources.\n",
      "\n",
      " Here are the errors for each source:\n",
      "\n",
      " \t- TB trans: TypeError.expected str, bytes or os.PathLike object, not NoneType\n",
      "\t- hamiltonian: TypeError.expected str, bytes or os.PathLike object, not NoneType\n",
      "\t- siesta output: FileNotFoundError.[Errno 2] No such file or directory: '../../../../files/tests/sisl/io/siesta/SrTiO3.PDOS'  )\n",
      "The plot has been initialized correctly, but the current settings were not enough to generate the figure.\n",
      " (Error: Could not read or generate data for GridPlot from any of the possible sources.\n",
      "\n",
      " Here are the errors for each source:\n",
      "\n",
      " \t- grid file: SileError.rhoSileSiesta(SrTiO3.RHO, base=/home/runner/work/sisl/sisl/files/tests/sisl/io/siesta).read_grid_size could not read grid sizes. (ierr=2)\n",
      "\t- grid: Exception.  )\n",
      "The plot has been initialized correctly, but the current settings were not enough to generate the figure.\n",
      " (Error: Could not read or generate data for BandsPlot from any of the possible sources.\n",
      "\n",
      " Here are the errors for each source:\n",
      "\n",
      " \t- aiida bands: AttributeError.'NoneType' object has no attribute '_get_bandplot_data'\n",
      "\t- path: Exception.You need to provide at least 2 points of the path to draw the bands. Please update the 'path' setting. The current path is: []\n",
      "\t- band structure: ValueError.No band structure (k points path) was provided\n",
      "\t- bands file: FileNotFoundError.[Errno 2] No such file or directory: '../../../../files/tests/sisl/io/siesta/SrTiO3.bands'  )\n"
     ]
    },
    {
     "ename": "AttributeError",
     "evalue": "'OrbitalQueries' object has no attribute 'orb_filtering_df'",
     "output_type": "error",
     "traceback": [
      "\u001b[0;31m---------------------------------------------------------------------------\u001b[0m",
      "\u001b[0;31mAttributeError\u001b[0m                            Traceback (most recent call last)",
      "\u001b[0;32m<ipython-input-1-dd2797bce0e7>\u001b[0m in \u001b[0;36m<module>\u001b[0;34m\u001b[0m\n\u001b[0;32m----> 1\u001b[0;31m \u001b[0mnew_session\u001b[0m\u001b[0;34m.\u001b[0m\u001b[0mautosync\u001b[0m\u001b[0;34m.\u001b[0m\u001b[0msee_results\u001b[0m\u001b[0;34m(\u001b[0m\u001b[0;34m\"SrTiO3\"\u001b[0m\u001b[0;34m)\u001b[0m\u001b[0;34m\u001b[0m\u001b[0;34m\u001b[0m\u001b[0m\n\u001b[0m",
      "\u001b[0;32m/opt/hostedtoolcache/Python/3.6.12/x64/lib/python3.6/site-packages/sisl/viz/plotly/gui/server/sync.py\u001b[0m in \u001b[0;36mwith_changes_emitted\u001b[0;34m(emit, *args, **kwargs)\u001b[0m\n\u001b[1;32m     83\u001b[0m         \u001b[0;32mdef\u001b[0m \u001b[0mwith_changes_emitted\u001b[0m\u001b[0;34m(\u001b[0m\u001b[0;34m*\u001b[0m\u001b[0margs\u001b[0m\u001b[0;34m,\u001b[0m \u001b[0memit\u001b[0m\u001b[0;34m=\u001b[0m\u001b[0;32mTrue\u001b[0m\u001b[0;34m,\u001b[0m \u001b[0;34m**\u001b[0m\u001b[0mkwargs\u001b[0m\u001b[0;34m)\u001b[0m\u001b[0;34m:\u001b[0m\u001b[0;34m\u001b[0m\u001b[0;34m\u001b[0m\u001b[0m\n\u001b[1;32m     84\u001b[0m \u001b[0;34m\u001b[0m\u001b[0m\n\u001b[0;32m---> 85\u001b[0;31m             \u001b[0mret\u001b[0m \u001b[0;34m=\u001b[0m \u001b[0mmethod\u001b[0m\u001b[0;34m(\u001b[0m\u001b[0;34m*\u001b[0m\u001b[0margs\u001b[0m\u001b[0;34m,\u001b[0m \u001b[0;34m**\u001b[0m\u001b[0mkwargs\u001b[0m\u001b[0;34m)\u001b[0m\u001b[0;34m\u001b[0m\u001b[0;34m\u001b[0m\u001b[0m\n\u001b[0m\u001b[1;32m     86\u001b[0m \u001b[0;34m\u001b[0m\u001b[0m\n\u001b[1;32m     87\u001b[0m             \u001b[0;32mif\u001b[0m \u001b[0memit\u001b[0m\u001b[0;34m:\u001b[0m\u001b[0;34m\u001b[0m\u001b[0;34m\u001b[0m\u001b[0m\n",
      "\u001b[0;32m<ipython-input-1-6d93d5a350cd>\u001b[0m in \u001b[0;36msee_results\u001b[0;34m(self, struct, wdir, tab_name)\u001b[0m\n\u001b[1;32m     30\u001b[0m \u001b[0;34m\u001b[0m\u001b[0m\n\u001b[1;32m     31\u001b[0m         \u001b[0;31m# And also I'd like the PDOS to be splitted ¿on species\u001b[0m\u001b[0;34m\u001b[0m\u001b[0;34m\u001b[0m\u001b[0;34m\u001b[0m\u001b[0m\n\u001b[0;32m---> 32\u001b[0;31m         \u001b[0mplots\u001b[0m\u001b[0;34m[\u001b[0m\u001b[0;36m0\u001b[0m\u001b[0;34m]\u001b[0m\u001b[0;34m.\u001b[0m\u001b[0msplit_DOS\u001b[0m\u001b[0;34m(\u001b[0m\u001b[0mon\u001b[0m\u001b[0;34m=\u001b[0m\u001b[0;34m\"species\"\u001b[0m\u001b[0;34m)\u001b[0m\u001b[0;34m.\u001b[0m\u001b[0mupdate_settings\u001b[0m\u001b[0;34m(\u001b[0m\u001b[0mErange\u001b[0m\u001b[0;34m=\u001b[0m\u001b[0;34m[\u001b[0m\u001b[0;34m-\u001b[0m\u001b[0;36m10\u001b[0m\u001b[0;34m,\u001b[0m\u001b[0;36m10\u001b[0m\u001b[0;34m]\u001b[0m\u001b[0;34m)\u001b[0m\u001b[0;34m\u001b[0m\u001b[0;34m\u001b[0m\u001b[0m\n\u001b[0m\u001b[1;32m     33\u001b[0m         \u001b[0;31m# And the bands to show the gap\u001b[0m\u001b[0;34m\u001b[0m\u001b[0;34m\u001b[0m\u001b[0;34m\u001b[0m\u001b[0m\n\u001b[1;32m     34\u001b[0m         \u001b[0mplots\u001b[0m\u001b[0;34m[\u001b[0m\u001b[0;36m2\u001b[0m\u001b[0;34m]\u001b[0m\u001b[0;34m.\u001b[0m\u001b[0mupdate_settings\u001b[0m\u001b[0;34m(\u001b[0m\u001b[0mgap\u001b[0m\u001b[0;34m=\u001b[0m\u001b[0;32mTrue\u001b[0m\u001b[0;34m,\u001b[0m \u001b[0mErange\u001b[0m\u001b[0;34m=\u001b[0m\u001b[0;34m[\u001b[0m\u001b[0;34m-\u001b[0m\u001b[0;36m10\u001b[0m\u001b[0;34m,\u001b[0m\u001b[0;36m10\u001b[0m\u001b[0;34m]\u001b[0m\u001b[0;34m)\u001b[0m\u001b[0;34m\u001b[0m\u001b[0;34m\u001b[0m\u001b[0m\n",
      "\u001b[0;32m/opt/hostedtoolcache/Python/3.6.12/x64/lib/python3.6/site-packages/sisl/viz/plotly/plots/pdos.py\u001b[0m in \u001b[0;36msplit_DOS\u001b[0;34m(self, on, only, exclude, clean, **kwargs)\u001b[0m\n\u001b[1;32m    699\u001b[0m         \"\"\"\n\u001b[1;32m    700\u001b[0m         requests = self.get_param('requests')._generate_queries(\n\u001b[0;32m--> 701\u001b[0;31m             on=on, only=only, exclude=exclude, query_gen=self._new_request, **kwargs)\n\u001b[0m\u001b[1;32m    702\u001b[0m \u001b[0;34m\u001b[0m\u001b[0m\n\u001b[1;32m    703\u001b[0m         \u001b[0;31m# If the user doesn't want to clean the plot, we will just add the requests to the existing ones\u001b[0m\u001b[0;34m\u001b[0m\u001b[0;34m\u001b[0m\u001b[0;34m\u001b[0m\u001b[0m\n",
      "\u001b[0;32m/opt/hostedtoolcache/Python/3.6.12/x64/lib/python3.6/site-packages/sisl/viz/plotly/input_fields/queries.py\u001b[0m in \u001b[0;36m_generate_queries\u001b[0;34m(self, on, only, exclude, query_gen, **kwargs)\u001b[0m\n\u001b[1;32m    418\u001b[0m             \u001b[0monly\u001b[0m \u001b[0mthose\u001b[0m \u001b[0mthat\u001b[0m \u001b[0mbelong\u001b[0m \u001b[0mto\u001b[0m \u001b[0mcarbon\u001b[0m \u001b[0matoms\u001b[0m\u001b[0;34m.\u001b[0m\u001b[0;34m\u001b[0m\u001b[0;34m\u001b[0m\u001b[0m\n\u001b[1;32m    419\u001b[0m         \"\"\"\n\u001b[0;32m--> 420\u001b[0;31m         \u001b[0;32mreturn\u001b[0m \u001b[0mself\u001b[0m\u001b[0;34m.\u001b[0m\u001b[0m_split_query\u001b[0m\u001b[0;34m(\u001b[0m\u001b[0;34m{\u001b[0m\u001b[0;34m}\u001b[0m\u001b[0;34m,\u001b[0m \u001b[0mon\u001b[0m\u001b[0;34m=\u001b[0m\u001b[0mon\u001b[0m\u001b[0;34m,\u001b[0m \u001b[0monly\u001b[0m\u001b[0;34m=\u001b[0m\u001b[0monly\u001b[0m\u001b[0;34m,\u001b[0m \u001b[0mexclude\u001b[0m\u001b[0;34m=\u001b[0m\u001b[0mexclude\u001b[0m\u001b[0;34m,\u001b[0m \u001b[0mquery_gen\u001b[0m\u001b[0;34m=\u001b[0m\u001b[0mquery_gen\u001b[0m\u001b[0;34m,\u001b[0m \u001b[0;34m**\u001b[0m\u001b[0mkwargs\u001b[0m\u001b[0;34m)\u001b[0m\u001b[0;34m\u001b[0m\u001b[0;34m\u001b[0m\u001b[0m\n\u001b[0m",
      "\u001b[0;32m/opt/hostedtoolcache/Python/3.6.12/x64/lib/python3.6/site-packages/sisl/viz/plotly/input_fields/queries.py\u001b[0m in \u001b[0;36m_split_query\u001b[0;34m(self, query, on, only, exclude, query_gen, **kwargs)\u001b[0m\n\u001b[1;32m    338\u001b[0m \u001b[0;34m\u001b[0m\u001b[0m\n\u001b[1;32m    339\u001b[0m         \u001b[0;31m# Knowing what are our constraints (which may be none), get the available options\u001b[0m\u001b[0;34m\u001b[0m\u001b[0;34m\u001b[0m\u001b[0;34m\u001b[0m\u001b[0m\n\u001b[0;32m--> 340\u001b[0;31m         \u001b[0mvalues\u001b[0m \u001b[0;34m=\u001b[0m \u001b[0mself\u001b[0m\u001b[0;34m.\u001b[0m\u001b[0mget_options\u001b[0m\u001b[0;34m(\u001b[0m\u001b[0;34m\"+\"\u001b[0m\u001b[0;34m.\u001b[0m\u001b[0mjoin\u001b[0m\u001b[0;34m(\u001b[0m\u001b[0mon\u001b[0m\u001b[0;34m)\u001b[0m\u001b[0;34m,\u001b[0m \u001b[0;34m**\u001b[0m\u001b[0mconstraints\u001b[0m\u001b[0;34m)\u001b[0m\u001b[0;34m\u001b[0m\u001b[0;34m\u001b[0m\u001b[0m\n\u001b[0m\u001b[1;32m    341\u001b[0m \u001b[0;34m\u001b[0m\u001b[0m\n\u001b[1;32m    342\u001b[0m         \u001b[0;31m# We are going to make sure that, even if there was only one parameter to split on,\u001b[0m\u001b[0;34m\u001b[0m\u001b[0;34m\u001b[0m\u001b[0;34m\u001b[0m\u001b[0m\n",
      "\u001b[0;32m/opt/hostedtoolcache/Python/3.6.12/x64/lib/python3.6/site-packages/sisl/viz/plotly/input_fields/queries.py\u001b[0m in \u001b[0;36mget_options\u001b[0;34m(self, key, **kwargs)\u001b[0m\n\u001b[1;32m    255\u001b[0m         \"\"\"\n\u001b[1;32m    256\u001b[0m         \u001b[0;31m# Get the tadatframe\u001b[0m\u001b[0;34m\u001b[0m\u001b[0;34m\u001b[0m\u001b[0;34m\u001b[0m\u001b[0m\n\u001b[0;32m--> 257\u001b[0;31m         \u001b[0mdf\u001b[0m \u001b[0;34m=\u001b[0m \u001b[0mself\u001b[0m\u001b[0;34m.\u001b[0m\u001b[0morb_filtering_df\u001b[0m\u001b[0;34m\u001b[0m\u001b[0;34m\u001b[0m\u001b[0m\n\u001b[0m\u001b[1;32m    258\u001b[0m \u001b[0;34m\u001b[0m\u001b[0m\n\u001b[1;32m    259\u001b[0m         \u001b[0;31m# If there is no spin in this df, we are going to introduce it to avoid problems.\u001b[0m\u001b[0;34m\u001b[0m\u001b[0;34m\u001b[0m\u001b[0;34m\u001b[0m\u001b[0m\n",
      "\u001b[0;31mAttributeError\u001b[0m: 'OrbitalQueries' object has no attribute 'orb_filtering_df'"
     ]
    }
   ],
   "source": [
    "new_session.autosync.see_results(\"SrTiO3\")"
   ]
  },
  {
   "cell_type": "markdown",
   "metadata": {},
   "source": [
    "Just take a moment now to admire the simplicity of the previous line and the beauty and usefulness that it can bring to your research.\n",
    "\n",
    "With this, we end this short but intense tutorial. I hope that I have been able to convince you of the power this gives to you, but if not, thanks for the read anyway :)\n",
    "\n",
    "Just as a last thing, notice that you can add parameters to the session and they can be tweaked from the GUI. Give a glimpse at the [notebook where plot building is explained](./DIY.ipynb) if you are further interested, there's a section where parameters are introduced, close to the beggining.\n",
    "\n",
    "Oh, and by the way, you can load saved sessions just as we did with plots in the [Demo Notebook](./Demo.ipynb)\n",
    "\n",
    "If there is a request for further tutorials on sessions, we will extend more on the topic, so don't hesitate to ask.\n",
    "\n",
    "Cheers!"
   ]
  },
  {
   "cell_type": "code",
   "execution_count": null,
   "metadata": {},
   "outputs": [],
   "source": []
  }
 ],
 "metadata": {
  "kernelspec": {
   "display_name": "Python 3",
   "language": "python",
   "name": "python3"
  },
  "language_info": {
   "codemirror_mode": {
    "name": "ipython",
    "version": 3
   },
   "file_extension": ".py",
   "mimetype": "text/x-python",
   "name": "python",
   "nbconvert_exporter": "python",
   "pygments_lexer": "ipython3",
   "version": "3.6.12"
  }
 },
 "nbformat": 4,
 "nbformat_minor": 2
}
