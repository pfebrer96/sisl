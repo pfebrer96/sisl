{
 "cells": [
  {
   "cell_type": "markdown",
   "metadata": {},
   "source": [
    "Using python to interact with sisl's GUI\n",
    "=====\n",
    "\n",
    "This notebook will show you how you can benefit from knowing how to interact with the [graphical interface](https://github.com/pfebrer96/sisl/tree/GUI/sisl/viz/GUI). Some things just make no sense to do with just clicks, but having a dashboard to visualize and layout your automatically-generated plots is great. However there are some things that the GUI can already help you do automatically. **You will be a true master in the moment you know how to use sisl plots in pyton, how to use the GUI and how to make the two worlds interact**.\n",
    "    \n",
    "But don't worry, it is not that difficult really to become a true master :)\n",
    "    \n",
    "You will also understand that you can build your own custom sessions to adapt to your needs, **boost your productivity and save you hours of work**."
   ]
  },
  {
   "cell_type": "markdown",
   "metadata": {},
   "source": [
    "**Disclaimer**: *This notebook will be very simple and straightforward.*"
   ]
  },
  {
   "cell_type": "code",
   "execution_count": 1,
   "metadata": {
    "execution": {
     "iopub.execute_input": "2021-02-05T11:25:03.163314Z",
     "iopub.status.busy": "2021-02-05T11:25:03.162593Z",
     "iopub.status.idle": "2021-02-05T11:25:03.181594Z",
     "shell.execute_reply": "2021-02-05T11:25:03.182191Z"
    }
   },
   "outputs": [
    {
     "data": {
      "text/html": [
       "<! RUN ME PLEASEEEEEE>\n",
       "<style>\n",
       ".user {\n",
       "    background:aliceblue;\n",
       "    padding:5px 10px;\n",
       "    margin 0px 10px;\n",
       "    border-radius: 3px;\n",
       "    color: darkblue;\n",
       "    font-style:italic\n",
       "}\n",
       "</style>\n"
      ],
      "text/plain": [
       "<IPython.core.display.HTML object>"
      ]
     },
     "metadata": {},
     "output_type": "display_data"
    }
   ],
   "source": [
    "%%html\n",
    "<! RUN ME PLEASEEEEEE>\n",
    "<style>\n",
    ".user {\n",
    "    background:aliceblue;\n",
    "    padding:5px 10px;\n",
    "    margin 0px 10px;\n",
    "    border-radius: 3px;\n",
    "    color: darkblue;\n",
    "    font-style:italic\n",
    "}\n",
    "</style>"
   ]
  },
  {
   "cell_type": "markdown",
   "metadata": {},
   "source": [
    "### 1. LAUNCHING THE GUI"
   ]
  },
  {
   "cell_type": "code",
   "execution_count": 2,
   "metadata": {
    "execution": {
     "iopub.execute_input": "2021-02-05T11:25:03.187367Z",
     "iopub.status.busy": "2021-02-05T11:25:03.186616Z",
     "iopub.status.idle": "2021-02-05T11:25:05.271252Z",
     "shell.execute_reply": "2021-02-05T11:25:05.271913Z"
    },
    "scrolled": true
   },
   "outputs": [
    {
     "name": "stderr",
     "output_type": "stream",
     "text": [
      "info:0: SislInfo: Please install tqdm (pip install tqdm) for better looking progress bars\n"
     ]
    },
    {
     "ename": "ModuleNotFoundError",
     "evalue": "No module named 'tqdm'",
     "output_type": "error",
     "traceback": [
      "\u001b[0;31m---------------------------------------------------------------------------\u001b[0m",
      "\u001b[0;31mModuleNotFoundError\u001b[0m                       Traceback (most recent call last)",
      "\u001b[0;32m<ipython-input-1-e1a62ce2dee4>\u001b[0m in \u001b[0;36m<module>\u001b[0;34m\u001b[0m\n\u001b[0;32m----> 1\u001b[0;31m \u001b[0;32mfrom\u001b[0m \u001b[0msisl\u001b[0m\u001b[0;34m.\u001b[0m\u001b[0mviz\u001b[0m \u001b[0;32mimport\u001b[0m \u001b[0mgui\u001b[0m\u001b[0;34m\u001b[0m\u001b[0;34m\u001b[0m\u001b[0m\n\u001b[0m\u001b[1;32m      2\u001b[0m \u001b[0;34m\u001b[0m\u001b[0m\n\u001b[1;32m      3\u001b[0m \u001b[0mgui\u001b[0m\u001b[0;34m.\u001b[0m\u001b[0mlaunch\u001b[0m\u001b[0;34m(\u001b[0m\u001b[0;34m)\u001b[0m\u001b[0;34m\u001b[0m\u001b[0;34m\u001b[0m\u001b[0m\n",
      "\u001b[0;32m/opt/hostedtoolcache/Python/3.6.12/x64/lib/python3.6/site-packages/sisl/viz/__init__.py\u001b[0m in \u001b[0;36m<module>\u001b[0;34m\u001b[0m\n\u001b[1;32m     18\u001b[0m \u001b[0;34m\u001b[0m\u001b[0m\n\u001b[1;32m     19\u001b[0m \u001b[0;31m# Import everything from the plotly submodule\u001b[0m\u001b[0;34m\u001b[0m\u001b[0;34m\u001b[0m\u001b[0;34m\u001b[0m\u001b[0m\n\u001b[0;32m---> 20\u001b[0;31m \u001b[0;32mfrom\u001b[0m \u001b[0;34m.\u001b[0m\u001b[0mplotly\u001b[0m \u001b[0;32mimport\u001b[0m \u001b[0;34m*\u001b[0m\u001b[0;34m\u001b[0m\u001b[0;34m\u001b[0m\u001b[0m\n\u001b[0m\u001b[1;32m     21\u001b[0m \u001b[0;32mfrom\u001b[0m \u001b[0;34m.\u001b[0m\u001b[0mplotly\u001b[0m \u001b[0;32mimport\u001b[0m \u001b[0mplotutils\u001b[0m\u001b[0;34m\u001b[0m\u001b[0;34m\u001b[0m\u001b[0m\n\u001b[1;32m     22\u001b[0m \u001b[0;34m\u001b[0m\u001b[0m\n",
      "\u001b[0;32m/opt/hostedtoolcache/Python/3.6.12/x64/lib/python3.6/site-packages/sisl/viz/plotly/__init__.py\u001b[0m in \u001b[0;36m<module>\u001b[0;34m\u001b[0m\n\u001b[1;32m     25\u001b[0m \u001b[0;32mfrom\u001b[0m \u001b[0;34m.\u001b[0m\u001b[0m_user_customs\u001b[0m \u001b[0;32mimport\u001b[0m \u001b[0mimport_user_plots\u001b[0m\u001b[0;34m,\u001b[0m \u001b[0mimport_user_presets\u001b[0m\u001b[0;34m,\u001b[0m \u001b[0mimport_user_sessions\u001b[0m\u001b[0;34m,\u001b[0m \u001b[0mimport_user_plugins\u001b[0m\u001b[0;34m\u001b[0m\u001b[0;34m\u001b[0m\u001b[0m\n\u001b[1;32m     26\u001b[0m \u001b[0;34m\u001b[0m\u001b[0m\n\u001b[0;32m---> 27\u001b[0;31m \u001b[0;32mfrom\u001b[0m \u001b[0;34m.\u001b[0m\u001b[0mplot\u001b[0m \u001b[0;32mimport\u001b[0m \u001b[0mPlot\u001b[0m\u001b[0;34m,\u001b[0m \u001b[0mAnimation\u001b[0m\u001b[0;34m,\u001b[0m \u001b[0mMultiplePlot\u001b[0m\u001b[0;34m,\u001b[0m \u001b[0mSubPlots\u001b[0m\u001b[0;34m\u001b[0m\u001b[0;34m\u001b[0m\u001b[0m\n\u001b[0m\u001b[1;32m     28\u001b[0m \u001b[0;32mfrom\u001b[0m \u001b[0;34m.\u001b[0m\u001b[0mplots\u001b[0m \u001b[0;32mimport\u001b[0m \u001b[0;34m*\u001b[0m\u001b[0;34m\u001b[0m\u001b[0;34m\u001b[0m\u001b[0m\n\u001b[1;32m     29\u001b[0m \u001b[0;32mfrom\u001b[0m \u001b[0;34m.\u001b[0m\u001b[0msession\u001b[0m \u001b[0;32mimport\u001b[0m \u001b[0mSession\u001b[0m\u001b[0;34m\u001b[0m\u001b[0;34m\u001b[0m\u001b[0m\n",
      "\u001b[0;32m/opt/hostedtoolcache/Python/3.6.12/x64/lib/python3.6/site-packages/sisl/viz/plotly/plot.py\u001b[0m in \u001b[0;36m<module>\u001b[0;34m\u001b[0m\n\u001b[1;32m     21\u001b[0m \u001b[0;32mimport\u001b[0m \u001b[0msisl\u001b[0m\u001b[0;34m\u001b[0m\u001b[0;34m\u001b[0m\u001b[0m\n\u001b[1;32m     22\u001b[0m \u001b[0;34m\u001b[0m\u001b[0m\n\u001b[0;32m---> 23\u001b[0;31m \u001b[0;32mfrom\u001b[0m \u001b[0;34m.\u001b[0m\u001b[0mconfigurable\u001b[0m \u001b[0;32mimport\u001b[0m \u001b[0mConfigurable\u001b[0m\u001b[0;34m,\u001b[0m \u001b[0mConfigurableMeta\u001b[0m\u001b[0;34m,\u001b[0m \u001b[0mvizplotly_settings\u001b[0m\u001b[0;34m,\u001b[0m \u001b[0m_populate_with_settings\u001b[0m\u001b[0;34m\u001b[0m\u001b[0;34m\u001b[0m\u001b[0m\n\u001b[0m\u001b[1;32m     24\u001b[0m \u001b[0;32mfrom\u001b[0m \u001b[0;34m.\u001b[0m\u001b[0m_presets\u001b[0m \u001b[0;32mimport\u001b[0m \u001b[0mget_preset\u001b[0m\u001b[0;34m\u001b[0m\u001b[0;34m\u001b[0m\u001b[0m\n\u001b[1;32m     25\u001b[0m \u001b[0;32mfrom\u001b[0m \u001b[0;34m.\u001b[0m\u001b[0mplotutils\u001b[0m \u001b[0;32mimport\u001b[0m \u001b[0minit_multiple_plots\u001b[0m\u001b[0;34m,\u001b[0m \u001b[0mrepeat_if_childs\u001b[0m\u001b[0;34m,\u001b[0m \u001b[0mdictOfLists2listOfDicts\u001b[0m\u001b[0;34m,\u001b[0m \u001b[0mtrigger_notification\u001b[0m\u001b[0;34m,\u001b[0m\u001b[0;31m \u001b[0m\u001b[0;31m\\\u001b[0m\u001b[0;34m\u001b[0m\u001b[0;34m\u001b[0m\u001b[0m\n",
      "\u001b[0;32m/opt/hostedtoolcache/Python/3.6.12/x64/lib/python3.6/site-packages/sisl/viz/plotly/configurable.py\u001b[0m in \u001b[0;36m<module>\u001b[0;34m\u001b[0m\n\u001b[1;32m     11\u001b[0m \u001b[0;32mfrom\u001b[0m \u001b[0msisl\u001b[0m\u001b[0;34m.\u001b[0m\u001b[0m_dispatcher\u001b[0m \u001b[0;32mimport\u001b[0m \u001b[0mAbstractDispatch\u001b[0m\u001b[0;34m\u001b[0m\u001b[0;34m\u001b[0m\u001b[0m\n\u001b[1;32m     12\u001b[0m \u001b[0;32mfrom\u001b[0m \u001b[0;34m.\u001b[0m\u001b[0m_presets\u001b[0m \u001b[0;32mimport\u001b[0m \u001b[0mget_preset\u001b[0m\u001b[0;34m\u001b[0m\u001b[0;34m\u001b[0m\u001b[0m\n\u001b[0;32m---> 13\u001b[0;31m \u001b[0;32mfrom\u001b[0m \u001b[0;34m.\u001b[0m\u001b[0mplotutils\u001b[0m \u001b[0;32mimport\u001b[0m \u001b[0mget_configurable_docstring\u001b[0m\u001b[0;34m,\u001b[0m \u001b[0mget_configurable_kwargs\u001b[0m\u001b[0;34m,\u001b[0m \u001b[0mget_configurable_kwargs_to_pass\u001b[0m\u001b[0;34m\u001b[0m\u001b[0;34m\u001b[0m\u001b[0m\n\u001b[0m\u001b[1;32m     14\u001b[0m \u001b[0;34m\u001b[0m\u001b[0m\n\u001b[1;32m     15\u001b[0m \u001b[0m__all__\u001b[0m \u001b[0;34m=\u001b[0m \u001b[0;34m[\u001b[0m\u001b[0;34m\"Configurable\"\u001b[0m\u001b[0;34m,\u001b[0m \u001b[0;34m\"vizplotly_settings\"\u001b[0m\u001b[0;34m]\u001b[0m\u001b[0;34m\u001b[0m\u001b[0;34m\u001b[0m\u001b[0m\n",
      "\u001b[0;32m/opt/hostedtoolcache/Python/3.6.12/x64/lib/python3.6/site-packages/sisl/viz/plotly/plotutils.py\u001b[0m in \u001b[0;36m<module>\u001b[0;34m\u001b[0m\n\u001b[1;32m      8\u001b[0m \u001b[0;32mimport\u001b[0m \u001b[0mitertools\u001b[0m\u001b[0;34m\u001b[0m\u001b[0;34m\u001b[0m\u001b[0m\n\u001b[1;32m      9\u001b[0m \u001b[0;32mfrom\u001b[0m \u001b[0mpathos\u001b[0m\u001b[0;34m.\u001b[0m\u001b[0mpools\u001b[0m \u001b[0;32mimport\u001b[0m \u001b[0mProcessPool\u001b[0m \u001b[0;32mas\u001b[0m \u001b[0mPool\u001b[0m\u001b[0;34m\u001b[0m\u001b[0;34m\u001b[0m\u001b[0m\n\u001b[0;32m---> 10\u001b[0;31m \u001b[0;32mimport\u001b[0m \u001b[0mtqdm\u001b[0m\u001b[0;34m\u001b[0m\u001b[0;34m\u001b[0m\u001b[0m\n\u001b[0m\u001b[1;32m     11\u001b[0m \u001b[0;34m\u001b[0m\u001b[0m\n\u001b[1;32m     12\u001b[0m \u001b[0;32mfrom\u001b[0m \u001b[0mcopy\u001b[0m \u001b[0;32mimport\u001b[0m \u001b[0mdeepcopy\u001b[0m\u001b[0;34m\u001b[0m\u001b[0;34m\u001b[0m\u001b[0m\n",
      "\u001b[0;31mModuleNotFoundError\u001b[0m: No module named 'tqdm'"
     ]
    }
   ],
   "source": [
    "from sisl.viz import gui\n",
    "\n",
    "gui.launch()"
   ]
  },
  {
   "cell_type": "markdown",
   "metadata": {},
   "source": [
    "A browser tab should have opened. Do you see it?\n",
    "\n",
    "<span class=\"user\">Yeees!</span>"
   ]
  },
  {
   "cell_type": "markdown",
   "metadata": {},
   "source": [
    "### 2. UNDERSTANDING HOW THE GUI WORKS"
   ]
  },
  {
   "cell_type": "markdown",
   "metadata": {},
   "source": [
    "Well, it's not magic. It uses a structure that you will probably be familiar with already.\n",
    "\n",
    "There is a session. This session contains tabs. Tabs contain plots."
   ]
  },
  {
   "cell_type": "markdown",
   "metadata": {},
   "source": [
    "<span class=\"user\">How can I see that session?</span>"
   ]
  },
  {
   "cell_type": "code",
   "execution_count": 3,
   "metadata": {
    "execution": {
     "iopub.execute_input": "2021-02-05T11:25:05.285838Z",
     "iopub.status.busy": "2021-02-05T11:25:05.275946Z",
     "iopub.status.idle": "2021-02-05T11:25:05.291227Z",
     "shell.execute_reply": "2021-02-05T11:25:05.291877Z"
    }
   },
   "outputs": [
    {
     "ename": "NameError",
     "evalue": "name 'gui' is not defined",
     "output_type": "error",
     "traceback": [
      "\u001b[0;31m---------------------------------------------------------------------------\u001b[0m",
      "\u001b[0;31mNameError\u001b[0m                                 Traceback (most recent call last)",
      "\u001b[0;32m<ipython-input-1-da8e017014df>\u001b[0m in \u001b[0;36m<module>\u001b[0;34m\u001b[0m\n\u001b[0;32m----> 1\u001b[0;31m \u001b[0msession\u001b[0m \u001b[0;34m=\u001b[0m \u001b[0mgui\u001b[0m\u001b[0;34m.\u001b[0m\u001b[0mget_session\u001b[0m\u001b[0;34m(\u001b[0m\u001b[0;34m)\u001b[0m\u001b[0;34m\u001b[0m\u001b[0;34m\u001b[0m\u001b[0m\n\u001b[0m",
      "\u001b[0;31mNameError\u001b[0m: name 'gui' is not defined"
     ]
    }
   ],
   "source": [
    "session = gui.get_session()"
   ]
  },
  {
   "cell_type": "markdown",
   "metadata": {},
   "source": [
    "<span class=\"user\">What can I do with it?</span>\n",
    "\n",
    "Use half screen for the GUI and another half for this notebook and I will show you. Or, you know, use two monitors in case you are living a fancy life."
   ]
  },
  {
   "cell_type": "code",
   "execution_count": 4,
   "metadata": {
    "execution": {
     "iopub.execute_input": "2021-02-05T11:25:05.309635Z",
     "iopub.status.busy": "2021-02-05T11:25:05.295788Z",
     "iopub.status.idle": "2021-02-05T11:25:05.312476Z",
     "shell.execute_reply": "2021-02-05T11:25:05.313091Z"
    }
   },
   "outputs": [
    {
     "ename": "NameError",
     "evalue": "name 'gui' is not defined",
     "output_type": "error",
     "traceback": [
      "\u001b[0;31m---------------------------------------------------------------------------\u001b[0m",
      "\u001b[0;31mNameError\u001b[0m                                 Traceback (most recent call last)",
      "\u001b[0;32m<ipython-input-1-1aceff6771ed>\u001b[0m in \u001b[0;36m<module>\u001b[0;34m\u001b[0m\n\u001b[1;32m      1\u001b[0m \u001b[0;31m# Let's write the session to a new variable for convenience\u001b[0m\u001b[0;34m\u001b[0m\u001b[0;34m\u001b[0m\u001b[0;34m\u001b[0m\u001b[0m\n\u001b[0;32m----> 2\u001b[0;31m \u001b[0msession\u001b[0m \u001b[0;34m=\u001b[0m \u001b[0mgui\u001b[0m\u001b[0;34m.\u001b[0m\u001b[0mget_session\u001b[0m\u001b[0;34m(\u001b[0m\u001b[0;34m)\u001b[0m\u001b[0;34m\u001b[0m\u001b[0;34m\u001b[0m\u001b[0m\n\u001b[0m\u001b[1;32m      3\u001b[0m \u001b[0;34m\u001b[0m\u001b[0m\n\u001b[1;32m      4\u001b[0m \u001b[0;31m# Then add a new tab ( run help(session) to see all the available methods )\u001b[0m\u001b[0;34m\u001b[0m\u001b[0;34m\u001b[0m\u001b[0;34m\u001b[0m\u001b[0m\n\u001b[1;32m      5\u001b[0m \u001b[0msession\u001b[0m\u001b[0;34m.\u001b[0m\u001b[0madd_tab\u001b[0m\u001b[0;34m(\u001b[0m\u001b[0;34m\"Tab added from jupyter\"\u001b[0m\u001b[0;34m)\u001b[0m\u001b[0;34m\u001b[0m\u001b[0;34m\u001b[0m\u001b[0m\n",
      "\u001b[0;31mNameError\u001b[0m: name 'gui' is not defined"
     ]
    }
   ],
   "source": [
    "# Let's write the session to a new variable for convenience\n",
    "session = gui.get_session()\n",
    "\n",
    "# Then add a new tab ( run help(session) to see all the available methods )\n",
    "session.add_tab(\"Tab added from jupyter\")"
   ]
  },
  {
   "cell_type": "markdown",
   "metadata": {},
   "source": [
    "Do you see the magic?\n",
    "\n",
    "<span class=\"user\">No.</span>\n",
    "\n",
    "Yeah me neither. You have added a new tab, but the GUI still doesn't know about it. One way of solving this is to refresh the browser with F5.\n",
    "\n",
    "<span class=\"user\">Lame.</span>\n",
    "\n",
    "I know. That's why there are better ways. You can either emit the changes when you are ready:"
   ]
  },
  {
   "cell_type": "code",
   "execution_count": 5,
   "metadata": {
    "execution": {
     "iopub.execute_input": "2021-02-05T11:25:05.328830Z",
     "iopub.status.busy": "2021-02-05T11:25:05.327708Z",
     "iopub.status.idle": "2021-02-05T11:25:05.331581Z",
     "shell.execute_reply": "2021-02-05T11:25:05.330938Z"
    }
   },
   "outputs": [
    {
     "ename": "NameError",
     "evalue": "name 'session' is not defined",
     "output_type": "error",
     "traceback": [
      "\u001b[0;31m---------------------------------------------------------------------------\u001b[0m",
      "\u001b[0;31mNameError\u001b[0m                                 Traceback (most recent call last)",
      "\u001b[0;32m<ipython-input-1-407dfcaf2973>\u001b[0m in \u001b[0;36m<module>\u001b[0;34m\u001b[0m\n\u001b[0;32m----> 1\u001b[0;31m \u001b[0msession\u001b[0m\u001b[0;34m.\u001b[0m\u001b[0memit\u001b[0m\u001b[0;34m(\u001b[0m\u001b[0;34m)\u001b[0m\u001b[0;34m\u001b[0m\u001b[0;34m\u001b[0m\u001b[0m\n\u001b[0m",
      "\u001b[0;31mNameError\u001b[0m: name 'session' is not defined"
     ]
    }
   ],
   "source": [
    "session.emit()"
   ]
  },
  {
   "cell_type": "markdown",
   "metadata": {},
   "source": [
    "Or use the magic of autosync:"
   ]
  },
  {
   "cell_type": "code",
   "execution_count": 6,
   "metadata": {
    "execution": {
     "iopub.execute_input": "2021-02-05T11:25:05.348543Z",
     "iopub.status.busy": "2021-02-05T11:25:05.347364Z",
     "iopub.status.idle": "2021-02-05T11:25:05.351340Z",
     "shell.execute_reply": "2021-02-05T11:25:05.350690Z"
    }
   },
   "outputs": [
    {
     "ename": "NameError",
     "evalue": "name 'session' is not defined",
     "output_type": "error",
     "traceback": [
      "\u001b[0;31m---------------------------------------------------------------------------\u001b[0m",
      "\u001b[0;31mNameError\u001b[0m                                 Traceback (most recent call last)",
      "\u001b[0;32m<ipython-input-1-3fdc48805fd8>\u001b[0m in \u001b[0;36m<module>\u001b[0;34m\u001b[0m\n\u001b[0;32m----> 1\u001b[0;31m \u001b[0msession\u001b[0m\u001b[0;34m.\u001b[0m\u001b[0mautosync\u001b[0m\u001b[0;34m.\u001b[0m\u001b[0madd_tab\u001b[0m\u001b[0;34m(\u001b[0m\u001b[0;34m\"This is syncing!\"\u001b[0m\u001b[0;34m)\u001b[0m\u001b[0;34m\u001b[0m\u001b[0;34m\u001b[0m\u001b[0m\n\u001b[0m",
      "\u001b[0;31mNameError\u001b[0m: name 'session' is not defined"
     ]
    }
   ],
   "source": [
    "session.autosync.add_tab(\"This is syncing!\")"
   ]
  },
  {
   "cell_type": "markdown",
   "metadata": {},
   "source": [
    "<span class=\"user\">That's cool, but do I have to write autosync each time?.</span>\n",
    "\n",
    "No, the autosync property basically returns your session with autosyncing super-powers. So, you can store that and then run your methods happily:"
   ]
  },
  {
   "cell_type": "code",
   "execution_count": 7,
   "metadata": {
    "execution": {
     "iopub.execute_input": "2021-02-05T11:25:05.367504Z",
     "iopub.status.busy": "2021-02-05T11:25:05.360715Z",
     "iopub.status.idle": "2021-02-05T11:25:05.370139Z",
     "shell.execute_reply": "2021-02-05T11:25:05.371072Z"
    }
   },
   "outputs": [
    {
     "ename": "NameError",
     "evalue": "name 'session' is not defined",
     "output_type": "error",
     "traceback": [
      "\u001b[0;31m---------------------------------------------------------------------------\u001b[0m",
      "\u001b[0;31mNameError\u001b[0m                                 Traceback (most recent call last)",
      "\u001b[0;32m<ipython-input-1-abd4387ef676>\u001b[0m in \u001b[0;36m<module>\u001b[0;34m\u001b[0m\n\u001b[1;32m      2\u001b[0m \u001b[0;31m# session. We could keep the other one, but we just don't care\u001b[0m\u001b[0;34m\u001b[0m\u001b[0;34m\u001b[0m\u001b[0;34m\u001b[0m\u001b[0m\n\u001b[1;32m      3\u001b[0m \u001b[0;31m# so we will overwrite it\u001b[0m\u001b[0;34m\u001b[0m\u001b[0;34m\u001b[0m\u001b[0;34m\u001b[0m\u001b[0m\n\u001b[0;32m----> 4\u001b[0;31m \u001b[0msession\u001b[0m \u001b[0;34m=\u001b[0m \u001b[0msession\u001b[0m\u001b[0;34m.\u001b[0m\u001b[0mautosync\u001b[0m\u001b[0;34m\u001b[0m\u001b[0;34m\u001b[0m\u001b[0m\n\u001b[0m\u001b[1;32m      5\u001b[0m \u001b[0;34m\u001b[0m\u001b[0m\n\u001b[1;32m      6\u001b[0m \u001b[0;31m# Just delete our useless tabs\u001b[0m\u001b[0;34m\u001b[0m\u001b[0;34m\u001b[0m\u001b[0;34m\u001b[0m\u001b[0m\n",
      "\u001b[0;31mNameError\u001b[0m: name 'session' is not defined"
     ]
    }
   ],
   "source": [
    "# From now on we are going to just the autosynced version of the\n",
    "# session. We could keep the other one, but we just don't care\n",
    "# so we will overwrite it\n",
    "session = session.autosync\n",
    "\n",
    "# Just delete our useless tabs\n",
    "session.remove_tab('This is syncing!')\n",
    "session.remove_tab('Tab added from jupyter')"
   ]
  },
  {
   "cell_type": "markdown",
   "metadata": {},
   "source": [
    "We can now start to add plots."
   ]
  },
  {
   "cell_type": "code",
   "execution_count": 8,
   "metadata": {
    "execution": {
     "iopub.execute_input": "2021-02-05T11:25:05.376238Z",
     "iopub.status.busy": "2021-02-05T11:25:05.375464Z",
     "iopub.status.idle": "2021-02-05T11:25:05.396589Z",
     "shell.execute_reply": "2021-02-05T11:25:05.397321Z"
    }
   },
   "outputs": [
    {
     "ename": "ModuleNotFoundError",
     "evalue": "No module named 'tqdm'",
     "output_type": "error",
     "traceback": [
      "\u001b[0;31m---------------------------------------------------------------------------\u001b[0m",
      "\u001b[0;31mModuleNotFoundError\u001b[0m                       Traceback (most recent call last)",
      "\u001b[0;32m<ipython-input-1-c16a62614300>\u001b[0m in \u001b[0;36m<module>\u001b[0;34m\u001b[0m\n\u001b[0;32m----> 1\u001b[0;31m \u001b[0;32mfrom\u001b[0m \u001b[0msisl\u001b[0m\u001b[0;34m.\u001b[0m\u001b[0mviz\u001b[0m \u001b[0;32mimport\u001b[0m \u001b[0mPlot\u001b[0m\u001b[0;34m\u001b[0m\u001b[0;34m\u001b[0m\u001b[0m\n\u001b[0m\u001b[1;32m      2\u001b[0m \u001b[0;34m\u001b[0m\u001b[0m\n\u001b[1;32m      3\u001b[0m \u001b[0;31m# Let's start a PDOS plot\u001b[0m\u001b[0;34m\u001b[0m\u001b[0;34m\u001b[0m\u001b[0;34m\u001b[0m\u001b[0m\n\u001b[1;32m      4\u001b[0m \u001b[0mplot\u001b[0m \u001b[0;34m=\u001b[0m \u001b[0mPlot\u001b[0m\u001b[0;34m(\u001b[0m\u001b[0;34m\"../../../../files/tests/sisl/io/siesta/SrTiO3.PDOS\"\u001b[0m\u001b[0;34m)\u001b[0m\u001b[0;34m\u001b[0m\u001b[0;34m\u001b[0m\u001b[0m\n\u001b[1;32m      5\u001b[0m \u001b[0;34m\u001b[0m\u001b[0m\n",
      "\u001b[0;32m/opt/hostedtoolcache/Python/3.6.12/x64/lib/python3.6/site-packages/sisl/viz/__init__.py\u001b[0m in \u001b[0;36m<module>\u001b[0;34m\u001b[0m\n\u001b[1;32m     18\u001b[0m \u001b[0;34m\u001b[0m\u001b[0m\n\u001b[1;32m     19\u001b[0m \u001b[0;31m# Import everything from the plotly submodule\u001b[0m\u001b[0;34m\u001b[0m\u001b[0;34m\u001b[0m\u001b[0;34m\u001b[0m\u001b[0m\n\u001b[0;32m---> 20\u001b[0;31m \u001b[0;32mfrom\u001b[0m \u001b[0;34m.\u001b[0m\u001b[0mplotly\u001b[0m \u001b[0;32mimport\u001b[0m \u001b[0;34m*\u001b[0m\u001b[0;34m\u001b[0m\u001b[0;34m\u001b[0m\u001b[0m\n\u001b[0m\u001b[1;32m     21\u001b[0m \u001b[0;32mfrom\u001b[0m \u001b[0;34m.\u001b[0m\u001b[0mplotly\u001b[0m \u001b[0;32mimport\u001b[0m \u001b[0mplotutils\u001b[0m\u001b[0;34m\u001b[0m\u001b[0;34m\u001b[0m\u001b[0m\n\u001b[1;32m     22\u001b[0m \u001b[0;34m\u001b[0m\u001b[0m\n",
      "\u001b[0;32m/opt/hostedtoolcache/Python/3.6.12/x64/lib/python3.6/site-packages/sisl/viz/plotly/__init__.py\u001b[0m in \u001b[0;36m<module>\u001b[0;34m\u001b[0m\n\u001b[1;32m     25\u001b[0m \u001b[0;32mfrom\u001b[0m \u001b[0;34m.\u001b[0m\u001b[0m_user_customs\u001b[0m \u001b[0;32mimport\u001b[0m \u001b[0mimport_user_plots\u001b[0m\u001b[0;34m,\u001b[0m \u001b[0mimport_user_presets\u001b[0m\u001b[0;34m,\u001b[0m \u001b[0mimport_user_sessions\u001b[0m\u001b[0;34m,\u001b[0m \u001b[0mimport_user_plugins\u001b[0m\u001b[0;34m\u001b[0m\u001b[0;34m\u001b[0m\u001b[0m\n\u001b[1;32m     26\u001b[0m \u001b[0;34m\u001b[0m\u001b[0m\n\u001b[0;32m---> 27\u001b[0;31m \u001b[0;32mfrom\u001b[0m \u001b[0;34m.\u001b[0m\u001b[0mplot\u001b[0m \u001b[0;32mimport\u001b[0m \u001b[0mPlot\u001b[0m\u001b[0;34m,\u001b[0m \u001b[0mAnimation\u001b[0m\u001b[0;34m,\u001b[0m \u001b[0mMultiplePlot\u001b[0m\u001b[0;34m,\u001b[0m \u001b[0mSubPlots\u001b[0m\u001b[0;34m\u001b[0m\u001b[0;34m\u001b[0m\u001b[0m\n\u001b[0m\u001b[1;32m     28\u001b[0m \u001b[0;32mfrom\u001b[0m \u001b[0;34m.\u001b[0m\u001b[0mplots\u001b[0m \u001b[0;32mimport\u001b[0m \u001b[0;34m*\u001b[0m\u001b[0;34m\u001b[0m\u001b[0;34m\u001b[0m\u001b[0m\n\u001b[1;32m     29\u001b[0m \u001b[0;32mfrom\u001b[0m \u001b[0;34m.\u001b[0m\u001b[0msession\u001b[0m \u001b[0;32mimport\u001b[0m \u001b[0mSession\u001b[0m\u001b[0;34m\u001b[0m\u001b[0;34m\u001b[0m\u001b[0m\n",
      "\u001b[0;32m/opt/hostedtoolcache/Python/3.6.12/x64/lib/python3.6/site-packages/sisl/viz/plotly/plot.py\u001b[0m in \u001b[0;36m<module>\u001b[0;34m\u001b[0m\n\u001b[1;32m     21\u001b[0m \u001b[0;32mimport\u001b[0m \u001b[0msisl\u001b[0m\u001b[0;34m\u001b[0m\u001b[0;34m\u001b[0m\u001b[0m\n\u001b[1;32m     22\u001b[0m \u001b[0;34m\u001b[0m\u001b[0m\n\u001b[0;32m---> 23\u001b[0;31m \u001b[0;32mfrom\u001b[0m \u001b[0;34m.\u001b[0m\u001b[0mconfigurable\u001b[0m \u001b[0;32mimport\u001b[0m \u001b[0mConfigurable\u001b[0m\u001b[0;34m,\u001b[0m \u001b[0mConfigurableMeta\u001b[0m\u001b[0;34m,\u001b[0m \u001b[0mvizplotly_settings\u001b[0m\u001b[0;34m,\u001b[0m \u001b[0m_populate_with_settings\u001b[0m\u001b[0;34m\u001b[0m\u001b[0;34m\u001b[0m\u001b[0m\n\u001b[0m\u001b[1;32m     24\u001b[0m \u001b[0;32mfrom\u001b[0m \u001b[0;34m.\u001b[0m\u001b[0m_presets\u001b[0m \u001b[0;32mimport\u001b[0m \u001b[0mget_preset\u001b[0m\u001b[0;34m\u001b[0m\u001b[0;34m\u001b[0m\u001b[0m\n\u001b[1;32m     25\u001b[0m \u001b[0;32mfrom\u001b[0m \u001b[0;34m.\u001b[0m\u001b[0mplotutils\u001b[0m \u001b[0;32mimport\u001b[0m \u001b[0minit_multiple_plots\u001b[0m\u001b[0;34m,\u001b[0m \u001b[0mrepeat_if_childs\u001b[0m\u001b[0;34m,\u001b[0m \u001b[0mdictOfLists2listOfDicts\u001b[0m\u001b[0;34m,\u001b[0m \u001b[0mtrigger_notification\u001b[0m\u001b[0;34m,\u001b[0m\u001b[0;31m \u001b[0m\u001b[0;31m\\\u001b[0m\u001b[0;34m\u001b[0m\u001b[0;34m\u001b[0m\u001b[0m\n",
      "\u001b[0;32m/opt/hostedtoolcache/Python/3.6.12/x64/lib/python3.6/site-packages/sisl/viz/plotly/configurable.py\u001b[0m in \u001b[0;36m<module>\u001b[0;34m\u001b[0m\n\u001b[1;32m     11\u001b[0m \u001b[0;32mfrom\u001b[0m \u001b[0msisl\u001b[0m\u001b[0;34m.\u001b[0m\u001b[0m_dispatcher\u001b[0m \u001b[0;32mimport\u001b[0m \u001b[0mAbstractDispatch\u001b[0m\u001b[0;34m\u001b[0m\u001b[0;34m\u001b[0m\u001b[0m\n\u001b[1;32m     12\u001b[0m \u001b[0;32mfrom\u001b[0m \u001b[0;34m.\u001b[0m\u001b[0m_presets\u001b[0m \u001b[0;32mimport\u001b[0m \u001b[0mget_preset\u001b[0m\u001b[0;34m\u001b[0m\u001b[0;34m\u001b[0m\u001b[0m\n\u001b[0;32m---> 13\u001b[0;31m \u001b[0;32mfrom\u001b[0m \u001b[0;34m.\u001b[0m\u001b[0mplotutils\u001b[0m \u001b[0;32mimport\u001b[0m \u001b[0mget_configurable_docstring\u001b[0m\u001b[0;34m,\u001b[0m \u001b[0mget_configurable_kwargs\u001b[0m\u001b[0;34m,\u001b[0m \u001b[0mget_configurable_kwargs_to_pass\u001b[0m\u001b[0;34m\u001b[0m\u001b[0;34m\u001b[0m\u001b[0m\n\u001b[0m\u001b[1;32m     14\u001b[0m \u001b[0;34m\u001b[0m\u001b[0m\n\u001b[1;32m     15\u001b[0m \u001b[0m__all__\u001b[0m \u001b[0;34m=\u001b[0m \u001b[0;34m[\u001b[0m\u001b[0;34m\"Configurable\"\u001b[0m\u001b[0;34m,\u001b[0m \u001b[0;34m\"vizplotly_settings\"\u001b[0m\u001b[0;34m]\u001b[0m\u001b[0;34m\u001b[0m\u001b[0;34m\u001b[0m\u001b[0m\n",
      "\u001b[0;32m/opt/hostedtoolcache/Python/3.6.12/x64/lib/python3.6/site-packages/sisl/viz/plotly/plotutils.py\u001b[0m in \u001b[0;36m<module>\u001b[0;34m\u001b[0m\n\u001b[1;32m      8\u001b[0m \u001b[0;32mimport\u001b[0m \u001b[0mitertools\u001b[0m\u001b[0;34m\u001b[0m\u001b[0;34m\u001b[0m\u001b[0m\n\u001b[1;32m      9\u001b[0m \u001b[0;32mfrom\u001b[0m \u001b[0mpathos\u001b[0m\u001b[0;34m.\u001b[0m\u001b[0mpools\u001b[0m \u001b[0;32mimport\u001b[0m \u001b[0mProcessPool\u001b[0m \u001b[0;32mas\u001b[0m \u001b[0mPool\u001b[0m\u001b[0;34m\u001b[0m\u001b[0;34m\u001b[0m\u001b[0m\n\u001b[0;32m---> 10\u001b[0;31m \u001b[0;32mimport\u001b[0m \u001b[0mtqdm\u001b[0m\u001b[0;34m\u001b[0m\u001b[0;34m\u001b[0m\u001b[0m\n\u001b[0m\u001b[1;32m     11\u001b[0m \u001b[0;34m\u001b[0m\u001b[0m\n\u001b[1;32m     12\u001b[0m \u001b[0;32mfrom\u001b[0m \u001b[0mcopy\u001b[0m \u001b[0;32mimport\u001b[0m \u001b[0mdeepcopy\u001b[0m\u001b[0;34m\u001b[0m\u001b[0;34m\u001b[0m\u001b[0m\n",
      "\u001b[0;31mModuleNotFoundError\u001b[0m: No module named 'tqdm'"
     ]
    }
   ],
   "source": [
    "from sisl.viz import Plot\n",
    "\n",
    "# Let's start a PDOS plot\n",
    "plot = Plot(\"../../../../files/tests/sisl/io/siesta/SrTiO3.PDOS\")\n",
    "\n",
    "session.add_plot(plot, \"First tab\")"
   ]
  },
  {
   "cell_type": "markdown",
   "metadata": {},
   "source": [
    "Can you see it?\n",
    "\n",
    "<span class=\"user\">No.</span>\n",
    "\n",
    "Maybe you don't have the tab open in the GUI.\n",
    "\n",
    "Now, you should be able to interact as you wish with it. Since the reference is kept, you are able to run the methods on your notebook variable directly. Like so:"
   ]
  },
  {
   "cell_type": "code",
   "execution_count": 9,
   "metadata": {
    "execution": {
     "iopub.execute_input": "2021-02-05T11:25:05.413390Z",
     "iopub.status.busy": "2021-02-05T11:25:05.406412Z",
     "iopub.status.idle": "2021-02-05T11:25:05.415900Z",
     "shell.execute_reply": "2021-02-05T11:25:05.416504Z"
    }
   },
   "outputs": [
    {
     "ename": "NameError",
     "evalue": "name 'plot' is not defined",
     "output_type": "error",
     "traceback": [
      "\u001b[0;31m---------------------------------------------------------------------------\u001b[0m",
      "\u001b[0;31mNameError\u001b[0m                                 Traceback (most recent call last)",
      "\u001b[0;32m<ipython-input-1-20ce18d0bd9a>\u001b[0m in \u001b[0;36m<module>\u001b[0;34m\u001b[0m\n\u001b[0;32m----> 1\u001b[0;31m \u001b[0mplot\u001b[0m\u001b[0;34m.\u001b[0m\u001b[0mautosync\u001b[0m\u001b[0;34m.\u001b[0m\u001b[0msplit_DOS\u001b[0m\u001b[0;34m(\u001b[0m\u001b[0mon\u001b[0m\u001b[0;34m=\u001b[0m\u001b[0;34m\"species\"\u001b[0m\u001b[0;34m)\u001b[0m\u001b[0;34m\u001b[0m\u001b[0;34m\u001b[0m\u001b[0m\n\u001b[0m\u001b[1;32m      2\u001b[0m \u001b[0;31m# Yes, plots can also autosync after they have been bound to a session\u001b[0m\u001b[0;34m\u001b[0m\u001b[0;34m\u001b[0m\u001b[0;34m\u001b[0m\u001b[0m\n",
      "\u001b[0;31mNameError\u001b[0m: name 'plot' is not defined"
     ]
    }
   ],
   "source": [
    "plot.autosync.split_DOS(on=\"species\")\n",
    "# Yes, plots can also autosync after they have been bound to a session"
   ]
  },
  {
   "cell_type": "markdown",
   "metadata": {},
   "source": [
    "Let's add two more plots to this tab."
   ]
  },
  {
   "cell_type": "code",
   "execution_count": 10,
   "metadata": {
    "execution": {
     "iopub.execute_input": "2021-02-05T11:25:05.432578Z",
     "iopub.status.busy": "2021-02-05T11:25:05.420940Z",
     "iopub.status.idle": "2021-02-05T11:25:05.435292Z",
     "shell.execute_reply": "2021-02-05T11:25:05.435931Z"
    }
   },
   "outputs": [
    {
     "ename": "NameError",
     "evalue": "name 'Plot' is not defined",
     "output_type": "error",
     "traceback": [
      "\u001b[0;31m---------------------------------------------------------------------------\u001b[0m",
      "\u001b[0;31mNameError\u001b[0m                                 Traceback (most recent call last)",
      "\u001b[0;32m<ipython-input-1-7b3bc902a478>\u001b[0m in \u001b[0;36m<module>\u001b[0;34m\u001b[0m\n\u001b[0;32m----> 1\u001b[0;31m \u001b[0mbands\u001b[0m \u001b[0;34m=\u001b[0m \u001b[0mPlot\u001b[0m\u001b[0;34m(\u001b[0m\u001b[0;34m\"../../../../files/tests/sisl/io/siesta/SrTiO3.bands\"\u001b[0m\u001b[0;34m)\u001b[0m\u001b[0;34m\u001b[0m\u001b[0;34m\u001b[0m\u001b[0m\n\u001b[0m\u001b[1;32m      2\u001b[0m \u001b[0mrho\u001b[0m \u001b[0;34m=\u001b[0m \u001b[0mPlot\u001b[0m\u001b[0;34m(\u001b[0m\u001b[0;34m\"../../../../files/tests/sisl/io/siesta/SrTiO3.RHO\"\u001b[0m\u001b[0;34m)\u001b[0m\u001b[0;34m\u001b[0m\u001b[0;34m\u001b[0m\u001b[0m\n\u001b[1;32m      3\u001b[0m \u001b[0;34m\u001b[0m\u001b[0m\n\u001b[1;32m      4\u001b[0m \u001b[0;32mfor\u001b[0m \u001b[0mpt\u001b[0m \u001b[0;32min\u001b[0m \u001b[0;34m(\u001b[0m\u001b[0mrho\u001b[0m\u001b[0;34m,\u001b[0m \u001b[0mbands\u001b[0m\u001b[0;34m)\u001b[0m\u001b[0;34m:\u001b[0m\u001b[0;34m\u001b[0m\u001b[0;34m\u001b[0m\u001b[0m\n\u001b[1;32m      5\u001b[0m     \u001b[0msession\u001b[0m\u001b[0;34m.\u001b[0m\u001b[0madd_plot\u001b[0m\u001b[0;34m(\u001b[0m\u001b[0mpt\u001b[0m\u001b[0;34m,\u001b[0m \u001b[0;34m\"First tab\"\u001b[0m\u001b[0;34m)\u001b[0m\u001b[0;34m\u001b[0m\u001b[0;34m\u001b[0m\u001b[0m\n",
      "\u001b[0;31mNameError\u001b[0m: name 'Plot' is not defined"
     ]
    }
   ],
   "source": [
    "bands = Plot(\"../../../../files/tests/sisl/io/siesta/SrTiO3.bands\")\n",
    "rho = Plot(\"../../../../files/tests/sisl/io/siesta/SrTiO3.RHO\")\n",
    "\n",
    "for pt in (rho, bands):\n",
    "    session.add_plot(pt, \"First tab\")"
   ]
  },
  {
   "cell_type": "markdown",
   "metadata": {},
   "source": [
    "### 3. CHANGING THE GUI'S LAYOUT"
   ]
  },
  {
   "cell_type": "markdown",
   "metadata": {},
   "source": [
    "Each tab has a `layouts` attribute:"
   ]
  },
  {
   "cell_type": "code",
   "execution_count": 11,
   "metadata": {
    "execution": {
     "iopub.execute_input": "2021-02-05T11:25:05.452226Z",
     "iopub.status.busy": "2021-02-05T11:25:05.439998Z",
     "iopub.status.idle": "2021-02-05T11:25:05.454779Z",
     "shell.execute_reply": "2021-02-05T11:25:05.455367Z"
    }
   },
   "outputs": [
    {
     "ename": "NameError",
     "evalue": "name 'session' is not defined",
     "output_type": "error",
     "traceback": [
      "\u001b[0;31m---------------------------------------------------------------------------\u001b[0m",
      "\u001b[0;31mNameError\u001b[0m                                 Traceback (most recent call last)",
      "\u001b[0;32m<ipython-input-1-d20a8bbe9584>\u001b[0m in \u001b[0;36m<module>\u001b[0;34m\u001b[0m\n\u001b[0;32m----> 1\u001b[0;31m \u001b[0msession\u001b[0m\u001b[0;34m.\u001b[0m\u001b[0mtab\u001b[0m\u001b[0;34m(\u001b[0m\u001b[0;34m\"First tab\"\u001b[0m\u001b[0;34m)\u001b[0m\u001b[0;34m\u001b[0m\u001b[0;34m\u001b[0m\u001b[0m\n\u001b[0m",
      "\u001b[0;31mNameError\u001b[0m: name 'session' is not defined"
     ]
    }
   ],
   "source": [
    "session.tab(\"First tab\")"
   ]
  },
  {
   "cell_type": "markdown",
   "metadata": {},
   "source": [
    "This `layouts` attribute is a dictionary stating how plots should be displayed in different screen sizes (e.g. `lg` is the largest and `xxs` is the smallest). You can change this very easily using the GUI by resizing and dragging your plots, but if you need the same layout every time it is definitely not ideal.\n",
    "\n",
    "The `layouts` structure seems a bit complicated. But don't worry, usually you just need to set the `lg` size, because this is how you see it in a computer. Just ignore the other sizes. \n",
    "\n",
    "As you can see, the `lg` size is a list of dicts, each dict contains:\n",
    "- `w`: The width of the plot in columns out of a total of { lg: 12, sm: 6, xs: 4, xxs: 2 } columns.\n",
    "- `h`: The height of the plot. I don't really know the scale of this honestly. Just try to see what fits best for you.\n",
    "- `x`: The position along the x axis of the left side of the plot (in columns).\n",
    "- `y`: The position along the y axis of the top part of the plot.\n",
    "- `id`: The ID of the plot to which this properties apply. It is available under `plot.id`\n",
    "- `moved`: Whether the plot has been moved.\n",
    "- `static`: Whether the GUI should prevent users from resizing/dragging this plot.\n",
    "\n",
    "I'd say the best strategy is probably to **set the layout in the GUI and then copy it to build your automatic layouts**. In my case, I like how this one looks:\n",
    "\n",
    "[{'w': 6,\n",
    "    'h': 28,\n",
    "    'x': 0,\n",
    "    'y': 0,\n",
    "    'i': '26c94e23-9f6b-4bce-b0a4-3363e69f0fd3',\n",
    "    'moved': False,\n",
    "    'static': False},\n",
    "   {'w': 12,\n",
    "    'h': 14,\n",
    "    'x': 0,\n",
    "    'y': 28,\n",
    "    'i': '0a2f9502-3fbb-4c06-a402-8d46518d3bc3',\n",
    "    'moved': False,\n",
    "    'static': False},\n",
    "   {'w': 6,\n",
    "    'h': 28,\n",
    "    'x': 6,\n",
    "    'y': 0,\n",
    "    'i': 'f6ae7c4a-38c6-4d36-81cb-04c73a794555',\n",
    "    'moved': False,\n",
    "    'static': False}]\n",
    "    \n",
    "So I'm just going to use it automating the ID stuff:"
   ]
  },
  {
   "cell_type": "code",
   "execution_count": 12,
   "metadata": {
    "execution": {
     "iopub.execute_input": "2021-02-05T11:25:05.475298Z",
     "iopub.status.busy": "2021-02-05T11:25:05.463604Z",
     "iopub.status.idle": "2021-02-05T11:25:05.477766Z",
     "shell.execute_reply": "2021-02-05T11:25:05.478386Z"
    }
   },
   "outputs": [
    {
     "ename": "NameError",
     "evalue": "name 'session' is not defined",
     "output_type": "error",
     "traceback": [
      "\u001b[0;31m---------------------------------------------------------------------------\u001b[0m",
      "\u001b[0;31mNameError\u001b[0m                                 Traceback (most recent call last)",
      "\u001b[0;32m<ipython-input-1-365e5a174ba9>\u001b[0m in \u001b[0;36m<module>\u001b[0;34m\u001b[0m\n\u001b[1;32m      2\u001b[0m \u001b[0mtab_name\u001b[0m \u001b[0;34m=\u001b[0m \u001b[0;34m\"Layout attempt\"\u001b[0m\u001b[0;34m\u001b[0m\u001b[0;34m\u001b[0m\u001b[0m\n\u001b[1;32m      3\u001b[0m \u001b[0;34m\u001b[0m\u001b[0m\n\u001b[0;32m----> 4\u001b[0;31m \u001b[0msession\u001b[0m\u001b[0;34m.\u001b[0m\u001b[0madd_tab\u001b[0m\u001b[0;34m(\u001b[0m\u001b[0mtab_name\u001b[0m\u001b[0;34m)\u001b[0m\u001b[0;34m\u001b[0m\u001b[0;34m\u001b[0m\u001b[0m\n\u001b[0m\u001b[1;32m      5\u001b[0m \u001b[0;34m\u001b[0m\u001b[0m\n\u001b[1;32m      6\u001b[0m \u001b[0;31m# Get all the plots\u001b[0m\u001b[0;34m\u001b[0m\u001b[0;34m\u001b[0m\u001b[0;34m\u001b[0m\u001b[0m\n",
      "\u001b[0;31mNameError\u001b[0m: name 'session' is not defined"
     ]
    }
   ],
   "source": [
    "struct = \"SrTiO3\"\n",
    "tab_name = \"Layout attempt\"\n",
    "\n",
    "session.add_tab(tab_name)\n",
    "\n",
    "# Get all the plots\n",
    "plots = [Plot(f'\"../../../../files/tests/sisl/io/siesta/{struct}.{ext}') for ext in (\"PDOS\", \"RHO\", \"bands\")]\n",
    "\n",
    "for plot in plots:\n",
    "    session.add_plot(plot, tab_name)\n",
    "    \n",
    "# This is how you update tab parameters\n",
    "# (in this case, we want to update the layouts parameter)\n",
    "session.update_tab(\n",
    "    tab_name, \n",
    "    layouts = {'lg': [\n",
    "        {'w': 6, 'h': 28, 'x': 0, 'y': 0, 'i': plots[0].id, 'static': False},\n",
    "        {'w': 12, 'h': 14, 'x': 0, 'y': 28, 'i': plots[1].id, 'static': False},\n",
    "        {'w': 6, 'h': 28, 'x': 6, 'y': 0, 'i': plots[2].id, 'static': False}\n",
    "    ]}\n",
    ")\n",
    "\n",
    "# And also I'd like the PDOS to be splitted on species\n",
    "plots[0].split_DOS(on=\"species\").update_settings(Erange=[-10,10]).emit()\n",
    "# And the bands to show the gap\n",
    "plots[2].update_settings(gap=True, Erange=[-10,10]).emit()"
   ]
  },
  {
   "cell_type": "markdown",
   "metadata": {},
   "source": [
    "You can check the \"Layout attempt\" tab to see that we really achieved what we wanted."
   ]
  },
  {
   "cell_type": "markdown",
   "metadata": {},
   "source": [
    "### 4. BUILDING YOUR OWN CUSTOM SESSIONS"
   ]
  },
  {
   "cell_type": "markdown",
   "metadata": {},
   "source": [
    "Well, at this point there is not much mistery to it. Specially if you have gone through the [guide on how to build plots](./DIY.ipynb) You just need to extend the `Session` class. `Session`, as `Plot`, inherits from `Configurable`, so you have exactly the same management of settings.\n",
    "\n",
    "**If you have not read the guide for plots, don't worry**. The basics to build a session class are very simple.\n",
    "\n",
    "Let's build a session using what we wrote in the previous section. We really just need to change the `session` variable for `self` and we have a method!"
   ]
  },
  {
   "cell_type": "code",
   "execution_count": 13,
   "metadata": {
    "execution": {
     "iopub.execute_input": "2021-02-05T11:25:05.489127Z",
     "iopub.status.busy": "2021-02-05T11:25:05.488440Z",
     "iopub.status.idle": "2021-02-05T11:25:05.511449Z",
     "shell.execute_reply": "2021-02-05T11:25:05.512207Z"
    }
   },
   "outputs": [
    {
     "ename": "ModuleNotFoundError",
     "evalue": "No module named 'tqdm'",
     "output_type": "error",
     "traceback": [
      "\u001b[0;31m---------------------------------------------------------------------------\u001b[0m",
      "\u001b[0;31mModuleNotFoundError\u001b[0m                       Traceback (most recent call last)",
      "\u001b[0;32m<ipython-input-1-6d93d5a350cd>\u001b[0m in \u001b[0;36m<module>\u001b[0;34m\u001b[0m\n\u001b[1;32m      1\u001b[0m \u001b[0;31m# Import the parent class\u001b[0m\u001b[0;34m\u001b[0m\u001b[0;34m\u001b[0m\u001b[0;34m\u001b[0m\u001b[0m\n\u001b[0;32m----> 2\u001b[0;31m \u001b[0;32mfrom\u001b[0m \u001b[0msisl\u001b[0m\u001b[0;34m.\u001b[0m\u001b[0mviz\u001b[0m \u001b[0;32mimport\u001b[0m \u001b[0mSession\u001b[0m\u001b[0;34m\u001b[0m\u001b[0;34m\u001b[0m\u001b[0m\n\u001b[0m\u001b[1;32m      3\u001b[0m \u001b[0;32mimport\u001b[0m \u001b[0mos\u001b[0m\u001b[0;34m\u001b[0m\u001b[0;34m\u001b[0m\u001b[0m\n\u001b[1;32m      4\u001b[0m \u001b[0;34m\u001b[0m\u001b[0m\n\u001b[1;32m      5\u001b[0m \u001b[0;31m# Start building our session\u001b[0m\u001b[0;34m\u001b[0m\u001b[0;34m\u001b[0m\u001b[0;34m\u001b[0m\u001b[0m\n",
      "\u001b[0;32m/opt/hostedtoolcache/Python/3.6.12/x64/lib/python3.6/site-packages/sisl/viz/__init__.py\u001b[0m in \u001b[0;36m<module>\u001b[0;34m\u001b[0m\n\u001b[1;32m     18\u001b[0m \u001b[0;34m\u001b[0m\u001b[0m\n\u001b[1;32m     19\u001b[0m \u001b[0;31m# Import everything from the plotly submodule\u001b[0m\u001b[0;34m\u001b[0m\u001b[0;34m\u001b[0m\u001b[0;34m\u001b[0m\u001b[0m\n\u001b[0;32m---> 20\u001b[0;31m \u001b[0;32mfrom\u001b[0m \u001b[0;34m.\u001b[0m\u001b[0mplotly\u001b[0m \u001b[0;32mimport\u001b[0m \u001b[0;34m*\u001b[0m\u001b[0;34m\u001b[0m\u001b[0;34m\u001b[0m\u001b[0m\n\u001b[0m\u001b[1;32m     21\u001b[0m \u001b[0;32mfrom\u001b[0m \u001b[0;34m.\u001b[0m\u001b[0mplotly\u001b[0m \u001b[0;32mimport\u001b[0m \u001b[0mplotutils\u001b[0m\u001b[0;34m\u001b[0m\u001b[0;34m\u001b[0m\u001b[0m\n\u001b[1;32m     22\u001b[0m \u001b[0;34m\u001b[0m\u001b[0m\n",
      "\u001b[0;32m/opt/hostedtoolcache/Python/3.6.12/x64/lib/python3.6/site-packages/sisl/viz/plotly/__init__.py\u001b[0m in \u001b[0;36m<module>\u001b[0;34m\u001b[0m\n\u001b[1;32m     25\u001b[0m \u001b[0;32mfrom\u001b[0m \u001b[0;34m.\u001b[0m\u001b[0m_user_customs\u001b[0m \u001b[0;32mimport\u001b[0m \u001b[0mimport_user_plots\u001b[0m\u001b[0;34m,\u001b[0m \u001b[0mimport_user_presets\u001b[0m\u001b[0;34m,\u001b[0m \u001b[0mimport_user_sessions\u001b[0m\u001b[0;34m,\u001b[0m \u001b[0mimport_user_plugins\u001b[0m\u001b[0;34m\u001b[0m\u001b[0;34m\u001b[0m\u001b[0m\n\u001b[1;32m     26\u001b[0m \u001b[0;34m\u001b[0m\u001b[0m\n\u001b[0;32m---> 27\u001b[0;31m \u001b[0;32mfrom\u001b[0m \u001b[0;34m.\u001b[0m\u001b[0mplot\u001b[0m \u001b[0;32mimport\u001b[0m \u001b[0mPlot\u001b[0m\u001b[0;34m,\u001b[0m \u001b[0mAnimation\u001b[0m\u001b[0;34m,\u001b[0m \u001b[0mMultiplePlot\u001b[0m\u001b[0;34m,\u001b[0m \u001b[0mSubPlots\u001b[0m\u001b[0;34m\u001b[0m\u001b[0;34m\u001b[0m\u001b[0m\n\u001b[0m\u001b[1;32m     28\u001b[0m \u001b[0;32mfrom\u001b[0m \u001b[0;34m.\u001b[0m\u001b[0mplots\u001b[0m \u001b[0;32mimport\u001b[0m \u001b[0;34m*\u001b[0m\u001b[0;34m\u001b[0m\u001b[0;34m\u001b[0m\u001b[0m\n\u001b[1;32m     29\u001b[0m \u001b[0;32mfrom\u001b[0m \u001b[0;34m.\u001b[0m\u001b[0msession\u001b[0m \u001b[0;32mimport\u001b[0m \u001b[0mSession\u001b[0m\u001b[0;34m\u001b[0m\u001b[0;34m\u001b[0m\u001b[0m\n",
      "\u001b[0;32m/opt/hostedtoolcache/Python/3.6.12/x64/lib/python3.6/site-packages/sisl/viz/plotly/plot.py\u001b[0m in \u001b[0;36m<module>\u001b[0;34m\u001b[0m\n\u001b[1;32m     21\u001b[0m \u001b[0;32mimport\u001b[0m \u001b[0msisl\u001b[0m\u001b[0;34m\u001b[0m\u001b[0;34m\u001b[0m\u001b[0m\n\u001b[1;32m     22\u001b[0m \u001b[0;34m\u001b[0m\u001b[0m\n\u001b[0;32m---> 23\u001b[0;31m \u001b[0;32mfrom\u001b[0m \u001b[0;34m.\u001b[0m\u001b[0mconfigurable\u001b[0m \u001b[0;32mimport\u001b[0m \u001b[0mConfigurable\u001b[0m\u001b[0;34m,\u001b[0m \u001b[0mConfigurableMeta\u001b[0m\u001b[0;34m,\u001b[0m \u001b[0mvizplotly_settings\u001b[0m\u001b[0;34m,\u001b[0m \u001b[0m_populate_with_settings\u001b[0m\u001b[0;34m\u001b[0m\u001b[0;34m\u001b[0m\u001b[0m\n\u001b[0m\u001b[1;32m     24\u001b[0m \u001b[0;32mfrom\u001b[0m \u001b[0;34m.\u001b[0m\u001b[0m_presets\u001b[0m \u001b[0;32mimport\u001b[0m \u001b[0mget_preset\u001b[0m\u001b[0;34m\u001b[0m\u001b[0;34m\u001b[0m\u001b[0m\n\u001b[1;32m     25\u001b[0m \u001b[0;32mfrom\u001b[0m \u001b[0;34m.\u001b[0m\u001b[0mplotutils\u001b[0m \u001b[0;32mimport\u001b[0m \u001b[0minit_multiple_plots\u001b[0m\u001b[0;34m,\u001b[0m \u001b[0mrepeat_if_childs\u001b[0m\u001b[0;34m,\u001b[0m \u001b[0mdictOfLists2listOfDicts\u001b[0m\u001b[0;34m,\u001b[0m \u001b[0mtrigger_notification\u001b[0m\u001b[0;34m,\u001b[0m\u001b[0;31m \u001b[0m\u001b[0;31m\\\u001b[0m\u001b[0;34m\u001b[0m\u001b[0;34m\u001b[0m\u001b[0m\n",
      "\u001b[0;32m/opt/hostedtoolcache/Python/3.6.12/x64/lib/python3.6/site-packages/sisl/viz/plotly/configurable.py\u001b[0m in \u001b[0;36m<module>\u001b[0;34m\u001b[0m\n\u001b[1;32m     11\u001b[0m \u001b[0;32mfrom\u001b[0m \u001b[0msisl\u001b[0m\u001b[0;34m.\u001b[0m\u001b[0m_dispatcher\u001b[0m \u001b[0;32mimport\u001b[0m \u001b[0mAbstractDispatch\u001b[0m\u001b[0;34m\u001b[0m\u001b[0;34m\u001b[0m\u001b[0m\n\u001b[1;32m     12\u001b[0m \u001b[0;32mfrom\u001b[0m \u001b[0;34m.\u001b[0m\u001b[0m_presets\u001b[0m \u001b[0;32mimport\u001b[0m \u001b[0mget_preset\u001b[0m\u001b[0;34m\u001b[0m\u001b[0;34m\u001b[0m\u001b[0m\n\u001b[0;32m---> 13\u001b[0;31m \u001b[0;32mfrom\u001b[0m \u001b[0;34m.\u001b[0m\u001b[0mplotutils\u001b[0m \u001b[0;32mimport\u001b[0m \u001b[0mget_configurable_docstring\u001b[0m\u001b[0;34m,\u001b[0m \u001b[0mget_configurable_kwargs\u001b[0m\u001b[0;34m,\u001b[0m \u001b[0mget_configurable_kwargs_to_pass\u001b[0m\u001b[0;34m\u001b[0m\u001b[0;34m\u001b[0m\u001b[0m\n\u001b[0m\u001b[1;32m     14\u001b[0m \u001b[0;34m\u001b[0m\u001b[0m\n\u001b[1;32m     15\u001b[0m \u001b[0m__all__\u001b[0m \u001b[0;34m=\u001b[0m \u001b[0;34m[\u001b[0m\u001b[0;34m\"Configurable\"\u001b[0m\u001b[0;34m,\u001b[0m \u001b[0;34m\"vizplotly_settings\"\u001b[0m\u001b[0;34m]\u001b[0m\u001b[0;34m\u001b[0m\u001b[0;34m\u001b[0m\u001b[0m\n",
      "\u001b[0;32m/opt/hostedtoolcache/Python/3.6.12/x64/lib/python3.6/site-packages/sisl/viz/plotly/plotutils.py\u001b[0m in \u001b[0;36m<module>\u001b[0;34m\u001b[0m\n\u001b[1;32m      8\u001b[0m \u001b[0;32mimport\u001b[0m \u001b[0mitertools\u001b[0m\u001b[0;34m\u001b[0m\u001b[0;34m\u001b[0m\u001b[0m\n\u001b[1;32m      9\u001b[0m \u001b[0;32mfrom\u001b[0m \u001b[0mpathos\u001b[0m\u001b[0;34m.\u001b[0m\u001b[0mpools\u001b[0m \u001b[0;32mimport\u001b[0m \u001b[0mProcessPool\u001b[0m \u001b[0;32mas\u001b[0m \u001b[0mPool\u001b[0m\u001b[0;34m\u001b[0m\u001b[0;34m\u001b[0m\u001b[0m\n\u001b[0;32m---> 10\u001b[0;31m \u001b[0;32mimport\u001b[0m \u001b[0mtqdm\u001b[0m\u001b[0;34m\u001b[0m\u001b[0;34m\u001b[0m\u001b[0m\n\u001b[0m\u001b[1;32m     11\u001b[0m \u001b[0;34m\u001b[0m\u001b[0m\n\u001b[1;32m     12\u001b[0m \u001b[0;32mfrom\u001b[0m \u001b[0mcopy\u001b[0m \u001b[0;32mimport\u001b[0m \u001b[0mdeepcopy\u001b[0m\u001b[0;34m\u001b[0m\u001b[0;34m\u001b[0m\u001b[0m\n",
      "\u001b[0;31mModuleNotFoundError\u001b[0m: No module named 'tqdm'"
     ]
    }
   ],
   "source": [
    "# Import the parent class\n",
    "from sisl.viz import Session\n",
    "import os\n",
    "\n",
    "# Start building our session\n",
    "class VeryCoolSession(Session):\n",
    "    \n",
    "    # Add the method to see PDOS, bands and RHO of a structure\n",
    "    def see_results(self, struct, wdir='../../../../files/tests/sisl/io/siesta', tab_name=None):\n",
    "        \n",
    "        if tab_name is None:\n",
    "            tab_name = struct\n",
    "            \n",
    "        self.add_tab(tab_name)\n",
    "\n",
    "        plots = [Plot(os.path.join(wdir, f'{struct}.{ext}')) for ext in (\"PDOS\", \"RHO\", \"bands\")]\n",
    "\n",
    "        for plot in plots:\n",
    "            self.add_plot(plot, tab_name)\n",
    "\n",
    "        # This is how you update tab parameters\n",
    "        self.update_tab(\n",
    "            tab_name, \n",
    "            layouts = {'lg': [\n",
    "                {'w': 6, 'h': 28, 'x': 0, 'y': 0, 'i': plots[0].id, 'static': False},\n",
    "                {'w': 12, 'h': 14, 'x': 0, 'y': 28, 'i': plots[1].id, 'static': False},\n",
    "                {'w': 6, 'h': 28, 'x': 6, 'y': 0, 'i': plots[2].id, 'static': False}\n",
    "            ]}\n",
    "        )\n",
    "\n",
    "        # And also I'd like the PDOS to be splitted ¿on species\n",
    "        plots[0].split_DOS(on=\"species\").update_settings(Erange=[-10,10])\n",
    "        # And the bands to show the gap\n",
    "        plots[2].update_settings(gap=True, Erange=[-10,10])\n"
   ]
  },
  {
   "cell_type": "markdown",
   "metadata": {},
   "source": [
    "And that's basically it.\n",
    "\n",
    "<span class=\"user\">Yeah nice but how do I use this session now</span>\n",
    "\n",
    "You just need to set the session of the GUI:"
   ]
  },
  {
   "cell_type": "code",
   "execution_count": 14,
   "metadata": {
    "execution": {
     "iopub.execute_input": "2021-02-05T11:25:05.522617Z",
     "iopub.status.busy": "2021-02-05T11:25:05.521824Z",
     "iopub.status.idle": "2021-02-05T11:25:05.533441Z",
     "shell.execute_reply": "2021-02-05T11:25:05.532815Z"
    }
   },
   "outputs": [
    {
     "ename": "NameError",
     "evalue": "name 'VeryCoolSession' is not defined",
     "output_type": "error",
     "traceback": [
      "\u001b[0;31m---------------------------------------------------------------------------\u001b[0m",
      "\u001b[0;31mNameError\u001b[0m                                 Traceback (most recent call last)",
      "\u001b[0;32m<ipython-input-1-4d571c90d771>\u001b[0m in \u001b[0;36m<module>\u001b[0;34m\u001b[0m\n\u001b[1;32m      3\u001b[0m \u001b[0;34m\u001b[0m\u001b[0m\n\u001b[1;32m      4\u001b[0m \u001b[0;31m# We initialize the session\u001b[0m\u001b[0;34m\u001b[0m\u001b[0;34m\u001b[0m\u001b[0;34m\u001b[0m\u001b[0m\n\u001b[0;32m----> 5\u001b[0;31m \u001b[0mnew_session\u001b[0m \u001b[0;34m=\u001b[0m \u001b[0mVeryCoolSession\u001b[0m\u001b[0;34m(\u001b[0m\u001b[0;34m)\u001b[0m\u001b[0;34m\u001b[0m\u001b[0;34m\u001b[0m\u001b[0m\n\u001b[0m\u001b[1;32m      6\u001b[0m \u001b[0;31m# And then we just tell the GUI to use it\u001b[0m\u001b[0;34m\u001b[0m\u001b[0;34m\u001b[0m\u001b[0;34m\u001b[0m\u001b[0m\n\u001b[1;32m      7\u001b[0m \u001b[0mgui\u001b[0m\u001b[0;34m.\u001b[0m\u001b[0mset_session\u001b[0m\u001b[0;34m(\u001b[0m\u001b[0mnew_session\u001b[0m\u001b[0;34m)\u001b[0m\u001b[0;34m\u001b[0m\u001b[0;34m\u001b[0m\u001b[0m\n",
      "\u001b[0;31mNameError\u001b[0m: name 'VeryCoolSession' is not defined"
     ]
    }
   ],
   "source": [
    "# Maybe you want to save the existing one?\n",
    "# session.save(\"My first try.session\")\n",
    "\n",
    "# We initialize the session\n",
    "new_session = VeryCoolSession()\n",
    "# And then we just tell the GUI to use it\n",
    "gui.set_session(new_session)"
   ]
  },
  {
   "cell_type": "markdown",
   "metadata": {},
   "source": [
    "Now, let's see if this works:"
   ]
  },
  {
   "cell_type": "code",
   "execution_count": 15,
   "metadata": {
    "execution": {
     "iopub.execute_input": "2021-02-05T11:25:05.549947Z",
     "iopub.status.busy": "2021-02-05T11:25:05.543589Z",
     "iopub.status.idle": "2021-02-05T11:25:05.552498Z",
     "shell.execute_reply": "2021-02-05T11:25:05.553104Z"
    }
   },
   "outputs": [
    {
     "ename": "NameError",
     "evalue": "name 'new_session' is not defined",
     "output_type": "error",
     "traceback": [
      "\u001b[0;31m---------------------------------------------------------------------------\u001b[0m",
      "\u001b[0;31mNameError\u001b[0m                                 Traceback (most recent call last)",
      "\u001b[0;32m<ipython-input-1-dd2797bce0e7>\u001b[0m in \u001b[0;36m<module>\u001b[0;34m\u001b[0m\n\u001b[0;32m----> 1\u001b[0;31m \u001b[0mnew_session\u001b[0m\u001b[0;34m.\u001b[0m\u001b[0mautosync\u001b[0m\u001b[0;34m.\u001b[0m\u001b[0msee_results\u001b[0m\u001b[0;34m(\u001b[0m\u001b[0;34m\"SrTiO3\"\u001b[0m\u001b[0;34m)\u001b[0m\u001b[0;34m\u001b[0m\u001b[0;34m\u001b[0m\u001b[0m\n\u001b[0m",
      "\u001b[0;31mNameError\u001b[0m: name 'new_session' is not defined"
     ]
    }
   ],
   "source": [
    "new_session.autosync.see_results(\"SrTiO3\")"
   ]
  },
  {
   "cell_type": "markdown",
   "metadata": {},
   "source": [
    "Just take a moment now to admire the simplicity of the previous line and the beauty and usefulness that it can bring to your research.\n",
    "\n",
    "With this, we end this short but intense tutorial. I hope that I have been able to convince you of the power this gives to you, but if not, thanks for the read anyway :)\n",
    "\n",
    "Just as a last thing, notice that you can add parameters to the session and they can be tweaked from the GUI. Give a glimpse at the [notebook where plot building is explained](./DIY.ipynb) if you are further interested, there's a section where parameters are introduced, close to the beggining.\n",
    "\n",
    "Oh, and by the way, you can load saved sessions just as we did with plots in the [Demo Notebook](./Demo.ipynb)\n",
    "\n",
    "If there is a request for further tutorials on sessions, we will extend more on the topic, so don't hesitate to ask.\n",
    "\n",
    "Cheers!"
   ]
  },
  {
   "cell_type": "code",
   "execution_count": null,
   "metadata": {},
   "outputs": [],
   "source": []
  }
 ],
 "metadata": {
  "kernelspec": {
   "display_name": "Python 3",
   "language": "python",
   "name": "python3"
  },
  "language_info": {
   "codemirror_mode": {
    "name": "ipython",
    "version": 3
   },
   "file_extension": ".py",
   "mimetype": "text/x-python",
   "name": "python",
   "nbconvert_exporter": "python",
   "pygments_lexer": "ipython3",
   "version": "3.6.12"
  }
 },
 "nbformat": 4,
 "nbformat_minor": 2
}
