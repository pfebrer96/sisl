{
 "cells": [
  {
   "cell_type": "markdown",
   "metadata": {},
   "source": [
    "Using python to interact with sisl's GUI\n",
    "=====\n",
    "\n",
    "This notebook will show you how you can benefit from knowing how to interact with the [graphical interface](https://github.com/pfebrer/sisl-gui). Some things just make no sense to do with just clicks, but having a dashboard to visualize and layout your automatically-generated plots is great. However there are some things that the GUI can already help you do automatically. **You will be a true master in the moment you know how to use sisl plots in pyton, how to use the GUI and how to make the two worlds interact**.\n",
    "    \n",
    "But don't worry, it is not that difficult really to become a true master :)\n",
    "    \n",
    "You will also understand that you can build your own custom sessions to adapt to your needs, **boost your productivity and save you hours of work**."
   ]
  },
  {
   "cell_type": "markdown",
   "metadata": {},
   "source": [
    "**Disclaimer**: *This notebook will be very simple and straightforward.*"
   ]
  },
  {
   "cell_type": "code",
   "execution_count": 1,
   "metadata": {
    "execution": {
     "iopub.execute_input": "2021-02-06T13:56:32.860421Z",
     "iopub.status.busy": "2021-02-06T13:56:32.859842Z",
     "iopub.status.idle": "2021-02-06T13:56:32.868845Z",
     "shell.execute_reply": "2021-02-06T13:56:32.868410Z"
    }
   },
   "outputs": [
    {
     "data": {
      "text/html": [
       "<! RUN ME PLEASEEEEEE>\n",
       "<style>\n",
       ".user {\n",
       "    background:aliceblue;\n",
       "    padding:5px 10px;\n",
       "    margin 0px 10px;\n",
       "    border-radius: 3px;\n",
       "    color: darkblue;\n",
       "    font-style:italic\n",
       "}\n",
       "</style>\n"
      ],
      "text/plain": [
       "<IPython.core.display.HTML object>"
      ]
     },
     "metadata": {},
     "output_type": "display_data"
    }
   ],
   "source": [
    "%%html\n",
    "<! RUN ME PLEASEEEEEE>\n",
    "<style>\n",
    ".user {\n",
    "    background:aliceblue;\n",
    "    padding:5px 10px;\n",
    "    margin 0px 10px;\n",
    "    border-radius: 3px;\n",
    "    color: darkblue;\n",
    "    font-style:italic\n",
    "}\n",
    "</style>"
   ]
  },
  {
   "cell_type": "code",
   "execution_count": 2,
   "metadata": {
    "execution": {
     "iopub.execute_input": "2021-02-06T13:56:32.872709Z",
     "iopub.status.busy": "2021-02-06T13:56:32.872209Z",
     "iopub.status.idle": "2021-02-06T13:56:33.722253Z",
     "shell.execute_reply": "2021-02-06T13:56:33.721265Z"
    }
   },
   "outputs": [],
   "source": [
    "# This is just for convenience to retreive files\n",
    "import sisl._environ\n",
    "siesta_files = sisl._environ.get_environ_variable(\"SISL_FILES_TESTS\") / \"sisl\" / \"io\" / \"siesta\""
   ]
  },
  {
   "cell_type": "markdown",
   "metadata": {},
   "source": [
    "### 1. LAUNCHING THE GUI"
   ]
  },
  {
   "cell_type": "code",
   "execution_count": 3,
   "metadata": {
    "execution": {
     "iopub.execute_input": "2021-02-06T13:56:33.727227Z",
     "iopub.status.busy": "2021-02-06T13:56:33.725935Z",
     "iopub.status.idle": "2021-02-06T13:56:34.642072Z",
     "shell.execute_reply": "2021-02-06T13:56:34.641583Z"
    },
    "scrolled": true
   },
   "outputs": [
    {
     "name": "stdout",
     "output_type": "stream",
     "text": [
      "\n",
      "The session has started succesfully. Happy visualization!\n",
      "\n",
      "Api running on http://localhost:4000...\n",
      "connect the GUI to this address or send it to someone for sharing.\n",
      "\n"
     ]
    }
   ],
   "source": [
    "import sisl_gui\n",
    "\n",
    "sisl_gui.launch()"
   ]
  },
  {
   "cell_type": "markdown",
   "metadata": {},
   "source": [
    "A browser tab should have opened. Do you see it?\n",
    "\n",
    "<span class=\"user\">Yeees!</span>"
   ]
  },
  {
   "cell_type": "markdown",
   "metadata": {},
   "source": [
    "### 2. UNDERSTANDING HOW THE GUI WORKS"
   ]
  },
  {
   "cell_type": "markdown",
   "metadata": {},
   "source": [
    "Well, it's not magic. It uses a structure that you will probably be familiar with already.\n",
    "\n",
    "There is a session. This session contains tabs. Tabs contain plots."
   ]
  },
  {
   "cell_type": "markdown",
   "metadata": {},
   "source": [
    "<span class=\"user\">How can I see that session?</span>"
   ]
  },
  {
   "cell_type": "code",
   "execution_count": 4,
   "metadata": {
    "execution": {
     "iopub.execute_input": "2021-02-06T13:56:34.646334Z",
     "iopub.status.busy": "2021-02-06T13:56:34.645815Z",
     "iopub.status.idle": "2021-02-06T13:56:34.648977Z",
     "shell.execute_reply": "2021-02-06T13:56:34.649368Z"
    }
   },
   "outputs": [],
   "source": [
    "session = sisl_gui.get_session()"
   ]
  },
  {
   "cell_type": "markdown",
   "metadata": {},
   "source": [
    "<span class=\"user\">What can I do with it?</span>\n",
    "\n",
    "Use half screen for the GUI and another half for this notebook and I will show you. Or, you know, use two monitors in case you are living a fancy life."
   ]
  },
  {
   "cell_type": "code",
   "execution_count": 5,
   "metadata": {
    "execution": {
     "iopub.execute_input": "2021-02-06T13:56:34.653845Z",
     "iopub.status.busy": "2021-02-06T13:56:34.653221Z",
     "iopub.status.idle": "2021-02-06T13:56:34.659128Z",
     "shell.execute_reply": "2021-02-06T13:56:34.658704Z"
    }
   },
   "outputs": [
    {
     "data": {
      "text/plain": [
       "<sisl.viz.plotly.sessions.blank.BlankSession at 0x7faaf4014630>"
      ]
     },
     "execution_count": 1,
     "metadata": {},
     "output_type": "execute_result"
    }
   ],
   "source": [
    "# Let's write the session to a new variable for convenience\n",
    "session = sisl_gui.get_session()\n",
    "\n",
    "# Then add a new tab ( run help(session) to see all the available methods )\n",
    "session.add_tab(\"Tab added from jupyter\")"
   ]
  },
  {
   "cell_type": "markdown",
   "metadata": {},
   "source": [
    "Do you see the magic?\n",
    "\n",
    "<span class=\"user\">No.</span>\n",
    "\n",
    "Yeah me neither. You have added a new tab, but the GUI still doesn't know about it. One way of solving this is to refresh the browser with F5.\n",
    "\n",
    "<span class=\"user\">Lame.</span>\n",
    "\n",
    "I know. That's why there are better ways. You can either emit the changes when you are ready:"
   ]
  },
  {
   "cell_type": "code",
   "execution_count": 6,
   "metadata": {
    "execution": {
     "iopub.execute_input": "2021-02-06T13:56:34.663077Z",
     "iopub.status.busy": "2021-02-06T13:56:34.662592Z",
     "iopub.status.idle": "2021-02-06T13:56:34.689955Z",
     "shell.execute_reply": "2021-02-06T13:56:34.689408Z"
    }
   },
   "outputs": [
    {
     "data": {
      "text/plain": [
       "<sisl.viz.plotly.sessions.blank.BlankSession at 0x7faaf4014630>"
      ]
     },
     "execution_count": 1,
     "metadata": {},
     "output_type": "execute_result"
    }
   ],
   "source": [
    "session.emit()"
   ]
  },
  {
   "cell_type": "markdown",
   "metadata": {},
   "source": [
    "Or use the magic of autosync:"
   ]
  },
  {
   "cell_type": "code",
   "execution_count": 7,
   "metadata": {
    "execution": {
     "iopub.execute_input": "2021-02-06T13:56:34.702791Z",
     "iopub.status.busy": "2021-02-06T13:56:34.701996Z",
     "iopub.status.idle": "2021-02-06T13:56:34.716720Z",
     "shell.execute_reply": "2021-02-06T13:56:34.717150Z"
    }
   },
   "outputs": [
    {
     "data": {
      "text/plain": [
       "<sisl.viz.plotly.sessions.blank.BlankSession at 0x7faaf4014630>"
      ]
     },
     "execution_count": 1,
     "metadata": {},
     "output_type": "execute_result"
    }
   ],
   "source": [
    "session.autosync.add_tab(\"This is syncing!\")"
   ]
  },
  {
   "cell_type": "markdown",
   "metadata": {},
   "source": [
    "<span class=\"user\">That's cool, but do I have to write autosync each time?.</span>\n",
    "\n",
    "No, the autosync property basically returns your session with autosyncing super-powers. So, you can store that and then run your methods happily:"
   ]
  },
  {
   "cell_type": "code",
   "execution_count": 8,
   "metadata": {
    "execution": {
     "iopub.execute_input": "2021-02-06T13:56:34.721529Z",
     "iopub.status.busy": "2021-02-06T13:56:34.720950Z",
     "iopub.status.idle": "2021-02-06T13:56:34.743951Z",
     "shell.execute_reply": "2021-02-06T13:56:34.743471Z"
    }
   },
   "outputs": [
    {
     "data": {
      "text/plain": [
       "<sisl.viz.plotly.sessions.blank.BlankSession at 0x7faaf4014630>"
      ]
     },
     "execution_count": 1,
     "metadata": {},
     "output_type": "execute_result"
    }
   ],
   "source": [
    "# From now on we are going to just the autosynced version of the\n",
    "# session. We could keep the other one, but we just don't care\n",
    "# so we will overwrite it\n",
    "session = session.autosync\n",
    "\n",
    "# Just delete our useless tabs\n",
    "session.remove_tab('This is syncing!')\n",
    "session.remove_tab('Tab added from jupyter')"
   ]
  },
  {
   "cell_type": "markdown",
   "metadata": {},
   "source": [
    "We can now start to add plots."
   ]
  },
  {
   "cell_type": "code",
   "execution_count": 9,
   "metadata": {
    "execution": {
     "iopub.execute_input": "2021-02-06T13:56:34.751367Z",
     "iopub.status.busy": "2021-02-06T13:56:34.747728Z",
     "iopub.status.idle": "2021-02-06T13:56:34.876435Z",
     "shell.execute_reply": "2021-02-06T13:56:34.876847Z"
    }
   },
   "outputs": [
    {
     "data": {
      "text/plain": [
       "<sisl.viz.plotly.sessions.blank.BlankSession at 0x7faaf4014630>"
      ]
     },
     "execution_count": 1,
     "metadata": {},
     "output_type": "execute_result"
    }
   ],
   "source": [
    "from sisl.viz import Plot\n",
    "\n",
    "# Let's start a PDOS plot\n",
    "plot = Plot(siesta_files / \"SrTiO3.PDOS\")\n",
    "\n",
    "session.add_plot(plot, \"First tab\")"
   ]
  },
  {
   "cell_type": "markdown",
   "metadata": {},
   "source": [
    "Can you see it?\n",
    "\n",
    "<span class=\"user\">No.</span>\n",
    "\n",
    "Maybe you don't have the tab open in the GUI.\n",
    "\n",
    "Now, you should be able to interact as you wish with it. Since the reference is kept, you are able to run the methods on your notebook variable directly. Like so:"
   ]
  },
  {
   "cell_type": "code",
   "execution_count": 10,
   "metadata": {
    "execution": {
     "iopub.execute_input": "2021-02-06T13:56:34.885273Z",
     "iopub.status.busy": "2021-02-06T13:56:34.883942Z",
     "iopub.status.idle": "2021-02-06T13:56:35.354888Z",
     "shell.execute_reply": "2021-02-06T13:56:35.354357Z"
    }
   },
   "outputs": [
    {
     "data": {
      "application/vnd.jupyter.widget-view+json": {
       "model_id": "7b4decf52b6f44fcbe9fa958edcabbc1",
       "version_major": 2,
       "version_minor": 0
      },
      "text/plain": [
       "FigureWidget({\n",
       "    'data': [{'hoverinfo': 'name',\n",
       "              'line': {'dash': 'solid', 'width': 1},\n",
       "       …"
      ]
     },
     "metadata": {},
     "output_type": "display_data"
    }
   ],
   "source": [
    "plot.autosync.split_DOS(on=\"species\")\n",
    "# Yes, plots can also autosync after they have been bound to a session"
   ]
  },
  {
   "cell_type": "markdown",
   "metadata": {},
   "source": [
    "Let's add two more plots to this tab."
   ]
  },
  {
   "cell_type": "code",
   "execution_count": 11,
   "metadata": {
    "execution": {
     "iopub.execute_input": "2021-02-06T13:56:35.361360Z",
     "iopub.status.busy": "2021-02-06T13:56:35.360848Z",
     "iopub.status.idle": "2021-02-06T13:56:35.450589Z",
     "shell.execute_reply": "2021-02-06T13:56:35.449889Z"
    }
   },
   "outputs": [],
   "source": [
    "bands = Plot(siesta_files / \"SrTiO3.bands\")\n",
    "rho = Plot(siesta_files / \"SrTiO3.RHO\")\n",
    "\n",
    "for pt in (rho, bands):\n",
    "    session.add_plot(pt, \"First tab\")"
   ]
  },
  {
   "cell_type": "markdown",
   "metadata": {},
   "source": [
    "### 3. CHANGING THE GUI'S LAYOUT"
   ]
  },
  {
   "cell_type": "markdown",
   "metadata": {},
   "source": [
    "Each tab has a `layouts` attribute:"
   ]
  },
  {
   "cell_type": "code",
   "execution_count": 12,
   "metadata": {
    "execution": {
     "iopub.execute_input": "2021-02-06T13:56:35.455689Z",
     "iopub.status.busy": "2021-02-06T13:56:35.455151Z",
     "iopub.status.idle": "2021-02-06T13:56:35.470502Z",
     "shell.execute_reply": "2021-02-06T13:56:35.470936Z"
    }
   },
   "outputs": [
    {
     "data": {
      "text/plain": [
       "{'id': '27a6f135-9710-41a8-970b-13a844105aac',\n",
       " 'name': 'First tab',\n",
       " 'plots': ['3ddff50c-4441-4f28-b5a9-f4116ee69123',\n",
       "  '0e5bfbce-9cd7-4411-9b26-b0bfbbff1390',\n",
       "  '70480ffb-47b9-4a4c-9c36-7e0f8804a549'],\n",
       " 'layouts': {'lg': []}}"
      ]
     },
     "execution_count": 1,
     "metadata": {},
     "output_type": "execute_result"
    }
   ],
   "source": [
    "session.tab(\"First tab\")"
   ]
  },
  {
   "cell_type": "markdown",
   "metadata": {},
   "source": [
    "This `layouts` attribute is a dictionary stating how plots should be displayed in different screen sizes (e.g. `lg` is the largest and `xxs` is the smallest). You can change this very easily using the GUI by resizing and dragging your plots, but if you need the same layout every time it is definitely not ideal.\n",
    "\n",
    "The `layouts` structure seems a bit complicated. But don't worry, usually you just need to set the `lg` size, because this is how you see it in a computer. Just ignore the other sizes. \n",
    "\n",
    "As you can see, the `lg` size is a list of dicts, each dict contains:\n",
    "- `w`: The width of the plot in columns out of a total of { lg: 12, sm: 6, xs: 4, xxs: 2 } columns.\n",
    "- `h`: The height of the plot. I don't really know the scale of this honestly. Just try to see what fits best for you.\n",
    "- `x`: The position along the x axis of the left side of the plot (in columns).\n",
    "- `y`: The position along the y axis of the top part of the plot.\n",
    "- `id`: The ID of the plot to which this properties apply. It is available under `plot.id`\n",
    "- `moved`: Whether the plot has been moved.\n",
    "- `static`: Whether the GUI should prevent users from resizing/dragging this plot.\n",
    "\n",
    "I'd say the best strategy is probably to **set the layout in the GUI and then copy it to build your automatic layouts**. In my case, I like how this one looks:\n",
    "\n",
    "[{'w': 6,\n",
    "    'h': 28,\n",
    "    'x': 0,\n",
    "    'y': 0,\n",
    "    'i': '26c94e23-9f6b-4bce-b0a4-3363e69f0fd3',\n",
    "    'moved': False,\n",
    "    'static': False},\n",
    "   {'w': 12,\n",
    "    'h': 14,\n",
    "    'x': 0,\n",
    "    'y': 28,\n",
    "    'i': '0a2f9502-3fbb-4c06-a402-8d46518d3bc3',\n",
    "    'moved': False,\n",
    "    'static': False},\n",
    "   {'w': 6,\n",
    "    'h': 28,\n",
    "    'x': 6,\n",
    "    'y': 0,\n",
    "    'i': 'f6ae7c4a-38c6-4d36-81cb-04c73a794555',\n",
    "    'moved': False,\n",
    "    'static': False}]\n",
    "    \n",
    "So I'm just going to use it automating the ID stuff:"
   ]
  },
  {
   "cell_type": "code",
   "execution_count": 13,
   "metadata": {
    "execution": {
     "iopub.execute_input": "2021-02-06T13:56:35.479527Z",
     "iopub.status.busy": "2021-02-06T13:56:35.478963Z",
     "iopub.status.idle": "2021-02-06T13:56:36.420671Z",
     "shell.execute_reply": "2021-02-06T13:56:36.421399Z"
    }
   },
   "outputs": [
    {
     "data": {
      "application/vnd.jupyter.widget-view+json": {
       "model_id": "3fff7fbdff3141bea452c68f565817d6",
       "version_major": 2,
       "version_minor": 0
      },
      "text/plain": [
       "FigureWidget({\n",
       "    'data': [{'hoverinfo': 'name',\n",
       "              'hovertemplate': '%{y:.2f} eV',\n",
       "              …"
      ]
     },
     "metadata": {},
     "output_type": "display_data"
    }
   ],
   "source": [
    "struct = \"SrTiO3\"\n",
    "tab_name = \"Layout attempt\"\n",
    "\n",
    "session.add_tab(tab_name)\n",
    "\n",
    "# Get all the plots\n",
    "plots = [Plot(siesta_files / f'{struct}.{ext}') for ext in (\"PDOS\", \"RHO\", \"bands\")]\n",
    "\n",
    "for plot in plots:\n",
    "    session.add_plot(plot, tab_name)\n",
    "    \n",
    "# This is how you update tab parameters\n",
    "# (in this case, we want to update the layouts parameter)\n",
    "session.update_tab(\n",
    "    tab_name, \n",
    "    layouts = {'lg': [\n",
    "        {'w': 6, 'h': 28, 'x': 0, 'y': 0, 'i': plots[0].id, 'static': False},\n",
    "        {'w': 12, 'h': 14, 'x': 0, 'y': 28, 'i': plots[1].id, 'static': False},\n",
    "        {'w': 6, 'h': 28, 'x': 6, 'y': 0, 'i': plots[2].id, 'static': False}\n",
    "    ]}\n",
    ")\n",
    "\n",
    "# And also I'd like the PDOS to be splitted on species\n",
    "plots[0].split_DOS(on=\"species\").update_settings(Erange=[-10,10]).emit()\n",
    "# And the bands to show the gap\n",
    "plots[2].update_settings(gap=True, Erange=[-10,10]).emit()"
   ]
  },
  {
   "cell_type": "markdown",
   "metadata": {},
   "source": [
    "You can check the \"Layout attempt\" tab to see that we really achieved what we wanted."
   ]
  },
  {
   "cell_type": "markdown",
   "metadata": {},
   "source": [
    "### 4. BUILDING YOUR OWN CUSTOM SESSIONS"
   ]
  },
  {
   "cell_type": "markdown",
   "metadata": {},
   "source": [
    "Well, at this point there is not much mistery to it. Specially if you have gone through the [guide on how to build plots](./DIY.ipynb) You just need to extend the `Session` class. `Session`, as `Plot`, inherits from `Configurable`, so you have exactly the same management of settings.\n",
    "\n",
    "**If you have not read the guide for plots, don't worry**. The basics to build a session class are very simple.\n",
    "\n",
    "Let's build a session using what we wrote in the previous section. We really just need to change the `session` variable for `self` and we have a method!"
   ]
  },
  {
   "cell_type": "code",
   "execution_count": 14,
   "metadata": {
    "execution": {
     "iopub.execute_input": "2021-02-06T13:56:36.432550Z",
     "iopub.status.busy": "2021-02-06T13:56:36.432003Z",
     "iopub.status.idle": "2021-02-06T13:56:36.435163Z",
     "shell.execute_reply": "2021-02-06T13:56:36.435893Z"
    }
   },
   "outputs": [],
   "source": [
    "# Import the parent class\n",
    "from sisl.viz import Session\n",
    "\n",
    "# Start building our session\n",
    "class VeryCoolSession(Session):\n",
    "    \n",
    "    # Add the method to see PDOS, bands and RHO of a structure\n",
    "    def see_results(self, struct, wdir=siesta_files, tab_name=None):\n",
    "        \n",
    "        if tab_name is None:\n",
    "            tab_name = struct\n",
    "            \n",
    "        self.add_tab(tab_name)\n",
    "\n",
    "        plots = [Plot(wdir /  f'{struct}.{ext}') for ext in (\"PDOS\", \"RHO\", \"bands\")]\n",
    "\n",
    "        for plot in plots:\n",
    "            self.add_plot(plot, tab_name)\n",
    "\n",
    "        # This is how you update tab parameters\n",
    "        self.update_tab(\n",
    "            tab_name, \n",
    "            layouts = {'lg': [\n",
    "                {'w': 6, 'h': 28, 'x': 0, 'y': 0, 'i': plots[0].id, 'static': False},\n",
    "                {'w': 12, 'h': 14, 'x': 0, 'y': 28, 'i': plots[1].id, 'static': False},\n",
    "                {'w': 6, 'h': 28, 'x': 6, 'y': 0, 'i': plots[2].id, 'static': False}\n",
    "            ]}\n",
    "        )\n",
    "\n",
    "        # And also I'd like the PDOS to be splitted ¿on species\n",
    "        plots[0].split_DOS(on=\"species\").update_settings(Erange=[-10,10])\n",
    "        # And the bands to show the gap\n",
    "        plots[2].update_settings(gap=True, Erange=[-10,10])\n"
   ]
  },
  {
   "cell_type": "markdown",
   "metadata": {},
   "source": [
    "And that's basically it.\n",
    "\n",
    "<span class=\"user\">Yeah nice but how do I use this session now</span>\n",
    "\n",
    "You just need to set the session of the GUI:"
   ]
  },
  {
   "cell_type": "code",
   "execution_count": 15,
   "metadata": {
    "execution": {
     "iopub.execute_input": "2021-02-06T13:56:36.441225Z",
     "iopub.status.busy": "2021-02-06T13:56:36.440723Z",
     "iopub.status.idle": "2021-02-06T13:56:36.445291Z",
     "shell.execute_reply": "2021-02-06T13:56:36.445740Z"
    }
   },
   "outputs": [
    {
     "data": {
      "text/plain": [
       "<__main__.VeryCoolSession at 0x7faaf2fc92b0>"
      ]
     },
     "execution_count": 1,
     "metadata": {},
     "output_type": "execute_result"
    }
   ],
   "source": [
    "# Maybe you want to save the existing one?\n",
    "# session.save(\"My first try.session\")\n",
    "\n",
    "# We initialize the session\n",
    "new_session = VeryCoolSession()\n",
    "# And then we just tell the GUI to use it\n",
    "sisl_gui.set_session(new_session)"
   ]
  },
  {
   "cell_type": "markdown",
   "metadata": {},
   "source": [
    "Now, let's see if this works:"
   ]
  },
  {
   "cell_type": "code",
   "execution_count": 16,
   "metadata": {
    "execution": {
     "iopub.execute_input": "2021-02-06T13:56:36.455764Z",
     "iopub.status.busy": "2021-02-06T13:56:36.449317Z",
     "iopub.status.idle": "2021-02-06T13:56:36.727085Z",
     "shell.execute_reply": "2021-02-06T13:56:36.726587Z"
    }
   },
   "outputs": [],
   "source": [
    "new_session.autosync.see_results(\"SrTiO3\")"
   ]
  },
  {
   "cell_type": "markdown",
   "metadata": {},
   "source": [
    "Just take a moment now to admire the simplicity of the previous line and the beauty and usefulness that it can bring to your research.\n",
    "\n",
    "With this, we end this short but intense tutorial. I hope that I have been able to convince you of the power this gives to you, but if not, thanks for the read anyway :)\n",
    "\n",
    "Just as a last thing, notice that you can add parameters to the session and they can be tweaked from the GUI. Give a glimpse at the [notebook where plot building is explained](./DIY.ipynb) if you are further interested, there's a section where parameters are introduced, close to the beggining.\n",
    "\n",
    "Oh, and by the way, you can load saved sessions just as we did with plots in the [Demo Notebook](./Demo.ipynb)\n",
    "\n",
    "If there is a request for further tutorials on sessions, we will extend more on the topic, so don't hesitate to ask.\n",
    "\n",
    "Cheers!"
   ]
  },
  {
   "cell_type": "code",
   "execution_count": null,
   "metadata": {},
   "outputs": [],
   "source": []
  }
 ],
 "metadata": {
  "kernelspec": {
   "display_name": "Python 3",
   "language": "python",
   "name": "python3"
  },
  "language_info": {
   "codemirror_mode": {
    "name": "ipython",
    "version": 3
   },
   "file_extension": ".py",
   "mimetype": "text/x-python",
   "name": "python",
   "nbconvert_exporter": "python",
   "pygments_lexer": "ipython3",
   "version": "3.6.12"
  },
  "widgets": {
   "application/vnd.jupyter.widget-state+json": {
    "state": {
     "3fff7fbdff3141bea452c68f565817d6": {
      "buffers": [
       {
        "data": "AAAAAAAAAAA5mE2AYfmTPzmYTYBh+aM/VmR0QBL2rT85mE2AYfmzP0j+YOC597g/VmR0QBL2vT8y5UNQNXrBPzmYTYBh+cM/QEtXsI14xj9I/mDguffIP0+xahDmdss/VmR0QBL2zT+vCz84nzrQPzLlQ1A1etE/tr5IaMu50j85mE2AYfnTP71xUpj3ONU/QEtXsI141j/EJFzII7jXP0j+YOC599g/y9dl+E832j9PsWoQ5nbbP9KKbyh8ttw/VmR0QBL23T/ZPXlYqDXfP68LPzifOuA/cHhBRGra4D8y5UNQNXrhP/RRRlwAGuI/tr5IaMu54j93K0t0llnjPzmYTYBh+eM/+wRQjCyZ5D+9cVKY9zjlP3/eVKTC2OU/Vz82yY945j8ZrDjVWhjnP9sYO+EluOc/nYU97fBX6D9e8j/5u/foPyBfQgWHl+k/4stEEVI36j+kOEcdHdfqP2WlSSnodus/BP9byY4N7D+6TE2CN6TsP1mmXyLeOu0/+P9xwoTR7T+tTWN7LWjuP0yndRvU/u4/AvVm1HyV7z9Qpzy6ERbwPytOtRZmYfA/+nq+Zrms8D/VITfDDfjwP6VOQBNhQ/E/dHtJY7SO8T9PIsK/CNrxPx5Pyw9cJfI/+fVDbLBw8j/JIk28A7zyP6PJxRhYB/M/c/bOaKtS8z9OnUfF/53zPx3KUBVT6fM/7PZZZaY09D/HndLB+n/0P5fK2xFOy/Q/cXFUbqIW9T9Bnl2+9WH1PxxF1hpKrfU/63Hfap349T/GGFjH8UP2P5VFYRdFj/Y/ZXJqZ5ja9j8/GePD7CX3Pw9G7BNAcfc/lWJH41C/9z8QBTOmYA34P5YhjnVxW/g/EcR5OIGp+D+Y4NQHkvf4PxKDwMqhRfk/jSWsjbGT+T8UQgddwuH5P4/k8h/SL/o/FQFO7+J9+j+Qozmy8sv6PxbAlIEDGvs/kWKARBNo+z8MBWwHI7b7P5Ihx9YzBPw/DcSymUNS/D+T4A1pVKD8Pw6D+Stk7vw/lZ9U+3Q8/T8PQkC+hIr9P4rkK4GU2P0/EQGHUKUm/j+Mo3ITtXT+PxLAzeLFwv4/jWK5pdUQ/z8TfxR15l7/P44hADj2rP8/FD5bBwf7/z9IcCNliyQAQIVBmUaTSwBAyM9GrptyAEAGobyPo5kAQEkvaverwABAhgDg2LPnAEDJjo1AvA4BQAdgAyLENQFARDF5A8xcAUCHvyZr1IMBQMWQnEzcqgFAMuTYeobQAUCaet0iMPYBQAfOGVHaGwJAb2Qe+YNBAkDct1onLmcCQEROX8/XjAJArORjd4GyAkAZOKClK9gCQIHOpE3V/QJA7iHhe38jA0BWuOUjKUkDQMQLIlLTbgNAK6Im+nyUA0CZ9WIoJ7oDQACMZ9DQ3wNAaCJseHoFBEDVdaimJCsEQD0MrU7OUARAq1/pfHh2BEAS9u0kIpwEQIBJKlPMwQRA598u+3XnBEBVM2spIA0FQLzJb9HJMgVAJGB0eXNYBUCSs7CnHX4FQPlJtU/HowVAZ53xfXHJBUDOM/YlG+8FQDyHMlTFFAZAox03/G46BkARcXMqGWAGQHkHeNLChQZA",
        "encoding": "base64",
        "path": [
         "_data",
         0,
         "x",
         "buffer"
        ]
       },
       {
        "data": "OCnENeWUDMBwbguo3qQMwOBnG5GW1AzArLzcOTsjDcAIuyA0KY8NwPza8qOIFg7AFOjS0Ri3DsDQfmPhkm0PwChfzJ+mGxDASstEGkyIEMB+un1fk/oQwJDOvCVwcBHA9ueefofnEcAI/N1EZF0SwAQVURx3zxLARCiy30o7E8AGQNgyUJ4TwNwnQ15G9hPArGwbTztBFMCWcU9gcX0UwA5bdpF5qRTA/PmyvU3EFMCyy7ObUM0UwCR4P3e5zRTAdn3iCfTOFMCs25xTANEUwMSSblTe0xTAoLd01XPXFMBESq/WwNsUwKxKHljF4BTA+KOkkJvmFMAIa19JKe0UwBh2FPCi9BTAXpuJ8jz9FMBoci1jegcVwIq8qOapExXAxr31arciFcAGHts72j0VwJbg0GQ2jRXAyMZ/ihrRFcAQOXmaAwkWwFBM2l3XNBbAND/6L0dUFsCEOxOjHmcWwFwsCO53bRbAZpQqWvBnFsCgt3TVc1cWwECwprsiPRbAuG5G1lEaFsDmj2XKvvAVwAAuxPOJwRXA6qF5CYWNFcDC1mhCylQVwLyiVwyOFxXAwBpjMLbVFMAgADRTkY8UwPo9ras5RRTAhKqUp+P2E8BQ3VhZEqUTwK6XomUUUBPAEIb9p1L4EsDqVPX7NZ4SwKqwFT0nQhLA3jDNfankEcAwWG0HWoYRwGaUKlrwJxHAfin/Y1jKEMBccALcY24QwE5u11RNFRDAlCcIMNOAD8AE9pACsuEOwEDV4I9JUA7AXHzJ2HfPDcA8zFZw5mENwEj5CA7WCQ3AvGGa+1LJDMBYtzmnAKIMwDgpxDXllAzAADqL8J2iDMBkbOAgyMsMwHhnrA+SDw3A8CVMKsFsDcBYcz+5FOENwIDxy3KAag7AUOkfViYGD8DoeS/QXLEPwKbJiBQ6NBDA/Gg0whKUEMD4EiaVYPYQwNYVLx+AWRHA0r8g8s27EcDuiAYychsSwNprPUwydxLAzraW0mrNEsCyOjWgFR0TwGzIO5AsZRPAFgeT692kE8AoX8yfptsTwIDlBHZsCRTAeFvlEn4uFMC2Q7+/eEsUwORk3rPlYRTAbvPCpgV0FMDeUsp0H4UUwA7s9Iy0mRTAFP4IzHq2FMA+Fp6ghN4UwJDwuRzmEBXA1qatGrtJFcD8+bK9TYQVwHxCcjtrvBXAPskZkzXvFcAoG9KxuhoWwM5HFc6lPRbATPbLMCVXFsAUj4fHtWYWwLRlvLbuaxbAaFAwbARnFsAQqPqeyFgWwHLaT8/yQRbAxAHwWKMjFsA8fJWF5v8VwJ4/abFL2RXA4hdappayFcAG0VYui44VwFq0/MlPbxXA+PAonupVFcBy2k/P8kEVwP4CPd2wMhXAaFAwbAQnFcCyfi+OAR4VwNpJQFW8FhXAOi8ReJcQFcBgghYbKgsVwNyWxGILBhXAcpZV4QYBFcDuqgMp6PsUwGi/sXDJ9hTA5NNfuKrxFMBC/SrJcewUwNr8u0dt5xTAqNISNJ3iFMCyfi+OAd4UwEbCuvro2RTATrLRQjnWFMDiOVedDNMUwDovEXiX0BTAPqccnL/OFMAIjVxAn80UwLLLs5tQzRTA",
        "encoding": "base64",
        "path": [
         "_data",
         0,
         "y",
         "buffer"
        ]
       },
       {
        "data": "AAAAAAAAAAA5mE2AYfmTPzmYTYBh+aM/VmR0QBL2rT85mE2AYfmzP0j+YOC597g/VmR0QBL2vT8y5UNQNXrBPzmYTYBh+cM/QEtXsI14xj9I/mDguffIP0+xahDmdss/VmR0QBL2zT+vCz84nzrQPzLlQ1A1etE/tr5IaMu50j85mE2AYfnTP71xUpj3ONU/QEtXsI141j/EJFzII7jXP0j+YOC599g/y9dl+E832j9PsWoQ5nbbP9KKbyh8ttw/VmR0QBL23T/ZPXlYqDXfP68LPzifOuA/cHhBRGra4D8y5UNQNXrhP/RRRlwAGuI/tr5IaMu54j93K0t0llnjPzmYTYBh+eM/+wRQjCyZ5D+9cVKY9zjlP3/eVKTC2OU/Vz82yY945j8ZrDjVWhjnP9sYO+EluOc/nYU97fBX6D9e8j/5u/foPyBfQgWHl+k/4stEEVI36j+kOEcdHdfqP2WlSSnodus/BP9byY4N7D+6TE2CN6TsP1mmXyLeOu0/+P9xwoTR7T+tTWN7LWjuP0yndRvU/u4/AvVm1HyV7z9Qpzy6ERbwPytOtRZmYfA/+nq+Zrms8D/VITfDDfjwP6VOQBNhQ/E/dHtJY7SO8T9PIsK/CNrxPx5Pyw9cJfI/+fVDbLBw8j/JIk28A7zyP6PJxRhYB/M/c/bOaKtS8z9OnUfF/53zPx3KUBVT6fM/7PZZZaY09D/HndLB+n/0P5fK2xFOy/Q/cXFUbqIW9T9Bnl2+9WH1PxxF1hpKrfU/63Hfap349T/GGFjH8UP2P5VFYRdFj/Y/ZXJqZ5ja9j8/GePD7CX3Pw9G7BNAcfc/lWJH41C/9z8QBTOmYA34P5YhjnVxW/g/EcR5OIGp+D+Y4NQHkvf4PxKDwMqhRfk/jSWsjbGT+T8UQgddwuH5P4/k8h/SL/o/FQFO7+J9+j+Qozmy8sv6PxbAlIEDGvs/kWKARBNo+z8MBWwHI7b7P5Ihx9YzBPw/DcSymUNS/D+T4A1pVKD8Pw6D+Stk7vw/lZ9U+3Q8/T8PQkC+hIr9P4rkK4GU2P0/EQGHUKUm/j+Mo3ITtXT+PxLAzeLFwv4/jWK5pdUQ/z8TfxR15l7/P44hADj2rP8/FD5bBwf7/z9IcCNliyQAQIVBmUaTSwBAyM9GrptyAEAGobyPo5kAQEkvaverwABAhgDg2LPnAEDJjo1AvA4BQAdgAyLENQFARDF5A8xcAUCHvyZr1IMBQMWQnEzcqgFAMuTYeobQAUCaet0iMPYBQAfOGVHaGwJAb2Qe+YNBAkDct1onLmcCQEROX8/XjAJArORjd4GyAkAZOKClK9gCQIHOpE3V/QJA7iHhe38jA0BWuOUjKUkDQMQLIlLTbgNAK6Im+nyUA0CZ9WIoJ7oDQACMZ9DQ3wNAaCJseHoFBEDVdaimJCsEQD0MrU7OUARAq1/pfHh2BEAS9u0kIpwEQIBJKlPMwQRA598u+3XnBEBVM2spIA0FQLzJb9HJMgVAJGB0eXNYBUCSs7CnHX4FQPlJtU/HowVAZ53xfXHJBUDOM/YlG+8FQDyHMlTFFAZAox03/G46BkARcXMqGWAGQHkHeNLChQZA",
        "encoding": "base64",
        "path": [
         "_data",
         1,
         "x",
         "buffer"
        ]
       },
       {
        "data": "OCnENeWUDMBQWKFa65UMwExoihKbmQzAeNYtFFefDMAUeVHNU6cMwOh5L9BcsQzARFZ209S8DMD0N2Bph8kMwMBIJyRA1wzAxC+0TC3lDMDIFkF1GvMMwCB7fFRqAA3AYLDaDrQMDcCkXUTtJRcNwOiCue+/Hw3AxHOuOhkmDcD0WV1g/SkNwLgLjM6gKw3AgDXGYGwrDcD0WV1g/SkNwMD7ohbxJw3A/El0qE0mDcAY8VzxeyUNwCi4F6oJLA3AzLnTrxtADcA0S8EsW3UNwHwjsiGmzg7AOnMLZoMREMBoA6xetbcQwLrmUfp5WBHAUsTlgf/yEcAwWG0HWoYSwHJJ0dO3ERPAbBXAnXuUE8B4OegbCA4UwOoy+ATAfRTAUlVkfTrjFMD6ziundDUVwAhJYlKzTBXAEBd8o41oFcBMh0osYIcVwBZLjdnJpRXABKbPF7K/FcCQ8Lkc5tAVwBQgBsPw1hXAOnMLZoPRFcBWq3Kq7MAVwKZaBxB1pBXADFLscRZ7FcBuYkSrykMVwED0oKkO/hTAnPLko/ypFMBmtidRZkgUwLhuRtZR2hPAyDUBj99gE8DQJRjXL90SwDovEXiXUBLAJoHJlhy8EcAiK7tpal4RwNIuovaSCxHASKC9A3O5EMDWhLAjRWkQwOzMACBeHBDAwPuiFvGnD8BYtzmnACIPwNgqgDv3qA7AKK+NiqY9DsCw8O1vd+ANwKzFZlmekQ3AeKum/X1QDcCAxkRcpxsNwHQRnuLf8QzAyLBJkLjRDMAsn6TS9rkMwKBUus3CqAzAfE45OH+dDMBsh35/8ZYMwDgpxDXllAzANLG4Eb2WDMBgH1wTeZwMwMRzrjoZpgzAADEB0Tq0DMAYV1TW3cYMwCQVhW8I3wzAYEFZCu/8DMAg4XM5zCENwNCgYNgITg3AWNk2nnaCDcCU4w1C578NwDRCNw34Bg7AMPWy/6hXDsCQ/IAZ+rEOwBiC2+y2FQ/APKpZeXCBD8AcHOQHVfQPwPgSJpVgNhDAUEzaXdd0EMA0YfcmvbQQwBa6Dt6O9RDAopV33v02EcBKXMMVh3gRwLhMSd/buRHAmqVglq36EcBG5LfxXjoSwPSaGnE4eBLAGDIaArezEsDSUJ/tCOwSwKxKHljFIBPAyMZ/ihpRE8Ds7v0W1HwTwKgWDSKJoxPAbKY+mbbEE8Aes69FQuATwGp7t4Ld9RPAMhRzGW4FFMBakv/S2Q4UwKofl0HsERTAHkQuQX0QFMBgxhAJFgwUwMIj7U8ZBBTAhO6Olc/3E8BOIVNH/uUTwJbg0GQ2zRPAtGW8tu6rE8BWq3Kq7IATwLSHua1kTBPArP2ZSnYxE8CYnNZ2SkwTwMZ5+3zLYRPAkM68JXBwE8Bov7FwyXYTwDYd/TjRcxPAouL760xmE8AkeD93uU0TwA5bdpF5KRPADsr3lT75EsAkxcOECL0SwMD4ZTlAdRLAOCaHWDQiEsCIkSHQ0MQRwFy9humyXRHABq9ZNxXuEMC+gFoVGHcQwDjDzFCD8w/AXFrM4QHvDsCQ0fkCIeMNwGRK4ylSaw3A4PiZjNFEDcC0k4CqeC0NwBjxXPF7JQ3A",
        "encoding": "base64",
        "path": [
         "_data",
         1,
         "y",
         "buffer"
        ]
       },
       {
        "data": "AAAAAAAAAAA5mE2AYfmTPzmYTYBh+aM/VmR0QBL2rT85mE2AYfmzP0j+YOC597g/VmR0QBL2vT8y5UNQNXrBPzmYTYBh+cM/QEtXsI14xj9I/mDguffIP0+xahDmdss/VmR0QBL2zT+vCz84nzrQPzLlQ1A1etE/tr5IaMu50j85mE2AYfnTP71xUpj3ONU/QEtXsI141j/EJFzII7jXP0j+YOC599g/y9dl+E832j9PsWoQ5nbbP9KKbyh8ttw/VmR0QBL23T/ZPXlYqDXfP68LPzifOuA/cHhBRGra4D8y5UNQNXrhP/RRRlwAGuI/tr5IaMu54j93K0t0llnjPzmYTYBh+eM/+wRQjCyZ5D+9cVKY9zjlP3/eVKTC2OU/Vz82yY945j8ZrDjVWhjnP9sYO+EluOc/nYU97fBX6D9e8j/5u/foPyBfQgWHl+k/4stEEVI36j+kOEcdHdfqP2WlSSnodus/BP9byY4N7D+6TE2CN6TsP1mmXyLeOu0/+P9xwoTR7T+tTWN7LWjuP0yndRvU/u4/AvVm1HyV7z9Qpzy6ERbwPytOtRZmYfA/+nq+Zrms8D/VITfDDfjwP6VOQBNhQ/E/dHtJY7SO8T9PIsK/CNrxPx5Pyw9cJfI/+fVDbLBw8j/JIk28A7zyP6PJxRhYB/M/c/bOaKtS8z9OnUfF/53zPx3KUBVT6fM/7PZZZaY09D/HndLB+n/0P5fK2xFOy/Q/cXFUbqIW9T9Bnl2+9WH1PxxF1hpKrfU/63Hfap349T/GGFjH8UP2P5VFYRdFj/Y/ZXJqZ5ja9j8/GePD7CX3Pw9G7BNAcfc/lWJH41C/9z8QBTOmYA34P5YhjnVxW/g/EcR5OIGp+D+Y4NQHkvf4PxKDwMqhRfk/jSWsjbGT+T8UQgddwuH5P4/k8h/SL/o/FQFO7+J9+j+Qozmy8sv6PxbAlIEDGvs/kWKARBNo+z8MBWwHI7b7P5Ihx9YzBPw/DcSymUNS/D+T4A1pVKD8Pw6D+Stk7vw/lZ9U+3Q8/T8PQkC+hIr9P4rkK4GU2P0/EQGHUKUm/j+Mo3ITtXT+PxLAzeLFwv4/jWK5pdUQ/z8TfxR15l7/P44hADj2rP8/FD5bBwf7/z9IcCNliyQAQIVBmUaTSwBAyM9GrptyAEAGobyPo5kAQEkvaverwABAhgDg2LPnAEDJjo1AvA4BQAdgAyLENQFARDF5A8xcAUCHvyZr1IMBQMWQnEzcqgFAMuTYeobQAUCaet0iMPYBQAfOGVHaGwJAb2Qe+YNBAkDct1onLmcCQEROX8/XjAJArORjd4GyAkAZOKClK9gCQIHOpE3V/QJA7iHhe38jA0BWuOUjKUkDQMQLIlLTbgNAK6Im+nyUA0CZ9WIoJ7oDQACMZ9DQ3wNAaCJseHoFBEDVdaimJCsEQD0MrU7OUARAq1/pfHh2BEAS9u0kIpwEQIBJKlPMwQRA598u+3XnBEBVM2spIA0FQLzJb9HJMgVAJGB0eXNYBUCSs7CnHX4FQPlJtU/HowVAZ53xfXHJBUDOM/YlG+8FQDyHMlTFFAZAox03/G46BkARcXMqGWAGQHkHeNLChQZA",
        "encoding": "base64",
        "path": [
         "_data",
         2,
         "x",
         "buffer"
        ]
       },
       {
        "data": "OCnENeWUDMBQWKFa65UMwExoihKbmQzAeNYtFFefDMAUeVHNU6cMwOh5L9BcsQzARFZ209S8DMD0N2Bph8kMwMBIJyRA1wzAxC+0TC3lDMDIFkF1GvMMwCB7fFRqAA3AYLDaDrQMDcCkXUTtJRcNwOiCue+/Hw3AxHOuOhkmDcD0WV1g/SkNwLgLjM6gKw3AgDXGYGwrDcD0WV1g/SkNwMD7ohbxJw3A/El0qE0mDcAY8VzxeyUNwMRzrjoZJg3AiCXdqLwnDcAAfoXeiWMNwBCSxKRmmQ3AjFnu3vjkDcAQZz2OjUoOwGD01PyfzQ7AQLPjmNNvD8CCEIyMRRgQwMCr4SvxhRDAslwyl4v9EMBiz5ooeXoRwGgDrF619xHAPA0UgSFwEsBaAYHXnt4SwAZi1SnGPhPAssuzm1CNE8AQOXmaA8kTwIyaq+8z8xPA6uVz93AOFMBA0qOymB0UwHD8TMZoIhTA6lT1+zUeFMA6cwtmgxEUwJgtVXKF/BPAIG+1V1bfE8BG5LfxXroTwEBjIq7TjRPAgJiAaB1aE8CuBiRq2R8TwFpFe8WK3xLAKtfXw86ZEsAgADRTkU8SwAAuxPOJARLAAntIAdmwEcDkIOTF+SARwK4oIWFPgBDAFOjS0Ri3D8AwZDQEbmcOwKya30LFQg3AdFWY0MsyDcDIY8WCaSINwOibLMfSEQ3APKpZeXABDcAEZRIHd/EMwDzMVnDm4QzAVIyykCfTDMDEUbFDo8UMwIQcU4lZuQzACJkjPbOuDMAY8Vzxe6UMwGCnUO9QngzAoOU4yf2YDMBQWKFa65UMwDgpxDXllAzANLG4Eb2WDMBgH1wTeZwMwMRzrjoZpgzAADEB0Tq0DMAYV1TW3cYMwCQVhW8I3wzAYEFZCu/8DMAg4XM5zCENwNCgYNgITg3AWNk2nnaCDcCU4w1C578NwDRCNw34Bg7AMPWy/6hXDsCQ/IAZ+rEOwBiC2+y2FQ/APKpZeXCBD8AcHOQHVfQPwPgSJpVgNhDAUEzaXdd0EMA0YfcmvbQQwBa6Dt6O9RDAopV33v02EcBKXMMVh3gRwLhMSd/buRHAmqVglq36EcBG5LfxXjoSwPSaGnE4eBLAGDIaArezEsDSUJ/tCOwSwKxKHljFIBPAyMZ/ihpRE8Ds7v0W1HwTwKgWDSKJoxPAbKY+mbbEE8Aes69FQuATwGp7t4Ld9RPAMhRzGW4FFMBakv/S2Q4UwKofl0HsERTA6qF5CYUNFMCuKCFhTwAUwCqKU7Z/6hPAYMYQCRbME8CkngH+YKUTwGi/sXDJdhPAAurJBZ5AE8DgytWYRwMTwIx4rvi9EhPAWNb5wMUPE8BAYyKu080SwNamrRq7iRLAauo4h6JFEsBwHkq93gISwFTvbJjYwRHAxpv4c0GCEcBuYkSrykMRwPiBp5klBhHAEDl5mgPJEMDsXX8bmYwQwMjGf4oaURDAvl5dHqIWEMDwUNNAmrsPwEBN7LNxTg/AwLeoKAXnDsD4a3Gfw4YOwHhFrxgcLw7ABPaQArLhDcBcL0XLKKANwPhi539gGA3AQABopiIfDcBUPy6D2CMNwBjxXPF7JQ3A",
        "encoding": "base64",
        "path": [
         "_data",
         2,
         "y",
         "buffer"
        ]
       },
       {
        "data": "AAAAAAAAAAA5mE2AYfmTPzmYTYBh+aM/VmR0QBL2rT85mE2AYfmzP0j+YOC597g/VmR0QBL2vT8y5UNQNXrBPzmYTYBh+cM/QEtXsI14xj9I/mDguffIP0+xahDmdss/VmR0QBL2zT+vCz84nzrQPzLlQ1A1etE/tr5IaMu50j85mE2AYfnTP71xUpj3ONU/QEtXsI141j/EJFzII7jXP0j+YOC599g/y9dl+E832j9PsWoQ5nbbP9KKbyh8ttw/VmR0QBL23T/ZPXlYqDXfP68LPzifOuA/cHhBRGra4D8y5UNQNXrhP/RRRlwAGuI/tr5IaMu54j93K0t0llnjPzmYTYBh+eM/+wRQjCyZ5D+9cVKY9zjlP3/eVKTC2OU/Vz82yY945j8ZrDjVWhjnP9sYO+EluOc/nYU97fBX6D9e8j/5u/foPyBfQgWHl+k/4stEEVI36j+kOEcdHdfqP2WlSSnodus/BP9byY4N7D+6TE2CN6TsP1mmXyLeOu0/+P9xwoTR7T+tTWN7LWjuP0yndRvU/u4/AvVm1HyV7z9Qpzy6ERbwPytOtRZmYfA/+nq+Zrms8D/VITfDDfjwP6VOQBNhQ/E/dHtJY7SO8T9PIsK/CNrxPx5Pyw9cJfI/+fVDbLBw8j/JIk28A7zyP6PJxRhYB/M/c/bOaKtS8z9OnUfF/53zPx3KUBVT6fM/7PZZZaY09D/HndLB+n/0P5fK2xFOy/Q/cXFUbqIW9T9Bnl2+9WH1PxxF1hpKrfU/63Hfap349T/GGFjH8UP2P5VFYRdFj/Y/ZXJqZ5ja9j8/GePD7CX3Pw9G7BNAcfc/lWJH41C/9z8QBTOmYA34P5YhjnVxW/g/EcR5OIGp+D+Y4NQHkvf4PxKDwMqhRfk/jSWsjbGT+T8UQgddwuH5P4/k8h/SL/o/FQFO7+J9+j+Qozmy8sv6PxbAlIEDGvs/kWKARBNo+z8MBWwHI7b7P5Ihx9YzBPw/DcSymUNS/D+T4A1pVKD8Pw6D+Stk7vw/lZ9U+3Q8/T8PQkC+hIr9P4rkK4GU2P0/EQGHUKUm/j+Mo3ITtXT+PxLAzeLFwv4/jWK5pdUQ/z8TfxR15l7/P44hADj2rP8/FD5bBwf7/z9IcCNliyQAQIVBmUaTSwBAyM9GrptyAEAGobyPo5kAQEkvaverwABAhgDg2LPnAEDJjo1AvA4BQAdgAyLENQFARDF5A8xcAUCHvyZr1IMBQMWQnEzcqgFAMuTYeobQAUCaet0iMPYBQAfOGVHaGwJAb2Qe+YNBAkDct1onLmcCQEROX8/XjAJArORjd4GyAkAZOKClK9gCQIHOpE3V/QJA7iHhe38jA0BWuOUjKUkDQMQLIlLTbgNAK6Im+nyUA0CZ9WIoJ7oDQACMZ9DQ3wNAaCJseHoFBEDVdaimJCsEQD0MrU7OUARAq1/pfHh2BEAS9u0kIpwEQIBJKlPMwQRA598u+3XnBEBVM2spIA0FQLzJb9HJMgVAJGB0eXNYBUCSs7CnHX4FQPlJtU/HowVAZ53xfXHJBUDOM/YlG+8FQDyHMlTFFAZAox03/G46BkARcXMqGWAGQHkHeNLChQZA",
        "encoding": "base64",
        "path": [
         "_data",
         3,
         "x",
         "buffer"
        ]
       },
       {
        "data": "yOFKYfOF/b8wfML9lan9vwifnfcUFP6/gIjEKB3A/r9wypOP8qf/vyCdeUvgYADAPKpZeXABAcDMSlKrVrABwEyTESl0aALAcG4LqN4kA8DMH8uUfeEDwNRD8xIKmwTA0KBg2AhOBcCE2FibbfgFwIS2W6T3lwbAnNyuqZoqB8CcQqaO/MsHwFjiwL3ZcAjAFCzNvwT4CMBYcz+5FGEJwCi4F6oJrAnAvNAbABjZCcDc5oVNC+gJwKwJYUeK0grARHhzykodDMCc3K6pmioNwNDCXc9+Lg3AHNjpGWkzDcC88hj3jTkNwHg8Jfm4QA3AhIvUjR5JDcCsCWFHilINwLjgBLjHXA3ApBDA39ZnDcA4w8xQg3MNwEAiZZ2Yfw3ASIH96a2LDcBM4JU2w5cNwKy83Dk7ow3A7GlGGK2tDcDcEQ1k5LYNwEDeaq+svg3AOHZIQzTEDcAwhjH748cNwISL1I0eyQ3AFN9IsrXIDcAwhjH748cNwKSqyPp0xg3AcEwOsWjEDcBYlTywisENwGCFU/javQ3AhBxTiVm5DcCMhHX10bMNwLSTgKp4rQ3AiJ3ozOSlDcAMoq1cFp0NwHB3lcdBkw3AhEfanzKIDcC4vgfBUXwNwJQwkk82bw3AWHM/uRRhDcB0M5vZVVINwIymcuxHFA3AzLnTrxvAC8Bg0tcFKm0KwLQk/6WzHQnAAA8E2sTTB8DomyzH0pEGwNj/+CQeWgXAsBt1hlAvBMD8Uv7HsBQDwCRiCX1XDgLAdF4i8C4hAcActuwi81IAwHgHL+WRU/+/AGuMwdhW/r/AxqwCyrr9v8jhSmHzhf2/yLbDShq3/b8YK+jhGUj+v0DLcZL7Mf+/OAfHPm80AMB4iakGCPAAwBjPX/oFxQHAROf0zg+tAsBYtzmnAKIDwEAAaKYinwTAXC9FyyigBcAg4XM5zKEGwHReIvAuoQfAKEmWpUScCMB076DraZEJwAhMny9kfwrANNw/KJZlC8DkcKWw+UIMwNwzCltaFw3ABPaQArLhDcAg4XM5zKEOwFCcm0jXVg/AePgqC83/D8CWvtNtwGwQwMRwcV1o8xDAsDGrgLJuEcDSnSP7V9sRwNzjSHBaNRLAgjKJg7t4EsA2aoFGIKMSwNwnQ15GthLA9lYgg0y3EsDuO4IkI6wSwGKtnTEDmhLAiJEh0NCEEsDmS2vc0m8SwNAlGNcvXRLAPqccnL9OEsBO/1VQiEUSwP5xvuF1QhLApMD+9NZFEsCSrL8u+k8SwDyeknxcYBLA+BImlWB2EsDksWLBNJESwJKKwjeErxLAyoKFnC7QEsAAv0LvxPESwK7kJnNjvxLAFroO3o51EsD4o6SQmyYSwDb7/0Fb0xHAIAA0U5GPEcAE81MlAW8RwESXM+QPSxHAjCsq624jEcCg2XHM6fcQwIKhCoiAyBDA+qwusP6UEMDsEPsNSl0QwDrijGpIIRDAyEHIi/PBD8DYmQFAvDgPwNyii18fpw7AmIagfOgMDsD0nVdO6WoNwIRH2p8yCA3A9HtaV3MKDcDMbE+izBANwOTfJrW+0gzAeDwl+bjAC8AAqQz1YrIKwNzmhU0L6AnA",
        "encoding": "base64",
        "path": [
         "_data",
         3,
         "y",
         "buffer"
        ]
       },
       {
        "data": "AAAAAAAAAAA5mE2AYfmTPzmYTYBh+aM/VmR0QBL2rT85mE2AYfmzP0j+YOC597g/VmR0QBL2vT8y5UNQNXrBPzmYTYBh+cM/QEtXsI14xj9I/mDguffIP0+xahDmdss/VmR0QBL2zT+vCz84nzrQPzLlQ1A1etE/tr5IaMu50j85mE2AYfnTP71xUpj3ONU/QEtXsI141j/EJFzII7jXP0j+YOC599g/y9dl+E832j9PsWoQ5nbbP9KKbyh8ttw/VmR0QBL23T/ZPXlYqDXfP68LPzifOuA/cHhBRGra4D8y5UNQNXrhP/RRRlwAGuI/tr5IaMu54j93K0t0llnjPzmYTYBh+eM/+wRQjCyZ5D+9cVKY9zjlP3/eVKTC2OU/Vz82yY945j8ZrDjVWhjnP9sYO+EluOc/nYU97fBX6D9e8j/5u/foPyBfQgWHl+k/4stEEVI36j+kOEcdHdfqP2WlSSnodus/BP9byY4N7D+6TE2CN6TsP1mmXyLeOu0/+P9xwoTR7T+tTWN7LWjuP0yndRvU/u4/AvVm1HyV7z9Qpzy6ERbwPytOtRZmYfA/+nq+Zrms8D/VITfDDfjwP6VOQBNhQ/E/dHtJY7SO8T9PIsK/CNrxPx5Pyw9cJfI/+fVDbLBw8j/JIk28A7zyP6PJxRhYB/M/c/bOaKtS8z9OnUfF/53zPx3KUBVT6fM/7PZZZaY09D/HndLB+n/0P5fK2xFOy/Q/cXFUbqIW9T9Bnl2+9WH1PxxF1hpKrfU/63Hfap349T/GGFjH8UP2P5VFYRdFj/Y/ZXJqZ5ja9j8/GePD7CX3Pw9G7BNAcfc/lWJH41C/9z8QBTOmYA34P5YhjnVxW/g/EcR5OIGp+D+Y4NQHkvf4PxKDwMqhRfk/jSWsjbGT+T8UQgddwuH5P4/k8h/SL/o/FQFO7+J9+j+Qozmy8sv6PxbAlIEDGvs/kWKARBNo+z8MBWwHI7b7P5Ihx9YzBPw/DcSymUNS/D+T4A1pVKD8Pw6D+Stk7vw/lZ9U+3Q8/T8PQkC+hIr9P4rkK4GU2P0/EQGHUKUm/j+Mo3ITtXT+PxLAzeLFwv4/jWK5pdUQ/z8TfxR15l7/P44hADj2rP8/FD5bBwf7/z9IcCNliyQAQIVBmUaTSwBAyM9GrptyAEAGobyPo5kAQEkvaverwABAhgDg2LPnAEDJjo1AvA4BQAdgAyLENQFARDF5A8xcAUCHvyZr1IMBQMWQnEzcqgFAMuTYeobQAUCaet0iMPYBQAfOGVHaGwJAb2Qe+YNBAkDct1onLmcCQEROX8/XjAJArORjd4GyAkAZOKClK9gCQIHOpE3V/QJA7iHhe38jA0BWuOUjKUkDQMQLIlLTbgNAK6Im+nyUA0CZ9WIoJ7oDQACMZ9DQ3wNAaCJseHoFBEDVdaimJCsEQD0MrU7OUARAq1/pfHh2BEAS9u0kIpwEQIBJKlPMwQRA598u+3XnBEBVM2spIA0FQLzJb9HJMgVAJGB0eXNYBUCSs7CnHX4FQPlJtU/HowVAZ53xfXHJBUDOM/YlG+8FQDyHMlTFFAZAox03/G46BkARcXMqGWAGQHkHeNLChQZA",
        "encoding": "base64",
        "path": [
         "_data",
         4,
         "x",
         "buffer"
        ]
       },
       {
        "data": "yOFKYfOF/b8wfML9lan9vwifnfcUFP6/gIjEKB3A/r9wypOP8qf/vyCdeUvgYADAPKpZeXABAcDMSlKrVrABwEyTESl0aALAcG4LqN4kA8DMH8uUfeEDwNRD8xIKmwTA0KBg2AhOBcCE2FibbfgFwIS2W6T3lwbAnNyuqZoqB8AImSM9s64HwDgQUV7SIgjA/ON8w+uECMDIOD5skNMIwAwzLFhRDQnAPPfdhr8wCcAMgLBloDwJwKya30LFQgnA/Jb4tZxVCcAcHOQHVXQJwGCnUO9QngnAdDOb2VXSCcB4Z6wPkg8KwKiRVSNiVArAQABopiKfCsC013qYZO4KwASQmR1QQAvAcHeVx0GTC8A03D8oluULwIwMatGpNQzArFblVNmBDMAU30iytcgMwGig8VYECQ3AIL92QlZBDcCUuIYrDnENwGyHfn/xlg3APH/SYpeyDcBUHTGMYsMNwISL1I0eyQ3AHEdrHi7DDcCQ/IAZ+rENwHD/iaMZlQ3A8CVMKsFsDcAUcMet8DgNwEiKhwkR+gzAlHSMPSKwDMAsBZy3WFsMwEgSfOXo+wvAIHLyNAeSC8Ak0YqBHB4LwMzb0KaRoArAhD5QgM8ZCsCEz857CooJwOS9Kb5I8gjA5N8mtb5SCMBgjt0XPqwHwEAiZZ2Y/wbA0KBg2AhOBsD4Yud/YJgFwEBEYpQO4ATANCA6FoImBMAIVSlPx20DwMBqJBu2twLA+Gtxn8MGAsDQD+LczV0BwMy5068bwADAdM2j9PMwAMAAYgKidWj/v6BBwbARnP6/WK3KqbID/r84bNlF5qX9v8jhSmHzhf2/yLbDShq3/b8YK+jhGUj+v0DLcZL7Mf+/OAfHPm80AMB4iakGCPAAwBjPX/oFxQHAROf0zg+tAsBYtzmnAKIDwEAAaKYinwTAXC9FyyigBcAg4XM5zKEGwHReIvAuoQfAKEmWpUScCMB076DraZEJwAhMny9kfwrANNw/KJZlC8DkcKWw+UIMwNwzCltaFw3ABPaQArLhDcAg4XM5zKEOwFCcm0jXVg/AePgqC83/D8BcTgXl7U0QwGxZuotnlRDAMMfuCx/WEMCul6JlFBARwDaMfj2WQxHAVjzxpSdxEcBIfsAM/ZgRwNK/IPLNuxHARsK6+ujZEcD8RjfLnPMRwGT6IT9SCRLAmsddjSMbEsAqRlnIkykSwPqKMbmINBLAXlePBFE8EsBWq3Kq7EASwP5xvuF1QhLAAC7E84lBEsDodvLyqz4SwNQ3LBb2ORLAxHBxXWgzEsBiYBkktCoSwObc6dcNIBLA4jlXnQwTEsCKTSfi5AMSwHBrzsot8hHAeKhpIM3dEcCiBPniwsYRwHrT8DamrBHA7O79FtR8EcBuhEGiQCQRwCisUK31yhDAxix3b3xyEMBeeYz7xhwQwKRdRO0llw/AdIAf56QBD8CYFx94I30OwPADTzNLDA7AsKNpYiixDcAMzTRz72sNwLh6DdNlOw3A1Mvn7uEcDcDUXGbqHA0NwJBrAh6/wQzAyPRDfqQSDMCUwRBLcV8LwGCO3Rc+rArAIANxMEICCsCkf0Hkm3cJwAyAsGWgPAnA",
        "encoding": "base64",
        "path": [
         "_data",
         4,
         "y",
         "buffer"
        ]
       },
       {
        "data": "AAAAAAAAAAA5mE2AYfmTPzmYTYBh+aM/VmR0QBL2rT85mE2AYfmzP0j+YOC597g/VmR0QBL2vT8y5UNQNXrBPzmYTYBh+cM/QEtXsI14xj9I/mDguffIP0+xahDmdss/VmR0QBL2zT+vCz84nzrQPzLlQ1A1etE/tr5IaMu50j85mE2AYfnTP71xUpj3ONU/QEtXsI141j/EJFzII7jXP0j+YOC599g/y9dl+E832j9PsWoQ5nbbP9KKbyh8ttw/VmR0QBL23T/ZPXlYqDXfP68LPzifOuA/cHhBRGra4D8y5UNQNXrhP/RRRlwAGuI/tr5IaMu54j93K0t0llnjPzmYTYBh+eM/+wRQjCyZ5D+9cVKY9zjlP3/eVKTC2OU/Vz82yY945j8ZrDjVWhjnP9sYO+EluOc/nYU97fBX6D9e8j/5u/foPyBfQgWHl+k/4stEEVI36j+kOEcdHdfqP2WlSSnodus/BP9byY4N7D+6TE2CN6TsP1mmXyLeOu0/+P9xwoTR7T+tTWN7LWjuP0yndRvU/u4/AvVm1HyV7z9Qpzy6ERbwPytOtRZmYfA/+nq+Zrms8D/VITfDDfjwP6VOQBNhQ/E/dHtJY7SO8T9PIsK/CNrxPx5Pyw9cJfI/+fVDbLBw8j/JIk28A7zyP6PJxRhYB/M/c/bOaKtS8z9OnUfF/53zPx3KUBVT6fM/7PZZZaY09D/HndLB+n/0P5fK2xFOy/Q/cXFUbqIW9T9Bnl2+9WH1PxxF1hpKrfU/63Hfap349T/GGFjH8UP2P5VFYRdFj/Y/ZXJqZ5ja9j8/GePD7CX3Pw9G7BNAcfc/lWJH41C/9z8QBTOmYA34P5YhjnVxW/g/EcR5OIGp+D+Y4NQHkvf4PxKDwMqhRfk/jSWsjbGT+T8UQgddwuH5P4/k8h/SL/o/FQFO7+J9+j+Qozmy8sv6PxbAlIEDGvs/kWKARBNo+z8MBWwHI7b7P5Ihx9YzBPw/DcSymUNS/D+T4A1pVKD8Pw6D+Stk7vw/lZ9U+3Q8/T8PQkC+hIr9P4rkK4GU2P0/EQGHUKUm/j+Mo3ITtXT+PxLAzeLFwv4/jWK5pdUQ/z8TfxR15l7/P44hADj2rP8/FD5bBwf7/z9IcCNliyQAQIVBmUaTSwBAyM9GrptyAEAGobyPo5kAQEkvaverwABAhgDg2LPnAEDJjo1AvA4BQAdgAyLENQFARDF5A8xcAUCHvyZr1IMBQMWQnEzcqgFAMuTYeobQAUCaet0iMPYBQAfOGVHaGwJAb2Qe+YNBAkDct1onLmcCQEROX8/XjAJArORjd4GyAkAZOKClK9gCQIHOpE3V/QJA7iHhe38jA0BWuOUjKUkDQMQLIlLTbgNAK6Im+nyUA0CZ9WIoJ7oDQACMZ9DQ3wNAaCJseHoFBEDVdaimJCsEQD0MrU7OUARAq1/pfHh2BEAS9u0kIpwEQIBJKlPMwQRA598u+3XnBEBVM2spIA0FQLzJb9HJMgVAJGB0eXNYBUCSs7CnHX4FQPlJtU/HowVAZ53xfXHJBUDOM/YlG+8FQDyHMlTFFAZAox03/G46BkARcXMqGWAGQHkHeNLChQZA",
        "encoding": "base64",
        "path": [
         "_data",
         5,
         "x",
         "buffer"
        ]
       },
       {
        "data": "yOFKYfOF/b/Yn3v6HZ79v7DUajNj5f2/qHXS5k1Z/r9Yxj2BxfX+v+hdrJNItv+/ZOTrRPBJAMA4dkhDNMQAwNyAjmipRgHACHcmRj3OAcAw9bL/qFcCwMyOTJlC8QLAYB9cE3kcBMAEIRgZizAFwNiydBfPKgbASPkIDtYJB8AImSM9s64HwDgQUV7SIgjA/ON8w+uECMDIOD5skNMIwAwzLFhRDQnAPPfdhr8wCcAMgLBloDwJwEzglTbDlwjA7ItDDyMOCMBQvpg/TbcHwLTXephkbgfAHGloFaQjB8B0M5vZVdIGwKAHNsBzeQbAhD5QgM8ZBsA4B8c+b7QFwPC/VEVfSwXAQERilA7gBMDEnjVR8nQEwLgticUWDATAFHlRzVOnA8AU30iytUgDwOS9Kb5I8gLAiJ3ozOSlAsAUCtDIjpcCwIgD4LFGxwLAMOwo4EXpAsBEmnDBwP0CwIw38eeCBAPA7BzCCl7+AsCAecBOWOwCwEBN7LNxzgLAqETRFROlAsDw4VE81asCwHQRnuLf8QLAoEswrl86A8AE1JMLPIEDwDzuU2dcwgPAoAc2wHP5A8A4EFFe0iIEwNgh9huUOgTAYIVT+No9BMC8g5fyyCkEwIDoQVMd/APAjIR19dGzA8DMKFW04E8DwAT/GiIV0ALAjAxq0ak1AsDkLKvCDYIBwPhA6ojqtwDAkFgJAQ61/7+IVt5599v9v3jMvhYJgf2/gLzVXll9/b8oxxuEzn/9v5CDkBfng/2/qDpiGMWG/b8AQAWr/4f9v5CTec+Wh/2/GOft8y2H/b84jtY8XIb9v8jhSmHzhf2/2MF48ZN+/b/guhlZR2n9vwB0FuE7Rf2/IEaGQEMT/b9AMWl3XdP8v1g1v4WKhfy/wFcr/gQr/L8E7CEFZMP7v0CXYFy/dP2/lCcIMNMAAMB4q6b9fVABwGz2/4O2pgLAlCcIMNMABMAojZCTMF0FwLzyGPeNuQbAxHw4WnwUCMCAecBOWGwJwOxgvPhJvwrAgFfDV+ILDMB4q6b9fVANwNTUcQ5Fiw7A9MjeZMK5D8BcTgXl7U0QwGxZuotnlRDAMMfuCx/WEMCul6JlFBARwDaMfj2WQxHAVjzxpSdxEcBIfsAM/ZgRwNK/IPLNuxHARsK6+ujZEcD8RjfLnPMRwGT6IT9SCRLAmsddjSMbEsAqRlnIkykSwPqKMbmINBLAXlePBFE8EsBWq3Kq7EASwP5xvuF1QhLAWGd4vABAEsCCMomDuzgSwCYSSJJXLBLADDDveqAaEsDE3/JhLQMSwIizHsdG5RHAkD0+KjXAEcCMeK74vZIRwNKdI/tXWxHASjrGHhEYEcAunGf1RccQwPbnnn6HZxDAWOLAvdnwD8DEnjVR8vQOwOw+vwHU3g3APH/SYpeyDMDkRR6aIHQLwIgl3ai8JwrAkNqDIoTRCMDEnjVR8nQHwBiC2+y2FQbA3BENZOS2BMB8Cj9Kk1wDwITPznsKCgLAMPWy/6jXAcAgUPU9kbECwMR8OFp8lAPAsM7weAGABMCob1gs7HMFwAjdHSufbwbABGUSB3dxB8BsIYeaj3UIwAyAsGWgPAnA",
        "encoding": "base64",
        "path": [
         "_data",
         5,
         "y",
         "buffer"
        ]
       },
       {
        "data": "AAAAAAAAAAA5mE2AYfmTPzmYTYBh+aM/VmR0QBL2rT85mE2AYfmzP0j+YOC597g/VmR0QBL2vT8y5UNQNXrBPzmYTYBh+cM/QEtXsI14xj9I/mDguffIP0+xahDmdss/VmR0QBL2zT+vCz84nzrQPzLlQ1A1etE/tr5IaMu50j85mE2AYfnTP71xUpj3ONU/QEtXsI141j/EJFzII7jXP0j+YOC599g/y9dl+E832j9PsWoQ5nbbP9KKbyh8ttw/VmR0QBL23T/ZPXlYqDXfP68LPzifOuA/cHhBRGra4D8y5UNQNXrhP/RRRlwAGuI/tr5IaMu54j93K0t0llnjPzmYTYBh+eM/+wRQjCyZ5D+9cVKY9zjlP3/eVKTC2OU/Vz82yY945j8ZrDjVWhjnP9sYO+EluOc/nYU97fBX6D9e8j/5u/foPyBfQgWHl+k/4stEEVI36j+kOEcdHdfqP2WlSSnodus/BP9byY4N7D+6TE2CN6TsP1mmXyLeOu0/+P9xwoTR7T+tTWN7LWjuP0yndRvU/u4/AvVm1HyV7z9Qpzy6ERbwPytOtRZmYfA/+nq+Zrms8D/VITfDDfjwP6VOQBNhQ/E/dHtJY7SO8T9PIsK/CNrxPx5Pyw9cJfI/+fVDbLBw8j/JIk28A7zyP6PJxRhYB/M/c/bOaKtS8z9OnUfF/53zPx3KUBVT6fM/7PZZZaY09D/HndLB+n/0P5fK2xFOy/Q/cXFUbqIW9T9Bnl2+9WH1PxxF1hpKrfU/63Hfap349T/GGFjH8UP2P5VFYRdFj/Y/ZXJqZ5ja9j8/GePD7CX3Pw9G7BNAcfc/lWJH41C/9z8QBTOmYA34P5YhjnVxW/g/EcR5OIGp+D+Y4NQHkvf4PxKDwMqhRfk/jSWsjbGT+T8UQgddwuH5P4/k8h/SL/o/FQFO7+J9+j+Qozmy8sv6PxbAlIEDGvs/kWKARBNo+z8MBWwHI7b7P5Ihx9YzBPw/DcSymUNS/D+T4A1pVKD8Pw6D+Stk7vw/lZ9U+3Q8/T8PQkC+hIr9P4rkK4GU2P0/EQGHUKUm/j+Mo3ITtXT+PxLAzeLFwv4/jWK5pdUQ/z8TfxR15l7/P44hADj2rP8/FD5bBwf7/z9IcCNliyQAQIVBmUaTSwBAyM9GrptyAEAGobyPo5kAQEkvaverwABAhgDg2LPnAEDJjo1AvA4BQAdgAyLENQFARDF5A8xcAUCHvyZr1IMBQMWQnEzcqgFAMuTYeobQAUCaet0iMPYBQAfOGVHaGwJAb2Qe+YNBAkDct1onLmcCQEROX8/XjAJArORjd4GyAkAZOKClK9gCQIHOpE3V/QJA7iHhe38jA0BWuOUjKUkDQMQLIlLTbgNAK6Im+nyUA0CZ9WIoJ7oDQACMZ9DQ3wNAaCJseHoFBEDVdaimJCsEQD0MrU7OUARAq1/pfHh2BEAS9u0kIpwEQIBJKlPMwQRA598u+3XnBEBVM2spIA0FQLzJb9HJMgVAJGB0eXNYBUCSs7CnHX4FQPlJtU/HowVAZ53xfXHJBUDOM/YlG+8FQDyHMlTFFAZAox03/G46BkARcXMqGWAGQHkHeNLChQZA",
        "encoding": "base64",
        "path": [
         "_data",
         6,
         "x",
         "buffer"
        ]
       },
       {
        "data": "yG7UGUK97r+IhvpsR2Dvv2Tz7x61nfC/rKnjHIoW8r8IqCcXeAL0v3QgorykRfa/yJ1QcwfF+L/8YQKidWj7v6i5zNQ5Gv6/4NaclVtkAMDI0kaHLrIBwEBEYpQO4ALAjFnu3vhkA8BwKhG68uMDwLhYENzvWgTAMIYx++PHBMBM1wsXYCkFwLRG/JwpfgXAGM9f+gXFBcBgQVkK7/wFwBjxXPF7JQbAYIVT+No9BsA0/jwfDEYGwNxVB1LQ9wXA1Mvn7uEcBcB0EZ7i3/EDwEzXCxdgqQLASKyEAIdaAcCwPXJ9xg8AwEAxaXdd0/2/MOK54vdK/7/4r2uNr0cAwAzvMWplzADAVK6vh50zAcBAImWdmH8BwDgHxz5vtAHAUJybSNfWAcD0nVdO6eoBwOgTOOv6DwLASKyEAIdaAsCMWe7e+GQCwLCjaWIoMQLAnP6roBALAsDkRR6aIPQBwIB5wE5Y7AHAxJ41UfL0AcDsi0MPIw4CwKQ7R/avNgLAgHnATlhsAsAgDPtPpXACwFgmu6vFMQLA9BVjchHpAcA0IDoWgqYBwOgTOOv6jwHAjMhv4710AcAYPuH+ylQBwLAbdYZQLwHA5LSfnuUDAcA8XdVrIdIAwLwUFu4DmgDAZNthJY1bAMCkXUTtJRcAwNife/odnv+/oNI/rEwM/78g1wQ8foP+v2CUV9KfEf6/0I1nu1fB/b9AdWNlSZT9v/T53zX97fu/yHLJXC72+b/USW3NawD4v1C0KUL/GPa/nJ4udhBP9L8I9askx7Hyv5SuFy7AUvG/IBv/KWpE8L/4bfYWOTPvv8hu1BlCve6/EBXfX2cy77+Qx4oF00Twv8Qcuy98WPG/cKiWmHzH8r+wKnlgFYP0v4S81V5Zffa/FNXZtGeq+L/w8FUWmv/6v5yeLnYQT/u/1HT040TP+r+wbnNOAUT6v4CRTkiArvm/uIkRrSoP+b8kvpFka5H5v3RtJsrz9Pm/fBlDJFgw+r9cadC7xkL6vzAEt9ltK/q/TO+ZEIjr+b9YNb+FioX5vxSIVacY+/i/nJ4udhBP+L9YNb+FioX3v9CvZLLNofa/AB4ItImn9b8wlTXVqJv0v9DRYalDgvO/CEIwMhZh8r+8TqHeoTzxv4gS5IsLG/C/SJ4gwEwD7r9wPqpwLu3rv+Dhqyw0/+m/2L2DrqdF6L+wrnj5AMzmv1jUXH2fmeW/YLJfhim55L/gtiQWWzDkv4js8VGpAeS/iMFqO9Ay5L+AQNX3RMbkvyhUpTwdt+W/+Jh9LRIC57/47otaxJ/ov4CEz+Uwh+q/wIdH8VSv7L+Qw5XC5gvvvzRaxQYgyfC/pLnM1Dka8r/okb3JhHPzv6AWOpo4zfS/tICHjccg9r+oXF8PO2f3vxjeY9TKmPi/EOXCbBeu+b8opR6NWJ/6vwRSGerFZPu/qMvgEwD3+79890Ut4k/8vxjn7fMth/2/UNYmOXX5/r8or42Kpj0AwIi/5cNaBgHAjPP2+ZbDAMBMaIoSmxkBwFjZNp52AgLAoJi0u67pAsCcQqaO/MsDwDiYRTqqpATAEEVAlxdqBcCoZs4MiQUGwDT+PB8MRgbA",
        "encoding": "base64",
        "path": [
         "_data",
         6,
         "y",
         "buffer"
        ]
       },
       {
        "data": "AAAAAAAAAAA5mE2AYfmTPzmYTYBh+aM/VmR0QBL2rT85mE2AYfmzP0j+YOC597g/VmR0QBL2vT8y5UNQNXrBPzmYTYBh+cM/QEtXsI14xj9I/mDguffIP0+xahDmdss/VmR0QBL2zT+vCz84nzrQPzLlQ1A1etE/tr5IaMu50j85mE2AYfnTP71xUpj3ONU/QEtXsI141j/EJFzII7jXP0j+YOC599g/y9dl+E832j9PsWoQ5nbbP9KKbyh8ttw/VmR0QBL23T/ZPXlYqDXfP68LPzifOuA/cHhBRGra4D8y5UNQNXrhP/RRRlwAGuI/tr5IaMu54j93K0t0llnjPzmYTYBh+eM/+wRQjCyZ5D+9cVKY9zjlP3/eVKTC2OU/Vz82yY945j8ZrDjVWhjnP9sYO+EluOc/nYU97fBX6D9e8j/5u/foPyBfQgWHl+k/4stEEVI36j+kOEcdHdfqP2WlSSnodus/BP9byY4N7D+6TE2CN6TsP1mmXyLeOu0/+P9xwoTR7T+tTWN7LWjuP0yndRvU/u4/AvVm1HyV7z9Qpzy6ERbwPytOtRZmYfA/+nq+Zrms8D/VITfDDfjwP6VOQBNhQ/E/dHtJY7SO8T9PIsK/CNrxPx5Pyw9cJfI/+fVDbLBw8j/JIk28A7zyP6PJxRhYB/M/c/bOaKtS8z9OnUfF/53zPx3KUBVT6fM/7PZZZaY09D/HndLB+n/0P5fK2xFOy/Q/cXFUbqIW9T9Bnl2+9WH1PxxF1hpKrfU/63Hfap349T/GGFjH8UP2P5VFYRdFj/Y/ZXJqZ5ja9j8/GePD7CX3Pw9G7BNAcfc/lWJH41C/9z8QBTOmYA34P5YhjnVxW/g/EcR5OIGp+D+Y4NQHkvf4PxKDwMqhRfk/jSWsjbGT+T8UQgddwuH5P4/k8h/SL/o/FQFO7+J9+j+Qozmy8sv6PxbAlIEDGvs/kWKARBNo+z8MBWwHI7b7P5Ihx9YzBPw/DcSymUNS/D+T4A1pVKD8Pw6D+Stk7vw/lZ9U+3Q8/T8PQkC+hIr9P4rkK4GU2P0/EQGHUKUm/j+Mo3ITtXT+PxLAzeLFwv4/jWK5pdUQ/z8TfxR15l7/P44hADj2rP8/FD5bBwf7/z9IcCNliyQAQIVBmUaTSwBAyM9GrptyAEAGobyPo5kAQEkvaverwABAhgDg2LPnAEDJjo1AvA4BQAdgAyLENQFARDF5A8xcAUCHvyZr1IMBQMWQnEzcqgFAMuTYeobQAUCaet0iMPYBQAfOGVHaGwJAb2Qe+YNBAkDct1onLmcCQEROX8/XjAJArORjd4GyAkAZOKClK9gCQIHOpE3V/QJA7iHhe38jA0BWuOUjKUkDQMQLIlLTbgNAK6Im+nyUA0CZ9WIoJ7oDQACMZ9DQ3wNAaCJseHoFBEDVdaimJCsEQD0MrU7OUARAq1/pfHh2BEAS9u0kIpwEQIBJKlPMwQRA598u+3XnBEBVM2spIA0FQLzJb9HJMgVAJGB0eXNYBUCSs7CnHX4FQPlJtU/HowVAZ53xfXHJBUDOM/YlG+8FQDyHMlTFFAZAox03/G46BkARcXMqGWAGQHkHeNLChQZA",
        "encoding": "base64",
        "path": [
         "_data",
         7,
         "x",
         "buffer"
        ]
       },
       {
        "data": "yG7UGUK97r/wymPcN+buv3i/P7S5We+/zFlWhRsE8L+cfDF/mm7wv3h2sOlW4/C/TIAYDMNb8b/MhN2b9NLxv+TMLZgNRvK/PFNmbtOz8r+IEuSLCxvzv8AKp/C1e/O/kDYMCpjU878AlhPYsSX0vwwpvVoDb/S/1Jbx2rqv9L80OMgPquj0v1C0KUL/GPW/KAsWcrpA9b9EkAHEcl/1vyDwdxORdfW/sCp5YBWD9b+Mk3nPlof1v6z2ZyrZxfW/+Fh4ghJ69r88dWNlSZT3vxSIVacY+/i/JL6RZGuR+r/g5aBvIDj8v7j4krHvnv2/3PWJJ9A7/L8o4I5b4XH9v7j4krHvnv6/uNaVunm+/7+kiMsD/2UAwOROqLmD4gDAyDg+bJBTAcAwF7D2HrgBwMSeNVHy9AHA3FUHUtD3AcCIUGS/lfYBwADtBuNO8wHAQLPjmNPvAcBg0tcFKu0BwIB5wE5Y7AHAZErjKVLrAcCEadeWqOgBwKgA1ycn5AHAYGNWAWXdAcBwu4+1LdQBwKAyvdZMyAHATEaNGyW5AcBsh35/8ZYBwNSp6vdrPAHA2P/4JB7aAMCUuIYrDnEAwHSAH+ekAQDAMA1B+dAZ/7/IR0JGVSf+v/i15UcRLf2/ZGJxI3ot/L/8pfyPYSn7v1yLzbI8I/q/2BeHHkYc+b84/VdBIRb4v4BEyjox//e/oDg3ka6t978kRoZAQxP3v9QFc99/P/a/BHQW4TtF9b9wORWUtzf0v1SbtmrsJvO/eDK2+2oi8r+M4P3c5Tbxv7QzA4B4cfC/KFSlPB2377+og/HiJ/3uv8hu1BlCve6/gBVO4Wv37r8Qpl1boqLvvzTJRgvlWPC/3CARPqkK8b/YW4EMMt3xv+BUInTlx/K/YOHb3+7A8798iMQoHcD0v/QkZ0zWvPW/REN9tiOw9r+Yah1A1JH3v9zTjDBaW/i/VL2zYWIH+b8kvpFka5H5v3RtJsrz9Pm/fBlDJFgw+r9cadC7xkL6vzAEt9ltK/q/TO+ZEIjr+b9YNb+FioX5vxSIVacY+/i/nJ4udhBP+L9YNb+FioX3v9CvZLLNofa/AB4ItImn9b8wlTXVqJv0v9DRYalDgvO/CEIwMhZh8r+8TqHeoTzxv4gS5IsLG/C/SJ4gwEwD7r9wPqpwLu3rv+Dhqyw0/+m/2L2DrqdF6L+wrnj5AMzmv1jUXH2fmeW/YLJfhim55L/gtiQWWzDkv4js8VGpAeS/0O9pXc0p5L/gR6MRlqDkv2jfESQZYeW/CPpAAT5n5r/Id145pavnvxAuUjd6JOm/yFVhQi/L6r8Iz7nqZJjsv/ggcgnqg+6/sG5zTgFE8L9gUF3ks1Dxv+SqMKGXZfK/0NFhqUOC8788bNlF5qX0vyh6l3Z/0PW/mPubOw8C979oSf5LZzv4v2QV7RUrfvm/+Av0dMPK+r94Mrb7aiL8vxgZ1KJTa/y//IP/mOtI/L/oO6+c0tX8v6gx2PhhmP6/IFD1PZExAMAYZliwohr/v3CfDHkZ2fy/EMPFdaHN+r88BuJghAT5v2j8eT4YjPe/lIwaN0py9r+UP5Yp+8L1v4yTec+Wh/W/",
        "encoding": "base64",
        "path": [
         "_data",
         7,
         "y",
         "buffer"
        ]
       },
       {
        "data": "AAAAAAAAAAA5mE2AYfmTPzmYTYBh+aM/VmR0QBL2rT85mE2AYfmzP0j+YOC597g/VmR0QBL2vT8y5UNQNXrBPzmYTYBh+cM/QEtXsI14xj9I/mDguffIP0+xahDmdss/VmR0QBL2zT+vCz84nzrQPzLlQ1A1etE/tr5IaMu50j85mE2AYfnTP71xUpj3ONU/QEtXsI141j/EJFzII7jXP0j+YOC599g/y9dl+E832j9PsWoQ5nbbP9KKbyh8ttw/VmR0QBL23T/ZPXlYqDXfP68LPzifOuA/cHhBRGra4D8y5UNQNXrhP/RRRlwAGuI/tr5IaMu54j93K0t0llnjPzmYTYBh+eM/+wRQjCyZ5D+9cVKY9zjlP3/eVKTC2OU/Vz82yY945j8ZrDjVWhjnP9sYO+EluOc/nYU97fBX6D9e8j/5u/foPyBfQgWHl+k/4stEEVI36j+kOEcdHdfqP2WlSSnodus/BP9byY4N7D+6TE2CN6TsP1mmXyLeOu0/+P9xwoTR7T+tTWN7LWjuP0yndRvU/u4/AvVm1HyV7z9Qpzy6ERbwPytOtRZmYfA/+nq+Zrms8D/VITfDDfjwP6VOQBNhQ/E/dHtJY7SO8T9PIsK/CNrxPx5Pyw9cJfI/+fVDbLBw8j/JIk28A7zyP6PJxRhYB/M/c/bOaKtS8z9OnUfF/53zPx3KUBVT6fM/7PZZZaY09D/HndLB+n/0P5fK2xFOy/Q/cXFUbqIW9T9Bnl2+9WH1PxxF1hpKrfU/63Hfap349T/GGFjH8UP2P5VFYRdFj/Y/ZXJqZ5ja9j8/GePD7CX3Pw9G7BNAcfc/lWJH41C/9z8QBTOmYA34P5YhjnVxW/g/EcR5OIGp+D+Y4NQHkvf4PxKDwMqhRfk/jSWsjbGT+T8UQgddwuH5P4/k8h/SL/o/FQFO7+J9+j+Qozmy8sv6PxbAlIEDGvs/kWKARBNo+z8MBWwHI7b7P5Ihx9YzBPw/DcSymUNS/D+T4A1pVKD8Pw6D+Stk7vw/lZ9U+3Q8/T8PQkC+hIr9P4rkK4GU2P0/EQGHUKUm/j+Mo3ITtXT+PxLAzeLFwv4/jWK5pdUQ/z8TfxR15l7/P44hADj2rP8/FD5bBwf7/z9IcCNliyQAQIVBmUaTSwBAyM9GrptyAEAGobyPo5kAQEkvaverwABAhgDg2LPnAEDJjo1AvA4BQAdgAyLENQFARDF5A8xcAUCHvyZr1IMBQMWQnEzcqgFAMuTYeobQAUCaet0iMPYBQAfOGVHaGwJAb2Qe+YNBAkDct1onLmcCQEROX8/XjAJArORjd4GyAkAZOKClK9gCQIHOpE3V/QJA7iHhe38jA0BWuOUjKUkDQMQLIlLTbgNAK6Im+nyUA0CZ9WIoJ7oDQACMZ9DQ3wNAaCJseHoFBEDVdaimJCsEQD0MrU7OUARAq1/pfHh2BEAS9u0kIpwEQIBJKlPMwQRA598u+3XnBEBVM2spIA0FQLzJb9HJMgVAJGB0eXNYBUCSs7CnHX4FQPlJtU/HowVAZ53xfXHJBUDOM/YlG+8FQDyHMlTFFAZAox03/G46BkARcXMqGWAGQHkHeNLChQZA",
        "encoding": "base64",
        "path": [
         "_data",
         8,
         "x",
         "buffer"
        ]
       },
       {
        "data": "yG7UGUK97r/wymPcN+buv3i/P7S5We+/zFlWhRsE8L+cfDF/mm7wv3h2sOlW4/C/TIAYDMNb8b/MhN2b9NLxv+TMLZgNRvK/PFNmbtOz8r+IEuSLCxvzv8AKp/C1e/O/kDYMCpjU878AlhPYsSX0vwwpvVoDb/S/1Jbx2rqv9L80OMgPquj0v1C0KUL/GPW/KAsWcrpA9b9EkAHEcl/1vyDwdxORdfW/sCp5YBWD9b+Mk3nPlof1v7zfH9rcrPW/NA1B+dAZ9r8co/MFQsb2v4xxfNggp/e/8D3aI+mu+L98fzoJutH5v8xZVoUbBPu/aEn+S2c7+7+ENOGCgfv4v6zUajNj5fa/+OBsXur79L9cadC7xkLzvzBzON4yu/G/5KowoZdl8L9QFizkdIHuv0gdi3zBluy/gPzaCVkF67/QRXiKf8fpv/Dj1rNK2Oi/oGhThP4x6L+ovmGxsM/nv1DbuxXsrue/OALtHZjL57/4doA2nCHov6jgXqgmsOi/oDRCTsJ06b8Ywfu5y23qv7jJFlgql+u/4Oo1TJft7L+wBIcms2nuv+gAP85JA/C/LGEkn2ze8L9AOvOWwMHxv8TPNiItqfK/RGV6rZmQ878IOaYSs3L0vzDiueL3SvW/BJ+d9xQU9r8A/Aq9E8f2v6CFu579XPe/aLh/UCzL978AuBDPJwb4v7CZ+mTaEve/dEsp030U9r+8cJ7VFx31vygUoJEdL/S/aEB0LARN878YAGHLQHnyvzhjTyaDt/G/TM2cGRIL8b9w9Rqmy3bwvwCJlHVi/u+/GOP4sEFO77+IDu9IH+Luv8hu1BlCve6/gBVO4Wv37r8Qpl1boqLvvzTJRgvlWPC/3CARPqkK8b/YW4EMMt3xv+BUInTlx/K/YOHb3+7A8798iMQoHcD0v/QkZ0zWvPW/REN9tiOw9r+Yah1A1JH3v9zTjDBaW/i/VL2zYWIH+b84sNMz0mb4v+RdrJNItve/DJg+X8j+9r+Yt6FNI0H2v9TBePGTfvW/GLxm3VS49L9I/4LIN+/zvyA9/CDgJPO/+Hp1eYha8r8kvpFka5Hxv2i4f1Asy/C/iBtuq24J8L/QgOhYCJruv3AKmTryL+2/mN4zIRDX67/4B/8x15HqvxDqV0mOY+m/qDZt1dhN6L9IUZyy/VPnv7jrE0+gd+a/0F7rYZK55b8gDoDHGh3lv8CgushnoeS/YCHhiu5I5L/4j/MNrxPkv4js8VGpAeS/iNN+epYP5L/Q1vaFujfkvwABoJmKfOS/OPli/jTd5L8AI52QAF3lv3glN5kb++W/IGSO9My65r+o6ejHiZ7nv/AOXsojp+i/YJBij7PY6b/Yxg3OCjTrv+gVvWJwvOy/aNaHBLZy7r/0teVHES3wvzTrQwJbOfG/ZDfqDKFe8r8U7kyMepzzv9Bi4KR+8vS/RJABxHJf9r+0xIF7s+H3v8T6vTgGePm/YHvk+owf+79M75kQiOv7v4jO6Z0fWvu/nFGqaMGf+r80WsUGIMn5vxyB9g7M5fi/PAbiYIQE+L/o1be3cDT3v9DRYalDgva/NC8+8Eb69b/oZjazq6T1v4yTec+Wh/W/",
        "encoding": "base64",
        "path": [
         "_data",
         8,
         "y",
         "buffer"
        ]
       },
       {
        "data": "AAAAAAAAAAA5mE2AYfmTPzmYTYBh+aM/VmR0QBL2rT85mE2AYfmzP0j+YOC597g/VmR0QBL2vT8y5UNQNXrBPzmYTYBh+cM/QEtXsI14xj9I/mDguffIP0+xahDmdss/VmR0QBL2zT+vCz84nzrQPzLlQ1A1etE/tr5IaMu50j85mE2AYfnTP71xUpj3ONU/QEtXsI141j/EJFzII7jXP0j+YOC599g/y9dl+E832j9PsWoQ5nbbP9KKbyh8ttw/VmR0QBL23T/ZPXlYqDXfP68LPzifOuA/cHhBRGra4D8y5UNQNXrhP/RRRlwAGuI/tr5IaMu54j93K0t0llnjPzmYTYBh+eM/+wRQjCyZ5D+9cVKY9zjlP3/eVKTC2OU/Vz82yY945j8ZrDjVWhjnP9sYO+EluOc/nYU97fBX6D9e8j/5u/foPyBfQgWHl+k/4stEEVI36j+kOEcdHdfqP2WlSSnodus/BP9byY4N7D+6TE2CN6TsP1mmXyLeOu0/+P9xwoTR7T+tTWN7LWjuP0yndRvU/u4/AvVm1HyV7z9Qpzy6ERbwPytOtRZmYfA/+nq+Zrms8D/VITfDDfjwP6VOQBNhQ/E/dHtJY7SO8T9PIsK/CNrxPx5Pyw9cJfI/+fVDbLBw8j/JIk28A7zyP6PJxRhYB/M/c/bOaKtS8z9OnUfF/53zPx3KUBVT6fM/7PZZZaY09D/HndLB+n/0P5fK2xFOy/Q/cXFUbqIW9T9Bnl2+9WH1PxxF1hpKrfU/63Hfap349T/GGFjH8UP2P5VFYRdFj/Y/ZXJqZ5ja9j8/GePD7CX3Pw9G7BNAcfc/lWJH41C/9z8QBTOmYA34P5YhjnVxW/g/EcR5OIGp+D+Y4NQHkvf4PxKDwMqhRfk/jSWsjbGT+T8UQgddwuH5P4/k8h/SL/o/FQFO7+J9+j+Qozmy8sv6PxbAlIEDGvs/kWKARBNo+z8MBWwHI7b7P5Ihx9YzBPw/DcSymUNS/D+T4A1pVKD8Pw6D+Stk7vw/lZ9U+3Q8/T8PQkC+hIr9P4rkK4GU2P0/EQGHUKUm/j+Mo3ITtXT+PxLAzeLFwv4/jWK5pdUQ/z8TfxR15l7/P44hADj2rP8/FD5bBwf7/z9IcCNliyQAQIVBmUaTSwBAyM9GrptyAEAGobyPo5kAQEkvaverwABAhgDg2LPnAEDJjo1AvA4BQAdgAyLENQFARDF5A8xcAUCHvyZr1IMBQMWQnEzcqgFAMuTYeobQAUCaet0iMPYBQAfOGVHaGwJAb2Qe+YNBAkDct1onLmcCQEROX8/XjAJArORjd4GyAkAZOKClK9gCQIHOpE3V/QJA7iHhe38jA0BWuOUjKUkDQMQLIlLTbgNAK6Im+nyUA0CZ9WIoJ7oDQACMZ9DQ3wNAaCJseHoFBEDVdaimJCsEQD0MrU7OUARAq1/pfHh2BEAS9u0kIpwEQIBJKlPMwQRA598u+3XnBEBVM2spIA0FQLzJb9HJMgVAJGB0eXNYBUCSs7CnHX4FQPlJtU/HowVAZ53xfXHJBUDOM/YlG+8FQDyHMlTFFAZAox03/G46BkARcXMqGWAGQHkHeNLChQZA",
        "encoding": "base64",
        "path": [
         "_data",
         9,
         "x",
         "buffer"
        ]
       },
       {
        "data": "0PtIJpLU8D/ICzLeQdjwPyjoeOG54/A/BDgGeSj28D/Yp2WA9g/xP0gy9GTpL/E/XNexJgFW8T+4kfsyA4HxP/S0Ra6GsPE/KOh44bnj8T8AJvI5YhnyPyxpDiVFUPI/zFi265CH8j+E70b7Cr7yPwwoHcF48vI/fKkhhggk8z+AbrG3f1HzPzgetZ4MevM/ULOJqHSc8z/o1Bce5rfzP/yCX/9gzPM/PLi9uarY8z+kdDJNw9zzP9C3TjimE/Q/XHG6QZ+09D90KIxCfbf1P2j72aSND/c/bFHo0T+t+D98QyqhpoL6Pyw+hw5sgfw/4Ab+zAuc/j9mCt5+UmMAQDzySKpIewFAMvmnQpWQAkButvrYtp4DQE2XBmxgoQRAZN9WaHmUBUCBqDyoHXQGQFRlIL06PQdAHdzeXFXsB0Cmrr09YX8IQEjSdjrp8whAQZXb5ElICUB0yA4YfXsJQAAT+RyxjAlAEGsy0XmDCUCzH2rJPGgJQB8HZnMuOwlAViEmz078CEBynYcBpKwIQOQnFuaWTAhAjhnpM/ncB0BSyxeinF4HQINCRcO70gZAPa5OvFw6BkDSE9cfupYFQJV4gYAO6QRAEri23sgyBEANhKWojHUDQKELKwNgsgJAytY7yhrrAUBMlwZsYCEBQHxSLntrVgBAPHTDy74X/z/o/540v4b9P4irTA0f/fs/pNopMiV++j/A8JN/GA35P2xR6NE/rfc/DLmbvLNi9j8siwscuzD1PzSErINuG/Q/BA1/Yk8n8z+QNWxwDVjyP0i66EDBsfE/rP5RsLE38T/AEpF2ju3wP9D7SCaS1PA/6JAdMPr28D/88eADJlzxP0xde3vC/vE/BFoDcJ7W8j/EGxuW8dvzP3TbBzUuCPU/CNIOlMZU9j+kli9EOb33P2zAadYEPfk/uER3JbTR+j+wulfCxXb8PxzEUGMtKv4/BFF5UDvo/z9gq0UyPdcAQKriznOdvAFA2XJvbM+iAkAkqvitL4gDQAKtAThPawRArslbnIpKBUDV+mNIpyQGQF0RPRef+AZA8QdEdjfFB0CwhWGunokIQGK0z1GgRQlAlecChdP4CUARSTXaA6MKQNbYZlExRAtArMDRfCfcC0BZKrDusWoMQG1pdstn7wxAPvvSyatpDUCUCQB8SdkNQOO4lOHRPA5AulwFH9yTDkCOGekz+dwOQHuWKGlXFw9AaKTmmfBBD0A7FEahvlsPQIE5u6NYZA9Ayme6xVVbD0BsHPK9GEAPQBHas9U+Ew9A8XbFevzUDkAoIgTSV4YOQF5ewSTuJw5APa5OvFy6DUBvlP3hQD4NQJ2TH983tAxAOVhAj6ocDEDsZLE7NngLQO6POFIPxwpAsIVhrp4JCkCk8rcrTUAJQHRZjRO4awhAxzwzr3yMB0CC9cC1bKMGQL6yE0yOsQVACFCUclC4BEDqqKspIrkDQNPx2ShEtgJAvrITTI6xAUAcINlKQa0AQADi90t2WP8/7BGzc4Vj/T8Ml57FPYL7PxRDux+ivfk/vOcJYLUe+D/UDV1lWLH2P5zqEurUgfU/ULOJqHSc9D8wnR9bgQ30P6R0Mk3D3PM/",
        "encoding": "base64",
        "path": [
         "_data",
         9,
         "y",
         "buffer"
        ]
       },
       {
        "data": "AAAAAAAAAAA5mE2AYfmTPzmYTYBh+aM/VmR0QBL2rT85mE2AYfmzP0j+YOC597g/VmR0QBL2vT8y5UNQNXrBPzmYTYBh+cM/QEtXsI14xj9I/mDguffIP0+xahDmdss/VmR0QBL2zT+vCz84nzrQPzLlQ1A1etE/tr5IaMu50j85mE2AYfnTP71xUpj3ONU/QEtXsI141j/EJFzII7jXP0j+YOC599g/y9dl+E832j9PsWoQ5nbbP9KKbyh8ttw/VmR0QBL23T/ZPXlYqDXfP68LPzifOuA/cHhBRGra4D8y5UNQNXrhP/RRRlwAGuI/tr5IaMu54j93K0t0llnjPzmYTYBh+eM/+wRQjCyZ5D+9cVKY9zjlP3/eVKTC2OU/Vz82yY945j8ZrDjVWhjnP9sYO+EluOc/nYU97fBX6D9e8j/5u/foPyBfQgWHl+k/4stEEVI36j+kOEcdHdfqP2WlSSnodus/BP9byY4N7D+6TE2CN6TsP1mmXyLeOu0/+P9xwoTR7T+tTWN7LWjuP0yndRvU/u4/AvVm1HyV7z9Qpzy6ERbwPytOtRZmYfA/+nq+Zrms8D/VITfDDfjwP6VOQBNhQ/E/dHtJY7SO8T9PIsK/CNrxPx5Pyw9cJfI/+fVDbLBw8j/JIk28A7zyP6PJxRhYB/M/c/bOaKtS8z9OnUfF/53zPx3KUBVT6fM/7PZZZaY09D/HndLB+n/0P5fK2xFOy/Q/cXFUbqIW9T9Bnl2+9WH1PxxF1hpKrfU/63Hfap349T/GGFjH8UP2P5VFYRdFj/Y/ZXJqZ5ja9j8/GePD7CX3Pw9G7BNAcfc/lWJH41C/9z8QBTOmYA34P5YhjnVxW/g/EcR5OIGp+D+Y4NQHkvf4PxKDwMqhRfk/jSWsjbGT+T8UQgddwuH5P4/k8h/SL/o/FQFO7+J9+j+Qozmy8sv6PxbAlIEDGvs/kWKARBNo+z8MBWwHI7b7P5Ihx9YzBPw/DcSymUNS/D+T4A1pVKD8Pw6D+Stk7vw/lZ9U+3Q8/T8PQkC+hIr9P4rkK4GU2P0/EQGHUKUm/j+Mo3ITtXT+PxLAzeLFwv4/jWK5pdUQ/z8TfxR15l7/P44hADj2rP8/FD5bBwf7/z9IcCNliyQAQIVBmUaTSwBAyM9GrptyAEAGobyPo5kAQEkvaverwABAhgDg2LPnAEDJjo1AvA4BQAdgAyLENQFARDF5A8xcAUCHvyZr1IMBQMWQnEzcqgFAMuTYeobQAUCaet0iMPYBQAfOGVHaGwJAb2Qe+YNBAkDct1onLmcCQEROX8/XjAJArORjd4GyAkAZOKClK9gCQIHOpE3V/QJA7iHhe38jA0BWuOUjKUkDQMQLIlLTbgNAK6Im+nyUA0CZ9WIoJ7oDQACMZ9DQ3wNAaCJseHoFBEDVdaimJCsEQD0MrU7OUARAq1/pfHh2BEAS9u0kIpwEQIBJKlPMwQRA598u+3XnBEBVM2spIA0FQLzJb9HJMgVAJGB0eXNYBUCSs7CnHX4FQPlJtU/HowVAZ53xfXHJBUDOM/YlG+8FQDyHMlTFFAZAox03/G46BkARcXMqGWAGQHkHeNLChQZA",
        "encoding": "base64",
        "path": [
         "_data",
         10,
         "x",
         "buffer"
        ]
       },
       {
        "data": "0PtIJpLU8D8kvfHK4BTxP9jrX27i0PE/iKtMDR/98j/MWLbrkIf0P1D3g5ZgXfY/iDzLCFpt+D/o3aE9Sab6P3D0egxB+vw/GJnJTFRb/z80JC9Zbt8AQHG/hPgZDQJA94jZucIxA0Aj7vKbG0kEQMMIInlATwVAbBzyvRhABkCWxQWOXRgHQPF2xXr81AdAZnlfgxdzCEDAbhleovAIQMn4OMGQSwlALhIbGqiCCUAOYqixFpUJQGTfVmh5lAlAoC0o+tWSCUCjpTMe/pAJQGrPbbDJkAlAZ1dijKGSCUCF/krVz5EJQKOlMx7+kAlAwUwcZyyQCUDf8wSwWo8JQDVxs2a9jglAjO5hHSCOCUAbQtZBt40JQKqVSmZOjQlAcb+E+BmNCUA56b6K5YwJQAAT+RyxjAlAABP5HLGMCUAAE/kcsYwJQAAT+RyxjAlAABP5HLGMCUAAE/kcsYwJQAAT+RyxjAlAYPjJP4yGCUCBqDyoHXQJQGIjUVZlVQlAzJJB3C4qCUC99g06evIIQP548AETrghAxu+uoS1dCEDehIOrlf8HQEY4bh9LlQdAbrb62LYeB0BX/yjY2JsGQHG/hPgZDQZAZnlfgxdzBUCo2URUOs4EQN9ihrQfHwRAJ0QByc1mA0ApAAfb4aUCQDecOn2W3QFA3vMEsFoPAUByDAkGaTwAQNzbdrYyzf4/EO2s8u8f/T98XJ14uXT7P0iY60lL0fk/qA47aGE7+D/ILS/Vt7j2P4Busbd/UfU/UEQIpK8M9D/wgDR4SvPyP1BECKSvDPI/KGCEBeJh8T88lsDCNPjwP9D7SCaS1PA/RG1kM3IC8T8cXll+y4jxP8CjD3LJXfI/fFydeLl08z9oSF6y3L70P9iFaImAL/Y/cDh1+iy79z9U55resFn5PyjGe+pDA/s/7MQuZja0/D8cgFZ1QWn+PxjKyh2PDwBAWCqw7rHqAEDwB0R2N8UBQDbgNGuCngJA79y8X152A0Bze4oKLkwEQFAPEpCIHwVApT88OZzvBUABYH0qALwGQElB+D6ugwdACzchmz1GCEAuEhsaqAIJQM95zgQcuAlADBUkpMdlCkA8YcquDQsLQLTbb9tQpwtAW1U3BYs5DECGS8/iHsEMQMURrJijPQ1Ap/tBS7CuDUBJsHlDcxMOQDuDx6WDaw5AfHQrcuG2DkBjAVRf7/QOQLdTe/94JQ9AeWuhUn5ID0D/xXQPYl0PQIE5u6NYZA9AN5w6fZZdD0CUmn53hEkPQAfhEm6LKA9A5XSa8+X7DkAPryy/ZcQOQElB+D6ugw5AHwdmcy47DkAd3N5cVewNQJbFBY5dmA1AhkvP4h5BDUAJnRiAn+cMQBtC1kG3jQxAnZMf3zc0DEBVQyPGxNwLQF2AvhtkiAtACFCUclA4C0Bw4YHvj+0KQEC32Nu/qApAWSqw7rFqCkCdkx/fNzQKQEbJ7BqGBQpAUssXopzeCUD7b2bir78JQJY0h5IiqAlAJRl6svSXCUBTGJyv640JQAcDEGUBiQlAXYC+G2SICUCS3nhlcIoJQFMYnK/rjQlATSiFZ5uRCUArCZH6RJQJQA5iqLEWlQlA",
        "encoding": "base64",
        "path": [
         "_data",
         10,
         "y",
         "buffer"
        ]
       },
       {
        "data": "AAAAAAAAAAA5mE2AYfmTPzmYTYBh+aM/VmR0QBL2rT85mE2AYfmzP0j+YOC597g/VmR0QBL2vT8y5UNQNXrBPzmYTYBh+cM/QEtXsI14xj9I/mDguffIP0+xahDmdss/VmR0QBL2zT+vCz84nzrQPzLlQ1A1etE/tr5IaMu50j85mE2AYfnTP71xUpj3ONU/QEtXsI141j/EJFzII7jXP0j+YOC599g/y9dl+E832j9PsWoQ5nbbP9KKbyh8ttw/VmR0QBL23T/ZPXlYqDXfP68LPzifOuA/cHhBRGra4D8y5UNQNXrhP/RRRlwAGuI/tr5IaMu54j93K0t0llnjPzmYTYBh+eM/+wRQjCyZ5D+9cVKY9zjlP3/eVKTC2OU/Vz82yY945j8ZrDjVWhjnP9sYO+EluOc/nYU97fBX6D9e8j/5u/foPyBfQgWHl+k/4stEEVI36j+kOEcdHdfqP2WlSSnodus/BP9byY4N7D+6TE2CN6TsP1mmXyLeOu0/+P9xwoTR7T+tTWN7LWjuP0yndRvU/u4/AvVm1HyV7z9Qpzy6ERbwPytOtRZmYfA/+nq+Zrms8D/VITfDDfjwP6VOQBNhQ/E/dHtJY7SO8T9PIsK/CNrxPx5Pyw9cJfI/+fVDbLBw8j/JIk28A7zyP6PJxRhYB/M/c/bOaKtS8z9OnUfF/53zPx3KUBVT6fM/7PZZZaY09D/HndLB+n/0P5fK2xFOy/Q/cXFUbqIW9T9Bnl2+9WH1PxxF1hpKrfU/63Hfap349T/GGFjH8UP2P5VFYRdFj/Y/ZXJqZ5ja9j8/GePD7CX3Pw9G7BNAcfc/lWJH41C/9z8QBTOmYA34P5YhjnVxW/g/EcR5OIGp+D+Y4NQHkvf4PxKDwMqhRfk/jSWsjbGT+T8UQgddwuH5P4/k8h/SL/o/FQFO7+J9+j+Qozmy8sv6PxbAlIEDGvs/kWKARBNo+z8MBWwHI7b7P5Ihx9YzBPw/DcSymUNS/D+T4A1pVKD8Pw6D+Stk7vw/lZ9U+3Q8/T8PQkC+hIr9P4rkK4GU2P0/EQGHUKUm/j+Mo3ITtXT+PxLAzeLFwv4/jWK5pdUQ/z8TfxR15l7/P44hADj2rP8/FD5bBwf7/z9IcCNliyQAQIVBmUaTSwBAyM9GrptyAEAGobyPo5kAQEkvaverwABAhgDg2LPnAEDJjo1AvA4BQAdgAyLENQFARDF5A8xcAUCHvyZr1IMBQMWQnEzcqgFAMuTYeobQAUCaet0iMPYBQAfOGVHaGwJAb2Qe+YNBAkDct1onLmcCQEROX8/XjAJArORjd4GyAkAZOKClK9gCQIHOpE3V/QJA7iHhe38jA0BWuOUjKUkDQMQLIlLTbgNAK6Im+nyUA0CZ9WIoJ7oDQACMZ9DQ3wNAaCJseHoFBEDVdaimJCsEQD0MrU7OUARAq1/pfHh2BEAS9u0kIpwEQIBJKlPMwQRA598u+3XnBEBVM2spIA0FQLzJb9HJMgVAJGB0eXNYBUCSs7CnHX4FQPlJtU/HowVAZ53xfXHJBUDOM/YlG+8FQDyHMlTFFAZAox03/G46BkARcXMqGWAGQHkHeNLChQZA",
        "encoding": "base64",
        "path": [
         "_data",
         11,
         "x",
         "buffer"
        ]
       },
       {
        "data": "0PtIJpLU8D8kvfHK4BTxP9jrX27i0PE/iKtMDR/98j/MWLbrkIf0P1D3g5ZgXfY/iDzLCFpt+D/o3aE9Sab6P3D0egxB+vw/GJnJTFRb/z80JC9Zbt8AQHG/hPgZDQJA94jZucIxA0Aj7vKbG0kEQMMIInlATwVAbBzyvRhABkCWxQWOXRgHQPF2xXr81AdAZnlfgxdzCEDAbhleovAIQMn4OMGQSwlALhIbGqiCCUAOYqixFpUJQA5iqLEWlQlAnLUc1q2UCUDzMsuMEJQJQEmweUNzkwlA8zLLjBCUCUA5WECPqpwJQKpzTW/YrAlARA3nCHLGCUCRAHZc5uoJQAT6hUWeGgpA08/cMc5VCkDmUp38b5sKQHfRmDfg6QpANr43dAw+C0DVi+JD4pQLQCBU6oB96gtA5zCgBfo6DEAuEhsaqIIMQDa+N3QMvgxAIFTqgH3qDEC3dXj27gUNQKYdP0ImDw1Amc6PrcAGDUDhjQ3L+O0MQEeF8iyaxAxAy7Q+06SKDECk8rcrTUAMQAwVJKTH5QtArJ7UhbF7C0C9ZY8+PwILQCHDa4VCegpAuQ+BEY3kCUDZUHJ1WUIJQJy1HNatlAhA5JaX6lvcB0AE+oVFnhoHQE7kinmvUAZA3oSDq5V/BUCWNIeSIqgEQFhMreUnywNABiUNXHfpAkCBF76s4gMCQDzQS7PSGgFA4NEHueQuAEB8QyqhpoL+P3gxFmLgpfw/GCpISI/L+j+sQkyenfj4PySb9NNqNPc/kArlWTSJ9T8IH5OhFQT0PyAj6a9CtvI/mL+L0/uy8T8wnR9bgQ3xP9D7SCaS1PA/RG1kM3IC8T8cXll+y4jxP8CjD3LJXfI/fFydeLl08z9oSF6y3L70P9iFaImAL/Y/cDh1+iy79z9U55resFn5PyjGe+pDA/s/7MQuZja0/D8cgFZ1QWn+PxjKyh2PDwBAWCqw7rHqAEDwB0R2N8UBQDbgNGuCngJA79y8X152A0Bze4oKLkwEQFAPEpCIHwVApT88OZzvBUABYH0qALwGQElB+D6ugwdACzchmz1GCEAuEhsaqAIJQM95zgQcuAlADBUkpMdlCkA8YcquDQsLQLTbb9tQpwtAW1U3BYs5DECGS8/iHsEMQMURrJijPQ1Ap/tBS7CuDUBJsHlDcxMOQDuDx6WDaw5AfHQrcuG2DkBjAVRf7/QOQLdTe/94JQ9AeWuhUn5ID0D/xXQPYl0PQIE5u6NYZA9A+01p6zlfD0D73ufmdE8PQClviN+mNQ9Ahf5K1c8RD0CBObujWOQOQMWiKpTerQ5Aw+YkgspuDkAH4RJuiygOQDsURqG+2w1AsIVhrp6JDUAs55MDzzMNQDsURqG+2wxALhIbGqiCDEA9P823lyoMQLmg/wzI1AtA9jtVrHOCC0C4wvwDPjULQBpk0zgt7gpAjMxkJqqtCkArK47xunQKQLypiSwrQwpAeB4dRS8ZCkDv3LxfXvYJQOcOow6E2glAgFu4ms7ECUDWaeVMbLQJQEC32Nu/qAlAaz7vtI6gCUCtfNeOO5sJQF3vPyApmAlAYWdLRFGWCUBGOG4fS5UJQA5iqLEWlQlA",
        "encoding": "base64",
        "path": [
         "_data",
         11,
         "y",
         "buffer"
        ]
       },
       {
        "data": "AAAAAAAAAAA5mE2AYfmTPzmYTYBh+aM/VmR0QBL2rT85mE2AYfmzP0j+YOC597g/VmR0QBL2vT8y5UNQNXrBPzmYTYBh+cM/QEtXsI14xj9I/mDguffIP0+xahDmdss/VmR0QBL2zT+vCz84nzrQPzLlQ1A1etE/tr5IaMu50j85mE2AYfnTP71xUpj3ONU/QEtXsI141j/EJFzII7jXP0j+YOC599g/y9dl+E832j9PsWoQ5nbbP9KKbyh8ttw/VmR0QBL23T/ZPXlYqDXfP68LPzifOuA/cHhBRGra4D8y5UNQNXrhP/RRRlwAGuI/tr5IaMu54j93K0t0llnjPzmYTYBh+eM/+wRQjCyZ5D+9cVKY9zjlP3/eVKTC2OU/Vz82yY945j8ZrDjVWhjnP9sYO+EluOc/nYU97fBX6D9e8j/5u/foPyBfQgWHl+k/4stEEVI36j+kOEcdHdfqP2WlSSnodus/BP9byY4N7D+6TE2CN6TsP1mmXyLeOu0/+P9xwoTR7T+tTWN7LWjuP0yndRvU/u4/AvVm1HyV7z9Qpzy6ERbwPytOtRZmYfA/+nq+Zrms8D/VITfDDfjwP6VOQBNhQ/E/dHtJY7SO8T9PIsK/CNrxPx5Pyw9cJfI/+fVDbLBw8j/JIk28A7zyP6PJxRhYB/M/c/bOaKtS8z9OnUfF/53zPx3KUBVT6fM/7PZZZaY09D/HndLB+n/0P5fK2xFOy/Q/cXFUbqIW9T9Bnl2+9WH1PxxF1hpKrfU/63Hfap349T/GGFjH8UP2P5VFYRdFj/Y/ZXJqZ5ja9j8/GePD7CX3Pw9G7BNAcfc/lWJH41C/9z8QBTOmYA34P5YhjnVxW/g/EcR5OIGp+D+Y4NQHkvf4PxKDwMqhRfk/jSWsjbGT+T8UQgddwuH5P4/k8h/SL/o/FQFO7+J9+j+Qozmy8sv6PxbAlIEDGvs/kWKARBNo+z8MBWwHI7b7P5Ihx9YzBPw/DcSymUNS/D+T4A1pVKD8Pw6D+Stk7vw/lZ9U+3Q8/T8PQkC+hIr9P4rkK4GU2P0/EQGHUKUm/j+Mo3ITtXT+PxLAzeLFwv4/jWK5pdUQ/z8TfxR15l7/P44hADj2rP8/FD5bBwf7/z9IcCNliyQAQIVBmUaTSwBAyM9GrptyAEAGobyPo5kAQEkvaverwABAhgDg2LPnAEDJjo1AvA4BQAdgAyLENQFARDF5A8xcAUCHvyZr1IMBQMWQnEzcqgFAMuTYeobQAUCaet0iMPYBQAfOGVHaGwJAb2Qe+YNBAkDct1onLmcCQEROX8/XjAJArORjd4GyAkAZOKClK9gCQIHOpE3V/QJA7iHhe38jA0BWuOUjKUkDQMQLIlLTbgNAK6Im+nyUA0CZ9WIoJ7oDQACMZ9DQ3wNAaCJseHoFBEDVdaimJCsEQD0MrU7OUARAq1/pfHh2BEAS9u0kIpwEQIBJKlPMwQRA598u+3XnBEBVM2spIA0FQLzJb9HJMgVAJGB0eXNYBUCSs7CnHX4FQPlJtU/HowVAZ53xfXHJBUDOM/YlG+8FQDyHMlTFFAZAox03/G46BkARcXMqGWAGQHkHeNLChQZA",
        "encoding": "base64",
        "path": [
         "_data",
         12,
         "x",
         "buffer"
        ]
       },
       {
        "data": "RjhuH0uVDkB7lihpV5cOQOPakdhHnQ5AmqyStkqmDkAVMMIC8bAOQKviznOdvA5AQZXb5EnIDkD17tCeJNMOQP/FdA9i3Q5Atpd17WTmDkCLEF8Ulu4OQH4wMYT19Q5AViEmz078DkCFj8nQCgIPQAp7G4kpBw9ArQ1WinYLD0Df8wSwWg8PQGdXYoyhEg9ARjhuH0sVD0C0bO7WixcPQD9IV9f6GA9AWnc0/AAaD0CTTfppNRoPQCb3fLt+Nw9AABP5HLGMD0DS0hkPfwgQQFjp8t12XBBAeG7eLy+7EEAAsD4VAB4RQHF+x+fefhFAJUc+pn7ZEUAGU9FPASsSQPlyo79gchJAjfooGjSvEkCkQnkWTeISQCCkq2t9DBNAVCRjrP8uE0B43V809EoTQG0oubosYRNAMUlpLZVyE0CMraQM5X8TQCXYvKG5iRNAUopakWGQE0CEcAm3RZQTQPNgj4CalRNAvEbPJHqUE0D7DKza/pATQMyeCNlCixNA+CUfshGDE0BgtwwvUXgTQM58C+LMahNAQHYby4RaE0B+zXZ8REcTQIqCHfYLMRNAKL9JyqYXE0Bbg/v4FPsSQAbkT0s82xJAKOFGwRy4EkDeZcOR0JESQAuH4oU9aBJABQZNQrI7EkDL4gLHLgwSQM/Jj+8b2hFAELvzu3mlEUBUJGOs/24RQNTboy7iNhFAVk/qwtj9EEBnFqV7ZsQQQAV1zkZ3ixBAEsR929xTEECqMpBenR4QQJQJAHxJ2Q9Ai3/gGFt+D0AYqM0mGS8PQOGNDcv47Q5AjTvmKm+9DkAYOUwiVJ8OQEY4bh9LlQ5AsWNktyipDkCBObujWOQOQJqKlb/URQ9AkSJzU1zLD0Be+wYdPTkQQCATLXBCnBBArTsafgANEUBdroIP7okRQKWP/SOcERJApEJ5Fk2iEkDq1m8drDoTQOxweDhK2RNAdPbSCwd9FED1ixaXcyQVQHHtSOyjzhVAsgCqr3d6FkBjwJZOtCYXQKPT9xGI0hdAHzUqZ7h8GECE34q7CiQZQH7NdnxExxlALmLcBKhkGkB75ulTV/kaQG4GvMO2gBtAwljjY0DxG0Be+wYdPTkcQOdeZPmDPBxAAv3CIk8NHECgW+ztX9QbQIUsD8lZkxtAIKSra31MG0BqjrCfjgIbQCwVWPdYtRpAV5xu0CdtGkCroRFjYi4aQJRZwWZJ+xlAD0xyt7TVGUAcvR5DkL4ZQLjwwPfHthlA515k+YO8GUA604iQg80ZQHp3aE+S6RlAUopakWEQGkCm3IEx60AaQJUVx3hdehpAI601i+C6GkCMraQM5f8aQEsrwkRMRBtAOmQHjL59G0CA+P2SHZYbQI62LixIbhtAMPzkH0YDG0A4OYB15W4aQKDsaumaxBlAyGr3ogYOGUD9yLHsElAYQHOpTv63jRdA0BYU/WrJFkAthNn7HQUWQGqOsJ+OQhVAadKqjXqDFEBdroIP7skTQESqLAHBFxNAVCRjrP9uEkDeZcOR0NERQIZ5k9aoQhFA2n42aePDEEBhlQ8421cQQKbcgTHrABBA9jtVrHOCD0DWaeVMbDQPQJNN+mk1Gg9A",
        "encoding": "base64",
        "path": [
         "_data",
         12,
         "y",
         "buffer"
        ]
       },
       {
        "data": "AAAAAAAAAAA5mE2AYfmTPzmYTYBh+aM/VmR0QBL2rT85mE2AYfmzP0j+YOC597g/VmR0QBL2vT8y5UNQNXrBPzmYTYBh+cM/QEtXsI14xj9I/mDguffIP0+xahDmdss/VmR0QBL2zT+vCz84nzrQPzLlQ1A1etE/tr5IaMu50j85mE2AYfnTP71xUpj3ONU/QEtXsI141j/EJFzII7jXP0j+YOC599g/y9dl+E832j9PsWoQ5nbbP9KKbyh8ttw/VmR0QBL23T/ZPXlYqDXfP68LPzifOuA/cHhBRGra4D8y5UNQNXrhP/RRRlwAGuI/tr5IaMu54j93K0t0llnjPzmYTYBh+eM/+wRQjCyZ5D+9cVKY9zjlP3/eVKTC2OU/Vz82yY945j8ZrDjVWhjnP9sYO+EluOc/nYU97fBX6D9e8j/5u/foPyBfQgWHl+k/4stEEVI36j+kOEcdHdfqP2WlSSnodus/BP9byY4N7D+6TE2CN6TsP1mmXyLeOu0/+P9xwoTR7T+tTWN7LWjuP0yndRvU/u4/AvVm1HyV7z9Qpzy6ERbwPytOtRZmYfA/+nq+Zrms8D/VITfDDfjwP6VOQBNhQ/E/dHtJY7SO8T9PIsK/CNrxPx5Pyw9cJfI/+fVDbLBw8j/JIk28A7zyP6PJxRhYB/M/c/bOaKtS8z9OnUfF/53zPx3KUBVT6fM/7PZZZaY09D/HndLB+n/0P5fK2xFOy/Q/cXFUbqIW9T9Bnl2+9WH1PxxF1hpKrfU/63Hfap349T/GGFjH8UP2P5VFYRdFj/Y/ZXJqZ5ja9j8/GePD7CX3Pw9G7BNAcfc/lWJH41C/9z8QBTOmYA34P5YhjnVxW/g/EcR5OIGp+D+Y4NQHkvf4PxKDwMqhRfk/jSWsjbGT+T8UQgddwuH5P4/k8h/SL/o/FQFO7+J9+j+Qozmy8sv6PxbAlIEDGvs/kWKARBNo+z8MBWwHI7b7P5Ihx9YzBPw/DcSymUNS/D+T4A1pVKD8Pw6D+Stk7vw/lZ9U+3Q8/T8PQkC+hIr9P4rkK4GU2P0/EQGHUKUm/j+Mo3ITtXT+PxLAzeLFwv4/jWK5pdUQ/z8TfxR15l7/P44hADj2rP8/FD5bBwf7/z9IcCNliyQAQIVBmUaTSwBAyM9GrptyAEAGobyPo5kAQEkvaverwABAhgDg2LPnAEDJjo1AvA4BQAdgAyLENQFARDF5A8xcAUCHvyZr1IMBQMWQnEzcqgFAMuTYeobQAUCaet0iMPYBQAfOGVHaGwJAb2Qe+YNBAkDct1onLmcCQEROX8/XjAJArORjd4GyAkAZOKClK9gCQIHOpE3V/QJA7iHhe38jA0BWuOUjKUkDQMQLIlLTbgNAK6Im+nyUA0CZ9WIoJ7oDQACMZ9DQ3wNAaCJseHoFBEDVdaimJCsEQD0MrU7OUARAq1/pfHh2BEAS9u0kIpwEQIBJKlPMwQRA598u+3XnBEBVM2spIA0FQLzJb9HJMgVAJGB0eXNYBUCSs7CnHX4FQPlJtU/HowVAZ53xfXHJBUDOM/YlG+8FQDyHMlTFFAZAox03/G46BkARcXMqGWAGQHkHeNLChQZA",
        "encoding": "base64",
        "path": [
         "_data",
         13,
         "x",
         "buffer"
        ]
       },
       {
        "data": "RjhuH0uVDkCr4s5znbwOQIlUWQKCLw9A1D5eNpPlD0AJy9xzKWkQQBLmetJS9BBAc6lO/reNEUA2fXpj0S8SQJ3j4Mk31hJAAo5BHop9E0CGm5DNHiMUQPStE47pxBRAGGcQFt5gFUAsFVj3WPUVQBlFEx9ogBZA4G5NsTMAF0Dby7p2MnMXQPDog1xy1xdAzMAF0LgrGEDjd9fQlm4YQDjK/nAgnxhA515k+YO8GECAiXyOWMYYQABBvRA7zhhA1igoPDHmGEBVAma1iQ4ZQH0RcWowSBlA9tiapMKTGUDeQ8aaWvEZQKe6hDp1YBpAjIunFW/fGkCw1SKZnmsbQBeJDQ1UARxADm5vrip2HEBvwsHVyr8cQEQ7q/z7Bx1ArTsafgBNHUAe6KVZaY0dQPB5Alitxx1AhHAJt0WUHUAYZxAW3mAdQAv2Y4oCOB1AQHYby4QaHUAKqd98swgdQKNkdg3DAh1ARDur/PsHHUAqe0/cuhYdQJPqP2KEKx1AqVSNVRM/HUC8100gtUQdQP6mtPWcLx1AN+z7Z5b/HEBax/XmALwcQOpn7hjnahxAG3CaNUEPHEBbFHr0T6sbQPxZMOhNQBtA/4S3/ibPGkAnA0S4klgaQFct7cti3RlAwljjY0AxGUC+cVY7U2MYQNrtt22okxdAoahw+67DFkD0PpKJJPUVQJZiS4asKRVAarCtlgRjFEBNxcpf6qITQD4pl7016xJAOmQHjL49EkCRv7hLq5wRQHqZZUYIChFAtec22GSIEECy3qy4ARoQQL1ljz4/gg9AF1tJGcr/DkAz16pLH7AOQEY4bh9LlQ5AsWNktyipDkCBObujWOQOQJqKlb/URQ9AkSJzU1zLD0Be+wYdPTkQQCATLXBCnBBArTsafgANEUBdroIP7okRQKWP/SOcERJApEJ5Fk2iEkDq1m8drDoTQOxweDhK2RNAdPbSCwd9FED1ixaXcyQVQHHtSOyjzhVAsgCqr3d6FkBjwJZOtCYXQKPT9xGI0hdAHzUqZ7h8GECE34q7CiQZQH7NdnxExxlALmLcBKhkGkB75ulTV/kaQG4GvMO2gBtAwljjY0DxG0Be+wYdPTkcQM5aDutWShxArhkdh4osHECIxhfk9/EbQJraVqrUpxtADpBspaBWG0BnFqV7ZgQbQCwVWPdYtRpAV5xu0CdtGkCroRFjYi4aQJRZwWZJ+xlAD0xyt7TVGUAcvR5DkL4ZQLjwwPfHthlAdPbSCwe9GUCoBwlIxM8ZQMeM9Jl87hlAfMTsXOEYGkCrfxRs7E0aQK07Gn4AjRpASt49N/3UGkBKTb87wiQbQCOtNYvgehtALDdV7s7VG0Dby7p2MjMcQMTy637ejxxA1igoPDHmHECYHlGYwCgdQAUGTUKyOx1A+eEkxCVCHUCEcAm3RRQdQHOpTv63zRxAI601i+B6HEBQPdaDEiEcQIW9jcSUwxtAEXf5zY1kG0AP3fCy7wUbQEKhouFdqRpAimAg/5VQGkCQ4bVCIf0ZQBjWkRqjsBlA5u/i9L5sGUBqHy+byTIZQEsrwkRMBBlAa2yzqBjiGEAC/cIiT80YQICJfI5YxhhA",
        "encoding": "base64",
        "path": [
         "_data",
         13,
         "y",
         "buffer"
        ]
       },
       {
        "data": "AAAAAAAAAAA5mE2AYfmTPzmYTYBh+aM/VmR0QBL2rT85mE2AYfmzP0j+YOC597g/VmR0QBL2vT8y5UNQNXrBPzmYTYBh+cM/QEtXsI14xj9I/mDguffIP0+xahDmdss/VmR0QBL2zT+vCz84nzrQPzLlQ1A1etE/tr5IaMu50j85mE2AYfnTP71xUpj3ONU/QEtXsI141j/EJFzII7jXP0j+YOC599g/y9dl+E832j9PsWoQ5nbbP9KKbyh8ttw/VmR0QBL23T/ZPXlYqDXfP68LPzifOuA/cHhBRGra4D8y5UNQNXrhP/RRRlwAGuI/tr5IaMu54j93K0t0llnjPzmYTYBh+eM/+wRQjCyZ5D+9cVKY9zjlP3/eVKTC2OU/Vz82yY945j8ZrDjVWhjnP9sYO+EluOc/nYU97fBX6D9e8j/5u/foPyBfQgWHl+k/4stEEVI36j+kOEcdHdfqP2WlSSnodus/BP9byY4N7D+6TE2CN6TsP1mmXyLeOu0/+P9xwoTR7T+tTWN7LWjuP0yndRvU/u4/AvVm1HyV7z9Qpzy6ERbwPytOtRZmYfA/+nq+Zrms8D/VITfDDfjwP6VOQBNhQ/E/dHtJY7SO8T9PIsK/CNrxPx5Pyw9cJfI/+fVDbLBw8j/JIk28A7zyP6PJxRhYB/M/c/bOaKtS8z9OnUfF/53zPx3KUBVT6fM/7PZZZaY09D/HndLB+n/0P5fK2xFOy/Q/cXFUbqIW9T9Bnl2+9WH1PxxF1hpKrfU/63Hfap349T/GGFjH8UP2P5VFYRdFj/Y/ZXJqZ5ja9j8/GePD7CX3Pw9G7BNAcfc/lWJH41C/9z8QBTOmYA34P5YhjnVxW/g/EcR5OIGp+D+Y4NQHkvf4PxKDwMqhRfk/jSWsjbGT+T8UQgddwuH5P4/k8h/SL/o/FQFO7+J9+j+Qozmy8sv6PxbAlIEDGvs/kWKARBNo+z8MBWwHI7b7P5Ihx9YzBPw/DcSymUNS/D+T4A1pVKD8Pw6D+Stk7vw/lZ9U+3Q8/T8PQkC+hIr9P4rkK4GU2P0/EQGHUKUm/j+Mo3ITtXT+PxLAzeLFwv4/jWK5pdUQ/z8TfxR15l7/P44hADj2rP8/FD5bBwf7/z9IcCNliyQAQIVBmUaTSwBAyM9GrptyAEAGobyPo5kAQEkvaverwABAhgDg2LPnAEDJjo1AvA4BQAdgAyLENQFARDF5A8xcAUCHvyZr1IMBQMWQnEzcqgFAMuTYeobQAUCaet0iMPYBQAfOGVHaGwJAb2Qe+YNBAkDct1onLmcCQEROX8/XjAJArORjd4GyAkAZOKClK9gCQIHOpE3V/QJA7iHhe38jA0BWuOUjKUkDQMQLIlLTbgNAK6Im+nyUA0CZ9WIoJ7oDQACMZ9DQ3wNAaCJseHoFBEDVdaimJCsEQD0MrU7OUARAq1/pfHh2BEAS9u0kIpwEQIBJKlPMwQRA598u+3XnBEBVM2spIA0FQLzJb9HJMgVAJGB0eXNYBUCSs7CnHX4FQPlJtU/HowVAZ53xfXHJBUDOM/YlG+8FQDyHMlTFFAZAox03/G46BkARcXMqGWAGQHkHeNLChQZA",
        "encoding": "base64",
        "path": [
         "_data",
         14,
         "x",
         "buffer"
        ]
       },
       {
        "data": "IBMtcEKcEkDyEwtzS6YSQGcWpXtmxBJADm5vrir2EkDq1m8drDoTQIpgIP+VkBNAR0Q1HF/2E0CzTS69xmkUQAuH4oU96BRAjfooGjRvFUAFBk1CsvsVQFzyfP3ZihZAegjnSs0ZF0BIkbkprqUXQLDVIpmeKxhA0fQWBvWoGEAG5E9LPBsZQMSDanoZgBlA82CPgJrVGUCy3qy4ARoaQFo2d+vFSxpACA/XYRVqGkD2+pebOHQaQLO8r8GLeRpAl0BOjzaJGkBNxcpf6qIaQA/d8LLvxRpAFxqMCI/xGkCfDmjgECUbQKh2ikyJXxtA4UxQur2fG0ARd/nNjeQbQK4ZHYeKLBxA6DxnAg6cHEBjLxhTeTYdQJn8U6FKyB1AHQqjUN8tHkClj/0jnBEeQN8hyaPk0B1AIq01i+D6HUBkfJxgyCUeQPB5AlitRx5AbuS+zEBgHkBwD0bjGW8eQNkPtWQedB5AGpKXLLdvHkC+cVY7U2MeQBj4jhEZUR5AjWmqHvk+HkBGiC8KSzceQBJV/NYXRB5Ah1eW3zJiHkDxNQhqwYYeQLy1UCk/JB5AeN1fNPSKHUAq6tDgf+YcQAv2Y4oCOBxANTD2VYKAG0AXiQ0NVMEaQCHxL3nM+xlAAbA+FQBeGUCxIqem7doYQBEIeMnIVBhA583l/UjMF0AyuOoxWkIXQAv2Y4oCuBZAODmAdeUuFkB8M25hpqgVQLiBP/MCJxVAIIKudAesFEDsknUvwDkUQDInbDYf0hNADbJpnBZ3E0Ak+rmYLyoTQB/GqGLz7BJAGUUTH2jAEkDX5C1ORaUSQCATLXBCnBJAuT1FBRemEkCFvY3ElMMSQPb6l5s49BJADbJpnBY3E0DpiesPXYsTQMXQ7odo7xNA+r8nza9hFECnuoQ6deAUQHp3aE+SaRVAP5gYwvr6FUDAvtpIopIWQMeM9Jl8LhdAPI+OopfMF0A+KZe9NWsYQEN/pernCBlAhN+KuwqkGUBbg/v4FDsaQFh6cdmxzBpARmYyE9VWG0CbJ9u3I9cbQD8Hmsa/ShxAgkWCoGyFHEA+S5S0q4scQH0RcWowiBxAQFQe1A56HEAYZxAW3mAcQM5aDutWShxArhkdh4osHECIxhfk9/EbQJraVqrUpxtADpBspaBWG0BnFqV7ZgQbQAo6XnjuuBpAovX0CP5yGkDZD7VkHjQaQBoBGTF8/xlAYZUPONvXGUDGP3CMLb8ZQLjwwPfHthlA37JHnx/BGUCpdopMid8ZQG51Pch7EBpAbLk3tmdRGkBUteGnOp8aQLqsxgnc9RpAbLk3tmdRG0DISPqrkK0bQEiztiAkBhxARaosAcFXHEBUteGnOp8cQFxh/gGf2hxA7r38RZkIHUB3/1wraisdQKrDDlrYTh1AZxale2ZEHUAeeSRVpD0dQP6mtPWcLx1ACVxbb2QZHUDnXmT5g/wcQM/Jj+8b2hxAzloO61aKHEAVXob2ejIcQIkTnPFG4RtA1P2gJViXG0BK3j03/VQbQFxh/gGfGhtAYEiLKozoGkCpVI1VE78aQI5HrSeDnhpARvewDhCHGkAmJUGvCHkaQPb6l5s4dBpA",
        "encoding": "base64",
        "path": [
         "_data",
         14,
         "y",
         "buffer"
        ]
       },
       {
        "data": "AAAAAAAAAAA5mE2AYfmTPzmYTYBh+aM/VmR0QBL2rT85mE2AYfmzP0j+YOC597g/VmR0QBL2vT8y5UNQNXrBPzmYTYBh+cM/QEtXsI14xj9I/mDguffIP0+xahDmdss/VmR0QBL2zT+vCz84nzrQPzLlQ1A1etE/tr5IaMu50j85mE2AYfnTP71xUpj3ONU/QEtXsI141j/EJFzII7jXP0j+YOC599g/y9dl+E832j9PsWoQ5nbbP9KKbyh8ttw/VmR0QBL23T/ZPXlYqDXfP68LPzifOuA/cHhBRGra4D8y5UNQNXrhP/RRRlwAGuI/tr5IaMu54j93K0t0llnjPzmYTYBh+eM/+wRQjCyZ5D+9cVKY9zjlP3/eVKTC2OU/Vz82yY945j8ZrDjVWhjnP9sYO+EluOc/nYU97fBX6D9e8j/5u/foPyBfQgWHl+k/4stEEVI36j+kOEcdHdfqP2WlSSnodus/BP9byY4N7D+6TE2CN6TsP1mmXyLeOu0/+P9xwoTR7T+tTWN7LWjuP0yndRvU/u4/AvVm1HyV7z9Qpzy6ERbwPytOtRZmYfA/+nq+Zrms8D/VITfDDfjwP6VOQBNhQ/E/dHtJY7SO8T9PIsK/CNrxPx5Pyw9cJfI/+fVDbLBw8j/JIk28A7zyP6PJxRhYB/M/c/bOaKtS8z9OnUfF/53zPx3KUBVT6fM/7PZZZaY09D/HndLB+n/0P5fK2xFOy/Q/cXFUbqIW9T9Bnl2+9WH1PxxF1hpKrfU/63Hfap349T/GGFjH8UP2P5VFYRdFj/Y/ZXJqZ5ja9j8/GePD7CX3Pw9G7BNAcfc/lWJH41C/9z8QBTOmYA34P5YhjnVxW/g/EcR5OIGp+D+Y4NQHkvf4PxKDwMqhRfk/jSWsjbGT+T8UQgddwuH5P4/k8h/SL/o/FQFO7+J9+j+Qozmy8sv6PxbAlIEDGvs/kWKARBNo+z8MBWwHI7b7P5Ihx9YzBPw/DcSymUNS/D+T4A1pVKD8Pw6D+Stk7vw/lZ9U+3Q8/T8PQkC+hIr9P4rkK4GU2P0/EQGHUKUm/j+Mo3ITtXT+PxLAzeLFwv4/jWK5pdUQ/z8TfxR15l7/P44hADj2rP8/FD5bBwf7/z9IcCNliyQAQIVBmUaTSwBAyM9GrptyAEAGobyPo5kAQEkvaverwABAhgDg2LPnAEDJjo1AvA4BQAdgAyLENQFARDF5A8xcAUCHvyZr1IMBQMWQnEzcqgFAMuTYeobQAUCaet0iMPYBQAfOGVHaGwJAb2Qe+YNBAkDct1onLmcCQEROX8/XjAJArORjd4GyAkAZOKClK9gCQIHOpE3V/QJA7iHhe38jA0BWuOUjKUkDQMQLIlLTbgNAK6Im+nyUA0CZ9WIoJ7oDQACMZ9DQ3wNAaCJseHoFBEDVdaimJCsEQD0MrU7OUARAq1/pfHh2BEAS9u0kIpwEQIBJKlPMwQRA598u+3XnBEBVM2spIA0FQLzJb9HJMgVAJGB0eXNYBUCSs7CnHX4FQPlJtU/HowVAZ53xfXHJBUDOM/YlG+8FQDyHMlTFFAZAox03/G46BkARcXMqGWAGQHkHeNLChQZA",
        "encoding": "base64",
        "path": [
         "_data",
         15,
         "x",
         "buffer"
        ]
       },
       {
        "data": "IBMtcEKcEkB/q3mFzqYSQLhfQvyMxhJAP5gYwvr6EkBM58dWYEMTQMYdc5W3nhNA6YnrD10LFEB+zXZ8RIcUQKgHCUjEDxVAFqsKBMqhFUDQp5L4pTkWQNrtt22o0xZAPW2RqyFsF0A37Ptnlv8XQHjdXzT0ihhAIWCxfZELGUD+FTb6YX8ZQPWLFpdz5BlAe+bpU1c5GkAfNSpnuHwaQAEfwBnFrRpABXXORnfLGkDXdaxJgNUaQP/zOAPs3hpAlFnBZkn7GkCVpkV0mCobQMoEAL6kbBtAwsdkaAXBG0AMQ+iXUSccQBvfGzoGnxxAYQSRPKAnHUA1MPZVgsAdQO3f+TwPaR5Aw6VncY8gH0DOWg7rVkofQObv4vS+7B5AWAvw1Oy8HkCsfxRs7A0fQOBuTbEzgB9AJra/qkPpH0DDvElrVCEgQC9XwQf3RCBAjzySKtJeIEBzwDD4fG4gQBSXZee1cyBAjs0QJg1vIECL5oP9H2EgQCbNoaQISiBAJs2hpAgqIEBuHZ69ewEgQMLpYV97oR9A/Oqu44gwH0CmbQAtJrEeQLbFOeHupx5AOKgBeqq+HkC6G0gOocUeQOFMULq9nx5APCANntK8HUCRv7hLq9wcQOBuTbEzABxAJ3LFvFcoG0APTHK3tFUaQCaUwrPNiBlAMrjqMVrCGED4JR+yEQMYQFo2d+vFSxdAcxjQAn2dFkBCECTmIvkVQBojFijyXxVAFICD7fDSFECFLA/JWVMUQKRCeRZN4hNAbga8w7aAE0Diu9G+gi8TQP6mtPWc7xJANHTwQ27BEkAsptbyk6USQCATLXBCnBJAuT1FBRemEkCFvY3ElMMSQPb6l5s49BJADbJpnBY3E0DpiesPXYsTQMXQ7odo7xNA+r8nza9hFECnuoQ6deAUQHp3aE+SaRVAP5gYwvr6FUDAvtpIopIWQMeM9Jl8LhdAPI+OopfMF0A+KZe9NWsYQEN/pernCBlAhN+KuwqkGUBbg/v4FDsaQFh6cdmxzBpARmYyE9VWG0CbJ9u3I9cbQD8Hmsa/ShxAjrYuLEiuHEAA0jsMdv4cQCKtNYvgOh1A6yP0KvtpHUBXLe3LYp0dQLiBP/MC5x1AElX81hdEHkDSsBwYCageQD8Hmsa/Ch9AmtpWqtRnH0CQ4bVCIb0fQL6qNSyOBCBALnm+/mwlIECor2k9xEAgQGUCAF9SViBALZu79eJlIEBVGUivTm8gQDMcUTluciBAdJ4zAQduIEBSEL6P62AgQHnSRDdDSyBAPKZwnFwtIECcrT62rQcgQIHWAJyntR9AjBwmEapPH0A2DvleDOAeQCCCrnQHbB5AqxCTZyf+HUDKBAC+pKwdQCp7T9y6lh1AU9fenrC/HUCsfxRs7A0eQFbgaL4Tbh5Afzz4gAnXHkAt81oA45QeQL5xVjtTIx5AZesdZY21HUAEucg0Y0wdQGBIiyqM6BxAhgoS0uOyHEAMZeWOx4ccQLSassoVWRxAnJZcvOgmHEAzBW8/qfEbQEBUHtQOuhtApCB8H9eBG0BaNnfrxUsbQK9moZTZGxtA8oKMdxD2GkDI2Xiny90aQNd1rEmA1RpA",
        "encoding": "base64",
        "path": [
         "_data",
         15,
         "y",
         "buffer"
        ]
       },
       {
        "data": "AAAAAAAAAAA5mE2AYfmTPzmYTYBh+aM/VmR0QBL2rT85mE2AYfmzP0j+YOC597g/VmR0QBL2vT8y5UNQNXrBPzmYTYBh+cM/QEtXsI14xj9I/mDguffIP0+xahDmdss/VmR0QBL2zT+vCz84nzrQPzLlQ1A1etE/tr5IaMu50j85mE2AYfnTP71xUpj3ONU/QEtXsI141j/EJFzII7jXP0j+YOC599g/y9dl+E832j9PsWoQ5nbbP9KKbyh8ttw/VmR0QBL23T/ZPXlYqDXfP68LPzifOuA/cHhBRGra4D8y5UNQNXrhP/RRRlwAGuI/tr5IaMu54j93K0t0llnjPzmYTYBh+eM/+wRQjCyZ5D+9cVKY9zjlP3/eVKTC2OU/Vz82yY945j8ZrDjVWhjnP9sYO+EluOc/nYU97fBX6D9e8j/5u/foPyBfQgWHl+k/4stEEVI36j+kOEcdHdfqP2WlSSnodus/BP9byY4N7D+6TE2CN6TsP1mmXyLeOu0/+P9xwoTR7T+tTWN7LWjuP0yndRvU/u4/AvVm1HyV7z9Qpzy6ERbwPytOtRZmYfA/+nq+Zrms8D/VITfDDfjwP6VOQBNhQ/E/dHtJY7SO8T9PIsK/CNrxPx5Pyw9cJfI/+fVDbLBw8j/JIk28A7zyP6PJxRhYB/M/c/bOaKtS8z9OnUfF/53zPx3KUBVT6fM/7PZZZaY09D/HndLB+n/0P5fK2xFOy/Q/cXFUbqIW9T9Bnl2+9WH1PxxF1hpKrfU/63Hfap349T/GGFjH8UP2P5VFYRdFj/Y/ZXJqZ5ja9j8/GePD7CX3Pw9G7BNAcfc/lWJH41C/9z8QBTOmYA34P5YhjnVxW/g/EcR5OIGp+D+Y4NQHkvf4PxKDwMqhRfk/jSWsjbGT+T8UQgddwuH5P4/k8h/SL/o/FQFO7+J9+j+Qozmy8sv6PxbAlIEDGvs/kWKARBNo+z8MBWwHI7b7P5Ihx9YzBPw/DcSymUNS/D+T4A1pVKD8Pw6D+Stk7vw/lZ9U+3Q8/T8PQkC+hIr9P4rkK4GU2P0/EQGHUKUm/j+Mo3ITtXT+PxLAzeLFwv4/jWK5pdUQ/z8TfxR15l7/P44hADj2rP8/FD5bBwf7/z9IcCNliyQAQIVBmUaTSwBAyM9GrptyAEAGobyPo5kAQEkvaverwABAhgDg2LPnAEDJjo1AvA4BQAdgAyLENQFARDF5A8xcAUCHvyZr1IMBQMWQnEzcqgFAMuTYeobQAUCaet0iMPYBQAfOGVHaGwJAb2Qe+YNBAkDct1onLmcCQEROX8/XjAJArORjd4GyAkAZOKClK9gCQIHOpE3V/QJA7iHhe38jA0BWuOUjKUkDQMQLIlLTbgNAK6Im+nyUA0CZ9WIoJ7oDQACMZ9DQ3wNAaCJseHoFBEDVdaimJCsEQD0MrU7OUARAq1/pfHh2BEAS9u0kIpwEQIBJKlPMwQRA598u+3XnBEBVM2spIA0FQLzJb9HJMgVAJGB0eXNYBUCSs7CnHX4FQPlJtU/HowVAZ53xfXHJBUDOM/YlG+8FQDyHMlTFFAZAox03/G46BkARcXMqGWAGQHkHeNLChQZA",
        "encoding": "base64",
        "path": [
         "_data",
         16,
         "x",
         "buffer"
        ]
       },
       {
        "data": "xh1zlbfeFUDm7+L0vuwVQCp7T9y6FhZAPP4Pp1xcFkB09tILB70WQCjhRsEcOBdAPI+OopfMF0CX0cyKcXkYQOWiXudvPRlAKL9JyqYXGkBi4pNFKgcbQOmJ6w9dCxxAhN+KuwokHUAZtJQjLRAeQGXrHWWN9R1AIBMtcELcHUAthNn7HcUdQBjWkRqjsB1AG98bOgafHUD7DKza/pAdQPE1CGrBhh1AGUUTH2iAHUDk5ljVW34dQA0h66Dbhh1ANg75XgygHUAl2LyhuckdQNs6PHv3Ah5AIxy3j6VKHkCodopMiZ8eQIytpAzl/x5ACA/XYRVqH0CTe75dv9sfQPirgrCbEyBAvGjMG/C0H0CBZ3+X4uUfQLE5iaCyWyBACsDBdnjJIEB6H8lEkjohQMZWUobyfyFAedJEN0OrIUCNEQsU+c8hQJJFHEo17SFAFsLs/Y4CIkAAepwBdg8iQDGCSB7QEyJAqEDoOP8QIkC23BvbswgiQAe3N1cV+yFAKGeqv6boIUD8I47Uw9EhQEdbFxYktyFAa4OVot2CIUAsLDrxHRYhQJ5HR9FLpiBAE9tf1aE0IEBnFqV7ZoQfQO1Oe0HUuB5ASCI4JemVHkAEKEo5KFweQDyPjqKXDB5AQqGi4V2pHUBJADsuczUdQL0k0i0EtBxAtsU54e4nHEAvr2AS95MbQM7rjOaR+hpAAbA+FQBeGkBuBrzDtsAZQPTPEIVfJRlAce1I7KOOGEAaARkxfP8XQFuD+/gUexdAgwGIsoAEF0DjCFbM0Z4WQDyPjqKXTBZAGbSUIy0QFkA+KZe9NesVQMYdc5W33hVAPW2RqyHsFUDa7bdtqBMWQBPEfdvcUxZAJPq5mC+qFkCFLA/JWRMXQOmJ6w9dixdAAv3CIk8NGEBnhSaAK5QYQHhM4Ti5GhlA6DxnAg6cGUBnhSaAKxQaQPxZMOhNgBpAqXaKTInfGkDAnN1RLDIbQNCnkvileRtADbJpnBa3G0A9bZGrIewbQCVHPqZ+GRxAU9fenrA/HEDGHXOVt14cQA5ub64qdhxAjrYuLEiuHEAA0jsMdv4cQCKtNYvgOh1A6yP0KvtpHUBXLe3LYp0dQLiBP/MC5x1AElX81hdEHkDSsBwYCageQD8Hmsa/Ch9AmtpWqtRnH0CQ4bVCIb0fQL6qNSyOBCBALnm+/mwlIECor2k9xEAgQGUCAF9SViBALZu79eJlIEBVGUivTm8gQDMcUTluciBAp0DoOP9wIEDowsoAmGwgQBKO28dSZSBAlSypciJbIECQiRY4IU4gQAKlIxhPPiBAlN8kZdMrIEBkJP1VyBYgQFST5LDE/h9Akgw9WfrLH0DypIluhpYfQPx7Ld/DYB9AqeULUU4vH0Cv9x+QFAwfQEb3sA4QBx9ACO3Zap8JH0ASVfzWF0QfQDFJaS2Vsh9A/r2W72EQIED7tAzQ/kEgQBjtcxRocSBAjYCMGL6fIED61gnHdGIgQH2X1Gi6GCBAvnFWO1OjH0Bu5L7MQCAfQMoEAL6krB5APkuUtKtLHkAcvR5DkP4dQLzXTSC1xB1AAmxEJxSdHUAP3fCy74UdQOTmWNVbfh1A",
        "encoding": "base64",
        "path": [
         "_data",
         16,
         "y",
         "buffer"
        ]
       },
       {
        "data": "AAAAAAAAAAA5mE2AYfmTPzmYTYBh+aM/VmR0QBL2rT85mE2AYfmzP0j+YOC597g/VmR0QBL2vT8y5UNQNXrBPzmYTYBh+cM/QEtXsI14xj9I/mDguffIP0+xahDmdss/VmR0QBL2zT+vCz84nzrQPzLlQ1A1etE/tr5IaMu50j85mE2AYfnTP71xUpj3ONU/QEtXsI141j/EJFzII7jXP0j+YOC599g/y9dl+E832j9PsWoQ5nbbP9KKbyh8ttw/VmR0QBL23T/ZPXlYqDXfP68LPzifOuA/cHhBRGra4D8y5UNQNXrhP/RRRlwAGuI/tr5IaMu54j93K0t0llnjPzmYTYBh+eM/+wRQjCyZ5D+9cVKY9zjlP3/eVKTC2OU/Vz82yY945j8ZrDjVWhjnP9sYO+EluOc/nYU97fBX6D9e8j/5u/foPyBfQgWHl+k/4stEEVI36j+kOEcdHdfqP2WlSSnodus/BP9byY4N7D+6TE2CN6TsP1mmXyLeOu0/+P9xwoTR7T+tTWN7LWjuP0yndRvU/u4/AvVm1HyV7z9Qpzy6ERbwPytOtRZmYfA/+nq+Zrms8D/VITfDDfjwP6VOQBNhQ/E/dHtJY7SO8T9PIsK/CNrxPx5Pyw9cJfI/+fVDbLBw8j/JIk28A7zyP6PJxRhYB/M/c/bOaKtS8z9OnUfF/53zPx3KUBVT6fM/7PZZZaY09D/HndLB+n/0P5fK2xFOy/Q/cXFUbqIW9T9Bnl2+9WH1PxxF1hpKrfU/63Hfap349T/GGFjH8UP2P5VFYRdFj/Y/ZXJqZ5ja9j8/GePD7CX3Pw9G7BNAcfc/lWJH41C/9z8QBTOmYA34P5YhjnVxW/g/EcR5OIGp+D+Y4NQHkvf4PxKDwMqhRfk/jSWsjbGT+T8UQgddwuH5P4/k8h/SL/o/FQFO7+J9+j+Qozmy8sv6PxbAlIEDGvs/kWKARBNo+z8MBWwHI7b7P5Ihx9YzBPw/DcSymUNS/D+T4A1pVKD8Pw6D+Stk7vw/lZ9U+3Q8/T8PQkC+hIr9P4rkK4GU2P0/EQGHUKUm/j+Mo3ITtXT+PxLAzeLFwv4/jWK5pdUQ/z8TfxR15l7/P44hADj2rP8/FD5bBwf7/z9IcCNliyQAQIVBmUaTSwBAyM9GrptyAEAGobyPo5kAQEkvaverwABAhgDg2LPnAEDJjo1AvA4BQAdgAyLENQFARDF5A8xcAUCHvyZr1IMBQMWQnEzcqgFAMuTYeobQAUCaet0iMPYBQAfOGVHaGwJAb2Qe+YNBAkDct1onLmcCQEROX8/XjAJArORjd4GyAkAZOKClK9gCQIHOpE3V/QJA7iHhe38jA0BWuOUjKUkDQMQLIlLTbgNAK6Im+nyUA0CZ9WIoJ7oDQACMZ9DQ3wNAaCJseHoFBEDVdaimJCsEQD0MrU7OUARAq1/pfHh2BEAS9u0kIpwEQIBJKlPMwQRA598u+3XnBEBVM2spIA0FQLzJb9HJMgVAJGB0eXNYBUCSs7CnHX4FQPlJtU/HowVAZ53xfXHJBUDOM/YlG+8FQDyHMlTFFAZAox03/G46BkARcXMqGWAGQHkHeNLChQZA",
        "encoding": "base64",
        "path": [
         "_data",
         17,
         "x",
         "buffer"
        ]
       },
       {
        "data": "EJn2xAMFH0AUEQLpKwMfQB55JFWk/R5ALtFdCW30HkCa2laq1OceQJpr1aUP2B5ASW+8MjjFHkAakpcst68eQH2A8m71lx5A5OZY1Vt+HkD3Rxyph2MeQAxl5Y7HRx5A6KvoBtMrHkD7DKza/lAeQDInbDYfkh9A+KuCsJtzIEDUgwQk4ichQCxON+iTliFAAHqcAXavIUBOuq9iOcMhQMNNyGaP0SFAJV4goEPaIUDLimO8Lt0hQEr1HzHC1SFAjKKJDzTAIUDluUDhNJ4hQGzQGbAsciFAyPBaoZA+IUCCOmejuwUhQF+BahvHySBAzNfnyX2MIEBVGUivTk8gQO7U3j9eKSBAnkdH0UtmIED4GgS1YKMgQBzUAD1V3yBAKPgou+EYIUDIgdmcy04hQFpNWeWKrCFAXAlf954LIkDlSr/cbw4iQOH0sK+9ECJAMxxROW4SIkBOSy5edBMiQDGCSB7QEyJAMxxROW4SIkDIX9ylVQ4iQGPXeEh5ByJAAoMmIdn9IUA12FZLgvEhQIhMe+KB4iFAtY+XzWSZIUB8udFfMHkhQNXQiDExVyFAaVgOjAQ0IUBwSCXUVBAhQHY4PByl7CBAmDUzkoXJIEAqAbPaRKcgQLoyKghmhiBADhbQoypnIEDRC/n/uUkgQMlf3KVVLiBAoHLO5yQVIECSnbtUNfwfQNypvX+80h9AyEj6q5CtH0B0ZVQQzIwfQKcpBj86cB9AKL9JyqZXH0CjZHYNw0IfQN5DxppaMR9AooZzBDkjH0B9gPJu9RcfQHAxQ9qPDx9ACO3Zap8JH0BIs7YgJAYfQBCZ9sQDBR9Afs12fEQHH0AAQb0QOw4fQCSLOJRqGh9AH8aoYvMsH0B+zXZ8REcfQCI+tIYbax9AsSKnpu2aH0AlRz6mftkfQGh6C4N6FCBAxCvLbxkxIEACFKUcFE4gQLNkELeLaiBASmShNYeFIEBXRM/FJ54gQNzAn3mBsyBAhPZstc/EIEBRwzmCnNEgQJjGsY3A2SBArsF9fIrdIECQ+Jc85t0gQMxGac5C3CBAz+Bx6eDaIEDoMUwFXdwgQPgaBLVg4yBAw03IZo/xIEAOFtCjKgchQGuDlaLdIiFAiEx74oFCIUAwE8cZC2QhQPTE9YeuhSFAZnGBYxemIUDacxtsMsQhQKpJclhi3yFAueWl+hb3IUAkEZyS9AoiQJYKrHusGiJAZnGBYxcmIkDL+eTA8ywiQFUZSK9OLyJAIzOZiWorIkAb9v0zyx8iQCGZkG7MDCJAMj5OMOTyIUBPBzRwiNIhQLDsBJNjrCFAi+aD/R+BIUCmYuUvdVEhQDtZ7I4NHiFAf8Jbf5PnIECslvZlsa4gQIVD8cIedCBAt0ud33g4IEC1eLXTn/gfQDUw9lWCgB9Ad/9cK2orH0AY1pEao3AfQEb3sA4Qxx9Aibv85kYSIEDWHQ0/gEYgQCSiGo4veyBAIlWWgOCrIEBaTVnliswgQEZ9FA2a9yBA4WMytIIgIUDWPwo29kYhQLNkELeLaiFAz0/z7aWKIUDzCPB1mqYhQDw375eXvSFAVvdKuNjOIUBf8OsfjNkhQMuKY7wu3SFA",
        "encoding": "base64",
        "path": [
         "_data",
         17,
         "y",
         "buffer"
        ]
       },
       {
        "data": "AAAAAAAAAAA5mE2AYfmTPzmYTYBh+aM/VmR0QBL2rT85mE2AYfmzP0j+YOC597g/VmR0QBL2vT8y5UNQNXrBPzmYTYBh+cM/QEtXsI14xj9I/mDguffIP0+xahDmdss/VmR0QBL2zT+vCz84nzrQPzLlQ1A1etE/tr5IaMu50j85mE2AYfnTP71xUpj3ONU/QEtXsI141j/EJFzII7jXP0j+YOC599g/y9dl+E832j9PsWoQ5nbbP9KKbyh8ttw/VmR0QBL23T/ZPXlYqDXfP68LPzifOuA/cHhBRGra4D8y5UNQNXrhP/RRRlwAGuI/tr5IaMu54j93K0t0llnjPzmYTYBh+eM/+wRQjCyZ5D+9cVKY9zjlP3/eVKTC2OU/Vz82yY945j8ZrDjVWhjnP9sYO+EluOc/nYU97fBX6D9e8j/5u/foPyBfQgWHl+k/4stEEVI36j+kOEcdHdfqP2WlSSnodus/BP9byY4N7D+6TE2CN6TsP1mmXyLeOu0/+P9xwoTR7T+tTWN7LWjuP0yndRvU/u4/AvVm1HyV7z9Qpzy6ERbwPytOtRZmYfA/+nq+Zrms8D/VITfDDfjwP6VOQBNhQ/E/dHtJY7SO8T9PIsK/CNrxPx5Pyw9cJfI/+fVDbLBw8j/JIk28A7zyP6PJxRhYB/M/c/bOaKtS8z9OnUfF/53zPx3KUBVT6fM/7PZZZaY09D/HndLB+n/0P5fK2xFOy/Q/cXFUbqIW9T9Bnl2+9WH1PxxF1hpKrfU/63Hfap349T/GGFjH8UP2P5VFYRdFj/Y/ZXJqZ5ja9j8/GePD7CX3Pw9G7BNAcfc/lWJH41C/9z8QBTOmYA34P5YhjnVxW/g/EcR5OIGp+D+Y4NQHkvf4PxKDwMqhRfk/jSWsjbGT+T8UQgddwuH5P4/k8h/SL/o/FQFO7+J9+j+Qozmy8sv6PxbAlIEDGvs/kWKARBNo+z8MBWwHI7b7P5Ihx9YzBPw/DcSymUNS/D+T4A1pVKD8Pw6D+Stk7vw/lZ9U+3Q8/T8PQkC+hIr9P4rkK4GU2P0/EQGHUKUm/j+Mo3ITtXT+PxLAzeLFwv4/jWK5pdUQ/z8TfxR15l7/P44hADj2rP8/FD5bBwf7/z9IcCNliyQAQIVBmUaTSwBAyM9GrptyAEAGobyPo5kAQEkvaverwABAhgDg2LPnAEDJjo1AvA4BQAdgAyLENQFARDF5A8xcAUCHvyZr1IMBQMWQnEzcqgFAMuTYeobQAUCaet0iMPYBQAfOGVHaGwJAb2Qe+YNBAkDct1onLmcCQEROX8/XjAJArORjd4GyAkAZOKClK9gCQIHOpE3V/QJA7iHhe38jA0BWuOUjKUkDQMQLIlLTbgNAK6Im+nyUA0CZ9WIoJ7oDQACMZ9DQ3wNAaCJseHoFBEDVdaimJCsEQD0MrU7OUARAq1/pfHh2BEAS9u0kIpwEQIBJKlPMwQRA598u+3XnBEBVM2spIA0FQLzJb9HJMgVAJGB0eXNYBUCSs7CnHX4FQPlJtU/HowVAZ53xfXHJBUDOM/YlG+8FQDyHMlTFFAZAox03/G46BkARcXMqGWAGQHkHeNLChQZA",
        "encoding": "base64",
        "path": [
         "_data",
         18,
         "x",
         "buffer"
        ]
       },
       {
        "data": "EJn2xAMFH0DpiesPXQsfQDmGBIM0Hh9AkOG1QiE9H0BFGa4FhmcfQFnp8t12nB9AeEzhOLnaH0A2lFxdlhAgQCtwNN8JNyBAxlZShvJfIECXeS2AcYogQJ+Uy96atSBAb9mjz4/gIECXeS2AcQohQBcxbgJUMiFAnBzAunJXIUBgzu4oFnkhQCxON+iTliFAAHqcAXavIUBOuq9iOcMhQMNNyGaP0SFAJV4goEPaIUDLimO8Lt0hQANhKSpj3SFAO1nsjg3eIUByc6zqLd8hQIzEhgaq4CFApDdeGZziIUAuV8EH9+QhQA44zZqg5yFAXcVkCbPqIUDmKMLl+e0hQMNNyGaP8SFA2EiUVVn1IUAKL0N7PfkhQDwV8qAh/SFA/HAS4hIBIkASbN7Q3AQiQGIbczZlCCJAW5rd8tkbIkAx8ckilYMiQK7BfXyK3SJAFuTp9AQjI0AeIYVKpE4jQCBMDGF9XSNA/r2W72FQI0BB2oHSmCojQFQ7RabE7yJA917+okykIkCTASJcSUwiQCQRnJL06iFAb2oiy8rQIUCvfYOOnrwhQNf7D0gKpiFArjD/gE+NIUDefKWLlXIhQLuhqwwrViFAmmC6qF44IUDRenoEfxkhQLSxlMTa+SBAJjwjqc3ZIEB8285WprkgQJjGsY3AmSBA0L508mp6IEAG+zFFAVwgQHNRr/O3PiBA3Q0kh9AiIEAoZ6q/pgggQOCQSqip4B9A9vqXmzi0H0DL4gLHLowfQO3f+TwPaR9AXPJ8/dlKH0CIxhfk9zEfQHJcyvBoHh9ANp93WkcQH0AoUMjF4QcfQBCZ9sQDBR9AX2qIIQIJH0BmySBuFxUfQNH0Fgb1KB9AZxale2ZEH0Cclly86GYfQMTy637ejx9AANI7DHa+H0Bs2zSt3fEfQGh6C4N6FCBAxCvLbxkxIEACFKUcFE4gQLNkELeLaiBASmShNYeFIEBXRM/FJ54gQNzAn3mBsyBAhPZstc/EIEBRwzmCnNEgQJjGsY3A2SBArsF9fIrdIECQ+Jc85t0gQMxGac5C3CBAz+Bx6eDaIEDoMUwFXdwgQPgaBLVg4yBAw03IZo/xIEAOFtCjKgchQGuDlaLdIiFAiEx74oFCIUAwE8cZC2QhQPTE9YeuhSFAZnGBYxemIUDacxtsMsQhQKpJclhi3yFAueWl+hb3IUAkEZyS9AoiQJYKrHusGiJAZnGBYxcmIkDL+eTA8ywiQFUZSK9OLyJA5Gy80+UuIkCRZxlBqy0iQOp+0BKsKyJAfShTZPUoIkD0xPWHriUiQG0/m7TxISJAreN6cwAeIkDth1oyDxoiQLuhqwwrFiJApabfHWESIkDlSr/cbw4iQF+BahvHCSJAo3tYB4gDIkDQvnTyavohQCGZkG7M7CFAROML8vvYIUDndUbzSL0hQLZLnd94mCFACeK+be5pIUDCb8VdBTIhQDT6U0L48SBArVL8d8WtIEACgyYh2d0gQJabKnfnCiFA9u98noc0IUBCSQPXXVohQHiFwCn0eyFAROML8vuYIUBSoTyLJrEhQGnpjIc/xCFAUOU2eRLSIUBCSQPXXdohQMuKY7wu3SFA",
        "encoding": "base64",
        "path": [
         "_data",
         18,
         "y",
         "buffer"
        ]
       },
       {
        "data": "AAAAAAAAAAA5mE2AYfmTPzmYTYBh+aM/VmR0QBL2rT85mE2AYfmzP0j+YOC597g/VmR0QBL2vT8y5UNQNXrBPzmYTYBh+cM/QEtXsI14xj9I/mDguffIP0+xahDmdss/VmR0QBL2zT+vCz84nzrQPzLlQ1A1etE/tr5IaMu50j85mE2AYfnTP71xUpj3ONU/QEtXsI141j/EJFzII7jXP0j+YOC599g/y9dl+E832j9PsWoQ5nbbP9KKbyh8ttw/VmR0QBL23T/ZPXlYqDXfP68LPzifOuA/cHhBRGra4D8y5UNQNXrhP/RRRlwAGuI/tr5IaMu54j93K0t0llnjPzmYTYBh+eM/+wRQjCyZ5D+9cVKY9zjlP3/eVKTC2OU/Vz82yY945j8ZrDjVWhjnP9sYO+EluOc/nYU97fBX6D9e8j/5u/foPyBfQgWHl+k/4stEEVI36j+kOEcdHdfqP2WlSSnodus/BP9byY4N7D+6TE2CN6TsP1mmXyLeOu0/+P9xwoTR7T+tTWN7LWjuP0yndRvU/u4/AvVm1HyV7z9Qpzy6ERbwPytOtRZmYfA/+nq+Zrms8D/VITfDDfjwP6VOQBNhQ/E/dHtJY7SO8T9PIsK/CNrxPx5Pyw9cJfI/+fVDbLBw8j/JIk28A7zyP6PJxRhYB/M/c/bOaKtS8z9OnUfF/53zPx3KUBVT6fM/7PZZZaY09D/HndLB+n/0P5fK2xFOy/Q/cXFUbqIW9T9Bnl2+9WH1PxxF1hpKrfU/63Hfap349T/GGFjH8UP2P5VFYRdFj/Y/ZXJqZ5ja9j8/GePD7CX3Pw9G7BNAcfc/lWJH41C/9z8QBTOmYA34P5YhjnVxW/g/EcR5OIGp+D+Y4NQHkvf4PxKDwMqhRfk/jSWsjbGT+T8UQgddwuH5P4/k8h/SL/o/FQFO7+J9+j+Qozmy8sv6PxbAlIEDGvs/kWKARBNo+z8MBWwHI7b7P5Ihx9YzBPw/DcSymUNS/D+T4A1pVKD8Pw6D+Stk7vw/lZ9U+3Q8/T8PQkC+hIr9P4rkK4GU2P0/EQGHUKUm/j+Mo3ITtXT+PxLAzeLFwv4/jWK5pdUQ/z8TfxR15l7/P44hADj2rP8/FD5bBwf7/z9IcCNliyQAQIVBmUaTSwBAyM9GrptyAEAGobyPo5kAQEkvaverwABAhgDg2LPnAEDJjo1AvA4BQAdgAyLENQFARDF5A8xcAUCHvyZr1IMBQMWQnEzcqgFAMuTYeobQAUCaet0iMPYBQAfOGVHaGwJAb2Qe+YNBAkDct1onLmcCQEROX8/XjAJArORjd4GyAkAZOKClK9gCQIHOpE3V/QJA7iHhe38jA0BWuOUjKUkDQMQLIlLTbgNAK6Im+nyUA0CZ9WIoJ7oDQACMZ9DQ3wNAaCJseHoFBEDVdaimJCsEQD0MrU7OUARAq1/pfHh2BEAS9u0kIpwEQIBJKlPMwQRA598u+3XnBEBVM2spIA0FQLzJb9HJMgVAJGB0eXNYBUCSs7CnHX4FQPlJtU/HowVAZ53xfXHJBUDOM/YlG+8FQDyHMlTFFAZAox03/G46BkARcXMqGWAGQHkHeNLChQZA",
        "encoding": "base64",
        "path": [
         "_data",
         19,
         "x",
         "buffer"
        ]
       },
       {
        "data": "EJn2xAMFH0DpiesPXQsfQDmGBIM0Hh9AkOG1QiE9H0BFGa4FhmcfQFnp8t12nB9AeEzhOLnaH0A2lFxdlhAgQCtwNN8JNyBAxlZShvJfIECXeS2AcYogQJ+Uy96atSBAb9mjz4/gIECXeS2AcQohQBcxbgJUMiFAnBzAunJXIUBgzu4oFnkhQBKO28dS5SFAXOdhACmrIkAM60iNUXgjQAAAAAAAAPh/AAAAAAAA+H8AAAAAAAD4fwAAAAAAAPh/AAAAAAAA+H8AAAAAAAD4fwAAAAAAAPh/AAAAAAAA+H8AAAAAAAD4fwAAAAAAAPh/AAAAAAAA+H8AAAAAAAD4fwAAAAAAAPh/AAAAAAAA+H8AAAAAAAD4fwAAAAAAAPh/AAAAAAAA+H8AAAAAAAD4fwAAAAAAAPh/AAAAAAAA+H8AAAAAAAD4fwAAAAAAAPh/AAAAAAAA+H8AAAAAAAD4fwAAAAAAAPh/AAAAAAAA+H8AAAAAAAD4fwAAAAAAAPh/AAAAAAAA+H8AAAAAAAD4fwAAAAAAAPh/AAAAAAAA+H8AAAAAAAD4fzoMaIG+ziNA5blA4TR+I0CI3fndvDIjQJIjH1O/7CJAzbXq0gesIkCNEQsU+W8iQJwcwLpyNyJAp9FmNDoBIkCwygec7cshQNauizq7liFAGVz1GC1hIUCVvSduXSshQNhqkUzP9SBAp9FmNDrBIEABNqITio4gQOTbPdiqXiBAFzFuAlQyIEDQLfb2LwogQDrTiJCDzR9A3yHJo+SQH0DGHXOVt14fQJpJ2K6ZNx9AWqX474obH0AjHLePpQofQBCZ9sQDBR9AX2qIIQIJH0BmySBuFxUfQNH0Fgb1KB9AZxale2ZEH0Cclly86GYfQMTy637ejx9AANI7DHa+H0Bs2zSt3fEfQL07tCfJFCBASMqYGulGIEAUKOTi8IMgQOmgzQkizCBAAccgD8UeIUBeNOYNeHohQOd1RvNI3SFAoOFP7OlEIkBy4i3v8q4iQH2X1Gi6GCNA4x84xpZ/I0AaOvght+AjQAAAAAAAAPh/AAAAAAAA+H8AAAAAAAD4fwAAAAAAAPh/AAAAAAAA+H8AAAAAAAD4fwAAAAAAAPh/AAAAAAAA+H8AAAAAAAD4fwAAAAAAAPh/AAAAAAAA+H8AAAAAAAD4fwAAAAAAAPh/BYywQDzsI0AkEZyS9MojQKge60GJsCNAA2EpKmOdI0AYD3EL3pEjQOYowuX5jSNAUcM5gpyRI0DoMUwFXZwjQDrqaopIriNAgKBeiB3HI0CBfmGRp+YjQAAAAAAAAPh/AAAAAAAA+H8AAAAAAAD4fwAAAAAAAPh/AAAAAAAA+H8AAAAAAAD4fwAAAAAAAPh/AAAAAAAA+H8AAAAAAAD4fwAAAAAAAPh/AAAAAAAA+H8AAAAAAAD4fwAAAAAAAPh/AAAAAAAA+H8AAAAAAAD4fwAAAAAAAPh/AAAAAAAA+H8AAAAAAAD4fwAAAAAAAPh/AAAAAAAA+H8AAAAAAAD4fwAAAAAAAPh/AAAAAAAA+H8AAAAAAAD4fwAAAAAAAPh/AAAAAAAA+H8AAAAAAAD4fwAAAAAAAPh/",
        "encoding": "base64",
        "path": [
         "_data",
         19,
         "y",
         "buffer"
        ]
       }
      ],
      "model_module": "plotlywidget",
      "model_module_version": "^4.14.3",
      "model_name": "FigureModel",
      "state": {
       "_config": {
        "plotlyServerURL": "https://plot.ly"
       },
       "_data": [
        {
         "hoverinfo": "name",
         "hovertemplate": "%{y:.2f} eV",
         "line": {
          "color": "black",
          "width": 1.0
         },
         "mode": "lines",
         "name": "11",
         "type": "scatter",
         "uid": "aa5ee7a5-b30d-44a2-a2b7-135bf803f0c1",
         "x": {
          "dtype": "float64",
          "shape": [
           150
          ]
         },
         "y": {
          "dtype": "float64",
          "shape": [
           150
          ]
         }
        },
        {
         "hoverinfo": "name",
         "hovertemplate": "%{y:.2f} eV",
         "line": {
          "color": "black",
          "width": 1.0
         },
         "mode": "lines",
         "name": "12",
         "type": "scatter",
         "uid": "bd33b9b0-b510-4c53-ae40-0e7180702249",
         "x": {
          "dtype": "float64",
          "shape": [
           150
          ]
         },
         "y": {
          "dtype": "float64",
          "shape": [
           150
          ]
         }
        },
        {
         "hoverinfo": "name",
         "hovertemplate": "%{y:.2f} eV",
         "line": {
          "color": "black",
          "width": 1.0
         },
         "mode": "lines",
         "name": "13",
         "type": "scatter",
         "uid": "5d0538bf-e372-4ac9-97e4-03da14f39a04",
         "x": {
          "dtype": "float64",
          "shape": [
           150
          ]
         },
         "y": {
          "dtype": "float64",
          "shape": [
           150
          ]
         }
        },
        {
         "hoverinfo": "name",
         "hovertemplate": "%{y:.2f} eV",
         "line": {
          "color": "black",
          "width": 1.0
         },
         "mode": "lines",
         "name": "14",
         "type": "scatter",
         "uid": "b235665f-b271-4ed7-be4b-597abaa63126",
         "x": {
          "dtype": "float64",
          "shape": [
           150
          ]
         },
         "y": {
          "dtype": "float64",
          "shape": [
           150
          ]
         }
        },
        {
         "hoverinfo": "name",
         "hovertemplate": "%{y:.2f} eV",
         "line": {
          "color": "black",
          "width": 1.0
         },
         "mode": "lines",
         "name": "15",
         "type": "scatter",
         "uid": "8289d1d1-fb4e-4f74-b2dc-8fa434d9314b",
         "x": {
          "dtype": "float64",
          "shape": [
           150
          ]
         },
         "y": {
          "dtype": "float64",
          "shape": [
           150
          ]
         }
        },
        {
         "hoverinfo": "name",
         "hovertemplate": "%{y:.2f} eV",
         "line": {
          "color": "black",
          "width": 1.0
         },
         "mode": "lines",
         "name": "16",
         "type": "scatter",
         "uid": "b8e5ab9e-d042-4e0c-9379-c285b373fa2a",
         "x": {
          "dtype": "float64",
          "shape": [
           150
          ]
         },
         "y": {
          "dtype": "float64",
          "shape": [
           150
          ]
         }
        },
        {
         "hoverinfo": "name",
         "hovertemplate": "%{y:.2f} eV",
         "line": {
          "color": "black",
          "width": 1.0
         },
         "mode": "lines",
         "name": "17",
         "type": "scatter",
         "uid": "bf2a7a5d-5a9b-4b45-8c13-8a682b52dd41",
         "x": {
          "dtype": "float64",
          "shape": [
           150
          ]
         },
         "y": {
          "dtype": "float64",
          "shape": [
           150
          ]
         }
        },
        {
         "hoverinfo": "name",
         "hovertemplate": "%{y:.2f} eV",
         "line": {
          "color": "black",
          "width": 1.0
         },
         "mode": "lines",
         "name": "18",
         "type": "scatter",
         "uid": "3b408c0e-f2bd-44f0-a12a-9cdf5929ae9b",
         "x": {
          "dtype": "float64",
          "shape": [
           150
          ]
         },
         "y": {
          "dtype": "float64",
          "shape": [
           150
          ]
         }
        },
        {
         "hoverinfo": "name",
         "hovertemplate": "%{y:.2f} eV",
         "line": {
          "color": "black",
          "width": 1.0
         },
         "mode": "lines",
         "name": "19",
         "type": "scatter",
         "uid": "dc66ac9a-0d52-45f8-a15f-a7e7f8d00d0e",
         "x": {
          "dtype": "float64",
          "shape": [
           150
          ]
         },
         "y": {
          "dtype": "float64",
          "shape": [
           150
          ]
         }
        },
        {
         "hoverinfo": "name",
         "hovertemplate": "%{y:.2f} eV",
         "line": {
          "color": "black",
          "width": 1.0
         },
         "mode": "lines",
         "name": "20",
         "type": "scatter",
         "uid": "d19e641d-92d4-46ae-b03c-c93d2efc42c8",
         "x": {
          "dtype": "float64",
          "shape": [
           150
          ]
         },
         "y": {
          "dtype": "float64",
          "shape": [
           150
          ]
         }
        },
        {
         "hoverinfo": "name",
         "hovertemplate": "%{y:.2f} eV",
         "line": {
          "color": "black",
          "width": 1.0
         },
         "mode": "lines",
         "name": "21",
         "type": "scatter",
         "uid": "36172001-f835-4770-9cfb-49e3d5303843",
         "x": {
          "dtype": "float64",
          "shape": [
           150
          ]
         },
         "y": {
          "dtype": "float64",
          "shape": [
           150
          ]
         }
        },
        {
         "hoverinfo": "name",
         "hovertemplate": "%{y:.2f} eV",
         "line": {
          "color": "black",
          "width": 1.0
         },
         "mode": "lines",
         "name": "22",
         "type": "scatter",
         "uid": "105baddc-7f43-4c03-893c-c9d35f9e368d",
         "x": {
          "dtype": "float64",
          "shape": [
           150
          ]
         },
         "y": {
          "dtype": "float64",
          "shape": [
           150
          ]
         }
        },
        {
         "hoverinfo": "name",
         "hovertemplate": "%{y:.2f} eV",
         "line": {
          "color": "black",
          "width": 1.0
         },
         "mode": "lines",
         "name": "23",
         "type": "scatter",
         "uid": "2f6ecb1b-4745-4911-80af-0e2e62f31a68",
         "x": {
          "dtype": "float64",
          "shape": [
           150
          ]
         },
         "y": {
          "dtype": "float64",
          "shape": [
           150
          ]
         }
        },
        {
         "hoverinfo": "name",
         "hovertemplate": "%{y:.2f} eV",
         "line": {
          "color": "black",
          "width": 1.0
         },
         "mode": "lines",
         "name": "24",
         "type": "scatter",
         "uid": "c62cb7aa-e9df-42ac-9de6-e9eec97e68ed",
         "x": {
          "dtype": "float64",
          "shape": [
           150
          ]
         },
         "y": {
          "dtype": "float64",
          "shape": [
           150
          ]
         }
        },
        {
         "hoverinfo": "name",
         "hovertemplate": "%{y:.2f} eV",
         "line": {
          "color": "black",
          "width": 1.0
         },
         "mode": "lines",
         "name": "25",
         "type": "scatter",
         "uid": "b04dac53-2040-4b07-91a5-a431a2802f87",
         "x": {
          "dtype": "float64",
          "shape": [
           150
          ]
         },
         "y": {
          "dtype": "float64",
          "shape": [
           150
          ]
         }
        },
        {
         "hoverinfo": "name",
         "hovertemplate": "%{y:.2f} eV",
         "line": {
          "color": "black",
          "width": 1.0
         },
         "mode": "lines",
         "name": "26",
         "type": "scatter",
         "uid": "b0a23b5f-cae2-4bbf-b66e-34897b9c38d9",
         "x": {
          "dtype": "float64",
          "shape": [
           150
          ]
         },
         "y": {
          "dtype": "float64",
          "shape": [
           150
          ]
         }
        },
        {
         "hoverinfo": "name",
         "hovertemplate": "%{y:.2f} eV",
         "line": {
          "color": "black",
          "width": 1.0
         },
         "mode": "lines",
         "name": "27",
         "type": "scatter",
         "uid": "9fa68216-de84-4df5-a9dd-4035463a9b72",
         "x": {
          "dtype": "float64",
          "shape": [
           150
          ]
         },
         "y": {
          "dtype": "float64",
          "shape": [
           150
          ]
         }
        },
        {
         "hoverinfo": "name",
         "hovertemplate": "%{y:.2f} eV",
         "line": {
          "color": "black",
          "width": 1.0
         },
         "mode": "lines",
         "name": "28",
         "type": "scatter",
         "uid": "07cefe61-7094-463d-977d-097b60f59de5",
         "x": {
          "dtype": "float64",
          "shape": [
           150
          ]
         },
         "y": {
          "dtype": "float64",
          "shape": [
           150
          ]
         }
        },
        {
         "hoverinfo": "name",
         "hovertemplate": "%{y:.2f} eV",
         "line": {
          "color": "black",
          "width": 1.0
         },
         "mode": "lines",
         "name": "29",
         "type": "scatter",
         "uid": "a04b6b93-ed59-4aba-8ec5-98616a7a2e05",
         "x": {
          "dtype": "float64",
          "shape": [
           150
          ]
         },
         "y": {
          "dtype": "float64",
          "shape": [
           150
          ]
         }
        },
        {
         "hoverinfo": "name",
         "hovertemplate": "%{y:.2f} eV",
         "line": {
          "color": "black",
          "width": 1.0
         },
         "mode": "lines",
         "name": "30",
         "type": "scatter",
         "uid": "44f128c7-4e19-4c8c-beef-86dca01a46e1",
         "x": {
          "dtype": "float64",
          "shape": [
           150
          ]
         },
         "y": {
          "dtype": "float64",
          "shape": [
           150
          ]
         }
        },
        {
         "mode": "lines+markers+text",
         "name": "Gap",
         "text": [
          "Gap: 1.677 eV",
          ""
         ],
         "textposition": "top right",
         "type": "scatter",
         "uid": "c357266b-fe1e-488e-8f0e-9b2901ce9a5f",
         "x": [
          2.208428,
          0.0
         ],
         "y": [
          -0.6252028084267218,
          1.0518971915732784
         ]
        },
        {
         "mode": "lines+markers+text",
         "name": "Gap",
         "text": [
          "Gap: 1.677 eV",
          ""
         ],
         "textposition": "top right",
         "type": "scatter",
         "uid": "4cb804a7-367b-48d2-a0d1-c9b9df01032d",
         "x": [
          2.208428,
          1.465149
         ],
         "y": [
          -0.6252028084267218,
          1.0518971915732784
         ]
        }
       ],
       "_dom_classes": [],
       "_js2py_layoutDelta": {},
       "_js2py_pointsCallback": {},
       "_js2py_relayout": {},
       "_js2py_restyle": {},
       "_js2py_traceDeltas": {},
       "_js2py_update": {},
       "_last_layout_edit_id": 0,
       "_last_trace_edit_id": 0,
       "_layout": {
        "template": {
         "layout": {
          "hovermode": "closest",
          "paper_bgcolor": "white",
          "plot_bgcolor": "white",
          "scene": {
           "xaxis": {
            "color": "black",
            "gridcolor": "#ccc",
            "gridwidth": 1,
            "linewidth": 1,
            "mirror": true,
            "showgrid": false,
            "showline": true,
            "ticklen": 5,
            "ticks": "outside",
            "ticksuffix": " ",
            "visible": true,
            "zeroline": false,
            "zerolinecolor": "#ccc",
            "zerolinewidth": 1
           },
           "yaxis": {
            "color": "black",
            "gridcolor": "#ccc",
            "gridwidth": 1,
            "linewidth": 1,
            "mirror": true,
            "showgrid": false,
            "showline": true,
            "ticklen": 5,
            "ticks": "outside",
            "ticksuffix": " ",
            "visible": true,
            "zeroline": false,
            "zerolinecolor": "#ccc",
            "zerolinewidth": 1
           },
           "zaxis": {
            "color": "black",
            "gridcolor": "#ccc",
            "gridwidth": 1,
            "linewidth": 1,
            "mirror": true,
            "showgrid": false,
            "showline": true,
            "ticklen": 5,
            "ticks": "outside",
            "ticksuffix": " ",
            "visible": true,
            "zeroline": false,
            "zerolinecolor": "#ccc",
            "zerolinewidth": 1
           }
          },
          "xaxis": {
           "color": "black",
           "gridcolor": "#ccc",
           "gridwidth": 1,
           "linewidth": 1,
           "mirror": true,
           "showgrid": false,
           "showline": true,
           "ticklen": 5,
           "ticks": "outside",
           "ticksuffix": " ",
           "visible": true,
           "zeroline": false,
           "zerolinecolor": "#ccc",
           "zerolinewidth": 1
          },
          "yaxis": {
           "color": "black",
           "gridcolor": "#ccc",
           "gridwidth": 1,
           "linewidth": 1,
           "mirror": true,
           "showgrid": false,
           "showline": true,
           "ticklen": 5,
           "ticks": "outside",
           "ticksuffix": " ",
           "visible": true,
           "zeroline": false,
           "zerolinecolor": "#ccc",
           "zerolinewidth": 1
          }
         }
        },
        "xaxis": {
         "mirror": true,
         "range": [
          0.0,
          2.815313
         ],
         "showgrid": true,
         "ticktext": [
          "Gamma",
          "X",
          "M",
          "Gamma",
          "R",
          "X"
         ],
         "tickvals": [
          0.0,
          0.429132,
          0.858265,
          1.465149,
          2.208428,
          2.815313
         ],
         "title": {
          "text": "K"
         }
        },
        "yaxis": {
         "mirror": true,
         "range": [
          -10,
          10
         ],
         "title": {
          "text": "Energy [eV]"
         }
        }
       },
       "_model_module": "plotlywidget",
       "_model_module_version": "^4.14.3",
       "_model_name": "FigureModel",
       "_py2js_addTraces": {},
       "_py2js_animate": {},
       "_py2js_deleteTraces": {},
       "_py2js_moveTraces": {},
       "_py2js_relayout": {},
       "_py2js_removeLayoutProps": {},
       "_py2js_removeTraceProps": {},
       "_py2js_restyle": {},
       "_py2js_update": {},
       "_view_count": 0,
       "_view_module": "plotlywidget",
       "_view_module_version": "^4.14.3",
       "_view_name": "FigureView"
      }
     },
     "7b4decf52b6f44fcbe9fa958edcabbc1": {
      "buffers": [
       {
        "data": "9gAd9CUzrz8Vl/2mibiwP11LuH627rE/5/JbsJ0ssz8CXV1zvWi0P9SkPffZnLU/xNMsqOLBtj9onepZO8y3P8ftf1vmqbg/SuxGBUJDuT/q+GqPOX65P1Eaak4iQ7k/vw4zxxWCuD+HNthicDe3P3+eXgEybrU/BpEyxWw/sz+T18VTsc6wP0nrVa2viKw/WKVQrWiOpz8i1Koc4u6iPyo/nFgVr50/5TyGWVLFlj9X2/vsVjaRP7Uz0vPjCIo/IGM0FLFQhD/+UBoVSi2BPyPybNJff4A/9knsnw4Vgj94aWeU6JqFP6raHjATj4o/kqkA/gYfkD/dI/4xaeeSPzMwQYOjL5U/yH7VQ8aVlj+wgT9JltqWP4ZTEbCs7pU/8ejJ+Wr0kz+eaNu46zWRPw8W9VB0JIw/fE414NnPhT/tSdP01gaAPwn4ixwoVHY/ola9cJl+bT+q+ha0RHhiP3amuKTa7lU/rhjfpC+ySD/2C4M0zl06P9dYoMXzsCo/MIoahpyeGT8t3JjV2FAHP0AXetw/HvQ+wPsq0iJ14D7ShZLvvYbJPovRpzUUxLI+iuIya3Ynmj40D3KXSkaBPti7XyqCoGU+sjutfRNyQz6mim0IR1wmPj5eNdpYF1M7FftvM8x6NzsdRL4lAFEbOwAAAAAAAAAAAAAAAAAAAAAAAAAAAAAAAAAAAAAAAAAAAAAAAAAAAAAAAAAAAAAAAAAAAAAAAAAAAAAAAAAAAAAAAAAAAAAAAAAAAAAAAAAAAAAAAAAAAAAAAAAAAAAAAAAAAAAAAAAAAAAAAAAAAAAAAAAAAAAAAAAAAAAAAAAAAAAAAAAAAAAAAAAAAAAAAAAAAAAAAAAAAAAAAAAAAAAAAAAAAAAAAAAAAAAAAAAAAAAAAAAAAAAAAAAAAAAAAAAAAAAAAAAAAAAAAAAAAAAAAAAAAAAAAAAAAAAAAAAAAAAAAAAAAAAAAAAAAAAAAAAAAAAAAAAAAAAAAAAAAAAAAAAAAAAAAAAAAAAAAAAAAAAAAAAAAAAAAAAAAAAAAH6/Ik3kzCc+bgEgsHHORD789l+bxjRhPowiFFbS2Hs+HW0FB4u9lD66Jz1Ko3qtPvtRtPxzvcM+mnGH9HEQ2T7gX+nU8S/uPrZ3iIPvPwE/dRcOrdq3Ej/0qJjtWkwjP1ROCTjc6jI/CC8n+1SlQT+Um+rPDVpPP0djSW2ijFo/241MRW1zZT9dHsbFDY1wP6ZEhTolaXg/0ucvq6s3gT/FAMkJUD6HP1jKVSmHCo4/PnwwAweXkj8jd7mWLgiWPwhH9bIOAJk/tGaffUUnmz/ojURX1zecP5h3wS7GC5w/AQm+tPKlmj9L2jaEWjKYP6v8HI5J/ZQ/0BOUi+pjkT+DtKrmPoWLPw9yvLTCy4Q/naNf0zwEfj+o9tPLErF0P78Snwi7QGs/e5f8TO4lYT80Z3jvZ59UP2+kkKnstEc/AjPIR7ATOj+COsGovporP607aQ+3+hw/KX8x0bo7ET9yIA0LIw8QP3U4Won14Rk/7g6Mv1sGKj+5RcnnmI46PxudH+5uDEo/oD5rFVdKWD/6NcROrH1lP0a97PMUCXI/UfGLmka3fD+AOoI3sLCFP2HN4lLtGI8/Jp5BguMplT+4/5gLD1ybPz7hgYVTzqA/m746e3Oioz/p8GZP19WlP8xtoR6UJKc/XNej4eJqpz8=",
        "encoding": "base64",
        "path": [
         "_data",
         0,
         "x",
         "buffer"
        ]
       },
       {
        "data": "rI9Foumf/79ATyyFejn/v9QOE2gL0/6/ZM75Spxs/r/4jeAtLQb+v4hNxxC+n/2/HA2u8045/b+szJTW39L8v0CMe7lwbPy/0EtinAEG/L9kC0l/kp/7v/TKL2IjOfu/iIoWRbTS+r8YSv0nRWz6v4g7kw3WBfq/HPt58Gaf+b+sumDT9zj5v0B6R7aI0vi/0DkumRls+L9k+RR8qgX4v/S4+147n/e/iHjiQcw4978YOMkkXdL2v6z3rwfua/a/PLeW6n4F9r/Qdn3ND5/1v2Q2ZLCgOPW/9PVKkzHS9L+ItTF2wmv0vxh1GFlTBfS/iGauPuSe878YJpUhdTjzv6zlewQG0vK/PKVi55Zr8r/QZEnKJwXyv2AkMK24nvG/9OMWkEk48b+Eo/1y2tHwvxhj5FVra/C/rCLLOPwE8L94xGM3Gj3vv6BDMf07cO6/wML+wl2j7b/oQcyIf9bsvwjBmU6hCey/MEBnFMM8679QvzTa5G/qvzCiYKUGo+m/UCEuayjW6L94oPswSgnov6AfyfZrPOe/wJ6WvI1v5r/oHWSCr6LlvwidMUjR1eS/MBz/DfMI5L9Qm8zTFDzjv3gampk2b+K/mJlnX1ii4b/AGDUletXgv+CXAuubCOC/EC6gYXt33r9QLDvtvt3cv6Aq1ngCRNu/YPAtD0aq2b+g7siaiRDYv/DsYybNdta/MOv+sRDd1L+A6Zk9VEPTv8DnNMmXqdG/EObPVNsP0L+gyNXAPezMv0DFC9jEuMm/wMFB70uFxr9gvncG01HDvwC7rR1aHsC/AG/HacLVub9AaDOY0G6zv4DCPo29D6q/AGot1LODmr8AoDg1p/1MvwBWpgzas5g/ADl7qdAnqT9Ao1Em2vqyP0Cq5ffLYbk/ALF5yb3Ivz/g24bN1xfDP2DfULZQS8Y/wOIan8l+yT9A5uSHQrLMP6DprnC75c8/kHa8LJqM0T9AeCGhVibTPwB6hhUTwNQ/sHvric9Z1j9wfVD+i/PXP7C3+GdIjdk/cLld3AQn2z8gu8JQwcDcP9C8J8V9Wt4/kL6MOTr03z8g4PhW+8bgPwBhK5HZk+E/2OFdy7dg4j+4YpAFli3jP5Djwj90+uM/cGT1eVLH5D9I5Se0MJTlPyhmWu4OYeY/AOeMKO0t5z/gZ79iy/rnP7jo8Zypx+g/kGkk14eU6T+4hvgLZmHqP5AHK0ZELus/cIhdgCL76z9ICZC6AMjsPyiKwvTelO0/AAv1Lr1h7j/giydpmy7vP7gMWqN5++8/zEbG7itk8D84h98Lm8rwP6TH+CgKMfE/FAgSRnmX8T+ASCtj6P3xP/CIRIBXZPI/XMldncbK8j/MCXe6NTHzP1wY4dSkl/M/zFj68RP+8z84mRMPg2T0P6jZLCzyyvQ/FBpGSWEx9T+AWl9m0Jf1P/CaeIM//vU/XNuRoK5k9j/MG6u9Hcv2PzhcxNqMMfc/qJzd9/uX9z8U3fYUa/73P4QdEDLaZPg/8F0pT0nL+D9gnkJsuDH5P8zeW4knmPk/XO3Fo5b++T/MLd/ABWX6Pzhu+N10y/o/qK4R++Mx+z8U7yoYU5j7P4QvRDXC/vs/8G9dUjFl/D9gsHZvoMv8P8zwj4wPMv0/PDGpqX6Y/T+occLG7f79Pxiy2+NcZf4/hPL0AMzL/j/yMg4eOzL/P2BzJzuqmP8/zrNAWBn//z8=",
        "encoding": "base64",
        "path": [
         "_data",
         0,
         "y",
         "buffer"
        ]
       },
       {
        "data": "emb+q4mEvj+CZbXdlxO+Pz5rtgSY8b0/28BgN/MXvj8EZL6XB2i+P9DC3oycsr4/l4U1joLEvj++bHIuzHO+P++5GSE0qb0/vML/1jtjvD+7Ev6gPbO6P+aHkIqttrg/SkI7YFmPtj8XpsxUzVy0P/QP9xfbN7I/yyC7g18wsD8t0LVNDJqsP34bQ/igGak/iVAyYwfUpT9pSbDIt7uiP1te4MEKkJ8/U4gGF9/ymT/k2dsj/rOUP11A7WmR548/6adoiKunhz/PU8SWQ9iAP7cPBKP6EHc/mLPGR8yQbj9IOpoMXexjP+M0V3hJZ1o/OllHRXqvUj8/x73C+YVNP+LWOTnOG0o/FmJ8+KnJSD+MNkz1fgBIP3CMxfmH3EY/Q5IBba8ART+ATxpfh29CPwQslVyHyj4/chEg/8hqOD9LezGfy14yP7mO1mbzNio/iIea7vK7IT/iMIkVjL8WP0DRhOcsqQs/CL/hbzXh/z5XSdUoP2nxPlSTNobWBeI+/3xuXIyt0T7TWL3a1m3APoFXgNA27qw+lNsLz1ghmD6iIstidRCDPlgWquENiGw+YNtNyz84VD6Qmx6LqSM7PogdvtcZPyE+bqYkcOO4Aj7UsaWgVIflPcgIx0EArRY7eoATUWTj+zpNQO7YATngOgAAAAAAAAAAAAAAAAAAAAAAAAAAAAAAAAAAAAAAAAAAAAAAAAAAAAAAAAAAAAAAAAAAAAAAAAAAAAAAAAAAAAAAAAAAAAAAAAAAAAAAAAAAAAAAAAAAAAAAAAAAAAAAAAAAAAAAAAAAAAAAAAAAAAAAAAAAAAAAAAAAAAAAAAAAAAAAAAAAAAAAAAAAAAAAAAAAAAAAAAAAAAAAAAAAAAAAAAAAAAAAAAAAAAAAAAAAAAAAAAAAAAAAAAAAAAAAAAAAAAAAAAAAAAAAAAAAAAAAAAAAAAAAAAAAAAAAAAAAAAAAAAAAAAAAAAAAAAAAAAAAAAAAAAAAAAAAAAAAAAAAAAAAAAAAAAAAAAAAAAAAAAAAAAAAAAAAAAAAAAAAAFjet9ZYS2o+xkwp7JX8hj4yX/GtVgKjPvf+n3R2/L4+Aoq85vwb1z6shBvn+pHwPlv9SvUWRwY/ItAySVZrHD8jXLj3yTkxP3ABtwBV1EM/DkeZiAC1VT89SJcvJ55mPz/d/3pbdHY/e+G4/5hDhT/aaB/iADuTPxGOZOf/oKA/ToJH4eKHqz+wx5qJide1P9Nz73rxn8A/WUhr8fVMyD8PuE69oRDRP6xC3nUoCtc/SkTRwcTo3T+6seE23qriPyfiHbdzZ+Y/ejI/77LY6T9smMFpC6fsP7DGSZd0gu4/2m27nrgw7z/SpDnf75juPz/RXhkeyew/XHWPLkf06T+QVa+FTGnmP/PkuovPhOI/pBI5WCRD3T9k0PgC9BXWP+g6djrY0c8/lzejT6zbxT8vnISvrJy8P+OGDLMA1LE/PrcbrRwkpT+n0DX8CN+XP4yczoS/04k/SQOa6MSqez/hBu70HstwP1q51CStQ28/Kvh80lskeD/e0V77efKGPyhwJ5jSJpY/PwC8rkSYpD+IjjhEZz2yP3bTVRZoub4/SOajrzedyD8CDtcWV8XSP6CaL21tR9s/JSy2r3bo4j+wjMgF+wjpP/kZGhAItO8/v6FUqhI68z831Ae4dF72PyoybCIB//g/fV6IHwvc+j8=",
        "encoding": "base64",
        "path": [
         "_data",
         1,
         "x",
         "buffer"
        ]
       },
       {
        "data": "rI9Foumf/79ATyyFejn/v9QOE2gL0/6/ZM75Spxs/r/4jeAtLQb+v4hNxxC+n/2/HA2u8045/b+szJTW39L8v0CMe7lwbPy/0EtinAEG/L9kC0l/kp/7v/TKL2IjOfu/iIoWRbTS+r8YSv0nRWz6v4g7kw3WBfq/HPt58Gaf+b+sumDT9zj5v0B6R7aI0vi/0DkumRls+L9k+RR8qgX4v/S4+147n/e/iHjiQcw4978YOMkkXdL2v6z3rwfua/a/PLeW6n4F9r/Qdn3ND5/1v2Q2ZLCgOPW/9PVKkzHS9L+ItTF2wmv0vxh1GFlTBfS/iGauPuSe878YJpUhdTjzv6zlewQG0vK/PKVi55Zr8r/QZEnKJwXyv2AkMK24nvG/9OMWkEk48b+Eo/1y2tHwvxhj5FVra/C/rCLLOPwE8L94xGM3Gj3vv6BDMf07cO6/wML+wl2j7b/oQcyIf9bsvwjBmU6hCey/MEBnFMM8679QvzTa5G/qvzCiYKUGo+m/UCEuayjW6L94oPswSgnov6AfyfZrPOe/wJ6WvI1v5r/oHWSCr6LlvwidMUjR1eS/MBz/DfMI5L9Qm8zTFDzjv3gampk2b+K/mJlnX1ii4b/AGDUletXgv+CXAuubCOC/EC6gYXt33r9QLDvtvt3cv6Aq1ngCRNu/YPAtD0aq2b+g7siaiRDYv/DsYybNdta/MOv+sRDd1L+A6Zk9VEPTv8DnNMmXqdG/EObPVNsP0L+gyNXAPezMv0DFC9jEuMm/wMFB70uFxr9gvncG01HDvwC7rR1aHsC/AG/HacLVub9AaDOY0G6zv4DCPo29D6q/AGot1LODmr8AoDg1p/1MvwBWpgzas5g/ADl7qdAnqT9Ao1Em2vqyP0Cq5ffLYbk/ALF5yb3Ivz/g24bN1xfDP2DfULZQS8Y/wOIan8l+yT9A5uSHQrLMP6DprnC75c8/kHa8LJqM0T9AeCGhVibTPwB6hhUTwNQ/sHvric9Z1j9wfVD+i/PXP7C3+GdIjdk/cLld3AQn2z8gu8JQwcDcP9C8J8V9Wt4/kL6MOTr03z8g4PhW+8bgPwBhK5HZk+E/2OFdy7dg4j+4YpAFli3jP5Djwj90+uM/cGT1eVLH5D9I5Se0MJTlPyhmWu4OYeY/AOeMKO0t5z/gZ79iy/rnP7jo8Zypx+g/kGkk14eU6T+4hvgLZmHqP5AHK0ZELus/cIhdgCL76z9ICZC6AMjsPyiKwvTelO0/AAv1Lr1h7j/giydpmy7vP7gMWqN5++8/zEbG7itk8D84h98Lm8rwP6TH+CgKMfE/FAgSRnmX8T+ASCtj6P3xP/CIRIBXZPI/XMldncbK8j/MCXe6NTHzP1wY4dSkl/M/zFj68RP+8z84mRMPg2T0P6jZLCzyyvQ/FBpGSWEx9T+AWl9m0Jf1P/CaeIM//vU/XNuRoK5k9j/MG6u9Hcv2PzhcxNqMMfc/qJzd9/uX9z8U3fYUa/73P4QdEDLaZPg/8F0pT0nL+D9gnkJsuDH5P8zeW4knmPk/XO3Fo5b++T/MLd/ABWX6Pzhu+N10y/o/qK4R++Mx+z8U7yoYU5j7P4QvRDXC/vs/8G9dUjFl/D9gsHZvoMv8P8zwj4wPMv0/PDGpqX6Y/T+occLG7f79Pxiy2+NcZf4/hPL0AMzL/j/yMg4eOzL/P2BzJzuqmP8/zrNAWBn//z8=",
        "encoding": "base64",
        "path": [
         "_data",
         1,
         "y",
         "buffer"
        ]
       },
       {
        "data": "v0nth8pA/T/aZF9P+mT+P6xM3ECs/v8/BDmThSkBAUC5aDe7Dy4CQN9EZd2rdwNAXZ36ylbLBEDDobtE0xIGQMDN3oKENQdA7UpyXScaCEBmbyRCGKkIQDkA5GEQzwhAEn/9DvR/CEBL68ar/LgHQGz314V1gQZALBhMMZ3pBEAtAK9q5gcDQCx/WJh+9QBAtiV+8X+W/T9vBuxl3j/5PySnRYblD/U/ZhhkeAQs8T8R3a1Xz2/rPyFeAljDq+U/8c21wP9K4T8OcwU/6wHdP/vMrcJH2to/yfhua9sj3D/RtjGXEUzgP9Nv82L4zOM/lnCtpvEa6D9hztPmXZrsPz7K6fl0UPA/uXZTBjfI8T+WocNEpnnyP/jhL0MeSfI/2w28FlM+8T8drast+QDvP+cwFMWql+o/Au1kqbDH5T8oAyyNgAzhPxIPgIG2h9k/lKqR3glM0j8FVieN/h3JP3UTjVIShMA/rnt5bEfPtD8G3UuApB2pP4/HDEYcBp0/1Ag4LNwLkD9+g+NamfaAP0PHQiXoIHE/CdMJDOSAYD8R0dc521BOPxiwRs9NhDo/i2C1zW8RJj98uSjnt3URPw7hINjSPvo+sf2iTl984j7iGeiDthrJPrLhcbaqn64+NPSB5eHUkj4+9gRCpeh1PgAAAAAAAAAAAAAAAAAAAAAAAAAAAAAAAAAAAAAAAAAAAAAAAAAAAAAAAAAAAAAAAAAAAAAAAAAAAAAAAAAAAAAAAAAAAAAAAAAAAAAAAAAAAAAAAAAAAAAAAAAAAAAAAAAAAAAAAAAAAAAAAAAAAAAAAAAAAAAAAAAAAAAAAAAAAAAAAAAAAAAAAAAAAAAAAAAAAAAAAAAAAAAAAAAAAAAAAAAAAAAAAAAAAAAAAAAAAAAAAAAAAAAAAAAAAAAAAAAAAAAAAAAAAAAAAAAAAAAAAAAAAAAAAAAAAAAAAAAAAAAAAAAAAAAAAAAAAAAAAAAAAAAAAAAAAAAAAAAAAAAAAAAAAAAAAAAAAAAAAAAAAAAAAAAAAAAAAAAAAAAAAGDZsgj0li8+tZUEQ6qdSz6IeW0zW9ZmPrGZH4Ai4oI+fMv7v649nD48MjpkGVi0PnzQzOLbdcs+khRHq62Y4T7fXKtMH3L1PqB/9feT1gg/B8K+vdFgGz+BaIVkZb8sP9LB1zecyDw/weOsLn6CSz/fTWUXnB9ZPw8och9U8mU/BTaW7O1acj/z7hfFk2t9P3ARP1+xm4Y/LkV5IeaqkD+hShxd6pWXP1KhtM6hBKA/bXgIT7bipD/BV14g0iOqPwQEIAF4Zq8/zG/qkScZsj+Rq2Y/VwS0P+ulRQDLPLU/t6lZDS6ctT8ObYyTahW1P11sxIV0t7M/f5/+PYiqsT8jel7LL1GuP0GL73C55ag/AUdMezGOoz9zf079qFudPwoIE3gUC5U/yvhCjxbIjD+okEhLZ8OCPwTf/GX4TXc/9Q+6v3+Raz90qv8kySNfP116h14uDlE/iUQ/Omt+Qz+jU5DyqXQ9Pw3CwGcQEUM/bHEDpjClUT9rHu8ClqthPxYnAeX2S3E/FXqYIfYrgD9If5XzPcKMP8MrXyJCT5g/Lc9vsmKLoz99uDqI+umtPz1zOsCqz7U/6E1AQFxWvj9jooZ7DybEPzwqrscBmMk/vgItPTIizz8/0tAq+yjSPzzSsEQeWNQ/z+Nd01zp1T8=",
        "encoding": "base64",
        "path": [
         "_data",
         2,
         "x",
         "buffer"
        ]
       },
       {
        "data": "rI9Foumf/79ATyyFejn/v9QOE2gL0/6/ZM75Spxs/r/4jeAtLQb+v4hNxxC+n/2/HA2u8045/b+szJTW39L8v0CMe7lwbPy/0EtinAEG/L9kC0l/kp/7v/TKL2IjOfu/iIoWRbTS+r8YSv0nRWz6v4g7kw3WBfq/HPt58Gaf+b+sumDT9zj5v0B6R7aI0vi/0DkumRls+L9k+RR8qgX4v/S4+147n/e/iHjiQcw4978YOMkkXdL2v6z3rwfua/a/PLeW6n4F9r/Qdn3ND5/1v2Q2ZLCgOPW/9PVKkzHS9L+ItTF2wmv0vxh1GFlTBfS/iGauPuSe878YJpUhdTjzv6zlewQG0vK/PKVi55Zr8r/QZEnKJwXyv2AkMK24nvG/9OMWkEk48b+Eo/1y2tHwvxhj5FVra/C/rCLLOPwE8L94xGM3Gj3vv6BDMf07cO6/wML+wl2j7b/oQcyIf9bsvwjBmU6hCey/MEBnFMM8679QvzTa5G/qvzCiYKUGo+m/UCEuayjW6L94oPswSgnov6AfyfZrPOe/wJ6WvI1v5r/oHWSCr6LlvwidMUjR1eS/MBz/DfMI5L9Qm8zTFDzjv3gampk2b+K/mJlnX1ii4b/AGDUletXgv+CXAuubCOC/EC6gYXt33r9QLDvtvt3cv6Aq1ngCRNu/YPAtD0aq2b+g7siaiRDYv/DsYybNdta/MOv+sRDd1L+A6Zk9VEPTv8DnNMmXqdG/EObPVNsP0L+gyNXAPezMv0DFC9jEuMm/wMFB70uFxr9gvncG01HDvwC7rR1aHsC/AG/HacLVub9AaDOY0G6zv4DCPo29D6q/AGot1LODmr8AoDg1p/1MvwBWpgzas5g/ADl7qdAnqT9Ao1Em2vqyP0Cq5ffLYbk/ALF5yb3Ivz/g24bN1xfDP2DfULZQS8Y/wOIan8l+yT9A5uSHQrLMP6DprnC75c8/kHa8LJqM0T9AeCGhVibTPwB6hhUTwNQ/sHvric9Z1j9wfVD+i/PXP7C3+GdIjdk/cLld3AQn2z8gu8JQwcDcP9C8J8V9Wt4/kL6MOTr03z8g4PhW+8bgPwBhK5HZk+E/2OFdy7dg4j+4YpAFli3jP5Djwj90+uM/cGT1eVLH5D9I5Se0MJTlPyhmWu4OYeY/AOeMKO0t5z/gZ79iy/rnP7jo8Zypx+g/kGkk14eU6T+4hvgLZmHqP5AHK0ZELus/cIhdgCL76z9ICZC6AMjsPyiKwvTelO0/AAv1Lr1h7j/giydpmy7vP7gMWqN5++8/zEbG7itk8D84h98Lm8rwP6TH+CgKMfE/FAgSRnmX8T+ASCtj6P3xP/CIRIBXZPI/XMldncbK8j/MCXe6NTHzP1wY4dSkl/M/zFj68RP+8z84mRMPg2T0P6jZLCzyyvQ/FBpGSWEx9T+AWl9m0Jf1P/CaeIM//vU/XNuRoK5k9j/MG6u9Hcv2PzhcxNqMMfc/qJzd9/uX9z8U3fYUa/73P4QdEDLaZPg/8F0pT0nL+D9gnkJsuDH5P8zeW4knmPk/XO3Fo5b++T/MLd/ABWX6Pzhu+N10y/o/qK4R++Mx+z8U7yoYU5j7P4QvRDXC/vs/8G9dUjFl/D9gsHZvoMv8P8zwj4wPMv0/PDGpqX6Y/T+occLG7f79Pxiy2+NcZf4/hPL0AMzL/j/yMg4eOzL/P2BzJzuqmP8/zrNAWBn//z8=",
        "encoding": "base64",
        "path": [
         "_data",
         2,
         "y",
         "buffer"
        ]
       }
      ],
      "model_module": "plotlywidget",
      "model_module_version": "^4.14.3",
      "model_name": "FigureModel",
      "state": {
       "_config": {
        "plotlyServerURL": "https://plot.ly"
       },
       "_data": [
        {
         "hoverinfo": "name",
         "line": {
          "dash": "solid",
          "width": 1
         },
         "mode": "lines",
         "name": " | species=Sr",
         "type": "scatter",
         "uid": "ba112f4b-0823-47c4-9581-c6c78cfca512",
         "x": {
          "dtype": "float64",
          "shape": [
           160
          ]
         },
         "y": {
          "dtype": "float64",
          "shape": [
           160
          ]
         }
        },
        {
         "hoverinfo": "name",
         "line": {
          "dash": "solid",
          "width": 1
         },
         "mode": "lines",
         "name": " | species=Ti",
         "type": "scatter",
         "uid": "8f96a418-1a34-4e51-b306-fa32818bca03",
         "x": {
          "dtype": "float64",
          "shape": [
           160
          ]
         },
         "y": {
          "dtype": "float64",
          "shape": [
           160
          ]
         }
        },
        {
         "hoverinfo": "name",
         "line": {
          "dash": "solid",
          "width": 1
         },
         "mode": "lines",
         "name": " | species=O",
         "type": "scatter",
         "uid": "3490f65f-c9b6-4df0-8e6b-e2040799a06a",
         "x": {
          "dtype": "float64",
          "shape": [
           160
          ]
         },
         "y": {
          "dtype": "float64",
          "shape": [
           160
          ]
         }
        }
       ],
       "_dom_classes": [],
       "_js2py_layoutDelta": {},
       "_js2py_pointsCallback": {},
       "_js2py_relayout": {},
       "_js2py_restyle": {},
       "_js2py_traceDeltas": {},
       "_js2py_update": {},
       "_last_layout_edit_id": 0,
       "_last_trace_edit_id": 0,
       "_layout": {
        "showlegend": true,
        "template": {
         "layout": {
          "hovermode": "closest",
          "paper_bgcolor": "white",
          "plot_bgcolor": "white",
          "scene": {
           "xaxis": {
            "color": "black",
            "gridcolor": "#ccc",
            "gridwidth": 1,
            "linewidth": 1,
            "mirror": true,
            "showgrid": false,
            "showline": true,
            "ticklen": 5,
            "ticks": "outside",
            "ticksuffix": " ",
            "visible": true,
            "zeroline": false,
            "zerolinecolor": "#ccc",
            "zerolinewidth": 1
           },
           "yaxis": {
            "color": "black",
            "gridcolor": "#ccc",
            "gridwidth": 1,
            "linewidth": 1,
            "mirror": true,
            "showgrid": false,
            "showline": true,
            "ticklen": 5,
            "ticks": "outside",
            "ticksuffix": " ",
            "visible": true,
            "zeroline": false,
            "zerolinecolor": "#ccc",
            "zerolinewidth": 1
           },
           "zaxis": {
            "color": "black",
            "gridcolor": "#ccc",
            "gridwidth": 1,
            "linewidth": 1,
            "mirror": true,
            "showgrid": false,
            "showline": true,
            "ticklen": 5,
            "ticks": "outside",
            "ticksuffix": " ",
            "visible": true,
            "zeroline": false,
            "zerolinecolor": "#ccc",
            "zerolinewidth": 1
           }
          },
          "xaxis": {
           "color": "black",
           "gridcolor": "#ccc",
           "gridwidth": 1,
           "linewidth": 1,
           "mirror": true,
           "showgrid": false,
           "showline": true,
           "ticklen": 5,
           "ticks": "outside",
           "ticksuffix": " ",
           "visible": true,
           "zeroline": false,
           "zerolinecolor": "#ccc",
           "zerolinewidth": 1
          },
          "yaxis": {
           "color": "black",
           "gridcolor": "#ccc",
           "gridwidth": 1,
           "linewidth": 1,
           "mirror": true,
           "showgrid": false,
           "showline": true,
           "ticklen": 5,
           "ticks": "outside",
           "ticksuffix": " ",
           "visible": true,
           "zeroline": false,
           "zerolinecolor": "#ccc",
           "zerolinewidth": 1
          }
         }
        },
        "xaxis": {
         "mirror": true,
         "title": {
          "text": "Density of states [1/eV]"
         }
        },
        "yaxis": {
         "mirror": true,
         "range": [
          -2.0,
          2.0
         ],
         "title": {
          "text": "Energy [eV]"
         }
        }
       },
       "_model_module": "plotlywidget",
       "_model_module_version": "^4.14.3",
       "_model_name": "FigureModel",
       "_py2js_addTraces": {},
       "_py2js_animate": {},
       "_py2js_deleteTraces": {},
       "_py2js_moveTraces": {},
       "_py2js_relayout": {},
       "_py2js_removeLayoutProps": {},
       "_py2js_removeTraceProps": {},
       "_py2js_restyle": {},
       "_py2js_update": {},
       "_view_count": 0,
       "_view_module": "plotlywidget",
       "_view_module_version": "^4.14.3",
       "_view_name": "FigureView"
      }
     }
    },
    "version_major": 2,
    "version_minor": 0
   }
  }
 },
 "nbformat": 4,
 "nbformat_minor": 2
}
