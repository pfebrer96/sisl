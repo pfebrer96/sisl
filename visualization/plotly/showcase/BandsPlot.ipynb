{
 "cells": [
  {
   "cell_type": "markdown",
   "metadata": {
    "tags": [
     "notebook-header"
    ]
   },
   "source": [
    "[![GitHub issues by-label](https://img.shields.io/github/issues-raw/pfebrer96/sisl/BandsPlot?style=for-the-badge)](https://github.com/pfebrer96/sisl/labels/BandsPlot)"
   ]
  },
  {
   "cell_type": "markdown",
   "metadata": {},
   "source": [
    "    \n",
    "    \n",
    "BandsPlot \n",
    "========="
   ]
  },
  {
   "cell_type": "code",
   "execution_count": 1,
   "metadata": {
    "execution": {
     "iopub.execute_input": "2021-02-05T11:25:19.174477Z",
     "iopub.status.busy": "2021-02-05T11:25:19.173797Z",
     "iopub.status.idle": "2021-02-05T11:25:21.252610Z",
     "shell.execute_reply": "2021-02-05T11:25:21.253285Z"
    }
   },
   "outputs": [
    {
     "name": "stderr",
     "output_type": "stream",
     "text": [
      "info:0: SislInfo: Please install tqdm (pip install tqdm) for better looking progress bars\n"
     ]
    },
    {
     "ename": "ModuleNotFoundError",
     "evalue": "No module named 'tqdm'",
     "output_type": "error",
     "traceback": [
      "\u001b[0;31m---------------------------------------------------------------------------\u001b[0m",
      "\u001b[0;31mModuleNotFoundError\u001b[0m                       Traceback (most recent call last)",
      "\u001b[0;32m<ipython-input-1-156cfdef8a15>\u001b[0m in \u001b[0;36m<module>\u001b[0;34m\u001b[0m\n\u001b[1;32m      1\u001b[0m \u001b[0;32mimport\u001b[0m \u001b[0msisl\u001b[0m\u001b[0;34m\u001b[0m\u001b[0;34m\u001b[0m\u001b[0m\n\u001b[0;32m----> 2\u001b[0;31m \u001b[0;32mimport\u001b[0m \u001b[0msisl\u001b[0m\u001b[0;34m.\u001b[0m\u001b[0mviz\u001b[0m\u001b[0;34m\u001b[0m\u001b[0;34m\u001b[0m\u001b[0m\n\u001b[0m",
      "\u001b[0;32m/opt/hostedtoolcache/Python/3.6.12/x64/lib/python3.6/site-packages/sisl/viz/__init__.py\u001b[0m in \u001b[0;36m<module>\u001b[0;34m\u001b[0m\n\u001b[1;32m     18\u001b[0m \u001b[0;34m\u001b[0m\u001b[0m\n\u001b[1;32m     19\u001b[0m \u001b[0;31m# Import everything from the plotly submodule\u001b[0m\u001b[0;34m\u001b[0m\u001b[0;34m\u001b[0m\u001b[0;34m\u001b[0m\u001b[0m\n\u001b[0;32m---> 20\u001b[0;31m \u001b[0;32mfrom\u001b[0m \u001b[0;34m.\u001b[0m\u001b[0mplotly\u001b[0m \u001b[0;32mimport\u001b[0m \u001b[0;34m*\u001b[0m\u001b[0;34m\u001b[0m\u001b[0;34m\u001b[0m\u001b[0m\n\u001b[0m\u001b[1;32m     21\u001b[0m \u001b[0;32mfrom\u001b[0m \u001b[0;34m.\u001b[0m\u001b[0mplotly\u001b[0m \u001b[0;32mimport\u001b[0m \u001b[0mplotutils\u001b[0m\u001b[0;34m\u001b[0m\u001b[0;34m\u001b[0m\u001b[0m\n\u001b[1;32m     22\u001b[0m \u001b[0;34m\u001b[0m\u001b[0m\n",
      "\u001b[0;32m/opt/hostedtoolcache/Python/3.6.12/x64/lib/python3.6/site-packages/sisl/viz/plotly/__init__.py\u001b[0m in \u001b[0;36m<module>\u001b[0;34m\u001b[0m\n\u001b[1;32m     25\u001b[0m \u001b[0;32mfrom\u001b[0m \u001b[0;34m.\u001b[0m\u001b[0m_user_customs\u001b[0m \u001b[0;32mimport\u001b[0m \u001b[0mimport_user_plots\u001b[0m\u001b[0;34m,\u001b[0m \u001b[0mimport_user_presets\u001b[0m\u001b[0;34m,\u001b[0m \u001b[0mimport_user_sessions\u001b[0m\u001b[0;34m,\u001b[0m \u001b[0mimport_user_plugins\u001b[0m\u001b[0;34m\u001b[0m\u001b[0;34m\u001b[0m\u001b[0m\n\u001b[1;32m     26\u001b[0m \u001b[0;34m\u001b[0m\u001b[0m\n\u001b[0;32m---> 27\u001b[0;31m \u001b[0;32mfrom\u001b[0m \u001b[0;34m.\u001b[0m\u001b[0mplot\u001b[0m \u001b[0;32mimport\u001b[0m \u001b[0mPlot\u001b[0m\u001b[0;34m,\u001b[0m \u001b[0mAnimation\u001b[0m\u001b[0;34m,\u001b[0m \u001b[0mMultiplePlot\u001b[0m\u001b[0;34m,\u001b[0m \u001b[0mSubPlots\u001b[0m\u001b[0;34m\u001b[0m\u001b[0;34m\u001b[0m\u001b[0m\n\u001b[0m\u001b[1;32m     28\u001b[0m \u001b[0;32mfrom\u001b[0m \u001b[0;34m.\u001b[0m\u001b[0mplots\u001b[0m \u001b[0;32mimport\u001b[0m \u001b[0;34m*\u001b[0m\u001b[0;34m\u001b[0m\u001b[0;34m\u001b[0m\u001b[0m\n\u001b[1;32m     29\u001b[0m \u001b[0;32mfrom\u001b[0m \u001b[0;34m.\u001b[0m\u001b[0msession\u001b[0m \u001b[0;32mimport\u001b[0m \u001b[0mSession\u001b[0m\u001b[0;34m\u001b[0m\u001b[0;34m\u001b[0m\u001b[0m\n",
      "\u001b[0;32m/opt/hostedtoolcache/Python/3.6.12/x64/lib/python3.6/site-packages/sisl/viz/plotly/plot.py\u001b[0m in \u001b[0;36m<module>\u001b[0;34m\u001b[0m\n\u001b[1;32m     21\u001b[0m \u001b[0;32mimport\u001b[0m \u001b[0msisl\u001b[0m\u001b[0;34m\u001b[0m\u001b[0;34m\u001b[0m\u001b[0m\n\u001b[1;32m     22\u001b[0m \u001b[0;34m\u001b[0m\u001b[0m\n\u001b[0;32m---> 23\u001b[0;31m \u001b[0;32mfrom\u001b[0m \u001b[0;34m.\u001b[0m\u001b[0mconfigurable\u001b[0m \u001b[0;32mimport\u001b[0m \u001b[0mConfigurable\u001b[0m\u001b[0;34m,\u001b[0m \u001b[0mConfigurableMeta\u001b[0m\u001b[0;34m,\u001b[0m \u001b[0mvizplotly_settings\u001b[0m\u001b[0;34m,\u001b[0m \u001b[0m_populate_with_settings\u001b[0m\u001b[0;34m\u001b[0m\u001b[0;34m\u001b[0m\u001b[0m\n\u001b[0m\u001b[1;32m     24\u001b[0m \u001b[0;32mfrom\u001b[0m \u001b[0;34m.\u001b[0m\u001b[0m_presets\u001b[0m \u001b[0;32mimport\u001b[0m \u001b[0mget_preset\u001b[0m\u001b[0;34m\u001b[0m\u001b[0;34m\u001b[0m\u001b[0m\n\u001b[1;32m     25\u001b[0m \u001b[0;32mfrom\u001b[0m \u001b[0;34m.\u001b[0m\u001b[0mplotutils\u001b[0m \u001b[0;32mimport\u001b[0m \u001b[0minit_multiple_plots\u001b[0m\u001b[0;34m,\u001b[0m \u001b[0mrepeat_if_childs\u001b[0m\u001b[0;34m,\u001b[0m \u001b[0mdictOfLists2listOfDicts\u001b[0m\u001b[0;34m,\u001b[0m \u001b[0mtrigger_notification\u001b[0m\u001b[0;34m,\u001b[0m\u001b[0;31m \u001b[0m\u001b[0;31m\\\u001b[0m\u001b[0;34m\u001b[0m\u001b[0;34m\u001b[0m\u001b[0m\n",
      "\u001b[0;32m/opt/hostedtoolcache/Python/3.6.12/x64/lib/python3.6/site-packages/sisl/viz/plotly/configurable.py\u001b[0m in \u001b[0;36m<module>\u001b[0;34m\u001b[0m\n\u001b[1;32m     11\u001b[0m \u001b[0;32mfrom\u001b[0m \u001b[0msisl\u001b[0m\u001b[0;34m.\u001b[0m\u001b[0m_dispatcher\u001b[0m \u001b[0;32mimport\u001b[0m \u001b[0mAbstractDispatch\u001b[0m\u001b[0;34m\u001b[0m\u001b[0;34m\u001b[0m\u001b[0m\n\u001b[1;32m     12\u001b[0m \u001b[0;32mfrom\u001b[0m \u001b[0;34m.\u001b[0m\u001b[0m_presets\u001b[0m \u001b[0;32mimport\u001b[0m \u001b[0mget_preset\u001b[0m\u001b[0;34m\u001b[0m\u001b[0;34m\u001b[0m\u001b[0m\n\u001b[0;32m---> 13\u001b[0;31m \u001b[0;32mfrom\u001b[0m \u001b[0;34m.\u001b[0m\u001b[0mplotutils\u001b[0m \u001b[0;32mimport\u001b[0m \u001b[0mget_configurable_docstring\u001b[0m\u001b[0;34m,\u001b[0m \u001b[0mget_configurable_kwargs\u001b[0m\u001b[0;34m,\u001b[0m \u001b[0mget_configurable_kwargs_to_pass\u001b[0m\u001b[0;34m\u001b[0m\u001b[0;34m\u001b[0m\u001b[0m\n\u001b[0m\u001b[1;32m     14\u001b[0m \u001b[0;34m\u001b[0m\u001b[0m\n\u001b[1;32m     15\u001b[0m \u001b[0m__all__\u001b[0m \u001b[0;34m=\u001b[0m \u001b[0;34m[\u001b[0m\u001b[0;34m\"Configurable\"\u001b[0m\u001b[0;34m,\u001b[0m \u001b[0;34m\"vizplotly_settings\"\u001b[0m\u001b[0;34m]\u001b[0m\u001b[0;34m\u001b[0m\u001b[0;34m\u001b[0m\u001b[0m\n",
      "\u001b[0;32m/opt/hostedtoolcache/Python/3.6.12/x64/lib/python3.6/site-packages/sisl/viz/plotly/plotutils.py\u001b[0m in \u001b[0;36m<module>\u001b[0;34m\u001b[0m\n\u001b[1;32m      8\u001b[0m \u001b[0;32mimport\u001b[0m \u001b[0mitertools\u001b[0m\u001b[0;34m\u001b[0m\u001b[0;34m\u001b[0m\u001b[0m\n\u001b[1;32m      9\u001b[0m \u001b[0;32mfrom\u001b[0m \u001b[0mpathos\u001b[0m\u001b[0;34m.\u001b[0m\u001b[0mpools\u001b[0m \u001b[0;32mimport\u001b[0m \u001b[0mProcessPool\u001b[0m \u001b[0;32mas\u001b[0m \u001b[0mPool\u001b[0m\u001b[0;34m\u001b[0m\u001b[0;34m\u001b[0m\u001b[0m\n\u001b[0;32m---> 10\u001b[0;31m \u001b[0;32mimport\u001b[0m \u001b[0mtqdm\u001b[0m\u001b[0;34m\u001b[0m\u001b[0;34m\u001b[0m\u001b[0m\n\u001b[0m\u001b[1;32m     11\u001b[0m \u001b[0;34m\u001b[0m\u001b[0m\n\u001b[1;32m     12\u001b[0m \u001b[0;32mfrom\u001b[0m \u001b[0mcopy\u001b[0m \u001b[0;32mimport\u001b[0m \u001b[0mdeepcopy\u001b[0m\u001b[0;34m\u001b[0m\u001b[0;34m\u001b[0m\u001b[0m\n",
      "\u001b[0;31mModuleNotFoundError\u001b[0m: No module named 'tqdm'"
     ]
    }
   ],
   "source": [
    "import sisl\n",
    "import sisl.viz"
   ]
  },
  {
   "cell_type": "markdown",
   "metadata": {},
   "source": [
    "Let's get a bands_plot from a `.bands` file"
   ]
  },
  {
   "cell_type": "code",
   "execution_count": 2,
   "metadata": {
    "execution": {
     "iopub.execute_input": "2021-02-05T11:25:21.265973Z",
     "iopub.status.busy": "2021-02-05T11:25:21.257514Z",
     "iopub.status.idle": "2021-02-05T11:25:21.274666Z",
     "shell.execute_reply": "2021-02-05T11:25:21.274078Z"
    }
   },
   "outputs": [
    {
     "ename": "AttributeError",
     "evalue": "The filehandle for ../../../../files/tests/sisl/io/siesta/SrTiO3.bands has not been opened yet...",
     "output_type": "error",
     "traceback": [
      "\u001b[0;31m---------------------------------------------------------------------------\u001b[0m",
      "\u001b[0;31mAttributeError\u001b[0m                            Traceback (most recent call last)",
      "\u001b[0;32m<ipython-input-1-2d681e9587b8>\u001b[0m in \u001b[0;36m<module>\u001b[0;34m\u001b[0m\n\u001b[0;32m----> 1\u001b[0;31m \u001b[0mbands_plot\u001b[0m \u001b[0;34m=\u001b[0m \u001b[0msisl\u001b[0m\u001b[0;34m.\u001b[0m\u001b[0mget_sile\u001b[0m\u001b[0;34m(\u001b[0m\u001b[0;34m\"../../../../files/tests/sisl/io/siesta/SrTiO3.bands\"\u001b[0m\u001b[0;34m)\u001b[0m\u001b[0;34m.\u001b[0m\u001b[0mplot\u001b[0m\u001b[0;34m(\u001b[0m\u001b[0;34m)\u001b[0m\u001b[0;34m\u001b[0m\u001b[0;34m\u001b[0m\u001b[0m\n\u001b[0m",
      "\u001b[0;32m/opt/hostedtoolcache/Python/3.6.12/x64/lib/python3.6/site-packages/sisl/io/sile.py\u001b[0m in \u001b[0;36m__getattr__\u001b[0;34m(self, name)\u001b[0m\n\u001b[1;32m    455\u001b[0m         \u001b[0;32mif\u001b[0m \u001b[0mname\u001b[0m \u001b[0;34m==\u001b[0m \u001b[0;34m'fh'\u001b[0m\u001b[0;34m:\u001b[0m\u001b[0;34m\u001b[0m\u001b[0;34m\u001b[0m\u001b[0m\n\u001b[1;32m    456\u001b[0m             \u001b[0;32mraise\u001b[0m \u001b[0mAttributeError\u001b[0m\u001b[0;34m(\u001b[0m\u001b[0;34mf\"The filehandle for {self.file} has not been opened yet...\"\u001b[0m\u001b[0;34m)\u001b[0m\u001b[0;34m\u001b[0m\u001b[0;34m\u001b[0m\u001b[0m\n\u001b[0;32m--> 457\u001b[0;31m         \u001b[0;32mreturn\u001b[0m \u001b[0mgetattr\u001b[0m\u001b[0;34m(\u001b[0m\u001b[0mself\u001b[0m\u001b[0;34m.\u001b[0m\u001b[0mfh\u001b[0m\u001b[0;34m,\u001b[0m \u001b[0mname\u001b[0m\u001b[0;34m)\u001b[0m\u001b[0;34m\u001b[0m\u001b[0;34m\u001b[0m\u001b[0m\n\u001b[0m\u001b[1;32m    458\u001b[0m \u001b[0;34m\u001b[0m\u001b[0m\n\u001b[1;32m    459\u001b[0m     \u001b[0;34m@\u001b[0m\u001b[0mclassmethod\u001b[0m\u001b[0;34m\u001b[0m\u001b[0;34m\u001b[0m\u001b[0m\n",
      "\u001b[0;32m/opt/hostedtoolcache/Python/3.6.12/x64/lib/python3.6/site-packages/sisl/io/sile.py\u001b[0m in \u001b[0;36m__getattr__\u001b[0;34m(self, name)\u001b[0m\n\u001b[1;32m    454\u001b[0m         \u001b[0;34m\"\"\" Override to check the handle \"\"\"\u001b[0m\u001b[0;34m\u001b[0m\u001b[0;34m\u001b[0m\u001b[0m\n\u001b[1;32m    455\u001b[0m         \u001b[0;32mif\u001b[0m \u001b[0mname\u001b[0m \u001b[0;34m==\u001b[0m \u001b[0;34m'fh'\u001b[0m\u001b[0;34m:\u001b[0m\u001b[0;34m\u001b[0m\u001b[0;34m\u001b[0m\u001b[0m\n\u001b[0;32m--> 456\u001b[0;31m             \u001b[0;32mraise\u001b[0m \u001b[0mAttributeError\u001b[0m\u001b[0;34m(\u001b[0m\u001b[0;34mf\"The filehandle for {self.file} has not been opened yet...\"\u001b[0m\u001b[0;34m)\u001b[0m\u001b[0;34m\u001b[0m\u001b[0;34m\u001b[0m\u001b[0m\n\u001b[0m\u001b[1;32m    457\u001b[0m         \u001b[0;32mreturn\u001b[0m \u001b[0mgetattr\u001b[0m\u001b[0;34m(\u001b[0m\u001b[0mself\u001b[0m\u001b[0;34m.\u001b[0m\u001b[0mfh\u001b[0m\u001b[0;34m,\u001b[0m \u001b[0mname\u001b[0m\u001b[0;34m)\u001b[0m\u001b[0;34m\u001b[0m\u001b[0;34m\u001b[0m\u001b[0m\n\u001b[1;32m    458\u001b[0m \u001b[0;34m\u001b[0m\u001b[0m\n",
      "\u001b[0;31mAttributeError\u001b[0m: The filehandle for ../../../../files/tests/sisl/io/siesta/SrTiO3.bands has not been opened yet..."
     ]
    }
   ],
   "source": [
    "bands_plot = sisl.get_sile(\"../../../../files/tests/sisl/io/siesta/SrTiO3.bands\").plot()"
   ]
  },
  {
   "cell_type": "markdown",
   "metadata": {},
   "source": [
    "and see what we've got:"
   ]
  },
  {
   "cell_type": "code",
   "execution_count": 3,
   "metadata": {
    "execution": {
     "iopub.execute_input": "2021-02-05T11:25:21.288904Z",
     "iopub.status.busy": "2021-02-05T11:25:21.278603Z",
     "iopub.status.idle": "2021-02-05T11:25:21.291581Z",
     "shell.execute_reply": "2021-02-05T11:25:21.292286Z"
    }
   },
   "outputs": [
    {
     "ename": "NameError",
     "evalue": "name 'bands_plot' is not defined",
     "output_type": "error",
     "traceback": [
      "\u001b[0;31m---------------------------------------------------------------------------\u001b[0m",
      "\u001b[0;31mNameError\u001b[0m                                 Traceback (most recent call last)",
      "\u001b[0;32m<ipython-input-1-9a37d2a44145>\u001b[0m in \u001b[0;36m<module>\u001b[0;34m\u001b[0m\n\u001b[0;32m----> 1\u001b[0;31m \u001b[0mbands_plot\u001b[0m\u001b[0;34m\u001b[0m\u001b[0;34m\u001b[0m\u001b[0m\n\u001b[0m",
      "\u001b[0;31mNameError\u001b[0m: name 'bands_plot' is not defined"
     ]
    }
   ],
   "source": [
    "bands_plot"
   ]
  },
  {
   "cell_type": "markdown",
   "metadata": {},
   "source": [
    "## Getting the bands that you want\n",
    "\n",
    "By default, `BandsPlot` gives you **the 15 bands below and above 0 eV** (which is interpreted as the fermi level). \n",
    "\n",
    "There are two main ways to specify the bands that you want to display: `Erange` and `bands_range`.\n",
    "\n",
    "As you may have guessed, `Erange` specifies the energy range that is displayed:"
   ]
  },
  {
   "cell_type": "code",
   "execution_count": 4,
   "metadata": {
    "execution": {
     "iopub.execute_input": "2021-02-05T11:25:21.305091Z",
     "iopub.status.busy": "2021-02-05T11:25:21.296129Z",
     "iopub.status.idle": "2021-02-05T11:25:21.308338Z",
     "shell.execute_reply": "2021-02-05T11:25:21.309008Z"
    }
   },
   "outputs": [
    {
     "ename": "NameError",
     "evalue": "name 'bands_plot' is not defined",
     "output_type": "error",
     "traceback": [
      "\u001b[0;31m---------------------------------------------------------------------------\u001b[0m",
      "\u001b[0;31mNameError\u001b[0m                                 Traceback (most recent call last)",
      "\u001b[0;32m<ipython-input-1-1e9385d0e059>\u001b[0m in \u001b[0;36m<module>\u001b[0;34m\u001b[0m\n\u001b[0;32m----> 1\u001b[0;31m \u001b[0mbands_plot\u001b[0m\u001b[0;34m.\u001b[0m\u001b[0mupdate_settings\u001b[0m\u001b[0;34m(\u001b[0m\u001b[0mErange\u001b[0m\u001b[0;34m=\u001b[0m\u001b[0;34m[\u001b[0m\u001b[0;34m-\u001b[0m\u001b[0;36m10\u001b[0m\u001b[0;34m,\u001b[0m \u001b[0;36m10\u001b[0m\u001b[0;34m]\u001b[0m\u001b[0;34m)\u001b[0m\u001b[0;34m\u001b[0m\u001b[0;34m\u001b[0m\u001b[0m\n\u001b[0m",
      "\u001b[0;31mNameError\u001b[0m: name 'bands_plot' is not defined"
     ]
    }
   ],
   "source": [
    "bands_plot.update_settings(Erange=[-10, 10])"
   ]
  },
  {
   "cell_type": "markdown",
   "metadata": {},
   "source": [
    "while with `bands_range` you can actually indicate the indices.\n",
    "\n",
    "However, note that **`Erange` has preference over `bands_range`**, therefore you need to set `Erange` to `None` if you want the change to take effect."
   ]
  },
  {
   "cell_type": "code",
   "execution_count": 5,
   "metadata": {
    "execution": {
     "iopub.execute_input": "2021-02-05T11:25:21.323306Z",
     "iopub.status.busy": "2021-02-05T11:25:21.313235Z",
     "iopub.status.idle": "2021-02-05T11:25:21.325773Z",
     "shell.execute_reply": "2021-02-05T11:25:21.326394Z"
    }
   },
   "outputs": [
    {
     "ename": "NameError",
     "evalue": "name 'bands_plot' is not defined",
     "output_type": "error",
     "traceback": [
      "\u001b[0;31m---------------------------------------------------------------------------\u001b[0m",
      "\u001b[0;31mNameError\u001b[0m                                 Traceback (most recent call last)",
      "\u001b[0;32m<ipython-input-1-a249cfe05ed9>\u001b[0m in \u001b[0;36m<module>\u001b[0;34m\u001b[0m\n\u001b[0;32m----> 1\u001b[0;31m \u001b[0mbands_plot\u001b[0m\u001b[0;34m.\u001b[0m\u001b[0mupdate_settings\u001b[0m\u001b[0;34m(\u001b[0m\u001b[0mbands_range\u001b[0m\u001b[0;34m=\u001b[0m\u001b[0;34m[\u001b[0m\u001b[0;36m6\u001b[0m\u001b[0;34m,\u001b[0m \u001b[0;36m15\u001b[0m\u001b[0;34m]\u001b[0m\u001b[0;34m,\u001b[0m \u001b[0mErange\u001b[0m\u001b[0;34m=\u001b[0m\u001b[0;32mNone\u001b[0m\u001b[0;34m)\u001b[0m\u001b[0;34m\u001b[0m\u001b[0;34m\u001b[0m\u001b[0m\n\u001b[0m",
      "\u001b[0;31mNameError\u001b[0m: name 'bands_plot' is not defined"
     ]
    }
   ],
   "source": [
    "bands_plot.update_settings(bands_range=[6, 15], Erange=None)"
   ]
  },
  {
   "cell_type": "markdown",
   "metadata": {},
   "source": [
    "If your fermi level is not correctly set or you want a different energy reference, you can provide a value for `E0` to specify where your 0 should be and the bands to display will be automatically calculated from that. \n",
    "\n",
    "However, if you want to update `E0` after the plot has been build and you want `BandsPlot` to recalculate the bands for you you will need to set `Erange` and `bands_range` to `None` again."
   ]
  },
  {
   "cell_type": "code",
   "execution_count": 6,
   "metadata": {
    "execution": {
     "iopub.execute_input": "2021-02-05T11:25:21.331061Z",
     "iopub.status.busy": "2021-02-05T11:25:21.330286Z",
     "iopub.status.idle": "2021-02-05T11:25:21.343556Z",
     "shell.execute_reply": "2021-02-05T11:25:21.344086Z"
    }
   },
   "outputs": [
    {
     "ename": "NameError",
     "evalue": "name 'bands_plot' is not defined",
     "output_type": "error",
     "traceback": [
      "\u001b[0;31m---------------------------------------------------------------------------\u001b[0m",
      "\u001b[0;31mNameError\u001b[0m                                 Traceback (most recent call last)",
      "\u001b[0;32m<ipython-input-1-d804adc0a23c>\u001b[0m in \u001b[0;36m<module>\u001b[0;34m\u001b[0m\n\u001b[0;32m----> 1\u001b[0;31m \u001b[0mbands_plot\u001b[0m\u001b[0;34m.\u001b[0m\u001b[0mupdate_settings\u001b[0m\u001b[0;34m(\u001b[0m\u001b[0mE0\u001b[0m\u001b[0;34m=\u001b[0m\u001b[0;34m-\u001b[0m\u001b[0;36m10\u001b[0m\u001b[0;34m,\u001b[0m \u001b[0mbands_range\u001b[0m\u001b[0;34m=\u001b[0m\u001b[0;32mNone\u001b[0m\u001b[0;34m,\u001b[0m \u001b[0mErange\u001b[0m\u001b[0;34m=\u001b[0m\u001b[0;32mNone\u001b[0m\u001b[0;34m)\u001b[0m\u001b[0;34m\u001b[0m\u001b[0;34m\u001b[0m\u001b[0m\n\u001b[0m",
      "\u001b[0;31mNameError\u001b[0m: name 'bands_plot' is not defined"
     ]
    }
   ],
   "source": [
    "bands_plot.update_settings(E0=-10, bands_range=None, Erange=None)"
   ]
  },
  {
   "cell_type": "markdown",
   "metadata": {},
   "source": [
    "Notice how only 25 bands are displayed now: the only 10 that are below 0 eV (there are no lower states) and 15 above 0 eV."
   ]
  },
  {
   "cell_type": "code",
   "execution_count": 7,
   "metadata": {
    "execution": {
     "iopub.execute_input": "2021-02-05T11:25:21.357070Z",
     "iopub.status.busy": "2021-02-05T11:25:21.356126Z",
     "iopub.status.idle": "2021-02-05T11:25:21.359393Z",
     "shell.execute_reply": "2021-02-05T11:25:21.360228Z"
    }
   },
   "outputs": [
    {
     "ename": "NameError",
     "evalue": "name 'bands_plot' is not defined",
     "output_type": "error",
     "traceback": [
      "\u001b[0;31m---------------------------------------------------------------------------\u001b[0m",
      "\u001b[0;31mNameError\u001b[0m                                 Traceback (most recent call last)",
      "\u001b[0;32m<ipython-input-1-12b2402fc805>\u001b[0m in \u001b[0;36m<module>\u001b[0;34m\u001b[0m\n\u001b[1;32m      1\u001b[0m \u001b[0;31m# Set them back to \"normal\"\u001b[0m\u001b[0;34m\u001b[0m\u001b[0;34m\u001b[0m\u001b[0;34m\u001b[0m\u001b[0m\n\u001b[0;32m----> 2\u001b[0;31m \u001b[0mbands_plot\u001b[0m \u001b[0;34m=\u001b[0m \u001b[0mbands_plot\u001b[0m\u001b[0;34m.\u001b[0m\u001b[0mupdate_settings\u001b[0m\u001b[0;34m(\u001b[0m\u001b[0mE0\u001b[0m\u001b[0;34m=\u001b[0m\u001b[0;36m0\u001b[0m\u001b[0;34m,\u001b[0m \u001b[0mbands_range\u001b[0m\u001b[0;34m=\u001b[0m\u001b[0;32mNone\u001b[0m\u001b[0;34m,\u001b[0m \u001b[0mErange\u001b[0m\u001b[0;34m=\u001b[0m\u001b[0;32mNone\u001b[0m\u001b[0;34m)\u001b[0m\u001b[0;34m\u001b[0m\u001b[0;34m\u001b[0m\u001b[0m\n\u001b[0m",
      "\u001b[0;31mNameError\u001b[0m: name 'bands_plot' is not defined"
     ]
    }
   ],
   "source": [
    "# Set them back to \"normal\"\n",
    "bands_plot = bands_plot.update_settings(E0=0, bands_range=None, Erange=None)"
   ]
  },
  {
   "cell_type": "markdown",
   "metadata": {},
   "source": [
    "Notice that in spin polarized bands, **you can select the spins to display using the `spin` setting**, just pass a list of spin components (e.g. `spin=[0]`)."
   ]
  },
  {
   "cell_type": "markdown",
   "metadata": {},
   "source": [
    "## Quick styling\n",
    "\n",
    "If all you want is to change the color and width of the bands, there's one simple solution: use the `bands_color` and `bands_width` settings.\n",
    "\n",
    "Let's show them in red:"
   ]
  },
  {
   "cell_type": "code",
   "execution_count": 8,
   "metadata": {
    "execution": {
     "iopub.execute_input": "2021-02-05T11:25:21.374021Z",
     "iopub.status.busy": "2021-02-05T11:25:21.373077Z",
     "iopub.status.idle": "2021-02-05T11:25:21.376277Z",
     "shell.execute_reply": "2021-02-05T11:25:21.376861Z"
    }
   },
   "outputs": [
    {
     "ename": "NameError",
     "evalue": "name 'bands_plot' is not defined",
     "output_type": "error",
     "traceback": [
      "\u001b[0;31m---------------------------------------------------------------------------\u001b[0m",
      "\u001b[0;31mNameError\u001b[0m                                 Traceback (most recent call last)",
      "\u001b[0;32m<ipython-input-1-05b2917511ad>\u001b[0m in \u001b[0;36m<module>\u001b[0;34m\u001b[0m\n\u001b[0;32m----> 1\u001b[0;31m \u001b[0mbands_plot\u001b[0m\u001b[0;34m.\u001b[0m\u001b[0mupdate_settings\u001b[0m\u001b[0;34m(\u001b[0m\u001b[0mbands_color\u001b[0m\u001b[0;34m=\u001b[0m\u001b[0;34m\"red\"\u001b[0m\u001b[0;34m)\u001b[0m\u001b[0;34m\u001b[0m\u001b[0;34m\u001b[0m\u001b[0m\n\u001b[0m",
      "\u001b[0;31mNameError\u001b[0m: name 'bands_plot' is not defined"
     ]
    }
   ],
   "source": [
    "bands_plot.update_settings(bands_color=\"red\")"
   ]
  },
  {
   "cell_type": "markdown",
   "metadata": {},
   "source": [
    "And now in green but also make them wider:"
   ]
  },
  {
   "cell_type": "code",
   "execution_count": 9,
   "metadata": {
    "execution": {
     "iopub.execute_input": "2021-02-05T11:25:21.388709Z",
     "iopub.status.busy": "2021-02-05T11:25:21.380226Z",
     "iopub.status.idle": "2021-02-05T11:25:21.391053Z",
     "shell.execute_reply": "2021-02-05T11:25:21.391729Z"
    },
    "scrolled": false
   },
   "outputs": [
    {
     "ename": "NameError",
     "evalue": "name 'bands_plot' is not defined",
     "output_type": "error",
     "traceback": [
      "\u001b[0;31m---------------------------------------------------------------------------\u001b[0m",
      "\u001b[0;31mNameError\u001b[0m                                 Traceback (most recent call last)",
      "\u001b[0;32m<ipython-input-1-e6bdd7a17cb3>\u001b[0m in \u001b[0;36m<module>\u001b[0;34m\u001b[0m\n\u001b[0;32m----> 1\u001b[0;31m \u001b[0mbands_plot\u001b[0m\u001b[0;34m.\u001b[0m\u001b[0mupdate_settings\u001b[0m\u001b[0;34m(\u001b[0m\u001b[0mbands_color\u001b[0m\u001b[0;34m=\u001b[0m\u001b[0;34m\"green\"\u001b[0m\u001b[0;34m,\u001b[0m \u001b[0mbands_width\u001b[0m\u001b[0;34m=\u001b[0m\u001b[0;36m3\u001b[0m\u001b[0;34m)\u001b[0m\u001b[0;34m\u001b[0m\u001b[0;34m\u001b[0m\u001b[0m\n\u001b[0m",
      "\u001b[0;31mNameError\u001b[0m: name 'bands_plot' is not defined"
     ]
    }
   ],
   "source": [
    "bands_plot.update_settings(bands_color=\"green\", bands_width=3)"
   ]
  },
  {
   "cell_type": "markdown",
   "metadata": {},
   "source": [
    "If you have spin polarized bands, `bands_color` will modify the color of the first spin channel, while the second one can be tuned with `spindown_color`."
   ]
  },
  {
   "cell_type": "code",
   "execution_count": 10,
   "metadata": {
    "execution": {
     "iopub.execute_input": "2021-02-05T11:25:21.404776Z",
     "iopub.status.busy": "2021-02-05T11:25:21.403686Z",
     "iopub.status.idle": "2021-02-05T11:25:21.406648Z",
     "shell.execute_reply": "2021-02-05T11:25:21.407343Z"
    }
   },
   "outputs": [
    {
     "ename": "NameError",
     "evalue": "name 'bands_plot' is not defined",
     "output_type": "error",
     "traceback": [
      "\u001b[0;31m---------------------------------------------------------------------------\u001b[0m",
      "\u001b[0;31mNameError\u001b[0m                                 Traceback (most recent call last)",
      "\u001b[0;32m<ipython-input-1-8748beed53a3>\u001b[0m in \u001b[0;36m<module>\u001b[0;34m\u001b[0m\n\u001b[0;32m----> 1\u001b[0;31m \u001b[0mbands_plot\u001b[0m \u001b[0;34m=\u001b[0m \u001b[0mbands_plot\u001b[0m\u001b[0;34m.\u001b[0m\u001b[0mupdate_settings\u001b[0m\u001b[0;34m(\u001b[0m\u001b[0mbands_color\u001b[0m\u001b[0;34m=\u001b[0m\u001b[0;34m\"black\"\u001b[0m\u001b[0;34m,\u001b[0m \u001b[0mbands_width\u001b[0m\u001b[0;34m=\u001b[0m\u001b[0;36m1\u001b[0m\u001b[0;34m)\u001b[0m\u001b[0;34m\u001b[0m\u001b[0;34m\u001b[0m\u001b[0m\n\u001b[0m",
      "\u001b[0;31mNameError\u001b[0m: name 'bands_plot' is not defined"
     ]
    }
   ],
   "source": [
    "bands_plot = bands_plot.update_settings(bands_color=\"black\", bands_width=1)"
   ]
  },
  {
   "cell_type": "markdown",
   "metadata": {},
   "source": [
    "## Displaying the smallest gaps\n",
    "\n",
    "The easiest thing to do is to let `BandsPlot` discover where the (minimum) gaps are.\n",
    "\n",
    "This is indicated by setting the `gap` parameter to `True`. One can also use `gap_color` if a particular color is desired."
   ]
  },
  {
   "cell_type": "code",
   "execution_count": 11,
   "metadata": {
    "execution": {
     "iopub.execute_input": "2021-02-05T11:25:21.420716Z",
     "iopub.status.busy": "2021-02-05T11:25:21.419854Z",
     "iopub.status.idle": "2021-02-05T11:25:21.423013Z",
     "shell.execute_reply": "2021-02-05T11:25:21.423648Z"
    }
   },
   "outputs": [
    {
     "ename": "NameError",
     "evalue": "name 'bands_plot' is not defined",
     "output_type": "error",
     "traceback": [
      "\u001b[0;31m---------------------------------------------------------------------------\u001b[0m",
      "\u001b[0;31mNameError\u001b[0m                                 Traceback (most recent call last)",
      "\u001b[0;32m<ipython-input-1-8ca2263bf8b9>\u001b[0m in \u001b[0;36m<module>\u001b[0;34m\u001b[0m\n\u001b[0;32m----> 1\u001b[0;31m \u001b[0mbands_plot\u001b[0m\u001b[0;34m.\u001b[0m\u001b[0mupdate_settings\u001b[0m\u001b[0;34m(\u001b[0m\u001b[0mgap\u001b[0m\u001b[0;34m=\u001b[0m\u001b[0;32mTrue\u001b[0m\u001b[0;34m,\u001b[0m \u001b[0mgap_color\u001b[0m\u001b[0;34m=\u001b[0m\u001b[0;34m\"green\"\u001b[0m\u001b[0;34m,\u001b[0m \u001b[0mErange\u001b[0m\u001b[0;34m=\u001b[0m\u001b[0;34m[\u001b[0m\u001b[0;34m-\u001b[0m\u001b[0;36m10\u001b[0m\u001b[0;34m,\u001b[0m\u001b[0;36m10\u001b[0m\u001b[0;34m]\u001b[0m\u001b[0;34m)\u001b[0m \u001b[0;31m# We reduce Erange just to see it better\u001b[0m\u001b[0;34m\u001b[0m\u001b[0;34m\u001b[0m\u001b[0m\n\u001b[0m",
      "\u001b[0;31mNameError\u001b[0m: name 'bands_plot' is not defined"
     ]
    }
   ],
   "source": [
    "bands_plot.update_settings(gap=True, gap_color=\"green\", Erange=[-10,10]) # We reduce Erange just to see it better"
   ]
  },
  {
   "cell_type": "markdown",
   "metadata": {},
   "source": [
    "This displays the minimum gaps. However there may be some issues with it: it will show **all** gaps with the minimum value. That is, if you have repeated points in the brillouin zone it will display multiple gaps that are equivalent. \n",
    "\n",
    "What's worse, if the region where your gap is is very flat, two consecutive points might have the same energy. Multiple gaps will be displayed one glued to another.\n",
    "\n",
    "To help cope with this issues, you have the `direct_gaps_only` and `gap_tol`.\n",
    "\n",
    "In this case, since we have no direct gaps, setting `direct_gaps_only` will hide them all:"
   ]
  },
  {
   "cell_type": "code",
   "execution_count": 12,
   "metadata": {
    "execution": {
     "iopub.execute_input": "2021-02-05T11:25:21.435573Z",
     "iopub.status.busy": "2021-02-05T11:25:21.427135Z",
     "iopub.status.idle": "2021-02-05T11:25:21.439299Z",
     "shell.execute_reply": "2021-02-05T11:25:21.439826Z"
    }
   },
   "outputs": [
    {
     "ename": "NameError",
     "evalue": "name 'bands_plot' is not defined",
     "output_type": "error",
     "traceback": [
      "\u001b[0;31m---------------------------------------------------------------------------\u001b[0m",
      "\u001b[0;31mNameError\u001b[0m                                 Traceback (most recent call last)",
      "\u001b[0;32m<ipython-input-1-5a9c86ad7e66>\u001b[0m in \u001b[0;36m<module>\u001b[0;34m\u001b[0m\n\u001b[0;32m----> 1\u001b[0;31m \u001b[0mbands_plot\u001b[0m\u001b[0;34m.\u001b[0m\u001b[0mupdate_settings\u001b[0m\u001b[0;34m(\u001b[0m\u001b[0mdirect_gaps_only\u001b[0m\u001b[0;34m=\u001b[0m\u001b[0;32mTrue\u001b[0m\u001b[0;34m)\u001b[0m\u001b[0;34m\u001b[0m\u001b[0;34m\u001b[0m\u001b[0m\n\u001b[0m",
      "\u001b[0;31mNameError\u001b[0m: name 'bands_plot' is not defined"
     ]
    }
   ],
   "source": [
    "bands_plot.update_settings(direct_gaps_only=True)"
   ]
  },
  {
   "cell_type": "markdown",
   "metadata": {},
   "source": [
    "The example for `gap_tol` is not that good, but it is illustrative of what `gap_tol` does. It is the minimum k-distance between two points to consider them irrelevant to show different gaps.\n",
    "\n",
    "In this case, if we set `gap_tol` all the way up to 3, the plot will consider the two gamma points to be part of the same \"point\" and therefore it will only show the gap once."
   ]
  },
  {
   "cell_type": "code",
   "execution_count": 13,
   "metadata": {
    "execution": {
     "iopub.execute_input": "2021-02-05T11:25:21.451894Z",
     "iopub.status.busy": "2021-02-05T11:25:21.451262Z",
     "iopub.status.idle": "2021-02-05T11:25:21.454345Z",
     "shell.execute_reply": "2021-02-05T11:25:21.454965Z"
    }
   },
   "outputs": [
    {
     "ename": "NameError",
     "evalue": "name 'bands_plot' is not defined",
     "output_type": "error",
     "traceback": [
      "\u001b[0;31m---------------------------------------------------------------------------\u001b[0m",
      "\u001b[0;31mNameError\u001b[0m                                 Traceback (most recent call last)",
      "\u001b[0;32m<ipython-input-1-0b9b996d9274>\u001b[0m in \u001b[0;36m<module>\u001b[0;34m\u001b[0m\n\u001b[0;32m----> 1\u001b[0;31m \u001b[0mbands_plot\u001b[0m\u001b[0;34m.\u001b[0m\u001b[0mupdate_settings\u001b[0m\u001b[0;34m(\u001b[0m\u001b[0mdirect_gaps_only\u001b[0m\u001b[0;34m=\u001b[0m\u001b[0;32mFalse\u001b[0m\u001b[0;34m,\u001b[0m \u001b[0mgap_tol\u001b[0m\u001b[0;34m=\u001b[0m\u001b[0;36m3\u001b[0m\u001b[0;34m)\u001b[0m\u001b[0;34m\u001b[0m\u001b[0;34m\u001b[0m\u001b[0m\n\u001b[0m",
      "\u001b[0;31mNameError\u001b[0m: name 'bands_plot' is not defined"
     ]
    }
   ],
   "source": [
    "bands_plot.update_settings(direct_gaps_only=False, gap_tol=3)"
   ]
  },
  {
   "cell_type": "markdown",
   "metadata": {},
   "source": [
    "This is not what `gap_tol` is meant for, since it is thought to remediate the effect of locally flat bands, but still you can get the idea of what it does."
   ]
  },
  {
   "cell_type": "code",
   "execution_count": 14,
   "metadata": {
    "execution": {
     "iopub.execute_input": "2021-02-05T11:25:21.467851Z",
     "iopub.status.busy": "2021-02-05T11:25:21.467007Z",
     "iopub.status.idle": "2021-02-05T11:25:21.469809Z",
     "shell.execute_reply": "2021-02-05T11:25:21.470483Z"
    }
   },
   "outputs": [
    {
     "ename": "NameError",
     "evalue": "name 'bands_plot' is not defined",
     "output_type": "error",
     "traceback": [
      "\u001b[0;31m---------------------------------------------------------------------------\u001b[0m",
      "\u001b[0;31mNameError\u001b[0m                                 Traceback (most recent call last)",
      "\u001b[0;32m<ipython-input-1-09d6789dea34>\u001b[0m in \u001b[0;36m<module>\u001b[0;34m\u001b[0m\n\u001b[0;32m----> 1\u001b[0;31m \u001b[0mbands_plot\u001b[0m \u001b[0;34m=\u001b[0m \u001b[0mbands_plot\u001b[0m\u001b[0;34m.\u001b[0m\u001b[0mupdate_settings\u001b[0m\u001b[0;34m(\u001b[0m\u001b[0mgap\u001b[0m\u001b[0;34m=\u001b[0m\u001b[0;32mFalse\u001b[0m\u001b[0;34m,\u001b[0m \u001b[0mgap_tol\u001b[0m\u001b[0;34m=\u001b[0m\u001b[0;36m0.01\u001b[0m\u001b[0;34m)\u001b[0m\u001b[0;34m\u001b[0m\u001b[0;34m\u001b[0m\u001b[0m\n\u001b[0m",
      "\u001b[0;31mNameError\u001b[0m: name 'bands_plot' is not defined"
     ]
    }
   ],
   "source": [
    "bands_plot = bands_plot.update_settings(gap=False, gap_tol=0.01)"
   ]
  },
  {
   "cell_type": "markdown",
   "metadata": {},
   "source": [
    "## Displaying custom gaps\n",
    "\n",
    "If you are not happy with the gaps that the plot is displaying for you or **you simply want gaps that are not the smallest ones**, you can always use `custom_gaps`.\n",
    "\n",
    "Custom gaps should be a list where each item specifies how to draw that given gap. See the setting's help message:"
   ]
  },
  {
   "cell_type": "code",
   "execution_count": 15,
   "metadata": {
    "execution": {
     "iopub.execute_input": "2021-02-05T11:25:21.482958Z",
     "iopub.status.busy": "2021-02-05T11:25:21.482251Z",
     "iopub.status.idle": "2021-02-05T11:25:21.485181Z",
     "shell.execute_reply": "2021-02-05T11:25:21.485729Z"
    }
   },
   "outputs": [
    {
     "ename": "NameError",
     "evalue": "name 'bands_plot' is not defined",
     "output_type": "error",
     "traceback": [
      "\u001b[0;31m---------------------------------------------------------------------------\u001b[0m",
      "\u001b[0;31mNameError\u001b[0m                                 Traceback (most recent call last)",
      "\u001b[0;32m<ipython-input-1-ce8ecb2f1fb8>\u001b[0m in \u001b[0;36m<module>\u001b[0;34m\u001b[0m\n\u001b[0;32m----> 1\u001b[0;31m \u001b[0mprint\u001b[0m\u001b[0;34m(\u001b[0m\u001b[0mbands_plot\u001b[0m\u001b[0;34m.\u001b[0m\u001b[0mget_param\u001b[0m\u001b[0;34m(\u001b[0m\u001b[0;34m\"custom_gaps\"\u001b[0m\u001b[0;34m)\u001b[0m\u001b[0;34m.\u001b[0m\u001b[0mhelp\u001b[0m\u001b[0;34m)\u001b[0m\u001b[0;34m\u001b[0m\u001b[0;34m\u001b[0m\u001b[0m\n\u001b[0m",
      "\u001b[0;31mNameError\u001b[0m: name 'bands_plot' is not defined"
     ]
    }
   ],
   "source": [
    "print(bands_plot.get_param(\"custom_gaps\").help)"
   ]
  },
  {
   "cell_type": "markdown",
   "metadata": {},
   "source": [
    "So, for example, if we want to plot the gamma-gamma gap:"
   ]
  },
  {
   "cell_type": "code",
   "execution_count": 16,
   "metadata": {
    "execution": {
     "iopub.execute_input": "2021-02-05T11:25:21.498115Z",
     "iopub.status.busy": "2021-02-05T11:25:21.497455Z",
     "iopub.status.idle": "2021-02-05T11:25:21.500579Z",
     "shell.execute_reply": "2021-02-05T11:25:21.501262Z"
    }
   },
   "outputs": [
    {
     "ename": "NameError",
     "evalue": "name 'bands_plot' is not defined",
     "output_type": "error",
     "traceback": [
      "\u001b[0;31m---------------------------------------------------------------------------\u001b[0m",
      "\u001b[0;31mNameError\u001b[0m                                 Traceback (most recent call last)",
      "\u001b[0;32m<ipython-input-1-bedc9ed1abcd>\u001b[0m in \u001b[0;36m<module>\u001b[0;34m\u001b[0m\n\u001b[0;32m----> 1\u001b[0;31m \u001b[0mbands_plot\u001b[0m\u001b[0;34m.\u001b[0m\u001b[0mupdate_settings\u001b[0m\u001b[0;34m(\u001b[0m\u001b[0mcustom_gaps\u001b[0m\u001b[0;34m=\u001b[0m\u001b[0;34m[\u001b[0m\u001b[0;34m{\u001b[0m\u001b[0;34m\"from\"\u001b[0m\u001b[0;34m:\u001b[0m \u001b[0;34m\"Gamma\"\u001b[0m\u001b[0;34m,\u001b[0m \u001b[0;34m\"to\"\u001b[0m\u001b[0;34m:\u001b[0m \u001b[0;34m\"Gamma\"\u001b[0m\u001b[0;34m,\u001b[0m \u001b[0;34m\"color\"\u001b[0m\u001b[0;34m:\u001b[0m \u001b[0;34m\"red\"\u001b[0m\u001b[0;34m}\u001b[0m\u001b[0;34m]\u001b[0m\u001b[0;34m)\u001b[0m\u001b[0;34m\u001b[0m\u001b[0;34m\u001b[0m\u001b[0m\n\u001b[0m",
      "\u001b[0;31mNameError\u001b[0m: name 'bands_plot' is not defined"
     ]
    }
   ],
   "source": [
    "bands_plot.update_settings(custom_gaps=[{\"from\": \"Gamma\", \"to\": \"Gamma\", \"color\": \"red\"}])"
   ]
  },
  {
   "cell_type": "markdown",
   "metadata": {},
   "source": [
    "Notice how we got the gap probably not where we wanted, since it would be better to have it in the middle `Gamma` point, which is more visible. As the help message of `custom_gaps` states, you can also pass the K value instead of a label.\n",
    "\n",
    "Now, you'll be happy to know that you can easily access the k values of all labels, as they are stored as attributes in the bands dataarray, which you can find in `bands_plot.bands`:"
   ]
  },
  {
   "cell_type": "code",
   "execution_count": 17,
   "metadata": {
    "execution": {
     "iopub.execute_input": "2021-02-05T11:25:21.505368Z",
     "iopub.status.busy": "2021-02-05T11:25:21.504763Z",
     "iopub.status.idle": "2021-02-05T11:25:21.522919Z",
     "shell.execute_reply": "2021-02-05T11:25:21.523572Z"
    }
   },
   "outputs": [
    {
     "ename": "NameError",
     "evalue": "name 'bands_plot' is not defined",
     "output_type": "error",
     "traceback": [
      "\u001b[0;31m---------------------------------------------------------------------------\u001b[0m",
      "\u001b[0;31mNameError\u001b[0m                                 Traceback (most recent call last)",
      "\u001b[0;32m<ipython-input-1-363d99d8ddf4>\u001b[0m in \u001b[0;36m<module>\u001b[0;34m\u001b[0m\n\u001b[0;32m----> 1\u001b[0;31m \u001b[0mbands_plot\u001b[0m\u001b[0;34m.\u001b[0m\u001b[0mbands\u001b[0m\u001b[0;34m.\u001b[0m\u001b[0mattrs\u001b[0m\u001b[0;34m\u001b[0m\u001b[0;34m\u001b[0m\u001b[0m\n\u001b[0m",
      "\u001b[0;31mNameError\u001b[0m: name 'bands_plot' is not defined"
     ]
    }
   ],
   "source": [
    "bands_plot.bands.attrs"
   ]
  },
  {
   "cell_type": "markdown",
   "metadata": {},
   "source": [
    "Now all we need to do is to grab the value for the second gamma point:"
   ]
  },
  {
   "cell_type": "code",
   "execution_count": 18,
   "metadata": {
    "execution": {
     "iopub.execute_input": "2021-02-05T11:25:21.542649Z",
     "iopub.status.busy": "2021-02-05T11:25:21.541951Z",
     "iopub.status.idle": "2021-02-05T11:25:21.547715Z",
     "shell.execute_reply": "2021-02-05T11:25:21.549882Z"
    }
   },
   "outputs": [
    {
     "ename": "NameError",
     "evalue": "name 'bands_plot' is not defined",
     "output_type": "error",
     "traceback": [
      "\u001b[0;31m---------------------------------------------------------------------------\u001b[0m",
      "\u001b[0;31mNameError\u001b[0m                                 Traceback (most recent call last)",
      "\u001b[0;32m<ipython-input-1-07d00970e8b5>\u001b[0m in \u001b[0;36m<module>\u001b[0;34m\u001b[0m\n\u001b[1;32m      1\u001b[0m \u001b[0mgap_k\u001b[0m \u001b[0;34m=\u001b[0m \u001b[0;32mNone\u001b[0m\u001b[0;34m\u001b[0m\u001b[0;34m\u001b[0m\u001b[0m\n\u001b[0;32m----> 2\u001b[0;31m \u001b[0;32mfor\u001b[0m \u001b[0mval\u001b[0m\u001b[0;34m,\u001b[0m \u001b[0mlabel\u001b[0m \u001b[0;32min\u001b[0m \u001b[0mzip\u001b[0m\u001b[0;34m(\u001b[0m\u001b[0mbands_plot\u001b[0m\u001b[0;34m.\u001b[0m\u001b[0mbands\u001b[0m\u001b[0;34m.\u001b[0m\u001b[0mattrs\u001b[0m\u001b[0;34m[\u001b[0m\u001b[0;34m\"ticks\"\u001b[0m\u001b[0;34m]\u001b[0m\u001b[0;34m,\u001b[0m \u001b[0mbands_plot\u001b[0m\u001b[0;34m.\u001b[0m\u001b[0mbands\u001b[0m\u001b[0;34m.\u001b[0m\u001b[0mattrs\u001b[0m\u001b[0;34m[\u001b[0m\u001b[0;34m\"ticklabels\"\u001b[0m\u001b[0;34m]\u001b[0m\u001b[0;34m)\u001b[0m\u001b[0;34m:\u001b[0m\u001b[0;34m\u001b[0m\u001b[0;34m\u001b[0m\u001b[0m\n\u001b[0m\u001b[1;32m      3\u001b[0m     \u001b[0;32mif\u001b[0m \u001b[0mlabel\u001b[0m \u001b[0;34m==\u001b[0m \u001b[0;34m\"Gamma\"\u001b[0m\u001b[0;34m:\u001b[0m\u001b[0;34m\u001b[0m\u001b[0;34m\u001b[0m\u001b[0m\n\u001b[1;32m      4\u001b[0m         \u001b[0mgap_k\u001b[0m \u001b[0;34m=\u001b[0m \u001b[0mval\u001b[0m\u001b[0;34m\u001b[0m\u001b[0;34m\u001b[0m\u001b[0m\n\u001b[1;32m      5\u001b[0m \u001b[0mgap_k\u001b[0m\u001b[0;34m\u001b[0m\u001b[0;34m\u001b[0m\u001b[0m\n",
      "\u001b[0;31mNameError\u001b[0m: name 'bands_plot' is not defined"
     ]
    }
   ],
   "source": [
    "gap_k = None\n",
    "for val, label in zip(bands_plot.bands.attrs[\"ticks\"], bands_plot.bands.attrs[\"ticklabels\"]):\n",
    "    if label == \"Gamma\":\n",
    "        gap_k = val\n",
    "gap_k"
   ]
  },
  {
   "cell_type": "markdown",
   "metadata": {},
   "source": [
    "And use it to build a custom gap:"
   ]
  },
  {
   "cell_type": "code",
   "execution_count": 19,
   "metadata": {
    "execution": {
     "iopub.execute_input": "2021-02-05T11:25:21.564723Z",
     "iopub.status.busy": "2021-02-05T11:25:21.564053Z",
     "iopub.status.idle": "2021-02-05T11:25:21.567153Z",
     "shell.execute_reply": "2021-02-05T11:25:21.567733Z"
    },
    "scrolled": false
   },
   "outputs": [
    {
     "ename": "NameError",
     "evalue": "name 'bands_plot' is not defined",
     "output_type": "error",
     "traceback": [
      "\u001b[0;31m---------------------------------------------------------------------------\u001b[0m",
      "\u001b[0;31mNameError\u001b[0m                                 Traceback (most recent call last)",
      "\u001b[0;32m<ipython-input-1-65f83824e1fd>\u001b[0m in \u001b[0;36m<module>\u001b[0;34m\u001b[0m\n\u001b[0;32m----> 1\u001b[0;31m \u001b[0mbands_plot\u001b[0m\u001b[0;34m.\u001b[0m\u001b[0mupdate_settings\u001b[0m\u001b[0;34m(\u001b[0m\u001b[0mcustom_gaps\u001b[0m\u001b[0;34m=\u001b[0m\u001b[0;34m[\u001b[0m\u001b[0;34m{\u001b[0m\u001b[0;34m\"from\"\u001b[0m\u001b[0;34m:\u001b[0m \u001b[0mgap_k\u001b[0m\u001b[0;34m,\u001b[0m \u001b[0;34m\"to\"\u001b[0m\u001b[0;34m:\u001b[0m \u001b[0mgap_k\u001b[0m\u001b[0;34m,\u001b[0m \u001b[0;34m\"color\"\u001b[0m\u001b[0;34m:\u001b[0m \u001b[0;34m\"orange\"\u001b[0m\u001b[0;34m}\u001b[0m\u001b[0;34m]\u001b[0m\u001b[0;34m)\u001b[0m\u001b[0;34m\u001b[0m\u001b[0;34m\u001b[0m\u001b[0m\n\u001b[0m",
      "\u001b[0;31mNameError\u001b[0m: name 'bands_plot' is not defined"
     ]
    }
   ],
   "source": [
    "bands_plot.update_settings(custom_gaps=[{\"from\": gap_k, \"to\": gap_k, \"color\": \"orange\"}])"
   ]
  },
  {
   "cell_type": "markdown",
   "metadata": {},
   "source": [
    "## Individual band styling\n",
    "\n",
    "The `bands_color` and `bands_width` should be enough for most uses. However, you may want to style each band differently. Since we can not support every possible case, you can pass a function to the `add_band_trace_data`. Here's the help message:"
   ]
  },
  {
   "cell_type": "code",
   "execution_count": 20,
   "metadata": {
    "execution": {
     "iopub.execute_input": "2021-02-05T11:25:21.580237Z",
     "iopub.status.busy": "2021-02-05T11:25:21.571354Z",
     "iopub.status.idle": "2021-02-05T11:25:21.585809Z",
     "shell.execute_reply": "2021-02-05T11:25:21.586422Z"
    },
    "scrolled": true
   },
   "outputs": [
    {
     "ename": "NameError",
     "evalue": "name 'bands_plot' is not defined",
     "output_type": "error",
     "traceback": [
      "\u001b[0;31m---------------------------------------------------------------------------\u001b[0m",
      "\u001b[0;31mNameError\u001b[0m                                 Traceback (most recent call last)",
      "\u001b[0;32m<ipython-input-1-c8101601cdc7>\u001b[0m in \u001b[0;36m<module>\u001b[0;34m\u001b[0m\n\u001b[0;32m----> 1\u001b[0;31m \u001b[0mprint\u001b[0m\u001b[0;34m(\u001b[0m\u001b[0mbands_plot\u001b[0m\u001b[0;34m.\u001b[0m\u001b[0mget_param\u001b[0m\u001b[0;34m(\u001b[0m\u001b[0;34m\"add_band_trace_data\"\u001b[0m\u001b[0;34m)\u001b[0m\u001b[0;34m.\u001b[0m\u001b[0mhelp\u001b[0m\u001b[0;34m)\u001b[0m\u001b[0;34m\u001b[0m\u001b[0;34m\u001b[0m\u001b[0m\n\u001b[0m",
      "\u001b[0;31mNameError\u001b[0m: name 'bands_plot' is not defined"
     ]
    }
   ],
   "source": [
    "print(bands_plot.get_param(\"add_band_trace_data\").help)"
   ]
  },
  {
   "cell_type": "markdown",
   "metadata": {},
   "source": [
    "You can build a dummy function to print the band and see how it looks like. Notice that you only get those bands that are inside the range specified for the plot, therefore the first band here is band 11!"
   ]
  },
  {
   "cell_type": "code",
   "execution_count": 21,
   "metadata": {
    "execution": {
     "iopub.execute_input": "2021-02-05T11:25:21.605079Z",
     "iopub.status.busy": "2021-02-05T11:25:21.604346Z",
     "iopub.status.idle": "2021-02-05T11:25:21.607133Z",
     "shell.execute_reply": "2021-02-05T11:25:21.607679Z"
    },
    "scrolled": false
   },
   "outputs": [
    {
     "ename": "NameError",
     "evalue": "name 'bands_plot' is not defined",
     "output_type": "error",
     "traceback": [
      "\u001b[0;31m---------------------------------------------------------------------------\u001b[0m",
      "\u001b[0;31mNameError\u001b[0m                                 Traceback (most recent call last)",
      "\u001b[0;32m<ipython-input-1-4908233827be>\u001b[0m in \u001b[0;36m<module>\u001b[0;34m\u001b[0m\n\u001b[1;32m      6\u001b[0m     \u001b[0;32mreturn\u001b[0m \u001b[0;34m{\u001b[0m\u001b[0;34m}\u001b[0m\u001b[0;34m\u001b[0m\u001b[0;34m\u001b[0m\u001b[0m\n\u001b[1;32m      7\u001b[0m \u001b[0;34m\u001b[0m\u001b[0m\n\u001b[0;32m----> 8\u001b[0;31m \u001b[0mbands_plot\u001b[0m\u001b[0;34m.\u001b[0m\u001b[0mupdate_settings\u001b[0m\u001b[0;34m(\u001b[0m\u001b[0madd_band_trace_data\u001b[0m\u001b[0;34m=\u001b[0m\u001b[0madd_trace_data\u001b[0m\u001b[0;34m)\u001b[0m\u001b[0;34m\u001b[0m\u001b[0;34m\u001b[0m\u001b[0m\n\u001b[0m",
      "\u001b[0;31mNameError\u001b[0m: name 'bands_plot' is not defined"
     ]
    }
   ],
   "source": [
    "def add_trace_data(band, self):\n",
    "    \"\"\"Dummy function to see the band DataArray\"\"\"\n",
    "    if band.band == 11:\n",
    "        print(band)\n",
    "    \n",
    "    return {}\n",
    "\n",
    "bands_plot.update_settings(add_band_trace_data=add_trace_data)"
   ]
  },
  {
   "cell_type": "markdown",
   "metadata": {},
   "source": [
    "Just as an educational example, we are going to style the bands according to this conditions:\n",
    "- If the band is +- 5 eV within the fermi level, we are going to draw markers whose **size is proportional to the gradient of the band** at each point.\n",
    "- Otherwise, we will just display the bands as **purple dotted lines that fade** as we get far from the fermi level (just because we can!)\n",
    "\n",
    "**Note**: Of course, to modify traces, one must have some notion of how plotly traces work. Just hit plotly's visual reference page https://plotly.com/python/ for inspiration."
   ]
  },
  {
   "cell_type": "code",
   "execution_count": 22,
   "metadata": {
    "execution": {
     "iopub.execute_input": "2021-02-05T11:25:21.613418Z",
     "iopub.status.busy": "2021-02-05T11:25:21.612735Z",
     "iopub.status.idle": "2021-02-05T11:25:21.627043Z",
     "shell.execute_reply": "2021-02-05T11:25:21.627670Z"
    },
    "scrolled": false
   },
   "outputs": [
    {
     "ename": "NameError",
     "evalue": "name 'bands_plot' is not defined",
     "output_type": "error",
     "traceback": [
      "\u001b[0;31m---------------------------------------------------------------------------\u001b[0m",
      "\u001b[0;31mNameError\u001b[0m                                 Traceback (most recent call last)",
      "\u001b[0;32m<ipython-input-1-4a34a7a1a023>\u001b[0m in \u001b[0;36m<module>\u001b[0;34m\u001b[0m\n\u001b[1;32m     19\u001b[0m         }\n\u001b[1;32m     20\u001b[0m \u001b[0;34m\u001b[0m\u001b[0m\n\u001b[0;32m---> 21\u001b[0;31m \u001b[0mbands_plot\u001b[0m\u001b[0;34m.\u001b[0m\u001b[0mupdate_settings\u001b[0m\u001b[0;34m(\u001b[0m\u001b[0madd_band_trace_data\u001b[0m\u001b[0;34m=\u001b[0m\u001b[0mdraw_gradient\u001b[0m\u001b[0;34m)\u001b[0m\u001b[0;34m\u001b[0m\u001b[0;34m\u001b[0m\u001b[0m\n\u001b[0m",
      "\u001b[0;31mNameError\u001b[0m: name 'bands_plot' is not defined"
     ]
    }
   ],
   "source": [
    "import numpy as np\n",
    "def draw_gradient(band, self):\n",
    "    \"\"\"\n",
    "    Takes a band and styles it according to its energy dispersion.\n",
    "    \n",
    "    NOTE: If it's to far from the fermi level, it fades it in purple for additional coolness. \n",
    "    \"\"\"\n",
    "    dist_from_Ef = np.max(abs(band))\n",
    "    if dist_from_Ef < 5:\n",
    "        return {\n",
    "            \"mode\": \"lines+markers\",\n",
    "            \"marker_size\": np.abs(np.gradient(band))*40,\n",
    "        }\n",
    "    else:\n",
    "        return {\n",
    "            \"line_color\": \"purple\",\n",
    "            \"line_dash\": \"dot\",\n",
    "            \"opacity\": 1-float(dist_from_Ef/10)\n",
    "        }\n",
    "    \n",
    "bands_plot.update_settings(add_band_trace_data=draw_gradient)"
   ]
  },
  {
   "cell_type": "markdown",
   "metadata": {},
   "source": [
    "## Displaying spin texture\n",
    "\n",
    "If your bands plot comes from a non-colinear spin calculation (or is using a `Hamiltonian` with non-colinear spin), you can pass `\"x\"`, `\"y\"` or `\"z\"` to the `spin` setting in order to get a display of the spin texture.\n",
    "\n",
    "More docs in this section will come soon, just ask for them if you need to use it and it doesn't quite work for you!"
   ]
  },
  {
   "cell_type": "markdown",
   "metadata": {
    "tags": [
     "notebook-end"
    ]
   },
   "source": [
    "We hope you enjoyed what you learned!"
   ]
  },
  {
   "cell_type": "markdown",
   "metadata": {},
   "source": [
    "-----\n",
    "This next cell is just to create the thumbnail for the notebook in the docs "
   ]
  },
  {
   "cell_type": "code",
   "execution_count": 23,
   "metadata": {
    "execution": {
     "iopub.execute_input": "2021-02-05T11:25:21.642444Z",
     "iopub.status.busy": "2021-02-05T11:25:21.641569Z",
     "iopub.status.idle": "2021-02-05T11:25:21.645363Z",
     "shell.execute_reply": "2021-02-05T11:25:21.646110Z"
    },
    "tags": [
     "nbsphinx-thumbnail"
    ]
   },
   "outputs": [
    {
     "ename": "NameError",
     "evalue": "name 'bands_plot' is not defined",
     "output_type": "error",
     "traceback": [
      "\u001b[0;31m---------------------------------------------------------------------------\u001b[0m",
      "\u001b[0;31mNameError\u001b[0m                                 Traceback (most recent call last)",
      "\u001b[0;32m<ipython-input-1-da378c9982b3>\u001b[0m in \u001b[0;36m<module>\u001b[0;34m\u001b[0m\n\u001b[0;32m----> 1\u001b[0;31m \u001b[0mthumbnail_plot\u001b[0m \u001b[0;34m=\u001b[0m \u001b[0mbands_plot\u001b[0m\u001b[0;34m\u001b[0m\u001b[0;34m\u001b[0m\u001b[0m\n\u001b[0m\u001b[1;32m      2\u001b[0m \u001b[0;34m\u001b[0m\u001b[0m\n\u001b[1;32m      3\u001b[0m \u001b[0;32mif\u001b[0m \u001b[0mthumbnail_plot\u001b[0m\u001b[0;34m:\u001b[0m\u001b[0;34m\u001b[0m\u001b[0;34m\u001b[0m\u001b[0m\n\u001b[1;32m      4\u001b[0m     \u001b[0mthumbnail_plot\u001b[0m\u001b[0;34m.\u001b[0m\u001b[0mshow\u001b[0m\u001b[0;34m(\u001b[0m\u001b[0;34m\"png\"\u001b[0m\u001b[0;34m)\u001b[0m\u001b[0;34m\u001b[0m\u001b[0;34m\u001b[0m\u001b[0m\n",
      "\u001b[0;31mNameError\u001b[0m: name 'bands_plot' is not defined"
     ]
    }
   ],
   "source": [
    "thumbnail_plot = bands_plot\n",
    "\n",
    "if thumbnail_plot:\n",
    "    thumbnail_plot.show(\"png\")"
   ]
  },
  {
   "cell_type": "markdown",
   "metadata": {
    "tags": [
     "notebook-footer"
    ]
   },
   "source": [
    "-------------"
   ]
  }
 ],
 "metadata": {
  "kernelspec": {
   "display_name": "Python 3",
   "language": "python",
   "name": "python3"
  },
  "language_info": {
   "codemirror_mode": {
    "name": "ipython",
    "version": 3
   },
   "file_extension": ".py",
   "mimetype": "text/x-python",
   "name": "python",
   "nbconvert_exporter": "python",
   "pygments_lexer": "ipython3",
   "version": "3.6.12"
  }
 },
 "nbformat": 4,
 "nbformat_minor": 2
}
