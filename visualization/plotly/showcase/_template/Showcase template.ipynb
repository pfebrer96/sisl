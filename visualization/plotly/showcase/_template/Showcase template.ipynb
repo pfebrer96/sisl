{
 "cells": [
  {
   "cell_type": "markdown",
   "metadata": {
    "tags": [
     "notebook-header"
    ]
   },
   "source": [
    "[![GitHub issues by-label](https://img.shields.io/github/issues-raw/pfebrer96/sisl/<$plotclass$>?style=for-the-badge)](https://github.com/pfebrer96/sisl/labels/<$plotclass$>)"
   ]
  },
  {
   "cell_type": "markdown",
   "metadata": {},
   "source": [
    "    \n",
    "    \n",
    "<$plotclass$>\n",
    "========="
   ]
  },
  {
   "cell_type": "code",
   "execution_count": 1,
   "metadata": {
    "execution": {
     "iopub.execute_input": "2021-02-06T11:45:41.896325Z",
     "iopub.status.busy": "2021-02-06T11:45:41.895832Z",
     "iopub.status.idle": "2021-02-06T11:45:43.391220Z",
     "shell.execute_reply": "2021-02-06T11:45:43.390624Z"
    }
   },
   "outputs": [],
   "source": [
    "import sisl\n",
    "import sisl.viz"
   ]
  },
  {
   "cell_type": "markdown",
   "metadata": {},
   "source": [
    "## Basic usage\n",
    "\n",
    "Here you are going to learn the most straightforward things that `<$plotclass$>` can do for you."
   ]
  },
  {
   "cell_type": "code",
   "execution_count": null,
   "metadata": {},
   "outputs": [],
   "source": []
  },
  {
   "cell_type": "markdown",
   "metadata": {},
   "source": [
    "## Let's get technical\n",
    "\n",
    "Sometimes, basic is not enough, therefore we will show you here how to get the most out of `<$plotclass$>` if you need to do some fancy stuff. However, do not limit yourself to this! After going through this section, you should be able to do your own \"experiments\". "
   ]
  },
  {
   "cell_type": "code",
   "execution_count": null,
   "metadata": {},
   "outputs": [],
   "source": []
  },
  {
   "cell_type": "markdown",
   "metadata": {
    "tags": [
     "notebook-end"
    ]
   },
   "source": [
    "We hope you enjoyed what you learned!"
   ]
  },
  {
   "cell_type": "markdown",
   "metadata": {},
   "source": [
    "-----\n",
    "This next cell is just to create the thumbnail for the notebook in the docs "
   ]
  },
  {
   "cell_type": "code",
   "execution_count": 2,
   "metadata": {
    "execution": {
     "iopub.execute_input": "2021-02-06T11:45:43.395572Z",
     "iopub.status.busy": "2021-02-06T11:45:43.395037Z",
     "iopub.status.idle": "2021-02-06T11:45:43.397939Z",
     "shell.execute_reply": "2021-02-06T11:45:43.398335Z"
    },
    "tags": [
     "nbsphinx-thumbnail"
    ]
   },
   "outputs": [],
   "source": [
    "thumbnail_plot = None\n",
    "\n",
    "if thumbnail_plot:\n",
    "    thumbnail_plot.show(\"png\")"
   ]
  },
  {
   "cell_type": "markdown",
   "metadata": {
    "tags": [
     "notebook-footer"
    ]
   },
   "source": [
    "-------------"
   ]
  }
 ],
 "metadata": {
  "kernelspec": {
   "display_name": "Python 3",
   "language": "python",
   "name": "python3"
  },
  "language_info": {
   "codemirror_mode": {
    "name": "ipython",
    "version": 3
   },
   "file_extension": ".py",
   "mimetype": "text/x-python",
   "name": "python",
   "nbconvert_exporter": "python",
   "pygments_lexer": "ipython3",
   "version": "3.6.12"
  }
 },
 "nbformat": 4,
 "nbformat_minor": 2
}
